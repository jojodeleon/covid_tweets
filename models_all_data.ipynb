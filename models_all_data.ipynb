{
 "cells": [
  {
   "cell_type": "markdown",
   "metadata": {},
   "source": [
    "## Combining and Cleaning All Headlines Dataset for modeling\n",
    "real news = 0, fake news = 1"
   ]
  },
  {
   "cell_type": "code",
   "execution_count": 1,
   "metadata": {},
   "outputs": [],
   "source": [
    "import nltk\n",
    "import string\n",
    "\n",
    "import pandas            as pd\n",
    "import numpy             as np\n",
    "import seaborn           as sns\n",
    "import matplotlib.pyplot as plt\n",
    "import plotly.express    as px\n",
    "\n",
    "from matplotlib import cm\n",
    "from tqdm       import tqdm\n",
    "from wordcloud  import WordCloud\n",
    "\n",
    "from nltk.probability import FreqDist\n",
    "from nltk.corpus      import stopwords\n",
    "from nltk.tokenize    import sent_tokenize, word_tokenize\n",
    "from nltk.stem        import PorterStemmer, WordNetLemmatizer\n",
    "\n",
    "from sklearn         import metrics\n",
    "from sklearn.metrics import confusion_matrix, plot_confusion_matrix, classification_report, make_scorer, accuracy_score\n",
    "\n",
    "from sklearn.preprocessing           import StandardScaler\n",
    "from sklearn.feature_extraction.text import CountVectorizer, TfidfVectorizer, TfidfTransformer\n",
    "from sklearn.model_selection         import train_test_split, GridSearchCV\n",
    "\n",
    "from sklearn.naive_bayes   import MultinomialNB, GaussianNB\n",
    "from sklearn.ensemble      import RandomForestClassifier, BaggingClassifier\n",
    "from sklearn.ensemble      import AdaBoostClassifier, GradientBoostingClassifier\n",
    "from sklearn.decomposition import PCA\n",
    "from sklearn.svm           import SVC\n",
    "\n",
    "np.random.seed(0)"
   ]
  },
  {
   "cell_type": "markdown",
   "metadata": {},
   "source": [
    "## Combining All Datasets"
   ]
  },
  {
   "cell_type": "code",
   "execution_count": 2,
   "metadata": {},
   "outputs": [],
   "source": [
    "esocinfo = pd.read_csv('Data/Headlines/ESOCheadlines_eng.csv')\n",
    "zenodoinfo = pd.read_csv('Data/Headlines/Zenodoheadlines.csv')\n",
    "fakeinfo = pd.read_csv('Data/Headlines/fakeheadlines.csv')\n",
    "trueinfo = pd.read_csv('Data/Headlines/trueheadlines.csv')\n",
    "sarcasminfo = pd.read_csv('Data/Headlines/sarc_headlines.csv')"
   ]
  },
  {
   "cell_type": "code",
   "execution_count": 3,
   "metadata": {},
   "outputs": [
    {
     "data": {
      "text/html": [
       "<div>\n",
       "<style scoped>\n",
       "    .dataframe tbody tr th:only-of-type {\n",
       "        vertical-align: middle;\n",
       "    }\n",
       "\n",
       "    .dataframe tbody tr th {\n",
       "        vertical-align: top;\n",
       "    }\n",
       "\n",
       "    .dataframe thead th {\n",
       "        text-align: right;\n",
       "    }\n",
       "</style>\n",
       "<table border=\"1\" class=\"dataframe\">\n",
       "  <thead>\n",
       "    <tr style=\"text-align: right;\">\n",
       "      <th></th>\n",
       "      <th>headline</th>\n",
       "      <th>real_or_fake</th>\n",
       "    </tr>\n",
       "  </thead>\n",
       "  <tbody>\n",
       "    <tr>\n",
       "      <th>0</th>\n",
       "      <td>India Is In The Middle Of A Coronavirus YouTub...</td>\n",
       "      <td>1</td>\n",
       "    </tr>\n",
       "    <tr>\n",
       "      <th>1</th>\n",
       "      <td>Tweet: False reporting on \"shooting down\" peop...</td>\n",
       "      <td>1</td>\n",
       "    </tr>\n",
       "    <tr>\n",
       "      <th>2</th>\n",
       "      <td>Tweet: A woman eating a delicacy, attributing ...</td>\n",
       "      <td>1</td>\n",
       "    </tr>\n",
       "    <tr>\n",
       "      <th>3</th>\n",
       "      <td>Tweet: False chain message about NYPD containm...</td>\n",
       "      <td>1</td>\n",
       "    </tr>\n",
       "    <tr>\n",
       "      <th>4</th>\n",
       "      <td>Hoax Alert: Viral 'Emergency Notification' On ...</td>\n",
       "      <td>1</td>\n",
       "    </tr>\n",
       "    <tr>\n",
       "      <th>...</th>\n",
       "      <td>...</td>\n",
       "      <td>...</td>\n",
       "    </tr>\n",
       "    <tr>\n",
       "      <th>111923</th>\n",
       "      <td>jews to celebrate rosh hashasha or something</td>\n",
       "      <td>1</td>\n",
       "    </tr>\n",
       "    <tr>\n",
       "      <th>111924</th>\n",
       "      <td>internal affairs investigator disappointed con...</td>\n",
       "      <td>1</td>\n",
       "    </tr>\n",
       "    <tr>\n",
       "      <th>111925</th>\n",
       "      <td>the most beautiful acceptance speech this week...</td>\n",
       "      <td>0</td>\n",
       "    </tr>\n",
       "    <tr>\n",
       "      <th>111926</th>\n",
       "      <td>mars probe destroyed by orbiting spielberg-gat...</td>\n",
       "      <td>1</td>\n",
       "    </tr>\n",
       "    <tr>\n",
       "      <th>111927</th>\n",
       "      <td>dad clarifies this not a food stop</td>\n",
       "      <td>1</td>\n",
       "    </tr>\n",
       "  </tbody>\n",
       "</table>\n",
       "<p>111928 rows × 2 columns</p>\n",
       "</div>"
      ],
      "text/plain": [
       "                                                 headline  real_or_fake\n",
       "0       India Is In The Middle Of A Coronavirus YouTub...             1\n",
       "1       Tweet: False reporting on \"shooting down\" peop...             1\n",
       "2       Tweet: A woman eating a delicacy, attributing ...             1\n",
       "3       Tweet: False chain message about NYPD containm...             1\n",
       "4       Hoax Alert: Viral 'Emergency Notification' On ...             1\n",
       "...                                                   ...           ...\n",
       "111923       jews to celebrate rosh hashasha or something             1\n",
       "111924  internal affairs investigator disappointed con...             1\n",
       "111925  the most beautiful acceptance speech this week...             0\n",
       "111926  mars probe destroyed by orbiting spielberg-gat...             1\n",
       "111927                 dad clarifies this not a food stop             1\n",
       "\n",
       "[111928 rows x 2 columns]"
      ]
     },
     "execution_count": 3,
     "metadata": {},
     "output_type": "execute_result"
    }
   ],
   "source": [
    "df = pd.concat([esocinfo, zenodoinfo, fakeinfo, trueinfo, sarcasminfo], ignore_index=True)\n",
    "df"
   ]
  },
  {
   "cell_type": "code",
   "execution_count": 4,
   "metadata": {},
   "outputs": [
    {
     "data": {
      "text/plain": [
       "0    61114\n",
       "1    50814\n",
       "Name: real_or_fake, dtype: int64"
      ]
     },
     "execution_count": 4,
     "metadata": {},
     "output_type": "execute_result"
    }
   ],
   "source": [
    "df.real_or_fake.value_counts()"
   ]
  },
  {
   "cell_type": "code",
   "execution_count": 6,
   "metadata": {},
   "outputs": [],
   "source": [
    "df.to_csv('all_headlines.csv', index=False)"
   ]
  },
  {
   "cell_type": "code",
   "execution_count": 5,
   "metadata": {},
   "outputs": [],
   "source": [
    "data = df['headline']\n",
    "target = df['real_or_fake']\n",
    "\n",
    "processed_data = [d.split() for d in data.to_list()]\n",
    "\n",
    "lemmatizer = WordNetLemmatizer()\n",
    "lemmatized_output = []\n",
    "\n",
    "for listy in processed_data:\n",
    "    lemmed = ' '.join([lemmatizer.lemmatize(w) for w in listy])\n",
    "    lemmatized_output.append(lemmed)"
   ]
  },
  {
   "cell_type": "code",
   "execution_count": 6,
   "metadata": {},
   "outputs": [],
   "source": [
    "X_lem = lemmatized_output\n",
    "y_lem = target"
   ]
  },
  {
   "cell_type": "code",
   "execution_count": 4,
   "metadata": {},
   "outputs": [],
   "source": [
    "sw_list  = stopwords.words('english')\n",
    "sw_list += list(string.punctuation)\n",
    "sw_list += [\"''\", '\"\"', '...', '``', '’', '“', '’', '”', '‘', '‘', '©', '27', '1', \"'ve\",\n",
    "            '-', '–', '—', \"n't\", 'https', '2', \"'re\", \"'m'\", '3', '..', 'ca', \"'s\", 'amp']"
   ]
  },
  {
   "cell_type": "markdown",
   "metadata": {},
   "source": [
    "## TFIDF Vectorization"
   ]
  },
  {
   "cell_type": "markdown",
   "metadata": {},
   "source": [
    "### Keeping all rows but Maximum Features after vectorization: 5000"
   ]
  },
  {
   "cell_type": "code",
   "execution_count": 8,
   "metadata": {},
   "outputs": [],
   "source": [
    "X_train_lem, X_test_lem, y_train_lem, y_test_lem = train_test_split(X_lem, y_lem, test_size=0.20, random_state=1)\n",
    "\n",
    "tfidf = TfidfVectorizer(stop_words=sw_list, max_features=5000)\n",
    "tfidf_data_train_lem = tfidf.fit_transform(X_train_lem)\n",
    "tfidf_data_test_lem  = tfidf.transform(X_test_lem)"
   ]
  },
  {
   "cell_type": "markdown",
   "metadata": {},
   "source": [
    "#### Average Number Of Elements And Matrix Sparsity"
   ]
  },
  {
   "cell_type": "code",
   "execution_count": 9,
   "metadata": {},
   "outputs": [
    {
     "name": "stdout",
     "output_type": "stream",
     "text": [
      "Average Number of Non-Zero Elements in Vectorized Text: 6.913180406959863\n",
      "Percentage of columns containing ZERO: 0.998617363918608\n"
     ]
    }
   ],
   "source": [
    "non_zero_cols = tfidf_data_train_lem.nnz / float(tfidf_data_train_lem.shape[0])\n",
    "print(\"Average Number of Non-Zero Elements in Vectorized Text: {}\".format(non_zero_cols))\n",
    "\n",
    "percent_sparse = 1 - (non_zero_cols / float(tfidf_data_train_lem.shape[1]))\n",
    "print('Percentage of columns containing ZERO: {}'.format(percent_sparse))"
   ]
  },
  {
   "cell_type": "markdown",
   "metadata": {},
   "source": [
    "### Dense Data"
   ]
  },
  {
   "cell_type": "code",
   "execution_count": 10,
   "metadata": {},
   "outputs": [],
   "source": [
    "train = tfidf_data_train_lem.toarray()\n",
    "test  = tfidf_data_test_lem.toarray()"
   ]
  },
  {
   "cell_type": "code",
   "execution_count": 14,
   "metadata": {},
   "outputs": [],
   "source": [
    "pca = PCA(n_components=2)\n",
    "X_pca = pca.fit_transform(train)\n",
    "X_pca = pd.DataFrame(X_pca, columns=['PC1', 'PC2'])\n",
    "X_pca['Target'] = y_lem"
   ]
  },
  {
   "cell_type": "code",
   "execution_count": 15,
   "metadata": {},
   "outputs": [
    {
     "data": {
      "text/plain": [
       "Text(0.5, 1.0, 'Data Separability')"
      ]
     },
     "execution_count": 15,
     "metadata": {},
     "output_type": "execute_result"
    },
    {
     "data": {
      "image/png": "[encoded data removed]",
      "text/plain": [
       "<Figure size 432x288 with 1 Axes>"
      ]
     },
     "metadata": {
      "needs_background": "light"
     },
     "output_type": "display_data"
    }
   ],
   "source": [
    "sns.scatterplot(x=X_pca['PC1'], y=X_pca['PC2'],\n",
    "                hue=X_pca['Target']).set_title('Data Separability')"
   ]
  },
  {
   "cell_type": "code",
   "execution_count": 18,
   "metadata": {},
   "outputs": [
    {
     "name": "stdout",
     "output_type": "stream",
     "text": [
      "              precision    recall  f1-score   support\n",
      "\n",
      "           0       0.79      0.85      0.82     48932\n",
      "           1       0.80      0.72      0.76     40610\n",
      "\n",
      "    accuracy                           0.79     89542\n",
      "   macro avg       0.79      0.79      0.79     89542\n",
      "weighted avg       0.79      0.79      0.79     89542\n",
      "\n",
      "              precision    recall  f1-score   support\n",
      "\n",
      "           0       0.77      0.84      0.80     12182\n",
      "           1       0.78      0.70      0.74     10204\n",
      "\n",
      "    accuracy                           0.77     22386\n",
      "   macro avg       0.78      0.77      0.77     22386\n",
      "weighted avg       0.77      0.77      0.77     22386\n",
      "\n"
     ]
    }
   ],
   "source": [
    "gnb = GaussianNB()\n",
    "\n",
    "gnb.fit(train, y_train_lem)\n",
    "\n",
    "\n",
    "gnb_train_preds_lem = gnb.predict(train)\n",
    "gnb_test_preds_lem  = gnb.predict(test)\n",
    "\n",
    "print(classification_report(y_train_lem, gnb_train_preds_lem))\n",
    "print(classification_report(y_test_lem, gnb_test_preds_lem))"
   ]
  },
  {
   "cell_type": "code",
   "execution_count": 19,
   "metadata": {},
   "outputs": [
    {
     "name": "stdout",
     "output_type": "stream",
     "text": [
      "              precision    recall  f1-score   support\n",
      "\n",
      "           0       1.00      1.00      1.00     48932\n",
      "           1       1.00      1.00      1.00     40610\n",
      "\n",
      "    accuracy                           1.00     89542\n",
      "   macro avg       1.00      1.00      1.00     89542\n",
      "weighted avg       1.00      1.00      1.00     89542\n",
      "\n",
      "              precision    recall  f1-score   support\n",
      "\n",
      "           0       0.91      0.95      0.93     12182\n",
      "           1       0.93      0.88      0.91     10204\n",
      "\n",
      "    accuracy                           0.92     22386\n",
      "   macro avg       0.92      0.92      0.92     22386\n",
      "weighted avg       0.92      0.92      0.92     22386\n",
      "\n"
     ]
    }
   ],
   "source": [
    "rf = RandomForestClassifier(random_state=123)\n",
    "\n",
    "rf.fit(train, y_train_lem)\n",
    "\n",
    "rf_train_preds_lem = rf.predict(train)\n",
    "rf_test_preds_lem = rf.predict(test)\n",
    "\n",
    "print(classification_report(y_train_lem, rf_train_preds_lem))\n",
    "print(classification_report(y_test_lem, rf_test_preds_lem))"
   ]
  },
  {
   "cell_type": "code",
   "execution_count": 16,
   "metadata": {},
   "outputs": [
    {
     "name": "stdout",
     "output_type": "stream",
     "text": [
      "              precision    recall  f1-score   support\n",
      "\n",
      "           0       0.69      0.70      0.69     48932\n",
      "           1       0.63      0.63      0.63     40610\n",
      "\n",
      "    accuracy                           0.67     89542\n",
      "   macro avg       0.66      0.66      0.66     89542\n",
      "weighted avg       0.67      0.67      0.67     89542\n",
      "\n",
      "              precision    recall  f1-score   support\n",
      "\n",
      "           0       0.75      0.76      0.75     12182\n",
      "           1       0.71      0.70      0.70     10204\n",
      "\n",
      "    accuracy                           0.73     22386\n",
      "   macro avg       0.73      0.73      0.73     22386\n",
      "weighted avg       0.73      0.73      0.73     22386\n",
      "\n"
     ]
    }
   ],
   "source": [
    "svc = SVC(kernel='sigmoid', C=100)\n",
    "\n",
    "svc.fit(train, y_train_lem)\n",
    "svc_train_preds_lem = svc.predict(train)\n",
    "svc_test_preds_lem = svc.predict(test)\n",
    "\n",
    "print(classification_report(y_train_lem, svc_train_preds_lem))\n",
    "print(classification_report(y_test_lem, svc_test_preds_lem))"
   ]
  },
  {
   "cell_type": "markdown",
   "metadata": {},
   "source": [
    "## Sample of 10000 Rows of the All Headlines Dataset"
   ]
  },
  {
   "cell_type": "code",
   "execution_count": 5,
   "metadata": {},
   "outputs": [
    {
     "data": {
      "text/html": [
       "<div>\n",
       "<style scoped>\n",
       "    .dataframe tbody tr th:only-of-type {\n",
       "        vertical-align: middle;\n",
       "    }\n",
       "\n",
       "    .dataframe tbody tr th {\n",
       "        vertical-align: top;\n",
       "    }\n",
       "\n",
       "    .dataframe thead th {\n",
       "        text-align: right;\n",
       "    }\n",
       "</style>\n",
       "<table border=\"1\" class=\"dataframe\">\n",
       "  <thead>\n",
       "    <tr style=\"text-align: right;\">\n",
       "      <th></th>\n",
       "      <th>headline</th>\n",
       "      <th>real_or_fake</th>\n",
       "    </tr>\n",
       "  </thead>\n",
       "  <tbody>\n",
       "    <tr>\n",
       "      <th>0</th>\n",
       "      <td>10 notable books of 2016 on black women's history</td>\n",
       "      <td>0</td>\n",
       "    </tr>\n",
       "    <tr>\n",
       "      <th>1</th>\n",
       "      <td>'breitbart' refusing to release names of mass ...</td>\n",
       "      <td>1</td>\n",
       "    </tr>\n",
       "    <tr>\n",
       "      <th>2</th>\n",
       "      <td>THE VIEW WOMEN Go Off The Rails: Trump ‘has to...</td>\n",
       "      <td>1</td>\n",
       "    </tr>\n",
       "    <tr>\n",
       "      <th>3</th>\n",
       "      <td>Top Democrat says he hopes U.S. Senate at turn...</td>\n",
       "      <td>0</td>\n",
       "    </tr>\n",
       "    <tr>\n",
       "      <th>4</th>\n",
       "      <td>a great read for a new year</td>\n",
       "      <td>0</td>\n",
       "    </tr>\n",
       "    <tr>\n",
       "      <th>...</th>\n",
       "      <td>...</td>\n",
       "      <td>...</td>\n",
       "    </tr>\n",
       "    <tr>\n",
       "      <th>9995</th>\n",
       "      <td>Number of deaths by COVID-19 fell in the state...</td>\n",
       "      <td>0</td>\n",
       "    </tr>\n",
       "    <tr>\n",
       "      <th>9996</th>\n",
       "      <td>cool ashtray found</td>\n",
       "      <td>1</td>\n",
       "    </tr>\n",
       "    <tr>\n",
       "      <th>9997</th>\n",
       "      <td>mitch mcconnell says elections are 'not an exc...</td>\n",
       "      <td>0</td>\n",
       "    </tr>\n",
       "    <tr>\n",
       "      <th>9998</th>\n",
       "      <td>poor attendance at intervention a real wake-up...</td>\n",
       "      <td>1</td>\n",
       "    </tr>\n",
       "    <tr>\n",
       "      <th>9999</th>\n",
       "      <td>SENATOR GILLIBRAND Pulled Strings So Muslim At...</td>\n",
       "      <td>1</td>\n",
       "    </tr>\n",
       "  </tbody>\n",
       "</table>\n",
       "<p>10000 rows × 2 columns</p>\n",
       "</div>"
      ],
      "text/plain": [
       "                                               headline  real_or_fake\n",
       "0     10 notable books of 2016 on black women's history             0\n",
       "1     'breitbart' refusing to release names of mass ...             1\n",
       "2     THE VIEW WOMEN Go Off The Rails: Trump ‘has to...             1\n",
       "3     Top Democrat says he hopes U.S. Senate at turn...             0\n",
       "4                           a great read for a new year             0\n",
       "...                                                 ...           ...\n",
       "9995  Number of deaths by COVID-19 fell in the state...             0\n",
       "9996                                 cool ashtray found             1\n",
       "9997  mitch mcconnell says elections are 'not an exc...             0\n",
       "9998  poor attendance at intervention a real wake-up...             1\n",
       "9999  SENATOR GILLIBRAND Pulled Strings So Muslim At...             1\n",
       "\n",
       "[10000 rows x 2 columns]"
      ]
     },
     "execution_count": 5,
     "metadata": {},
     "output_type": "execute_result"
    }
   ],
   "source": [
    "df_sample10 = df.sample(n=10000, random_state=123)\n",
    "\n",
    "\n",
    "df_sample10.real_or_fake.value_counts()\n",
    "\n",
    "df_sample10.reset_index(inplace=True, drop=True)\n",
    "df_sample10"
   ]
  },
  {
   "cell_type": "code",
   "execution_count": 6,
   "metadata": {},
   "outputs": [],
   "source": [
    "data10 = df_sample10['headline']\n",
    "target10 = df_sample10['real_or_fake']\n",
    "\n",
    "processed_data10 = [d.split() for d in data10.to_list()]\n",
    "\n",
    "lemmatizer = WordNetLemmatizer()\n",
    "lemmatized_output = []\n",
    "\n",
    "for listy in processed_data10:\n",
    "    lemmed = ' '.join([lemmatizer.lemmatize(w) for w in listy])\n",
    "    lemmatized_output.append(lemmed)\n",
    "\n",
    "X_lem10 = lemmatized_output\n",
    "y_lem10 = target10"
   ]
  },
  {
   "cell_type": "markdown",
   "metadata": {},
   "source": [
    "## TFIDF Vectorization - 10000 Row Sample"
   ]
  },
  {
   "cell_type": "markdown",
   "metadata": {},
   "source": [
    "### Keeping all rows but Maximum Features after vectorization: 5000"
   ]
  },
  {
   "cell_type": "code",
   "execution_count": 7,
   "metadata": {},
   "outputs": [],
   "source": [
    "X_train_lem10, X_test_lem10, y_train_lem10, y_test_lem10 = train_test_split(X_lem10, y_lem10, test_size=0.20, random_state=1)\n",
    "\n",
    "tfidf10 = TfidfVectorizer(stop_words=sw_list, max_features=5000)\n",
    "tfidf_data_train_lem10 = tfidf10.fit_transform(X_train_lem10)\n",
    "tfidf_data_test_lem10  = tfidf10.transform(X_test_lem10)"
   ]
  },
  {
   "cell_type": "markdown",
   "metadata": {},
   "source": [
    "#### Average Number Of Elements And Matrix Sparsity"
   ]
  },
  {
   "cell_type": "code",
   "execution_count": 8,
   "metadata": {},
   "outputs": [
    {
     "name": "stdout",
     "output_type": "stream",
     "text": [
      "Average Number of Non-Zero Elements in Vectorized Text: 7.112\n",
      "Percentage of columns containing ZERO: 0.9985776\n"
     ]
    }
   ],
   "source": [
    "non_zero_cols10 = tfidf_data_train_lem10.nnz / float(tfidf_data_train_lem10.shape[0])\n",
    "print(\"Average Number of Non-Zero Elements in Vectorized Text: {}\".format(non_zero_cols10))\n",
    "\n",
    "percent_sparse10 = 1 - (non_zero_cols10 / float(tfidf_data_train_lem10.shape[1]))\n",
    "print('Percentage of columns containing ZERO: {}'.format(percent_sparse10))"
   ]
  },
  {
   "cell_type": "markdown",
   "metadata": {},
   "source": [
    "### Dense Data - 10000 Rows Sample"
   ]
  },
  {
   "cell_type": "code",
   "execution_count": 9,
   "metadata": {},
   "outputs": [],
   "source": [
    "train10 = tfidf_data_train_lem10.toarray()\n",
    "test10  = tfidf_data_test_lem10.toarray()"
   ]
  },
  {
   "cell_type": "markdown",
   "metadata": {},
   "source": [
    "## Random Forest gridsearch parameters setup"
   ]
  },
  {
   "cell_type": "code",
   "execution_count": 10,
   "metadata": {},
   "outputs": [],
   "source": [
    "rf_params = {'n_estimators': [100,200], 'criterion':['gini', 'entropy'],\n",
    "           'oob_score':['True', 'False'], 'max_depth':[10,15,20]}"
   ]
  },
  {
   "cell_type": "markdown",
   "metadata": {},
   "source": [
    "### RandomForest GridSearchCV"
   ]
  },
  {
   "cell_type": "code",
   "execution_count": 15,
   "metadata": {},
   "outputs": [
    {
     "name": "stdout",
     "output_type": "stream",
     "text": [
      "Fitting 5 folds for each of 24 candidates, totalling 120 fits\n",
      "\u001b[1mRandom Forest Classifier Train Report:\n",
      "\u001b[0m\n",
      "              precision    recall  f1-score   support\n",
      "\n",
      "           0       0.68      0.98      0.81      4383\n",
      "           1       0.96      0.45      0.61      3617\n",
      "\n",
      "    accuracy                           0.74      8000\n",
      "   macro avg       0.82      0.72      0.71      8000\n",
      "weighted avg       0.81      0.74      0.72      8000\n",
      "\n",
      "\u001b[1mRandom Forest Classifier Test Report:\n",
      "\u001b[0m\n",
      "              precision    recall  f1-score   support\n",
      "\n",
      "           0       0.69      0.96      0.80      1119\n",
      "           1       0.89      0.45      0.60       881\n",
      "\n",
      "    accuracy                           0.73      2000\n",
      "   macro avg       0.79      0.70      0.70      2000\n",
      "weighted avg       0.78      0.73      0.71      2000\n",
      "\n"
     ]
    }
   ],
   "source": [
    "rf_grid = GridSearchCV(RandomForestClassifier(), rf_params, scoring='f1_weighted',\n",
    "                      return_train_score=True, verbose=1, n_jobs=-1)\n",
    "\n",
    "rf_grid.fit(train10, y_train_lem10)\n",
    "\n",
    "rf_grid_train_preds = rf_grid.predict(train10)\n",
    "rf_grid_test_preds = rf_grid.predict(test10)\n",
    "\n",
    "print('\\033[1m' + 'Random Forest Classifier Train Report:\\n' + '\\033[0m')\n",
    "print(classification_report(y_train_lem10, rf_grid_train_preds))\n",
    "print('\\033[1m' + 'Random Forest Classifier Test Report:\\n' + '\\033[0m')\n",
    "print(classification_report(y_test_lem10, rf_grid_test_preds))"
   ]
  },
  {
   "cell_type": "code",
   "execution_count": 16,
   "metadata": {},
   "outputs": [
    {
     "name": "stdout",
     "output_type": "stream",
     "text": [
      "\u001b[1mRandom Forest Classifier Train Data Confusion Matrix:\n",
      "\n"
     ]
    },
    {
     "data": {
      "image/png": "[encoded data removed]",
      "text/plain": [
       "<Figure size 432x288 with 2 Axes>"
      ]
     },
     "metadata": {
      "needs_background": "light"
     },
     "output_type": "display_data"
    },
    {
     "name": "stdout",
     "output_type": "stream",
     "text": [
      "\u001b[1mRandom Forest Classifier Test Data Confusion Matrix:\n",
      "\n"
     ]
    },
    {
     "data": {
      "image/png": "[encoded data removed]",
      "text/plain": [
       "<Figure size 432x288 with 2 Axes>"
      ]
     },
     "metadata": {
      "needs_background": "light"
     },
     "output_type": "display_data"
    }
   ],
   "source": [
    "print('\\033[1m' + 'Random Forest Classifier Train Data Confusion Matrix:\\n')\n",
    "plot_confusion_matrix(rf_grid, tfidf_data_train_lem10, y_train_lem10, cmap=plt.cm.Blues)\n",
    "plt.show()\n",
    "print('\\033[1m' + 'Random Forest Classifier Test Data Confusion Matrix:\\n')\n",
    "plot_confusion_matrix(rf_grid, tfidf_data_test_lem10, y_test_lem10, cmap=plt.cm.Blues)\n",
    "plt.show()"
   ]
  },
  {
   "cell_type": "code",
   "execution_count": null,
   "metadata": {},
   "outputs": [],
   "source": []
  }
 ],
 "metadata": {
  "kernelspec": {
   "display_name": "Python 3",
   "language": "python",
   "name": "python3"
  },
  "language_info": {
   "codemirror_mode": {
    "name": "ipython",
    "version": 3
   },
   "file_extension": ".py",
   "mimetype": "text/x-python",
   "name": "python",
   "nbconvert_exporter": "python",
   "pygments_lexer": "ipython3",
   "version": "3.8.3"
  }
 },
 "nbformat": 4,
 "nbformat_minor": 4
}
