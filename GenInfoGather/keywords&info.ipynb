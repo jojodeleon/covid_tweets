{
 "cells": [
  {
   "cell_type": "markdown",
   "metadata": {},
   "source": [
    "# Information Gathering"
   ]
  },
  {
   "cell_type": "markdown",
   "metadata": {},
   "source": [
    "### The lists b4_keywords and b4_fake_keys were accumulated from the study of 30 million covid-related tweets done by Northeastern University in conjuction with several other universities in the northeast. "
   ]
  },
  {
   "cell_type": "markdown",
   "metadata": {},
   "source": [
    "ppp: paycheck protection program <br>\n",
    "ncov: novel coronavirus <br>\n",
    "ccpvirus: chinese communist party virus <br>\n",
    "epitwitter: the epidemiology community on twitter <br>\n",
    "event201: pandemic tabletop exercise <br>\n",
    "getmeppe: get me ppe <br>\n",
    "modly: former Navy Secretary who mishandled firing of captain of covid stricken USS Roosevelt <br>\n",
    "crozier: Capt Crozier former commanding officer of USS Roosesvelt - plead with leaders to send the carrier to port in effort to stem spread of covid <br>\n",
    "r0: R-naught, indicates how contagious an infectious disease is. The reproduction number <br>\n",
    "secazar: secretray of the US Dept of Health&Human Servies Alex Azar, chairman of WH Coronavirus taskforce, appointed by Trump <br>\n",
    "sinophobia: a fear or dislike of China or Chinese people <br>\n",
    "plandemic: conspiracy theory video about covid created by Sherry Tenpenny"
   ]
  },
  {
   "cell_type": "code",
   "execution_count": 3,
   "metadata": {},
   "outputs": [],
   "source": [
    "b4_keywords = ['pandemic', 'cdc', 'outbreak', 'fauci', 'virus', 'reopening', 'lockdown', \n",
    "            'quarantine', 'social distancing', 'hydroxychloroquine', 'fda', 'wuhan', \n",
    "            'corona', 'ventilators', 'ppe', 'lockdowns', 'ppp', 'epidemic', 'bailout', \n",
    "            'cases', 'new', 'home', 'mask', 'masks', 'ncov', 'novel', 'n95', 'face', \n",
    "            'bailouts', 'bars', 'closed', 'bat', 'soup', 'birx', 'canceleverything', \n",
    "            'carona', 'beatcoronavirus', 'ccpvirus', 'center', 'disease', 'control', \n",
    "            'centers', 'china', 'chinaflu', 'chinavirus', 'chinese', 'chineseflu', \n",
    "            'chinesevirus', 'chloroquine', 'flu', 'clorox', 'contact', 'tracer', 'tracers', \n",
    "            'tracing', 'contact-trace', 'conronakindness', 'coronapocalypse', \n",
    "            'coronavirusupdate', 'covid', 'covid_19', 'covid-19', 'covid19', 'covidiot', \n",
    "            'death', 'rate', 'disinfect', 'disinfectant', 'disinfecting', 'dontbeaspreader', \n",
    "            'mikovits', 'economic', 'economic', 'stimulus', 'disaster', 'essential', \n",
    "            'service', 'services', 'epitwitter', '#epitwitter', 'event201', 'event', \n",
    "            'covering', 'coverings', 'shield', 'shields', 'facecovering', 'facemask', \n",
    "            'facemasks', 'flatten', 'curve', 'flattening', 'flattenthecurve', 'testing', \n",
    "            'frontline', 'furlough', 'getmeppe', '#getmeppe', 'hand', 'sanitizer', \n",
    "            'sanitizers', 'health', 'worker', 'workers', 'homemade', 'homeschooling', \n",
    "            'human', 'trials', 'immunity', 'passport', 'immunocompromised', 'jobless', \n",
    "            'claims', 'immunodeficiencies', 'kung', 'kungflu', 'koronavirus', 'lysol', \n",
    "            'medical', 'supplies', 'modly', 'national', 'institutes', 'outbreak', \n",
    "            'novelcoronavirus', 'panic', 'buy', 'personal', 'protective', 'equipment',\n",
    "            'paycheck', 'protection', 'program', 'distance', 'distancing', 'schools', \n",
    "            'social', 'physical', 'physicaldistancing', 'socialdistancing', 'protective', \n",
    "            'case', 'positive', 'presymptomatic', 'ppeshortage', 'postivity', 'rate', \n",
    "            'purell', 'president', 'disaster', 'asymptomatic', 'quarantined', \n",
    "            'quarantinelife', 'r0', 'reopening', 'opening', 'relief', 'bill', 'package', \n",
    "            'remdesivir', 'reproduction', 'number', 'rescue', 'respirator', 'respirators', \n",
    "            'restaurants', 'closed', 'saferathome', 'sars-cov-2', 'secazar', 'self', \n",
    "            'isolate', 'isolation', 'isolating', 'serological', 'test', 'tests', 'shelter',\n",
    "            'shelteringinplace', 'slow', 'spread', 'slowthespread', 'sinophobia', \n",
    "            'stayathome', 'stayhomechallange', 'staying', 'staysafestayhome', 'stimulus', \n",
    "            'surgical', 'suspend', 'foreclosures', 'swab', 'trace', 'test-and-trace', \n",
    "            'trump', 'trumppandemic', 'uss', 'theodore', 'roosevelt', 'ventilator', 'wash', \n",
    "            'wuhanflu', 'wuhancoronavirus', 'world', 'organization', 'wuhanvirus', \n",
    "            'wuhanlockdown', 'crozier', 'plandemic']"
   ]
  },
  {
   "cell_type": "markdown",
   "metadata": {},
   "source": [
    "The fake keywords were found in misinformation tweets but not reliable tweets. Most of the words in 'keywords' were also found in misinformation tweets"
   ]
  },
  {
   "cell_type": "code",
   "execution_count": 4,
   "metadata": {},
   "outputs": [],
   "source": [
    "b4_fake_keys = ['antibody', 'antibodies', 'azar', 'anti-lockdown', 'no mask', 'ncov2019']"
   ]
  },
  {
   "cell_type": "markdown",
   "metadata": {},
   "source": [
    "### DISINFORMATION DOZEN: 12 anti-vaxxers playing leading roles in spreading digital misinformation about Covid vaccines <br>\n",
    "mercola: Joseph Mercola, spreading misleading claims about Covid-19 vaccines. Offers dietary supplements as alternative to vaccine  <br>\n",
    "\n",
    "kennedy: Robert F Kennedy, Jr. spread misinformation about vaccines, targeted Black and Latino communities with misleading anti-vaccine ads, promotes the disproved idea that vaccines anad autism are linked <br>\n",
    "\n",
    "bollinger: Ty&Charlene Bollinger anti-vaxxers, promoted conspiracy thoery that Bill Gates plans to inject everyone with microchips as part of a vaccination program. Call the pandemic 'fake', promotes the disproved idea that vaccines anad autism are linked <br>\n",
    "\n",
    "tenpenny: Dr. Sherri Tenpenny, osteopath physician spreading anti-vaccine sentiment and false claims about safety and efficacy of masks, suspended from twitter  <br>\n",
    "\n",
    "islam: Rizza Islam, anti-vaccine posts aimed at African Americans, promotes autism caused by vaccines, special diet to recover from covid, leader of the Nation of Islam which was suspended from twitter  <br>\n",
    "\n",
    "buttar: Dr. Rashid Buttar, osteopath physician, covid vaccines cause infertility  <br>\n",
    "\n",
    "elizabeth: Erin Elizabeth, partner to Mercola, says vaccines are part of a medical industry plan to create 'a chronically-ill population', bill gates conspiracy theory  <br>\n",
    "\n",
    "ji: Sayer Ji, runs an alternative health website, claims vaccines have caused more deaths than the virus, anti-vax, anti-mask  <br>\n",
    "\n",
    "brogan: Kelly Brogan, partner of Sayer Ji anit-mask, anti-vaxx, conspiracy theories  <br>\n",
    "\n",
    "northrup: Dr. Christiane Northrup, obstetrics and gynecological physician, anti-vaxx conspiracies Hydroxychloroquine and Invermectin as cures for covid, false claims  <br>\n",
    "\n",
    "tapper: Ben Tapper, chiropractor who calls himself a doctor, anti-vax anti-mask  <br>\n",
    "\n",
    "jenkins: Kevin Jenkins, anti-vaxx: vaccines are a conspiracy to wipe out black people  <br>\n",
    "<br><br>\n",
    "#### ANTI-VAXXER ORGANIZATIONS:\n",
    "Childrens Health Defense - RFK Jr <br>\n",
    "Informed consent Action Network(ICAN) - Del Bigtree <br>\n",
    "National Vaccine Information Center (NVIC) - Barbara Loe Fisher, Joseph Mercola <br>\n",
    "Organic Consumers Association (OCA) - Mercola <br>\n",
    "Millions Against Medical Mandates <br>\n",
    "Health Nut News - Erin Elizabth <br>\n",
    "GreenMedInfo - Sayer Ji <br>"
   ]
  },
  {
   "cell_type": "code",
   "execution_count": null,
   "metadata": {},
   "outputs": [],
   "source": [
    "#keywords to search for misinformation tweets\n",
    "current_keywords = ['mercola', 'anti-vaccine', 'anti-vax', 'anti-vaxxers', 'microchip', \n",
    "                    '5G', 'obedience', 'training', 'DNA', 'alter', 'manmade', 'bioweapon', \n",
    "                    'colloidal', 'silver', 'canadian', 'chiniese', 'spies', 'spy', 'garlic', \n",
    "                    'HIV-like', 'HIV', 'insertions', 'insertion', 'vitaminC', 'vitamin', 'C', \n",
    "                    'lemon', 'lemons', 'hot', 'water', 'flu', 'shot', 'flushot', 'soros',\n",
    "                    'hypercampia', 'french', 'pasteur', 'engineered', 'fauci', 'profit', \n",
    "                    'contact', 'tracing', 'apps', 'smartphones', 'placebo', 'aborted', \n",
    "                    'fetal', 'tissue', 'monkeys', 'mhra', 'foodstamps', 'food', 'stamps', \n",
    "                    'nuremberg', \"hagler's\", \"aaron's\", 'dover', 'cancer', 'variants', \n",
    "                    'insurance', 'pcr', 'prion', 'neurodegenerative', 'miscarriage', \n",
    "                    'menstrual', 'magnets', 'magnetic', 'magnet', 'american', 'red', 'cross', \n",
    "                    'sm-102', 'gibraltar', 'blood', 'clots', 'clot', 'british', 'airways', \n",
    "                    'spike', 'proteins', 'graphene', 'oxide', 'human', 'genome', 'comirnaty', \n",
    "                    'superspreaders', 'superspreader', 'supreme', 'court', 'children', \n",
    "                    'garlic', 'manmade', 'colloidal', 'silver', 'hiv', 'hiv-like', \n",
    "                    'insertions', 'lab', 'canadian', 'del', 'bigtree']"
   ]
  },
  {
   "cell_type": "markdown",
   "metadata": {},
   "source": [
    "“the attribution of “fakeness” is thus not at the level of the story but at that of the publisher” <br>\n",
    "When there is a lack of sufficient information from traditional medical professionals, uncertainties arise and online media provide individuals with an opportunity for further information seeking and sharing so as to evaluate, verify, or even challenge the prescriptions"
   ]
  },
  {
   "cell_type": "code",
   "execution_count": 5,
   "metadata": {},
   "outputs": [],
   "source": [
    "#hashtags associated with misinformation or covid conspiracies\n",
    "fake_hashtags = ['#firmament', '#earthisnotaglobe', '#earthisflat', '#maga', '#mindcontrol', \n",
    "            '#falseflag', '#researchflatearth', '#flatearthmatters', '#nwo', '#illuminati', \n",
    "            '#nasalies', '#newworldorder', '#hoax', '#greatreset', '#agenda21', '#wakeup', \n",
    "            '#agenda2030', '#flatearth', '#filmyourhospital', '#scamdemic', '#darktolight',\n",
    "            '#thegreatreset', '#flatearthruth', '#emptyhospitals', '#governmentalies', \n",
    "            '#plandemic', '#drtenpenny', '#drsherritenpenny', '#rizzaislam', '#greenmedinfo']"
   ]
  },
  {
   "cell_type": "code",
   "execution_count": 7,
   "metadata": {},
   "outputs": [],
   "source": [
    "#hashtags associated with 'reliable' covid tweets\n",
    "hashes = ['#igottheshot', '#thisisourshot']"
   ]
  },
  {
   "cell_type": "code",
   "execution_count": 8,
   "metadata": {},
   "outputs": [],
   "source": [
    "#facebook sites known for covid misinformation and conspiracy theories found on News Guard\n",
    "face_sites = ['@greenmedinfo', '@activistpost', '@envolve', '@worldtruthtv', \n",
    "              '@thetruthaboutcancer', '@healthimpactnews', '@coconuthealth', '@londonreel', \n",
    "              '@nowtheendbegins', '@energytherapy']"
   ]
  },
  {
   "cell_type": "code",
   "execution_count": 9,
   "metadata": {},
   "outputs": [],
   "source": [
    "#twitter handles of known misinformation spreaders\n",
    "fake_handles = ['@robertkennedyjr', '@mercola', '@tybollinger', '@charlenebolling', \n",
    "                '@drbuttar', '@unhealthytruth', '@erinhnn', '@sayerjigmi', '@kellybroganmd', \n",
    "                '@drchrisnorthrup', '@drnorthrup', '@drbentapper1', '@kevdjenkins1', \n",
    "                '@childrenshd', '@icandecide', '@organicconsumer', '@millionsagainst', \n",
    "                '@']"
   ]
  },
  {
   "cell_type": "code",
   "execution_count": null,
   "metadata": {},
   "outputs": [],
   "source": []
  }
 ],
 "metadata": {
  "kernelspec": {
   "display_name": "Python 3",
   "language": "python",
   "name": "python3"
  },
  "language_info": {
   "codemirror_mode": {
    "name": "ipython",
    "version": 3
   },
   "file_extension": ".py",
   "mimetype": "text/x-python",
   "name": "python",
   "nbconvert_exporter": "python",
   "pygments_lexer": "ipython3",
   "version": "3.8.3"
  }
 },
 "nbformat": 4,
 "nbformat_minor": 4
}
