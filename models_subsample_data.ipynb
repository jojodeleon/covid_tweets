{
 "cells": [
  {
   "cell_type": "markdown",
   "metadata": {},
   "source": [
    "## All Headlines Dataset for modeling - subsamples of dataframe\n",
    "real news = 0, fake news = 1"
   ]
  },
  {
   "cell_type": "code",
   "execution_count": 2,
   "metadata": {},
   "outputs": [
    {
     "name": "stderr",
     "output_type": "stream",
     "text": [
      "[nltk_data] Downloading package stopwords to /home/jojo/nltk_data...\n",
      "[nltk_data]   Package stopwords is already up-to-date!\n",
      "[nltk_data] Downloading package punkt to /home/jojo/nltk_data...\n",
      "[nltk_data]   Package punkt is already up-to-date!\n",
      "[nltk_data] Downloading package wordnet to /home/jojo/nltk_data...\n",
      "[nltk_data]   Package wordnet is already up-to-date!\n",
      "/home/jojo/anaconda3/lib/python3.8/site-packages/tqdm/std.py:668: FutureWarning: The Panel class is removed from pandas. Accessing it from the top-level namespace will also be removed in the next version\n",
      "  from pandas import Panel\n"
     ]
    }
   ],
   "source": [
    "import nltk\n",
    "import string\n",
    "\n",
    "import pandas            as pd\n",
    "import numpy             as np\n",
    "import seaborn           as sns\n",
    "import matplotlib.pyplot as plt\n",
    "import plotly.express    as px\n",
    "\n",
    "from matplotlib import cm\n",
    "from tqdm       import tqdm\n",
    "from wordcloud  import WordCloud\n",
    "\n",
    "from nltk.probability import FreqDist\n",
    "from nltk.corpus      import stopwords\n",
    "from nltk.tokenize    import sent_tokenize, word_tokenize\n",
    "from nltk.stem        import PorterStemmer, WordNetLemmatizer\n",
    "\n",
    "from sklearn         import metrics\n",
    "from sklearn.metrics import confusion_matrix, plot_confusion_matrix, classification_report, make_scorer, accuracy_score\n",
    "\n",
    "from sklearn.preprocessing           import StandardScaler\n",
    "from sklearn.feature_extraction.text import CountVectorizer, TfidfVectorizer, TfidfTransformer\n",
    "from sklearn.model_selection         import train_test_split, GridSearchCV\n",
    "\n",
    "from sklearn.naive_bayes   import MultinomialNB, GaussianNB\n",
    "from sklearn.ensemble      import RandomForestClassifier, BaggingClassifier\n",
    "from sklearn.ensemble      import AdaBoostClassifier, GradientBoostingClassifier\n",
    "from sklearn.decomposition import PCA\n",
    "from sklearn.svm           import SVC\n",
    "\n",
    "nltk.download('stopwords')\n",
    "nltk.download('punkt')\n",
    "nltk.download('wordnet')\n",
    "tqdm.pandas()\n",
    "\n",
    "np.random.seed(0)"
   ]
  },
  {
   "cell_type": "markdown",
   "metadata": {},
   "source": [
    "## All Headlines Dataset"
   ]
  },
  {
   "cell_type": "code",
   "execution_count": 14,
   "metadata": {},
   "outputs": [
    {
     "data": {
      "text/html": [
       "<div>\n",
       "<style scoped>\n",
       "    .dataframe tbody tr th:only-of-type {\n",
       "        vertical-align: middle;\n",
       "    }\n",
       "\n",
       "    .dataframe tbody tr th {\n",
       "        vertical-align: top;\n",
       "    }\n",
       "\n",
       "    .dataframe thead th {\n",
       "        text-align: right;\n",
       "    }\n",
       "</style>\n",
       "<table border=\"1\" class=\"dataframe\">\n",
       "  <thead>\n",
       "    <tr style=\"text-align: right;\">\n",
       "      <th></th>\n",
       "      <th>headline</th>\n",
       "      <th>real_or_fake</th>\n",
       "    </tr>\n",
       "  </thead>\n",
       "  <tbody>\n",
       "    <tr>\n",
       "      <th>0</th>\n",
       "      <td>India Is In The Middle Of A Coronavirus YouTub...</td>\n",
       "      <td>1</td>\n",
       "    </tr>\n",
       "    <tr>\n",
       "      <th>1</th>\n",
       "      <td>Tweet: False reporting on \"shooting down\" peop...</td>\n",
       "      <td>1</td>\n",
       "    </tr>\n",
       "    <tr>\n",
       "      <th>2</th>\n",
       "      <td>Tweet: A woman eating a delicacy, attributing ...</td>\n",
       "      <td>1</td>\n",
       "    </tr>\n",
       "    <tr>\n",
       "      <th>3</th>\n",
       "      <td>Tweet: False chain message about NYPD containm...</td>\n",
       "      <td>1</td>\n",
       "    </tr>\n",
       "    <tr>\n",
       "      <th>4</th>\n",
       "      <td>Hoax Alert: Viral 'Emergency Notification' On ...</td>\n",
       "      <td>1</td>\n",
       "    </tr>\n",
       "    <tr>\n",
       "      <th>...</th>\n",
       "      <td>...</td>\n",
       "      <td>...</td>\n",
       "    </tr>\n",
       "    <tr>\n",
       "      <th>111923</th>\n",
       "      <td>jews to celebrate rosh hashasha or something</td>\n",
       "      <td>1</td>\n",
       "    </tr>\n",
       "    <tr>\n",
       "      <th>111924</th>\n",
       "      <td>internal affairs investigator disappointed con...</td>\n",
       "      <td>1</td>\n",
       "    </tr>\n",
       "    <tr>\n",
       "      <th>111925</th>\n",
       "      <td>the most beautiful acceptance speech this week...</td>\n",
       "      <td>0</td>\n",
       "    </tr>\n",
       "    <tr>\n",
       "      <th>111926</th>\n",
       "      <td>mars probe destroyed by orbiting spielberg-gat...</td>\n",
       "      <td>1</td>\n",
       "    </tr>\n",
       "    <tr>\n",
       "      <th>111927</th>\n",
       "      <td>dad clarifies this not a food stop</td>\n",
       "      <td>1</td>\n",
       "    </tr>\n",
       "  </tbody>\n",
       "</table>\n",
       "<p>111928 rows × 2 columns</p>\n",
       "</div>"
      ],
      "text/plain": [
       "                                                 headline  real_or_fake\n",
       "0       India Is In The Middle Of A Coronavirus YouTub...             1\n",
       "1       Tweet: False reporting on \"shooting down\" peop...             1\n",
       "2       Tweet: A woman eating a delicacy, attributing ...             1\n",
       "3       Tweet: False chain message about NYPD containm...             1\n",
       "4       Hoax Alert: Viral 'Emergency Notification' On ...             1\n",
       "...                                                   ...           ...\n",
       "111923       jews to celebrate rosh hashasha or something             1\n",
       "111924  internal affairs investigator disappointed con...             1\n",
       "111925  the most beautiful acceptance speech this week...             0\n",
       "111926  mars probe destroyed by orbiting spielberg-gat...             1\n",
       "111927                 dad clarifies this not a food stop             1\n",
       "\n",
       "[111928 rows x 2 columns]"
      ]
     },
     "execution_count": 14,
     "metadata": {},
     "output_type": "execute_result"
    }
   ],
   "source": [
    "df = pd.read_csv('all_headlines.csv')\n",
    "df"
   ]
  },
  {
   "cell_type": "code",
   "execution_count": 15,
   "metadata": {},
   "outputs": [
    {
     "data": {
      "text/plain": [
       "0    61114\n",
       "1    50814\n",
       "Name: real_or_fake, dtype: int64"
      ]
     },
     "execution_count": 15,
     "metadata": {},
     "output_type": "execute_result"
    }
   ],
   "source": [
    "df.real_or_fake.value_counts()"
   ]
  },
  {
   "cell_type": "code",
   "execution_count": 16,
   "metadata": {},
   "outputs": [
    {
     "name": "stdout",
     "output_type": "stream",
     "text": [
      "<class 'pandas.core.frame.DataFrame'>\n",
      "RangeIndex: 111928 entries, 0 to 111927\n",
      "Data columns (total 2 columns):\n",
      " #   Column        Non-Null Count   Dtype \n",
      "---  ------        --------------   ----- \n",
      " 0   headline      111928 non-null  object\n",
      " 1   real_or_fake  111928 non-null  int64 \n",
      "dtypes: int64(1), object(1)\n",
      "memory usage: 1.7+ MB\n"
     ]
    }
   ],
   "source": [
    "df.info()"
   ]
  },
  {
   "cell_type": "markdown",
   "metadata": {},
   "source": [
    "## Sample of Half the All Headlines Dataset"
   ]
  },
  {
   "cell_type": "code",
   "execution_count": 17,
   "metadata": {},
   "outputs": [
    {
     "data": {
      "text/html": [
       "<div>\n",
       "<style scoped>\n",
       "    .dataframe tbody tr th:only-of-type {\n",
       "        vertical-align: middle;\n",
       "    }\n",
       "\n",
       "    .dataframe tbody tr th {\n",
       "        vertical-align: top;\n",
       "    }\n",
       "\n",
       "    .dataframe thead th {\n",
       "        text-align: right;\n",
       "    }\n",
       "</style>\n",
       "<table border=\"1\" class=\"dataframe\">\n",
       "  <thead>\n",
       "    <tr style=\"text-align: right;\">\n",
       "      <th></th>\n",
       "      <th>headline</th>\n",
       "      <th>real_or_fake</th>\n",
       "    </tr>\n",
       "  </thead>\n",
       "  <tbody>\n",
       "    <tr>\n",
       "      <th>95070</th>\n",
       "      <td>twitter took a much-needed break from the worl...</td>\n",
       "      <td>0</td>\n",
       "    </tr>\n",
       "    <tr>\n",
       "      <th>88905</th>\n",
       "      <td>new sitcom pulls back the envelope</td>\n",
       "      <td>1</td>\n",
       "    </tr>\n",
       "    <tr>\n",
       "      <th>73122</th>\n",
       "      <td>area man tired of making excuses for rapist fr...</td>\n",
       "      <td>1</td>\n",
       "    </tr>\n",
       "    <tr>\n",
       "      <th>57624</th>\n",
       "      <td>biden loses control of butterfly knife during ...</td>\n",
       "      <td>1</td>\n",
       "    </tr>\n",
       "    <tr>\n",
       "      <th>31058</th>\n",
       "      <td>WOW! SARCASTIC MIKE BARNICLE Gets An Earful Fr...</td>\n",
       "      <td>1</td>\n",
       "    </tr>\n",
       "    <tr>\n",
       "      <th>...</th>\n",
       "      <td>...</td>\n",
       "      <td>...</td>\n",
       "    </tr>\n",
       "    <tr>\n",
       "      <th>39278</th>\n",
       "      <td>Government costs could rise $2.3 billion witho...</td>\n",
       "      <td>0</td>\n",
       "    </tr>\n",
       "    <tr>\n",
       "      <th>105262</th>\n",
       "      <td>nra calls for teachers to keep loaded gun poin...</td>\n",
       "      <td>1</td>\n",
       "    </tr>\n",
       "    <tr>\n",
       "      <th>26270</th>\n",
       "      <td>HOW BLACK LIVES MATTER Terrorists And Cop Kill...</td>\n",
       "      <td>1</td>\n",
       "    </tr>\n",
       "    <tr>\n",
       "      <th>35220</th>\n",
       "      <td>Factbox: Big-ticket items at center of Congres...</td>\n",
       "      <td>0</td>\n",
       "    </tr>\n",
       "    <tr>\n",
       "      <th>105664</th>\n",
       "      <td>chris martin and gwyneth paltrow's kids show o...</td>\n",
       "      <td>0</td>\n",
       "    </tr>\n",
       "  </tbody>\n",
       "</table>\n",
       "<p>55964 rows × 2 columns</p>\n",
       "</div>"
      ],
      "text/plain": [
       "                                                 headline  real_or_fake\n",
       "95070   twitter took a much-needed break from the worl...             0\n",
       "88905                  new sitcom pulls back the envelope             1\n",
       "73122   area man tired of making excuses for rapist fr...             1\n",
       "57624   biden loses control of butterfly knife during ...             1\n",
       "31058   WOW! SARCASTIC MIKE BARNICLE Gets An Earful Fr...             1\n",
       "...                                                   ...           ...\n",
       "39278   Government costs could rise $2.3 billion witho...             0\n",
       "105262  nra calls for teachers to keep loaded gun poin...             1\n",
       "26270   HOW BLACK LIVES MATTER Terrorists And Cop Kill...             1\n",
       "35220   Factbox: Big-ticket items at center of Congres...             0\n",
       "105664  chris martin and gwyneth paltrow's kids show o...             0\n",
       "\n",
       "[55964 rows x 2 columns]"
      ]
     },
     "execution_count": 17,
     "metadata": {},
     "output_type": "execute_result"
    }
   ],
   "source": [
    "df_sample_half = df.sample(frac=0.5, random_state=1)\n",
    "df_sample_half"
   ]
  },
  {
   "cell_type": "code",
   "execution_count": 18,
   "metadata": {},
   "outputs": [
    {
     "data": {
      "text/plain": [
       "0    30523\n",
       "1    25441\n",
       "Name: real_or_fake, dtype: int64"
      ]
     },
     "execution_count": 18,
     "metadata": {},
     "output_type": "execute_result"
    }
   ],
   "source": [
    "df_sample_half.real_or_fake.value_counts()"
   ]
  },
  {
   "cell_type": "code",
   "execution_count": 29,
   "metadata": {},
   "outputs": [
    {
     "data": {
      "text/html": [
       "<div>\n",
       "<style scoped>\n",
       "    .dataframe tbody tr th:only-of-type {\n",
       "        vertical-align: middle;\n",
       "    }\n",
       "\n",
       "    .dataframe tbody tr th {\n",
       "        vertical-align: top;\n",
       "    }\n",
       "\n",
       "    .dataframe thead th {\n",
       "        text-align: right;\n",
       "    }\n",
       "</style>\n",
       "<table border=\"1\" class=\"dataframe\">\n",
       "  <thead>\n",
       "    <tr style=\"text-align: right;\">\n",
       "      <th></th>\n",
       "      <th>headline</th>\n",
       "      <th>real_or_fake</th>\n",
       "    </tr>\n",
       "  </thead>\n",
       "  <tbody>\n",
       "    <tr>\n",
       "      <th>0</th>\n",
       "      <td>twitter took a much-needed break from the worl...</td>\n",
       "      <td>0</td>\n",
       "    </tr>\n",
       "    <tr>\n",
       "      <th>1</th>\n",
       "      <td>new sitcom pulls back the envelope</td>\n",
       "      <td>1</td>\n",
       "    </tr>\n",
       "    <tr>\n",
       "      <th>2</th>\n",
       "      <td>area man tired of making excuses for rapist fr...</td>\n",
       "      <td>1</td>\n",
       "    </tr>\n",
       "    <tr>\n",
       "      <th>3</th>\n",
       "      <td>biden loses control of butterfly knife during ...</td>\n",
       "      <td>1</td>\n",
       "    </tr>\n",
       "    <tr>\n",
       "      <th>4</th>\n",
       "      <td>WOW! SARCASTIC MIKE BARNICLE Gets An Earful Fr...</td>\n",
       "      <td>1</td>\n",
       "    </tr>\n",
       "    <tr>\n",
       "      <th>...</th>\n",
       "      <td>...</td>\n",
       "      <td>...</td>\n",
       "    </tr>\n",
       "    <tr>\n",
       "      <th>55959</th>\n",
       "      <td>Government costs could rise $2.3 billion witho...</td>\n",
       "      <td>0</td>\n",
       "    </tr>\n",
       "    <tr>\n",
       "      <th>55960</th>\n",
       "      <td>nra calls for teachers to keep loaded gun poin...</td>\n",
       "      <td>1</td>\n",
       "    </tr>\n",
       "    <tr>\n",
       "      <th>55961</th>\n",
       "      <td>HOW BLACK LIVES MATTER Terrorists And Cop Kill...</td>\n",
       "      <td>1</td>\n",
       "    </tr>\n",
       "    <tr>\n",
       "      <th>55962</th>\n",
       "      <td>Factbox: Big-ticket items at center of Congres...</td>\n",
       "      <td>0</td>\n",
       "    </tr>\n",
       "    <tr>\n",
       "      <th>55963</th>\n",
       "      <td>chris martin and gwyneth paltrow's kids show o...</td>\n",
       "      <td>0</td>\n",
       "    </tr>\n",
       "  </tbody>\n",
       "</table>\n",
       "<p>55964 rows × 2 columns</p>\n",
       "</div>"
      ],
      "text/plain": [
       "                                                headline  real_or_fake\n",
       "0      twitter took a much-needed break from the worl...             0\n",
       "1                     new sitcom pulls back the envelope             1\n",
       "2      area man tired of making excuses for rapist fr...             1\n",
       "3      biden loses control of butterfly knife during ...             1\n",
       "4      WOW! SARCASTIC MIKE BARNICLE Gets An Earful Fr...             1\n",
       "...                                                  ...           ...\n",
       "55959  Government costs could rise $2.3 billion witho...             0\n",
       "55960  nra calls for teachers to keep loaded gun poin...             1\n",
       "55961  HOW BLACK LIVES MATTER Terrorists And Cop Kill...             1\n",
       "55962  Factbox: Big-ticket items at center of Congres...             0\n",
       "55963  chris martin and gwyneth paltrow's kids show o...             0\n",
       "\n",
       "[55964 rows x 2 columns]"
      ]
     },
     "execution_count": 29,
     "metadata": {},
     "output_type": "execute_result"
    }
   ],
   "source": [
    "df_sample_half.reset_index(inplace=True, drop=True)\n",
    "df_sample_half"
   ]
  },
  {
   "cell_type": "markdown",
   "metadata": {},
   "source": [
    "## Sample of a Quarter the All Headlines Dataset"
   ]
  },
  {
   "cell_type": "code",
   "execution_count": 22,
   "metadata": {},
   "outputs": [
    {
     "data": {
      "text/html": [
       "<div>\n",
       "<style scoped>\n",
       "    .dataframe tbody tr th:only-of-type {\n",
       "        vertical-align: middle;\n",
       "    }\n",
       "\n",
       "    .dataframe tbody tr th {\n",
       "        vertical-align: top;\n",
       "    }\n",
       "\n",
       "    .dataframe thead th {\n",
       "        text-align: right;\n",
       "    }\n",
       "</style>\n",
       "<table border=\"1\" class=\"dataframe\">\n",
       "  <thead>\n",
       "    <tr style=\"text-align: right;\">\n",
       "      <th></th>\n",
       "      <th>headline</th>\n",
       "      <th>real_or_fake</th>\n",
       "    </tr>\n",
       "  </thead>\n",
       "  <tbody>\n",
       "    <tr>\n",
       "      <th>46727</th>\n",
       "      <td>Explosion outside Athens court shatters window...</td>\n",
       "      <td>0</td>\n",
       "    </tr>\n",
       "    <tr>\n",
       "      <th>20765</th>\n",
       "      <td>MEGHAN MCCAIN Cut-Off After Saying the Florida...</td>\n",
       "      <td>1</td>\n",
       "    </tr>\n",
       "    <tr>\n",
       "      <th>80903</th>\n",
       "      <td>in donald trump's america, people like marlee ...</td>\n",
       "      <td>0</td>\n",
       "    </tr>\n",
       "    <tr>\n",
       "      <th>57730</th>\n",
       "      <td>taco bell: more than just fast food</td>\n",
       "      <td>0</td>\n",
       "    </tr>\n",
       "    <tr>\n",
       "      <th>104138</th>\n",
       "      <td>'i used food to make myself feel better, but i...</td>\n",
       "      <td>0</td>\n",
       "    </tr>\n",
       "    <tr>\n",
       "      <th>...</th>\n",
       "      <td>...</td>\n",
       "      <td>...</td>\n",
       "    </tr>\n",
       "    <tr>\n",
       "      <th>3048</th>\n",
       "      <td>Wuhan Market Where Coronavirus Originated? No,...</td>\n",
       "      <td>0</td>\n",
       "    </tr>\n",
       "    <tr>\n",
       "      <th>67079</th>\n",
       "      <td>woman claims she had miscarriage after cop use...</td>\n",
       "      <td>0</td>\n",
       "    </tr>\n",
       "    <tr>\n",
       "      <th>92208</th>\n",
       "      <td>there, like, 6 cop cars outside</td>\n",
       "      <td>1</td>\n",
       "    </tr>\n",
       "    <tr>\n",
       "      <th>44351</th>\n",
       "      <td>Assault rifle used in Florida shooting drives ...</td>\n",
       "      <td>0</td>\n",
       "    </tr>\n",
       "    <tr>\n",
       "      <th>55034</th>\n",
       "      <td>India Prime Minister Modi inaugurates controve...</td>\n",
       "      <td>0</td>\n",
       "    </tr>\n",
       "  </tbody>\n",
       "</table>\n",
       "<p>27982 rows × 2 columns</p>\n",
       "</div>"
      ],
      "text/plain": [
       "                                                 headline  real_or_fake\n",
       "46727   Explosion outside Athens court shatters window...             0\n",
       "20765   MEGHAN MCCAIN Cut-Off After Saying the Florida...             1\n",
       "80903   in donald trump's america, people like marlee ...             0\n",
       "57730                 taco bell: more than just fast food             0\n",
       "104138  'i used food to make myself feel better, but i...             0\n",
       "...                                                   ...           ...\n",
       "3048    Wuhan Market Where Coronavirus Originated? No,...             0\n",
       "67079   woman claims she had miscarriage after cop use...             0\n",
       "92208                     there, like, 6 cop cars outside             1\n",
       "44351   Assault rifle used in Florida shooting drives ...             0\n",
       "55034   India Prime Minister Modi inaugurates controve...             0\n",
       "\n",
       "[27982 rows x 2 columns]"
      ]
     },
     "execution_count": 22,
     "metadata": {},
     "output_type": "execute_result"
    }
   ],
   "source": [
    "df_sample25 = df.sample(frac=0.25, random_state=321)\n",
    "df_sample25"
   ]
  },
  {
   "cell_type": "code",
   "execution_count": 23,
   "metadata": {},
   "outputs": [
    {
     "data": {
      "text/plain": [
       "0    15367\n",
       "1    12615\n",
       "Name: real_or_fake, dtype: int64"
      ]
     },
     "execution_count": 23,
     "metadata": {},
     "output_type": "execute_result"
    }
   ],
   "source": [
    "df_sample25.real_or_fake.value_counts()"
   ]
  },
  {
   "cell_type": "code",
   "execution_count": 31,
   "metadata": {},
   "outputs": [
    {
     "data": {
      "text/html": [
       "<div>\n",
       "<style scoped>\n",
       "    .dataframe tbody tr th:only-of-type {\n",
       "        vertical-align: middle;\n",
       "    }\n",
       "\n",
       "    .dataframe tbody tr th {\n",
       "        vertical-align: top;\n",
       "    }\n",
       "\n",
       "    .dataframe thead th {\n",
       "        text-align: right;\n",
       "    }\n",
       "</style>\n",
       "<table border=\"1\" class=\"dataframe\">\n",
       "  <thead>\n",
       "    <tr style=\"text-align: right;\">\n",
       "      <th></th>\n",
       "      <th>headline</th>\n",
       "      <th>real_or_fake</th>\n",
       "    </tr>\n",
       "  </thead>\n",
       "  <tbody>\n",
       "    <tr>\n",
       "      <th>0</th>\n",
       "      <td>Explosion outside Athens court shatters window...</td>\n",
       "      <td>0</td>\n",
       "    </tr>\n",
       "    <tr>\n",
       "      <th>1</th>\n",
       "      <td>MEGHAN MCCAIN Cut-Off After Saying the Florida...</td>\n",
       "      <td>1</td>\n",
       "    </tr>\n",
       "    <tr>\n",
       "      <th>2</th>\n",
       "      <td>in donald trump's america, people like marlee ...</td>\n",
       "      <td>0</td>\n",
       "    </tr>\n",
       "    <tr>\n",
       "      <th>3</th>\n",
       "      <td>taco bell: more than just fast food</td>\n",
       "      <td>0</td>\n",
       "    </tr>\n",
       "    <tr>\n",
       "      <th>4</th>\n",
       "      <td>'i used food to make myself feel better, but i...</td>\n",
       "      <td>0</td>\n",
       "    </tr>\n",
       "    <tr>\n",
       "      <th>...</th>\n",
       "      <td>...</td>\n",
       "      <td>...</td>\n",
       "    </tr>\n",
       "    <tr>\n",
       "      <th>27977</th>\n",
       "      <td>Wuhan Market Where Coronavirus Originated? No,...</td>\n",
       "      <td>0</td>\n",
       "    </tr>\n",
       "    <tr>\n",
       "      <th>27978</th>\n",
       "      <td>woman claims she had miscarriage after cop use...</td>\n",
       "      <td>0</td>\n",
       "    </tr>\n",
       "    <tr>\n",
       "      <th>27979</th>\n",
       "      <td>there, like, 6 cop cars outside</td>\n",
       "      <td>1</td>\n",
       "    </tr>\n",
       "    <tr>\n",
       "      <th>27980</th>\n",
       "      <td>Assault rifle used in Florida shooting drives ...</td>\n",
       "      <td>0</td>\n",
       "    </tr>\n",
       "    <tr>\n",
       "      <th>27981</th>\n",
       "      <td>India Prime Minister Modi inaugurates controve...</td>\n",
       "      <td>0</td>\n",
       "    </tr>\n",
       "  </tbody>\n",
       "</table>\n",
       "<p>27982 rows × 2 columns</p>\n",
       "</div>"
      ],
      "text/plain": [
       "                                                headline  real_or_fake\n",
       "0      Explosion outside Athens court shatters window...             0\n",
       "1      MEGHAN MCCAIN Cut-Off After Saying the Florida...             1\n",
       "2      in donald trump's america, people like marlee ...             0\n",
       "3                    taco bell: more than just fast food             0\n",
       "4      'i used food to make myself feel better, but i...             0\n",
       "...                                                  ...           ...\n",
       "27977  Wuhan Market Where Coronavirus Originated? No,...             0\n",
       "27978  woman claims she had miscarriage after cop use...             0\n",
       "27979                    there, like, 6 cop cars outside             1\n",
       "27980  Assault rifle used in Florida shooting drives ...             0\n",
       "27981  India Prime Minister Modi inaugurates controve...             0\n",
       "\n",
       "[27982 rows x 2 columns]"
      ]
     },
     "execution_count": 31,
     "metadata": {},
     "output_type": "execute_result"
    }
   ],
   "source": [
    "df_sample25.reset_index(inplace=True, drop=True)\n",
    "df_sample25"
   ]
  },
  {
   "cell_type": "markdown",
   "metadata": {},
   "source": [
    "## Sample of 10,000 Rows of the All Headlines Dataset"
   ]
  },
  {
   "cell_type": "code",
   "execution_count": 25,
   "metadata": {},
   "outputs": [
    {
     "data": {
      "text/html": [
       "<div>\n",
       "<style scoped>\n",
       "    .dataframe tbody tr th:only-of-type {\n",
       "        vertical-align: middle;\n",
       "    }\n",
       "\n",
       "    .dataframe tbody tr th {\n",
       "        vertical-align: top;\n",
       "    }\n",
       "\n",
       "    .dataframe thead th {\n",
       "        text-align: right;\n",
       "    }\n",
       "</style>\n",
       "<table border=\"1\" class=\"dataframe\">\n",
       "  <thead>\n",
       "    <tr style=\"text-align: right;\">\n",
       "      <th></th>\n",
       "      <th>headline</th>\n",
       "      <th>real_or_fake</th>\n",
       "    </tr>\n",
       "  </thead>\n",
       "  <tbody>\n",
       "    <tr>\n",
       "      <th>57849</th>\n",
       "      <td>10 notable books of 2016 on black women's history</td>\n",
       "      <td>0</td>\n",
       "    </tr>\n",
       "    <tr>\n",
       "      <th>93458</th>\n",
       "      <td>'breitbart' refusing to release names of mass ...</td>\n",
       "      <td>1</td>\n",
       "    </tr>\n",
       "    <tr>\n",
       "      <th>23858</th>\n",
       "      <td>THE VIEW WOMEN Go Off The Rails: Trump ‘has to...</td>\n",
       "      <td>1</td>\n",
       "    </tr>\n",
       "    <tr>\n",
       "      <th>37626</th>\n",
       "      <td>Top Democrat says he hopes U.S. Senate at turn...</td>\n",
       "      <td>0</td>\n",
       "    </tr>\n",
       "    <tr>\n",
       "      <th>104591</th>\n",
       "      <td>a great read for a new year</td>\n",
       "      <td>0</td>\n",
       "    </tr>\n",
       "    <tr>\n",
       "      <th>...</th>\n",
       "      <td>...</td>\n",
       "      <td>...</td>\n",
       "    </tr>\n",
       "    <tr>\n",
       "      <th>5115</th>\n",
       "      <td>Number of deaths by COVID-19 fell in the state...</td>\n",
       "      <td>0</td>\n",
       "    </tr>\n",
       "    <tr>\n",
       "      <th>96791</th>\n",
       "      <td>cool ashtray found</td>\n",
       "      <td>1</td>\n",
       "    </tr>\n",
       "    <tr>\n",
       "      <th>80167</th>\n",
       "      <td>mitch mcconnell says elections are 'not an exc...</td>\n",
       "      <td>0</td>\n",
       "    </tr>\n",
       "    <tr>\n",
       "      <th>103137</th>\n",
       "      <td>poor attendance at intervention a real wake-up...</td>\n",
       "      <td>1</td>\n",
       "    </tr>\n",
       "    <tr>\n",
       "      <th>29230</th>\n",
       "      <td>SENATOR GILLIBRAND Pulled Strings So Muslim At...</td>\n",
       "      <td>1</td>\n",
       "    </tr>\n",
       "  </tbody>\n",
       "</table>\n",
       "<p>10000 rows × 2 columns</p>\n",
       "</div>"
      ],
      "text/plain": [
       "                                                 headline  real_or_fake\n",
       "57849   10 notable books of 2016 on black women's history             0\n",
       "93458   'breitbart' refusing to release names of mass ...             1\n",
       "23858   THE VIEW WOMEN Go Off The Rails: Trump ‘has to...             1\n",
       "37626   Top Democrat says he hopes U.S. Senate at turn...             0\n",
       "104591                        a great read for a new year             0\n",
       "...                                                   ...           ...\n",
       "5115    Number of deaths by COVID-19 fell in the state...             0\n",
       "96791                                  cool ashtray found             1\n",
       "80167   mitch mcconnell says elections are 'not an exc...             0\n",
       "103137  poor attendance at intervention a real wake-up...             1\n",
       "29230   SENATOR GILLIBRAND Pulled Strings So Muslim At...             1\n",
       "\n",
       "[10000 rows x 2 columns]"
      ]
     },
     "execution_count": 25,
     "metadata": {},
     "output_type": "execute_result"
    }
   ],
   "source": [
    "df_sample10 = df.sample(n=10000, random_state=123)\n",
    "df_sample10"
   ]
  },
  {
   "cell_type": "code",
   "execution_count": 26,
   "metadata": {},
   "outputs": [
    {
     "data": {
      "text/plain": [
       "0    5502\n",
       "1    4498\n",
       "Name: real_or_fake, dtype: int64"
      ]
     },
     "execution_count": 26,
     "metadata": {},
     "output_type": "execute_result"
    }
   ],
   "source": [
    "df_sample10.real_or_fake.value_counts()"
   ]
  },
  {
   "cell_type": "code",
   "execution_count": 32,
   "metadata": {},
   "outputs": [
    {
     "data": {
      "text/html": [
       "<div>\n",
       "<style scoped>\n",
       "    .dataframe tbody tr th:only-of-type {\n",
       "        vertical-align: middle;\n",
       "    }\n",
       "\n",
       "    .dataframe tbody tr th {\n",
       "        vertical-align: top;\n",
       "    }\n",
       "\n",
       "    .dataframe thead th {\n",
       "        text-align: right;\n",
       "    }\n",
       "</style>\n",
       "<table border=\"1\" class=\"dataframe\">\n",
       "  <thead>\n",
       "    <tr style=\"text-align: right;\">\n",
       "      <th></th>\n",
       "      <th>headline</th>\n",
       "      <th>real_or_fake</th>\n",
       "    </tr>\n",
       "  </thead>\n",
       "  <tbody>\n",
       "    <tr>\n",
       "      <th>0</th>\n",
       "      <td>10 notable books of 2016 on black women's history</td>\n",
       "      <td>0</td>\n",
       "    </tr>\n",
       "    <tr>\n",
       "      <th>1</th>\n",
       "      <td>'breitbart' refusing to release names of mass ...</td>\n",
       "      <td>1</td>\n",
       "    </tr>\n",
       "    <tr>\n",
       "      <th>2</th>\n",
       "      <td>THE VIEW WOMEN Go Off The Rails: Trump ‘has to...</td>\n",
       "      <td>1</td>\n",
       "    </tr>\n",
       "    <tr>\n",
       "      <th>3</th>\n",
       "      <td>Top Democrat says he hopes U.S. Senate at turn...</td>\n",
       "      <td>0</td>\n",
       "    </tr>\n",
       "    <tr>\n",
       "      <th>4</th>\n",
       "      <td>a great read for a new year</td>\n",
       "      <td>0</td>\n",
       "    </tr>\n",
       "    <tr>\n",
       "      <th>...</th>\n",
       "      <td>...</td>\n",
       "      <td>...</td>\n",
       "    </tr>\n",
       "    <tr>\n",
       "      <th>9995</th>\n",
       "      <td>Number of deaths by COVID-19 fell in the state...</td>\n",
       "      <td>0</td>\n",
       "    </tr>\n",
       "    <tr>\n",
       "      <th>9996</th>\n",
       "      <td>cool ashtray found</td>\n",
       "      <td>1</td>\n",
       "    </tr>\n",
       "    <tr>\n",
       "      <th>9997</th>\n",
       "      <td>mitch mcconnell says elections are 'not an exc...</td>\n",
       "      <td>0</td>\n",
       "    </tr>\n",
       "    <tr>\n",
       "      <th>9998</th>\n",
       "      <td>poor attendance at intervention a real wake-up...</td>\n",
       "      <td>1</td>\n",
       "    </tr>\n",
       "    <tr>\n",
       "      <th>9999</th>\n",
       "      <td>SENATOR GILLIBRAND Pulled Strings So Muslim At...</td>\n",
       "      <td>1</td>\n",
       "    </tr>\n",
       "  </tbody>\n",
       "</table>\n",
       "<p>10000 rows × 2 columns</p>\n",
       "</div>"
      ],
      "text/plain": [
       "                                               headline  real_or_fake\n",
       "0     10 notable books of 2016 on black women's history             0\n",
       "1     'breitbart' refusing to release names of mass ...             1\n",
       "2     THE VIEW WOMEN Go Off The Rails: Trump ‘has to...             1\n",
       "3     Top Democrat says he hopes U.S. Senate at turn...             0\n",
       "4                           a great read for a new year             0\n",
       "...                                                 ...           ...\n",
       "9995  Number of deaths by COVID-19 fell in the state...             0\n",
       "9996                                 cool ashtray found             1\n",
       "9997  mitch mcconnell says elections are 'not an exc...             0\n",
       "9998  poor attendance at intervention a real wake-up...             1\n",
       "9999  SENATOR GILLIBRAND Pulled Strings So Muslim At...             1\n",
       "\n",
       "[10000 rows x 2 columns]"
      ]
     },
     "execution_count": 32,
     "metadata": {},
     "output_type": "execute_result"
    }
   ],
   "source": [
    "df_sample10.reset_index(inplace=True, drop=True)\n",
    "df_sample10"
   ]
  },
  {
   "cell_type": "markdown",
   "metadata": {},
   "source": [
    "## Sample of 5,000 Rows of the All Headlines Dataset"
   ]
  },
  {
   "cell_type": "code",
   "execution_count": 27,
   "metadata": {},
   "outputs": [
    {
     "data": {
      "text/html": [
       "<div>\n",
       "<style scoped>\n",
       "    .dataframe tbody tr th:only-of-type {\n",
       "        vertical-align: middle;\n",
       "    }\n",
       "\n",
       "    .dataframe tbody tr th {\n",
       "        vertical-align: top;\n",
       "    }\n",
       "\n",
       "    .dataframe thead th {\n",
       "        text-align: right;\n",
       "    }\n",
       "</style>\n",
       "<table border=\"1\" class=\"dataframe\">\n",
       "  <thead>\n",
       "    <tr style=\"text-align: right;\">\n",
       "      <th></th>\n",
       "      <th>headline</th>\n",
       "      <th>real_or_fake</th>\n",
       "    </tr>\n",
       "  </thead>\n",
       "  <tbody>\n",
       "    <tr>\n",
       "      <th>54150</th>\n",
       "      <td>U.S. welcomes royal order to allow Saudi women...</td>\n",
       "      <td>0</td>\n",
       "    </tr>\n",
       "    <tr>\n",
       "      <th>29170</th>\n",
       "      <td>IT ONLY TOOK ONE TWEET FROM PRESIDENT TRUMP Fo...</td>\n",
       "      <td>1</td>\n",
       "    </tr>\n",
       "    <tr>\n",
       "      <th>76960</th>\n",
       "      <td>congress adds 'all your base are belong to us'...</td>\n",
       "      <td>1</td>\n",
       "    </tr>\n",
       "    <tr>\n",
       "      <th>41554</th>\n",
       "      <td>Biden knocks Trump for Nazi reference, critici...</td>\n",
       "      <td>0</td>\n",
       "    </tr>\n",
       "    <tr>\n",
       "      <th>55579</th>\n",
       "      <td>YRC Worldwide says multiple terminals closed i...</td>\n",
       "      <td>0</td>\n",
       "    </tr>\n",
       "    <tr>\n",
       "      <th>...</th>\n",
       "      <td>...</td>\n",
       "      <td>...</td>\n",
       "    </tr>\n",
       "    <tr>\n",
       "      <th>103271</th>\n",
       "      <td>porn star doesn't want to direct</td>\n",
       "      <td>1</td>\n",
       "    </tr>\n",
       "    <tr>\n",
       "      <th>33782</th>\n",
       "      <td>US State Department Talking Head Transforms in...</td>\n",
       "      <td>1</td>\n",
       "    </tr>\n",
       "    <tr>\n",
       "      <th>78743</th>\n",
       "      <td>encyclopedic knowledge not so handsomely bound</td>\n",
       "      <td>1</td>\n",
       "    </tr>\n",
       "    <tr>\n",
       "      <th>64171</th>\n",
       "      <td>john deere unveils new line of lawnmower sidecars</td>\n",
       "      <td>1</td>\n",
       "    </tr>\n",
       "    <tr>\n",
       "      <th>74847</th>\n",
       "      <td>gabrielle union on the #metoo movement: 'the f...</td>\n",
       "      <td>0</td>\n",
       "    </tr>\n",
       "  </tbody>\n",
       "</table>\n",
       "<p>5000 rows × 2 columns</p>\n",
       "</div>"
      ],
      "text/plain": [
       "                                                 headline  real_or_fake\n",
       "54150   U.S. welcomes royal order to allow Saudi women...             0\n",
       "29170   IT ONLY TOOK ONE TWEET FROM PRESIDENT TRUMP Fo...             1\n",
       "76960   congress adds 'all your base are belong to us'...             1\n",
       "41554   Biden knocks Trump for Nazi reference, critici...             0\n",
       "55579   YRC Worldwide says multiple terminals closed i...             0\n",
       "...                                                   ...           ...\n",
       "103271                   porn star doesn't want to direct             1\n",
       "33782   US State Department Talking Head Transforms in...             1\n",
       "78743      encyclopedic knowledge not so handsomely bound             1\n",
       "64171   john deere unveils new line of lawnmower sidecars             1\n",
       "74847   gabrielle union on the #metoo movement: 'the f...             0\n",
       "\n",
       "[5000 rows x 2 columns]"
      ]
     },
     "execution_count": 27,
     "metadata": {},
     "output_type": "execute_result"
    }
   ],
   "source": [
    "df_sample5 = df.sample(n=5000, random_state=213)\n",
    "df_sample5"
   ]
  },
  {
   "cell_type": "code",
   "execution_count": 28,
   "metadata": {},
   "outputs": [
    {
     "data": {
      "text/plain": [
       "0    2665\n",
       "1    2335\n",
       "Name: real_or_fake, dtype: int64"
      ]
     },
     "execution_count": 28,
     "metadata": {},
     "output_type": "execute_result"
    }
   ],
   "source": [
    "df_sample5.real_or_fake.value_counts()"
   ]
  },
  {
   "cell_type": "code",
   "execution_count": 33,
   "metadata": {},
   "outputs": [
    {
     "data": {
      "text/html": [
       "<div>\n",
       "<style scoped>\n",
       "    .dataframe tbody tr th:only-of-type {\n",
       "        vertical-align: middle;\n",
       "    }\n",
       "\n",
       "    .dataframe tbody tr th {\n",
       "        vertical-align: top;\n",
       "    }\n",
       "\n",
       "    .dataframe thead th {\n",
       "        text-align: right;\n",
       "    }\n",
       "</style>\n",
       "<table border=\"1\" class=\"dataframe\">\n",
       "  <thead>\n",
       "    <tr style=\"text-align: right;\">\n",
       "      <th></th>\n",
       "      <th>headline</th>\n",
       "      <th>real_or_fake</th>\n",
       "    </tr>\n",
       "  </thead>\n",
       "  <tbody>\n",
       "    <tr>\n",
       "      <th>0</th>\n",
       "      <td>U.S. welcomes royal order to allow Saudi women...</td>\n",
       "      <td>0</td>\n",
       "    </tr>\n",
       "    <tr>\n",
       "      <th>1</th>\n",
       "      <td>IT ONLY TOOK ONE TWEET FROM PRESIDENT TRUMP Fo...</td>\n",
       "      <td>1</td>\n",
       "    </tr>\n",
       "    <tr>\n",
       "      <th>2</th>\n",
       "      <td>congress adds 'all your base are belong to us'...</td>\n",
       "      <td>1</td>\n",
       "    </tr>\n",
       "    <tr>\n",
       "      <th>3</th>\n",
       "      <td>Biden knocks Trump for Nazi reference, critici...</td>\n",
       "      <td>0</td>\n",
       "    </tr>\n",
       "    <tr>\n",
       "      <th>4</th>\n",
       "      <td>YRC Worldwide says multiple terminals closed i...</td>\n",
       "      <td>0</td>\n",
       "    </tr>\n",
       "    <tr>\n",
       "      <th>...</th>\n",
       "      <td>...</td>\n",
       "      <td>...</td>\n",
       "    </tr>\n",
       "    <tr>\n",
       "      <th>4995</th>\n",
       "      <td>porn star doesn't want to direct</td>\n",
       "      <td>1</td>\n",
       "    </tr>\n",
       "    <tr>\n",
       "      <th>4996</th>\n",
       "      <td>US State Department Talking Head Transforms in...</td>\n",
       "      <td>1</td>\n",
       "    </tr>\n",
       "    <tr>\n",
       "      <th>4997</th>\n",
       "      <td>encyclopedic knowledge not so handsomely bound</td>\n",
       "      <td>1</td>\n",
       "    </tr>\n",
       "    <tr>\n",
       "      <th>4998</th>\n",
       "      <td>john deere unveils new line of lawnmower sidecars</td>\n",
       "      <td>1</td>\n",
       "    </tr>\n",
       "    <tr>\n",
       "      <th>4999</th>\n",
       "      <td>gabrielle union on the #metoo movement: 'the f...</td>\n",
       "      <td>0</td>\n",
       "    </tr>\n",
       "  </tbody>\n",
       "</table>\n",
       "<p>5000 rows × 2 columns</p>\n",
       "</div>"
      ],
      "text/plain": [
       "                                               headline  real_or_fake\n",
       "0     U.S. welcomes royal order to allow Saudi women...             0\n",
       "1     IT ONLY TOOK ONE TWEET FROM PRESIDENT TRUMP Fo...             1\n",
       "2     congress adds 'all your base are belong to us'...             1\n",
       "3     Biden knocks Trump for Nazi reference, critici...             0\n",
       "4     YRC Worldwide says multiple terminals closed i...             0\n",
       "...                                                 ...           ...\n",
       "4995                   porn star doesn't want to direct             1\n",
       "4996  US State Department Talking Head Transforms in...             1\n",
       "4997     encyclopedic knowledge not so handsomely bound             1\n",
       "4998  john deere unveils new line of lawnmower sidecars             1\n",
       "4999  gabrielle union on the #metoo movement: 'the f...             0\n",
       "\n",
       "[5000 rows x 2 columns]"
      ]
     },
     "execution_count": 33,
     "metadata": {},
     "output_type": "execute_result"
    }
   ],
   "source": [
    "df_sample5.reset_index(inplace=True, drop=True)\n",
    "df_sample5"
   ]
  },
  {
   "cell_type": "markdown",
   "metadata": {},
   "source": [
    "#### Stopwords List to be used in Vectorization"
   ]
  },
  {
   "cell_type": "code",
   "execution_count": 24,
   "metadata": {},
   "outputs": [],
   "source": [
    "sw_list  = stopwords.words('english')\n",
    "sw_list += list(string.punctuation)\n",
    "sw_list += [\"''\", '\"\"', '...', '``', '’', '“', '’', '”', '‘', '‘', '©', '27', '1', \"'ve\",\n",
    "            '-', '–', '—', \"n't\", 'https', '2', \"'re\", \"'m'\", '3', '..', 'ca', \"'s\", 'amp']"
   ]
  },
  {
   "cell_type": "markdown",
   "metadata": {},
   "source": [
    "### Lemmatized Data for Dataset Samples"
   ]
  },
  {
   "cell_type": "markdown",
   "metadata": {},
   "source": [
    "#### Data for Half Sample"
   ]
  },
  {
   "cell_type": "code",
   "execution_count": 34,
   "metadata": {},
   "outputs": [],
   "source": [
    "data_half = df_sample_half['headline']\n",
    "target_half = df_sample_half['real_or_fake']\n",
    "\n",
    "processed_data_half = [d.split() for d in data_half.to_list()]\n",
    "\n",
    "lemmatizer = WordNetLemmatizer()\n",
    "lemmatized_output_half = []\n",
    "\n",
    "for listy in processed_data_half:\n",
    "    lemmed_half = ' '.join([lemmatizer.lemmatize(w) for w in listy])\n",
    "    lemmatized_output_half.append(lemmed_half)\n",
    "\n",
    "X_lem_half = lemmatized_output_half\n",
    "y_lem_half = target_half"
   ]
  },
  {
   "cell_type": "markdown",
   "metadata": {},
   "source": [
    "#### Data for Quarter Sample"
   ]
  },
  {
   "cell_type": "code",
   "execution_count": 35,
   "metadata": {},
   "outputs": [],
   "source": [
    "data_25 = df_sample25['headline']\n",
    "target_25 = df_sample25['real_or_fake']\n",
    "\n",
    "processed_data_25 = [d.split() for d in data_25.to_list()]\n",
    "\n",
    "lemmatizer = WordNetLemmatizer()\n",
    "lemmatized_output_25 = []\n",
    "\n",
    "for listy in processed_data_25:\n",
    "    lemmed_25 = ' '.join([lemmatizer.lemmatize(w) for w in listy])\n",
    "    lemmatized_output_25.append(lemmed_25)\n",
    "\n",
    "X_lem25 = lemmatized_output_25\n",
    "y_lem25 = target_25"
   ]
  },
  {
   "cell_type": "markdown",
   "metadata": {},
   "source": [
    "#### Data for 10,000 Row Sample"
   ]
  },
  {
   "cell_type": "code",
   "execution_count": 36,
   "metadata": {},
   "outputs": [],
   "source": [
    "data_10 = df_sample10['headline']\n",
    "target_10 = df_sample10['real_or_fake']\n",
    "\n",
    "processed_data_10 = [d.split() for d in data_10.to_list()]\n",
    "\n",
    "lemmatizer = WordNetLemmatizer()\n",
    "lemmatized_output_10 = []\n",
    "\n",
    "for listy in processed_data_10:\n",
    "    lemmed_10 = ' '.join([lemmatizer.lemmatize(w) for w in listy])\n",
    "    lemmatized_output_10.append(lemmed_10)\n",
    "\n",
    "X_lem10 = lemmatized_output_10\n",
    "y_lem10 = target_10"
   ]
  },
  {
   "cell_type": "markdown",
   "metadata": {},
   "source": [
    "#### Data for 5,000 Row Sample"
   ]
  },
  {
   "cell_type": "code",
   "execution_count": 37,
   "metadata": {},
   "outputs": [],
   "source": [
    "data_5 = df_sample5['headline']\n",
    "target_5 = df_sample5['real_or_fake']\n",
    "\n",
    "processed_data_5 = [d.split() for d in data_5.to_list()]\n",
    "\n",
    "lemmatizer = WordNetLemmatizer()\n",
    "lemmatized_output_5 = []\n",
    "\n",
    "for listy in processed_data_5:\n",
    "    lemmed_5 = ' '.join([lemmatizer.lemmatize(w) for w in listy])\n",
    "    lemmatized_output_5.append(lemmed_5)\n",
    "\n",
    "X_lem5 = lemmatized_output_5\n",
    "y_lem5 = target_5"
   ]
  },
  {
   "cell_type": "markdown",
   "metadata": {},
   "source": [
    "## TFIDF Vectorization"
   ]
  },
  {
   "cell_type": "markdown",
   "metadata": {},
   "source": [
    "### Maximum Features after vectorization: 5000"
   ]
  },
  {
   "cell_type": "markdown",
   "metadata": {},
   "source": [
    "#### HALF SAMPLE"
   ]
  },
  {
   "cell_type": "code",
   "execution_count": 38,
   "metadata": {},
   "outputs": [],
   "source": [
    "X_train_lem_half, X_test_lem_half, y_train_lem_half, y_test_lem_half = train_test_split(X_lem_half, y_lem_half, test_size=0.20, random_state=1)\n",
    "\n",
    "tfidf = TfidfVectorizer(stop_words=sw_list, max_features=5000)\n",
    "tfidf_data_train_lem_half = tfidf.fit_transform(X_train_lem_half)\n",
    "tfidf_data_test_lem_half  = tfidf.transform(X_test_lem_half)"
   ]
  },
  {
   "cell_type": "markdown",
   "metadata": {},
   "source": [
    "#### Average Number Of Elements And Matrix Sparsity - Half Sample"
   ]
  },
  {
   "cell_type": "code",
   "execution_count": 40,
   "metadata": {},
   "outputs": [
    {
     "name": "stdout",
     "output_type": "stream",
     "text": [
      "Average Number of Non-Zero Elements in Vectorized Text: 6.928234794844878\n",
      "Percentage of columns containing ZERO: 0.9986143530410311\n"
     ]
    }
   ],
   "source": [
    "non_zero_cols_half = tfidf_data_train_lem_half.nnz / float(tfidf_data_train_lem_half.shape[0])\n",
    "print(\"Average Number of Non-Zero Elements in Vectorized Text: {}\".format(non_zero_cols_half))\n",
    "\n",
    "percent_sparse = 1 - (non_zero_cols_half / float(tfidf_data_train_lem_half.shape[1]))\n",
    "print('Percentage of columns containing ZERO: {}'.format(percent_sparse))"
   ]
  },
  {
   "cell_type": "markdown",
   "metadata": {},
   "source": [
    "#### Dense Data Half Sample"
   ]
  },
  {
   "cell_type": "code",
   "execution_count": 41,
   "metadata": {},
   "outputs": [],
   "source": [
    "train_half = tfidf_data_train_lem_half.toarray()\n",
    "test_half  = tfidf_data_test_lem_half.toarray()"
   ]
  },
  {
   "cell_type": "markdown",
   "metadata": {},
   "source": [
    "#### Data Separability Half Sample"
   ]
  },
  {
   "cell_type": "code",
   "execution_count": 42,
   "metadata": {},
   "outputs": [],
   "source": [
    "pca = PCA(n_components=2)\n",
    "X_pca_half = pca.fit_transform(train_half)\n",
    "X_pca_half = pd.DataFrame(X_pca_half, columns=['PC1', 'PC2'])\n",
    "X_pca_half['Target'] = y_lem_half"
   ]
  },
  {
   "cell_type": "code",
   "execution_count": 45,
   "metadata": {},
   "outputs": [
    {
     "data": {
      "image/png": "[encoded data removed]",
      "text/plain": [
       "<Figure size 432x288 with 1 Axes>"
      ]
     },
     "metadata": {
      "needs_background": "light"
     },
     "output_type": "display_data"
    }
   ],
   "source": [
    "sns.scatterplot(x=X_pca_half['PC1'], y=X_pca_half['PC2'],\n",
    "                hue=X_pca_half['Target']).set_title('Data Separability');"
   ]
  },
  {
   "cell_type": "markdown",
   "metadata": {},
   "source": [
    "#### QUARTER SAMPLE"
   ]
  },
  {
   "cell_type": "code",
   "execution_count": 46,
   "metadata": {},
   "outputs": [],
   "source": [
    "X_train_lem25, X_test_lem25, y_train_lem25, y_test_lem25 = train_test_split(X_lem25, y_lem25, test_size=0.20, random_state=1)\n",
    "\n",
    "tfidf = TfidfVectorizer(stop_words=sw_list, max_features=5000)\n",
    "tfidf_data_train_lem25 = tfidf.fit_transform(X_train_lem25)\n",
    "tfidf_data_test_lem25  = tfidf.transform(X_test_lem25)"
   ]
  },
  {
   "cell_type": "markdown",
   "metadata": {},
   "source": [
    "#### Average Number Of Elements And Matrix Sparsity - Quarter Sample"
   ]
  },
  {
   "cell_type": "code",
   "execution_count": 47,
   "metadata": {},
   "outputs": [
    {
     "name": "stdout",
     "output_type": "stream",
     "text": [
      "Average Number of Non-Zero Elements in Vectorized Text: 6.939468394013849\n",
      "Percentage of columns containing ZERO: 0.9986121063211972\n"
     ]
    }
   ],
   "source": [
    "non_zero_cols25 = tfidf_data_train_lem25.nnz / float(tfidf_data_train_lem25.shape[0])\n",
    "print(\"Average Number of Non-Zero Elements in Vectorized Text: {}\".format(non_zero_cols25))\n",
    "\n",
    "percent_sparse = 1 - (non_zero_cols25 / float(tfidf_data_train_lem25.shape[1]))\n",
    "print('Percentage of columns containing ZERO: {}'.format(percent_sparse))"
   ]
  },
  {
   "cell_type": "markdown",
   "metadata": {},
   "source": [
    "#### Dense Data Quarter Sample"
   ]
  },
  {
   "cell_type": "code",
   "execution_count": 48,
   "metadata": {},
   "outputs": [],
   "source": [
    "train25 = tfidf_data_train_lem25.toarray()\n",
    "test25  = tfidf_data_test_lem25.toarray()"
   ]
  },
  {
   "cell_type": "markdown",
   "metadata": {},
   "source": [
    "#### Data Separability Quarter Sample"
   ]
  },
  {
   "cell_type": "code",
   "execution_count": 49,
   "metadata": {},
   "outputs": [],
   "source": [
    "pca = PCA(n_components=2)\n",
    "X_pca25 = pca.fit_transform(train25)\n",
    "X_pca25 = pd.DataFrame(X_pca25, columns=['PC1', 'PC2'])\n",
    "X_pca25['Target'] = y_lem25"
   ]
  },
  {
   "cell_type": "code",
   "execution_count": 50,
   "metadata": {},
   "outputs": [
    {
     "data": {
      "image/png": "[encoded data removed]",
      "text/plain": [
       "<Figure size 432x288 with 1 Axes>"
      ]
     },
     "metadata": {
      "needs_background": "light"
     },
     "output_type": "display_data"
    }
   ],
   "source": [
    "sns.scatterplot(x=X_pca25['PC1'], y=X_pca25['PC2'],\n",
    "                hue=X_pca25['Target']).set_title('Data Separability');"
   ]
  },
  {
   "cell_type": "markdown",
   "metadata": {},
   "source": [
    "#### 10,000 ROW SAMPLE"
   ]
  },
  {
   "cell_type": "code",
   "execution_count": 51,
   "metadata": {},
   "outputs": [],
   "source": [
    "X_train_lem10, X_test_lem10, y_train_lem10, y_test_lem10 = train_test_split(X_lem10, y_lem10, test_size=0.20, random_state=1)\n",
    "\n",
    "tfidf = TfidfVectorizer(stop_words=sw_list, max_features=5000)\n",
    "tfidf_data_train_lem10 = tfidf.fit_transform(X_train_lem10)\n",
    "tfidf_data_test_lem10  = tfidf.transform(X_test_lem10)"
   ]
  },
  {
   "cell_type": "markdown",
   "metadata": {},
   "source": [
    "#### Average Number Of Elements And Matrix Sparsity - 10,000 Row Sample"
   ]
  },
  {
   "cell_type": "code",
   "execution_count": 53,
   "metadata": {},
   "outputs": [
    {
     "name": "stdout",
     "output_type": "stream",
     "text": [
      "Average Number of Non-Zero Elements in Vectorized Text: 7.112\n",
      "Percentage of columns containing ZERO: 0.9985776\n"
     ]
    }
   ],
   "source": [
    "non_zero_cols10 = tfidf_data_train_lem10.nnz / float(tfidf_data_train_lem10.shape[0])\n",
    "print(\"Average Number of Non-Zero Elements in Vectorized Text: {}\".format(non_zero_cols10))\n",
    "\n",
    "percent_sparse = 1 - (non_zero_cols10 / float(tfidf_data_train_lem10.shape[1]))\n",
    "print('Percentage of columns containing ZERO: {}'.format(percent_sparse))"
   ]
  },
  {
   "cell_type": "markdown",
   "metadata": {},
   "source": [
    "#### Dense Data 10,000 Row Sample"
   ]
  },
  {
   "cell_type": "code",
   "execution_count": 54,
   "metadata": {},
   "outputs": [],
   "source": [
    "train10 = tfidf_data_train_lem10.toarray()\n",
    "test10  = tfidf_data_test_lem10.toarray()"
   ]
  },
  {
   "cell_type": "markdown",
   "metadata": {},
   "source": [
    "#### Data Separability 10,000 Row Sample"
   ]
  },
  {
   "cell_type": "code",
   "execution_count": 55,
   "metadata": {},
   "outputs": [],
   "source": [
    "pca = PCA(n_components=2)\n",
    "X_pca10 = pca.fit_transform(train10)\n",
    "X_pca10 = pd.DataFrame(X_pca10, columns=['PC1', 'PC2'])\n",
    "X_pca10['Target'] = y_lem10"
   ]
  },
  {
   "cell_type": "code",
   "execution_count": 56,
   "metadata": {},
   "outputs": [
    {
     "data": {
      "image/png": "[encoded data removed]",
      "text/plain": [
       "<Figure size 432x288 with 1 Axes>"
      ]
     },
     "metadata": {
      "needs_background": "light"
     },
     "output_type": "display_data"
    }
   ],
   "source": [
    "sns.scatterplot(x=X_pca10['PC1'], y=X_pca10['PC2'],\n",
    "                hue=X_pca10['Target']).set_title('Data Separability');"
   ]
  },
  {
   "cell_type": "markdown",
   "metadata": {},
   "source": [
    "#### 5,000 ROW SAMPLE"
   ]
  },
  {
   "cell_type": "code",
   "execution_count": 57,
   "metadata": {},
   "outputs": [],
   "source": [
    "X_train_lem5, X_test_lem5, y_train_lem5, y_test_lem5 = train_test_split(X_lem5, y_lem5, test_size=0.20, random_state=1)\n",
    "\n",
    "tfidf = TfidfVectorizer(stop_words=sw_list, max_features=5000)\n",
    "tfidf_data_train_lem5 = tfidf.fit_transform(X_train_lem5)\n",
    "tfidf_data_test_lem5  = tfidf.transform(X_test_lem5)"
   ]
  },
  {
   "cell_type": "markdown",
   "metadata": {},
   "source": [
    "#### Average Number Of Elements And Matrix Sparsity - 5,000 Row Sample"
   ]
  },
  {
   "cell_type": "code",
   "execution_count": 58,
   "metadata": {},
   "outputs": [
    {
     "name": "stdout",
     "output_type": "stream",
     "text": [
      "Average Number of Non-Zero Elements in Vectorized Text: 7.2385\n",
      "Percentage of columns containing ZERO: 0.9985523\n"
     ]
    }
   ],
   "source": [
    "non_zero_cols5 = tfidf_data_train_lem5.nnz / float(tfidf_data_train_lem5.shape[0])\n",
    "print(\"Average Number of Non-Zero Elements in Vectorized Text: {}\".format(non_zero_cols5))\n",
    "\n",
    "percent_sparse = 1 - (non_zero_cols5 / float(tfidf_data_train_lem5.shape[1]))\n",
    "print('Percentage of columns containing ZERO: {}'.format(percent_sparse))"
   ]
  },
  {
   "cell_type": "markdown",
   "metadata": {},
   "source": [
    "#### Dense Data 5,000 Row Sample"
   ]
  },
  {
   "cell_type": "code",
   "execution_count": 59,
   "metadata": {},
   "outputs": [],
   "source": [
    "train5 = tfidf_data_train_lem5.toarray()\n",
    "test5  = tfidf_data_test_lem5.toarray()"
   ]
  },
  {
   "cell_type": "markdown",
   "metadata": {},
   "source": [
    "#### Data Separability 5,000 Row Sample"
   ]
  },
  {
   "cell_type": "code",
   "execution_count": 60,
   "metadata": {},
   "outputs": [],
   "source": [
    "pca = PCA(n_components=2)\n",
    "X_pca5 = pca.fit_transform(train5)\n",
    "X_pca5 = pd.DataFrame(X_pca5, columns=['PC1', 'PC2'])\n",
    "X_pca5['Target'] = y_lem5"
   ]
  },
  {
   "cell_type": "code",
   "execution_count": 61,
   "metadata": {},
   "outputs": [
    {
     "data": {
      "image/png": "[encoded data removed]",
      "text/plain": [
       "<Figure size 432x288 with 1 Axes>"
      ]
     },
     "metadata": {
      "needs_background": "light"
     },
     "output_type": "display_data"
    }
   ],
   "source": [
    "sns.scatterplot(x=X_pca5['PC1'], y=X_pca10['PC2'],\n",
    "                hue=X_pca5['Target']).set_title('Data Separability');"
   ]
  },
  {
   "cell_type": "markdown",
   "metadata": {},
   "source": [
    "## Gaussian Naive Bayes "
   ]
  },
  {
   "cell_type": "markdown",
   "metadata": {},
   "source": [
    "### Half Sample"
   ]
  },
  {
   "cell_type": "code",
   "execution_count": 62,
   "metadata": {},
   "outputs": [
    {
     "name": "stdout",
     "output_type": "stream",
     "text": [
      "              precision    recall  f1-score   support\n",
      "\n",
      "           0       0.80      0.84      0.82     24475\n",
      "           1       0.80      0.75      0.78     20296\n",
      "\n",
      "    accuracy                           0.80     44771\n",
      "   macro avg       0.80      0.80      0.80     44771\n",
      "weighted avg       0.80      0.80      0.80     44771\n",
      "\n",
      "              precision    recall  f1-score   support\n",
      "\n",
      "           0       0.77      0.81      0.79      6048\n",
      "           1       0.77      0.72      0.74      5145\n",
      "\n",
      "    accuracy                           0.77     11193\n",
      "   macro avg       0.77      0.77      0.77     11193\n",
      "weighted avg       0.77      0.77      0.77     11193\n",
      "\n"
     ]
    }
   ],
   "source": [
    "gnb = GaussianNB()\n",
    "\n",
    "gnb.fit(train_half, y_train_lem_half)\n",
    "\n",
    "\n",
    "gnb_train_preds_lem_half = gnb.predict(train_half)\n",
    "gnb_test_preds_lem_half  = gnb.predict(test_half)\n",
    "\n",
    "print(classification_report(y_train_lem_half, gnb_train_preds_lem_half))\n",
    "print(classification_report(y_test_lem_half, gnb_test_preds_lem_half))"
   ]
  },
  {
   "cell_type": "markdown",
   "metadata": {},
   "source": [
    "### Quarter Sample"
   ]
  },
  {
   "cell_type": "code",
   "execution_count": 63,
   "metadata": {},
   "outputs": [
    {
     "name": "stdout",
     "output_type": "stream",
     "text": [
      "              precision    recall  f1-score   support\n",
      "\n",
      "           0       0.82      0.88      0.85     12300\n",
      "           1       0.84      0.77      0.80     10085\n",
      "\n",
      "    accuracy                           0.83     22385\n",
      "   macro avg       0.83      0.82      0.82     22385\n",
      "weighted avg       0.83      0.83      0.83     22385\n",
      "\n",
      "              precision    recall  f1-score   support\n",
      "\n",
      "           0       0.76      0.83      0.79      3067\n",
      "           1       0.76      0.68      0.72      2530\n",
      "\n",
      "    accuracy                           0.76      5597\n",
      "   macro avg       0.76      0.75      0.75      5597\n",
      "weighted avg       0.76      0.76      0.76      5597\n",
      "\n"
     ]
    }
   ],
   "source": [
    "gnb = GaussianNB()\n",
    "\n",
    "gnb.fit(train25, y_train_lem25)\n",
    "\n",
    "\n",
    "gnb_train_preds_lem25 = gnb.predict(train25)\n",
    "gnb_test_preds_lem25  = gnb.predict(test25)\n",
    "\n",
    "print(classification_report(y_train_lem25, gnb_train_preds_lem25))\n",
    "print(classification_report(y_test_lem25, gnb_test_preds_lem25))"
   ]
  },
  {
   "cell_type": "markdown",
   "metadata": {},
   "source": [
    "### 10,000 Row Sample"
   ]
  },
  {
   "cell_type": "code",
   "execution_count": 64,
   "metadata": {},
   "outputs": [
    {
     "name": "stdout",
     "output_type": "stream",
     "text": [
      "              precision    recall  f1-score   support\n",
      "\n",
      "           0       0.83      0.97      0.89      4383\n",
      "           1       0.95      0.75      0.84      3617\n",
      "\n",
      "    accuracy                           0.87      8000\n",
      "   macro avg       0.89      0.86      0.87      8000\n",
      "weighted avg       0.88      0.87      0.87      8000\n",
      "\n",
      "              precision    recall  f1-score   support\n",
      "\n",
      "           0       0.71      0.82      0.76      1119\n",
      "           1       0.72      0.58      0.64       881\n",
      "\n",
      "    accuracy                           0.71      2000\n",
      "   macro avg       0.71      0.70      0.70      2000\n",
      "weighted avg       0.71      0.71      0.71      2000\n",
      "\n"
     ]
    }
   ],
   "source": [
    "gnb = GaussianNB()\n",
    "\n",
    "gnb.fit(train10, y_train_lem10)\n",
    "\n",
    "\n",
    "gnb_train_preds_lem10 = gnb.predict(train10)\n",
    "gnb_test_preds_lem10  = gnb.predict(test10)\n",
    "\n",
    "print(classification_report(y_train_lem10, gnb_train_preds_lem10))\n",
    "print(classification_report(y_test_lem10, gnb_test_preds_lem10))"
   ]
  },
  {
   "cell_type": "markdown",
   "metadata": {},
   "source": [
    "### 5,000 Row Sample"
   ]
  },
  {
   "cell_type": "code",
   "execution_count": 65,
   "metadata": {},
   "outputs": [
    {
     "name": "stdout",
     "output_type": "stream",
     "text": [
      "              precision    recall  f1-score   support\n",
      "\n",
      "           0       0.87      1.00      0.93      2122\n",
      "           1       1.00      0.83      0.91      1878\n",
      "\n",
      "    accuracy                           0.92      4000\n",
      "   macro avg       0.93      0.92      0.92      4000\n",
      "weighted avg       0.93      0.92      0.92      4000\n",
      "\n",
      "              precision    recall  f1-score   support\n",
      "\n",
      "           0       0.69      0.81      0.75       543\n",
      "           1       0.72      0.57      0.64       457\n",
      "\n",
      "    accuracy                           0.70      1000\n",
      "   macro avg       0.70      0.69      0.69      1000\n",
      "weighted avg       0.70      0.70      0.69      1000\n",
      "\n"
     ]
    }
   ],
   "source": [
    "gnb = GaussianNB()\n",
    "\n",
    "gnb.fit(train5, y_train_lem5)\n",
    "\n",
    "\n",
    "gnb_train_preds_lem5 = gnb.predict(train5)\n",
    "gnb_test_preds_lem5  = gnb.predict(test5)\n",
    "\n",
    "print(classification_report(y_train_lem5, gnb_train_preds_lem5))\n",
    "print(classification_report(y_test_lem5, gnb_test_preds_lem5))"
   ]
  },
  {
   "cell_type": "markdown",
   "metadata": {},
   "source": [
    "## Random Forest Classifier"
   ]
  },
  {
   "cell_type": "markdown",
   "metadata": {},
   "source": [
    "### Half Sample"
   ]
  },
  {
   "cell_type": "code",
   "execution_count": 66,
   "metadata": {},
   "outputs": [
    {
     "name": "stdout",
     "output_type": "stream",
     "text": [
      "              precision    recall  f1-score   support\n",
      "\n",
      "           0       1.00      1.00      1.00     24475\n",
      "           1       1.00      1.00      1.00     20296\n",
      "\n",
      "    accuracy                           1.00     44771\n",
      "   macro avg       1.00      1.00      1.00     44771\n",
      "weighted avg       1.00      1.00      1.00     44771\n",
      "\n",
      "              precision    recall  f1-score   support\n",
      "\n",
      "           0       0.85      0.90      0.87      6048\n",
      "           1       0.87      0.81      0.84      5145\n",
      "\n",
      "    accuracy                           0.86     11193\n",
      "   macro avg       0.86      0.85      0.86     11193\n",
      "weighted avg       0.86      0.86      0.86     11193\n",
      "\n"
     ]
    }
   ],
   "source": [
    "rf = RandomForestClassifier(random_state=123)\n",
    "\n",
    "rf.fit(train_half, y_train_lem_half)\n",
    "\n",
    "rf_train_preds_lem_half = rf.predict(train_half)\n",
    "rf_test_preds_lem_half = rf.predict(test_half)\n",
    "\n",
    "print(classification_report(y_train_lem_half, rf_train_preds_lem_half))\n",
    "print(classification_report(y_test_lem_half, rf_test_preds_lem_half))"
   ]
  },
  {
   "cell_type": "markdown",
   "metadata": {},
   "source": [
    "### Quarter Sample"
   ]
  },
  {
   "cell_type": "code",
   "execution_count": 67,
   "metadata": {},
   "outputs": [
    {
     "name": "stdout",
     "output_type": "stream",
     "text": [
      "              precision    recall  f1-score   support\n",
      "\n",
      "           0       1.00      1.00      1.00     12300\n",
      "           1       1.00      1.00      1.00     10085\n",
      "\n",
      "    accuracy                           1.00     22385\n",
      "   macro avg       1.00      1.00      1.00     22385\n",
      "weighted avg       1.00      1.00      1.00     22385\n",
      "\n",
      "              precision    recall  f1-score   support\n",
      "\n",
      "           0       0.81      0.87      0.84      3067\n",
      "           1       0.83      0.76      0.79      2530\n",
      "\n",
      "    accuracy                           0.82      5597\n",
      "   macro avg       0.82      0.81      0.82      5597\n",
      "weighted avg       0.82      0.82      0.82      5597\n",
      "\n"
     ]
    }
   ],
   "source": [
    "rf = RandomForestClassifier(random_state=123)\n",
    "\n",
    "rf.fit(train25, y_train_lem25)\n",
    "\n",
    "rf_train_preds_lem25 = rf.predict(train25)\n",
    "rf_test_preds_lem25 = rf.predict(test25)\n",
    "\n",
    "print(classification_report(y_train_lem25, rf_train_preds_lem25))\n",
    "print(classification_report(y_test_lem25, rf_test_preds_lem25))"
   ]
  },
  {
   "cell_type": "markdown",
   "metadata": {},
   "source": [
    "### 10,000 Row Sample"
   ]
  },
  {
   "cell_type": "code",
   "execution_count": 68,
   "metadata": {},
   "outputs": [
    {
     "name": "stdout",
     "output_type": "stream",
     "text": [
      "              precision    recall  f1-score   support\n",
      "\n",
      "           0       1.00      1.00      1.00      4383\n",
      "           1       1.00      1.00      1.00      3617\n",
      "\n",
      "    accuracy                           1.00      8000\n",
      "   macro avg       1.00      1.00      1.00      8000\n",
      "weighted avg       1.00      1.00      1.00      8000\n",
      "\n",
      "              precision    recall  f1-score   support\n",
      "\n",
      "           0       0.78      0.86      0.82      1119\n",
      "           1       0.79      0.69      0.74       881\n",
      "\n",
      "    accuracy                           0.78      2000\n",
      "   macro avg       0.79      0.77      0.78      2000\n",
      "weighted avg       0.78      0.78      0.78      2000\n",
      "\n"
     ]
    }
   ],
   "source": [
    "rf = RandomForestClassifier(random_state=123)\n",
    "\n",
    "rf.fit(train10, y_train_lem10)\n",
    "\n",
    "rf_train_preds_lem10 = rf.predict(train10)\n",
    "rf_test_preds_lem10 = rf.predict(test10)\n",
    "\n",
    "print(classification_report(y_train_lem10, rf_train_preds_lem10))\n",
    "print(classification_report(y_test_lem10, rf_test_preds_lem10))"
   ]
  },
  {
   "cell_type": "markdown",
   "metadata": {},
   "source": [
    "### 5,000 Row Sample"
   ]
  },
  {
   "cell_type": "code",
   "execution_count": 69,
   "metadata": {},
   "outputs": [
    {
     "name": "stdout",
     "output_type": "stream",
     "text": [
      "              precision    recall  f1-score   support\n",
      "\n",
      "           0       1.00      1.00      1.00      2122\n",
      "           1       1.00      1.00      1.00      1878\n",
      "\n",
      "    accuracy                           1.00      4000\n",
      "   macro avg       1.00      1.00      1.00      4000\n",
      "weighted avg       1.00      1.00      1.00      4000\n",
      "\n",
      "              precision    recall  f1-score   support\n",
      "\n",
      "           0       0.73      0.87      0.79       543\n",
      "           1       0.80      0.61      0.69       457\n",
      "\n",
      "    accuracy                           0.75      1000\n",
      "   macro avg       0.77      0.74      0.74      1000\n",
      "weighted avg       0.76      0.75      0.75      1000\n",
      "\n"
     ]
    }
   ],
   "source": [
    "rf = RandomForestClassifier(random_state=123)\n",
    "\n",
    "rf.fit(train5, y_train_lem5)\n",
    "\n",
    "rf_train_preds_lem5 = rf.predict(train5)\n",
    "rf_test_preds_lem5 = rf.predict(test5)\n",
    "\n",
    "print(classification_report(y_train_lem5, rf_train_preds_lem5))\n",
    "print(classification_report(y_test_lem5, rf_test_preds_lem5))"
   ]
  },
  {
   "cell_type": "markdown",
   "metadata": {},
   "source": [
    "## SVM"
   ]
  },
  {
   "cell_type": "markdown",
   "metadata": {},
   "source": [
    "### Half Sample"
   ]
  },
  {
   "cell_type": "code",
   "execution_count": 70,
   "metadata": {},
   "outputs": [
    {
     "name": "stdout",
     "output_type": "stream",
     "text": [
      "              precision    recall  f1-score   support\n",
      "\n",
      "           0       0.70      0.70      0.70     24475\n",
      "           1       0.64      0.64      0.64     20296\n",
      "\n",
      "    accuracy                           0.67     44771\n",
      "   macro avg       0.67      0.67      0.67     44771\n",
      "weighted avg       0.67      0.67      0.67     44771\n",
      "\n",
      "              precision    recall  f1-score   support\n",
      "\n",
      "           0       0.76      0.78      0.77      6048\n",
      "           1       0.74      0.71      0.72      5145\n",
      "\n",
      "    accuracy                           0.75     11193\n",
      "   macro avg       0.75      0.75      0.75     11193\n",
      "weighted avg       0.75      0.75      0.75     11193\n",
      "\n"
     ]
    }
   ],
   "source": [
    "svc = SVC(kernel='sigmoid', C=100)\n",
    "\n",
    "svc.fit(train_half, y_train_lem_half)\n",
    "svc_train_preds_lem_half = svc.predict(train_half)\n",
    "svc_test_preds_lem_half = svc.predict(test_half)\n",
    "\n",
    "print(classification_report(y_train_lem_half, svc_train_preds_lem_half))\n",
    "print(classification_report(y_test_lem_half, svc_test_preds_lem_half))"
   ]
  },
  {
   "cell_type": "markdown",
   "metadata": {},
   "source": [
    "### Quarter Sample"
   ]
  },
  {
   "cell_type": "code",
   "execution_count": 71,
   "metadata": {},
   "outputs": [
    {
     "name": "stdout",
     "output_type": "stream",
     "text": [
      "              precision    recall  f1-score   support\n",
      "\n",
      "           0       0.74      0.74      0.74     12300\n",
      "           1       0.68      0.68      0.68     10085\n",
      "\n",
      "    accuracy                           0.71     22385\n",
      "   macro avg       0.71      0.71      0.71     22385\n",
      "weighted avg       0.71      0.71      0.71     22385\n",
      "\n",
      "              precision    recall  f1-score   support\n",
      "\n",
      "           0       0.76      0.78      0.77      3067\n",
      "           1       0.73      0.71      0.72      2530\n",
      "\n",
      "    accuracy                           0.75      5597\n",
      "   macro avg       0.75      0.74      0.75      5597\n",
      "weighted avg       0.75      0.75      0.75      5597\n",
      "\n"
     ]
    }
   ],
   "source": [
    "svc = SVC(kernel='sigmoid', C=100)\n",
    "\n",
    "svc.fit(train25, y_train_lem25)\n",
    "svc_train_preds_lem25 = svc.predict(train25)\n",
    "svc_test_preds_lem25 = svc.predict(test25)\n",
    "\n",
    "print(classification_report(y_train_lem25, svc_train_preds_lem25))\n",
    "print(classification_report(y_test_lem25, svc_test_preds_lem25))"
   ]
  },
  {
   "cell_type": "markdown",
   "metadata": {},
   "source": [
    "### 10,000 Row Sample"
   ]
  },
  {
   "cell_type": "code",
   "execution_count": 72,
   "metadata": {},
   "outputs": [
    {
     "name": "stdout",
     "output_type": "stream",
     "text": [
      "              precision    recall  f1-score   support\n",
      "\n",
      "           0       0.84      0.84      0.84      4383\n",
      "           1       0.80      0.81      0.80      3617\n",
      "\n",
      "    accuracy                           0.82      8000\n",
      "   macro avg       0.82      0.82      0.82      8000\n",
      "weighted avg       0.82      0.82      0.82      8000\n",
      "\n",
      "              precision    recall  f1-score   support\n",
      "\n",
      "           0       0.77      0.74      0.75      1119\n",
      "           1       0.68      0.72      0.70       881\n",
      "\n",
      "    accuracy                           0.73      2000\n",
      "   macro avg       0.73      0.73      0.73      2000\n",
      "weighted avg       0.73      0.73      0.73      2000\n",
      "\n"
     ]
    }
   ],
   "source": [
    "svc = SVC(kernel='sigmoid', C=100)\n",
    "\n",
    "svc.fit(train10, y_train_lem10)\n",
    "svc_train_preds_lem10 = svc.predict(train10)\n",
    "svc_test_preds_lem10 = svc.predict(test10)\n",
    "\n",
    "print(classification_report(y_train_lem10, svc_train_preds_lem10))\n",
    "print(classification_report(y_test_lem10, svc_test_preds_lem10))"
   ]
  },
  {
   "cell_type": "markdown",
   "metadata": {},
   "source": [
    "### 5,000 Row Sample"
   ]
  },
  {
   "cell_type": "code",
   "execution_count": 73,
   "metadata": {},
   "outputs": [
    {
     "name": "stdout",
     "output_type": "stream",
     "text": [
      "              precision    recall  f1-score   support\n",
      "\n",
      "           0       0.94      0.94      0.94      2122\n",
      "           1       0.93      0.93      0.93      1878\n",
      "\n",
      "    accuracy                           0.94      4000\n",
      "   macro avg       0.93      0.93      0.93      4000\n",
      "weighted avg       0.93      0.94      0.93      4000\n",
      "\n",
      "              precision    recall  f1-score   support\n",
      "\n",
      "           0       0.72      0.72      0.72       543\n",
      "           1       0.67      0.67      0.67       457\n",
      "\n",
      "    accuracy                           0.70      1000\n",
      "   macro avg       0.69      0.69      0.69      1000\n",
      "weighted avg       0.70      0.70      0.70      1000\n",
      "\n"
     ]
    }
   ],
   "source": [
    "svc = SVC(kernel='sigmoid', C=100)\n",
    "\n",
    "svc.fit(train5, y_train_lem5)\n",
    "svc_train_preds_lem5 = svc.predict(train5)\n",
    "svc_test_preds_lem5 = svc.predict(test5)\n",
    "\n",
    "print(classification_report(y_train_lem5, svc_train_preds_lem5))\n",
    "print(classification_report(y_test_lem5, svc_test_preds_lem5))"
   ]
  },
  {
   "cell_type": "markdown",
   "metadata": {},
   "source": [
    "# GridSearch - RFC and GNB 10,000 Rows"
   ]
  },
  {
   "cell_type": "markdown",
   "metadata": {},
   "source": [
    "### Sample of 10000 Rows of the All Headlines Dataset"
   ]
  },
  {
   "cell_type": "code",
   "execution_count": null,
   "metadata": {},
   "outputs": [],
   "source": [
    "df_sample10 = df.sample(n=10000, random_state=123)\n",
    "\n",
    "df_sample10.reset_index(inplace=True, drop=True)\n",
    "\n",
    "df_sample10.real_or_fake.value_counts()"
   ]
  },
  {
   "cell_type": "markdown",
   "metadata": {},
   "source": [
    "## Data Instantiation and Lemmatization"
   ]
  },
  {
   "cell_type": "code",
   "execution_count": null,
   "metadata": {},
   "outputs": [],
   "source": [
    "data10 = df_sample10['headline']\n",
    "target10 = df_sample10['real_or_fake']\n",
    "\n",
    "processed_data10 = [d.split() for d in data10.to_list()]\n",
    "\n",
    "lemmatizer = WordNetLemmatizer()\n",
    "lemmatized_output = []\n",
    "\n",
    "for listy in processed_data10:\n",
    "    lemmed = ' '.join([lemmatizer.lemmatize(w) for w in listy])\n",
    "    lemmatized_output.append(lemmed)"
   ]
  },
  {
   "cell_type": "markdown",
   "metadata": {},
   "source": [
    "### Lemmatized Data"
   ]
  },
  {
   "cell_type": "code",
   "execution_count": null,
   "metadata": {},
   "outputs": [],
   "source": [
    "X_lem10 = lemmatized_output\n",
    "y_lem10 = target10"
   ]
  },
  {
   "cell_type": "markdown",
   "metadata": {},
   "source": [
    "## TFIDF Vectorization - 10000 Row Sample\n",
    "### Keeping all rows but Maximum Features after vectorization: 5000"
   ]
  },
  {
   "cell_type": "code",
   "execution_count": null,
   "metadata": {},
   "outputs": [],
   "source": [
    "X_train_lem10, X_test_lem10, y_train_lem10, y_test_lem10 = train_test_split(X_lem10, y_lem10, test_size=0.20, random_state=1)\n",
    "\n",
    "tfidf10 = TfidfVectorizer(stop_words=sw_list, max_features=5000)\n",
    "tfidf_data_train_lem10 = tfidf10.fit_transform(X_train_lem10)\n",
    "tfidf_data_test_lem10  = tfidf10.transform(X_test_lem10)"
   ]
  },
  {
   "cell_type": "markdown",
   "metadata": {},
   "source": [
    "#### Average Number Of Elements And Matrix Sparsity"
   ]
  },
  {
   "cell_type": "code",
   "execution_count": null,
   "metadata": {},
   "outputs": [],
   "source": [
    "non_zero_cols10 = tfidf_data_train_lem10.nnz / float(tfidf_data_train_lem10.shape[0])\n",
    "print(\"Average Number of Non-Zero Elements in Vectorized Text: {}\".format(non_zero_cols10))\n",
    "\n",
    "percent_sparse10 = 1 - (non_zero_cols10 / float(tfidf_data_train_lem10.shape[1]))\n",
    "print('Percentage of columns containing ZERO: {}'.format(percent_sparse10))"
   ]
  },
  {
   "cell_type": "markdown",
   "metadata": {},
   "source": [
    "### Dense Data - 10000 Rows Sample"
   ]
  },
  {
   "cell_type": "code",
   "execution_count": null,
   "metadata": {},
   "outputs": [],
   "source": [
    "train10 = tfidf_data_train_lem10.toarray()\n",
    "test10  = tfidf_data_test_lem10.toarray()"
   ]
  },
  {
   "cell_type": "markdown",
   "metadata": {},
   "source": [
    "## Gaussian Naive Bayes GridSearch"
   ]
  },
  {
   "cell_type": "code",
   "execution_count": null,
   "metadata": {},
   "outputs": [],
   "source": [
    "gnb_params = {'var_smoothing': np.logspace(0,-9,num=100)}\n",
    "\n",
    "gnb_grid = GridSearchCV(estimator=GaussianNB(), param_grid=gnb_params, verbose=1, cv=5, n_jobs=-1)\n",
    "\n",
    "gnb_grid.fit(train10, y_train_lem10)\n",
    "\n",
    "gnb_grid_train_preds = gnb_grid.predict(train10)\n",
    "gnb_grid_test_preds = gnb_grid.predict(test10)\n",
    "\n",
    "print(classification_report(y_train_lem10, gnb_grid_train_preds))\n",
    "print(classification_report(y_test_lem10, gnb_grid_test_preds))"
   ]
  },
  {
   "cell_type": "code",
   "execution_count": null,
   "metadata": {},
   "outputs": [],
   "source": [
    "print('\\033[1m' + 'Gaussian Naive Bayes Train Data Confusion Matrix:\\n')\n",
    "plot_confusion_matrix(gnb_grid, train10, y_train_lem10, cmap=plt.cm.Blues)\n",
    "plt.show()\n",
    "print('\\033[1m' + 'Gaussian Naive Bayes Test Data Confusion Matrix:\\n')\n",
    "plot_confusion_matrix(gnb_grid, test10, y_test_lem10, cmap=plt.cm.Blues)\n",
    "plt.show()"
   ]
  },
  {
   "cell_type": "markdown",
   "metadata": {},
   "source": [
    "## Random Forest GridSearch "
   ]
  },
  {
   "cell_type": "code",
   "execution_count": null,
   "metadata": {},
   "outputs": [],
   "source": [
    "rf_params = {'n_estimators': [100,200], 'criterion':['gini', 'entropy'],\n",
    "           'oob_score':['True', 'False'], 'max_depth':[10,15,20]}\n",
    "\n",
    "rf_grid = GridSearchCV(RandomForestClassifier(), rf_params, scoring='f1_weighted',\n",
    "                      return_train_score=True, verbose=1, n_jobs=-1)\n",
    "\n",
    "rf_grid.fit(train10, y_train_lem10)\n",
    "\n",
    "rf_grid_train_preds = rf_grid.predict(train10)\n",
    "rf_grid_test_preds = rf_grid.predict(test10)\n",
    "\n",
    "print('\\033[1m' + 'Random Forest Classifier Train Report:\\n' + '\\033[0m')\n",
    "print(classification_report(y_train_lem10, rf_grid_train_preds))\n",
    "print('\\033[1m' + 'Random Forest Classifier Test Report:\\n' + '\\033[0m')\n",
    "print(classification_report(y_test_lem10, rf_grid_test_preds))"
   ]
  },
  {
   "cell_type": "code",
   "execution_count": null,
   "metadata": {},
   "outputs": [],
   "source": [
    "print('\\033[1m' + 'Random Forest Classifier Train Data Confusion Matrix:\\n')\n",
    "plot_confusion_matrix(rf_grid, tfidf_data_train_lem10, y_train_lem10, cmap=plt.cm.Blues)\n",
    "plt.show()\n",
    "print('\\033[1m' + 'Random Forest Classifier Test Data Confusion Matrix:\\n')\n",
    "plot_confusion_matrix(rf_grid, tfidf_data_test_lem10, y_test_lem10, cmap=plt.cm.Blues)\n",
    "plt.show()"
   ]
  }
 ],
 "metadata": {
  "kernelspec": {
   "display_name": "Python 3",
   "language": "python",
   "name": "python3"
  },
  "language_info": {
   "codemirror_mode": {
    "name": "ipython",
    "version": 3
   },
   "file_extension": ".py",
   "mimetype": "text/x-python",
   "name": "python",
   "nbconvert_exporter": "python",
   "pygments_lexer": "ipython3",
   "version": "3.8.3"
  }
 },
 "nbformat": 4,
 "nbformat_minor": 4
}
