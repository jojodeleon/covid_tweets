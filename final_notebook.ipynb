{
 "cells": [
  {
   "cell_type": "markdown",
   "metadata": {},
   "source": [
    "# News Headlines Sentiment Analysis to Evaluate Tweets"
   ]
  },
  {
   "cell_type": "markdown",
   "metadata": {},
   "source": [
    "Note: Real News = 0, Fake News = 1, based on coding convention that True = 0, False = 1"
   ]
  },
  {
   "cell_type": "code",
   "execution_count": 1,
   "metadata": {},
   "outputs": [],
   "source": [
    "import nltk\n",
    "import string\n",
    "\n",
    "import pandas            as pd\n",
    "import numpy             as np\n",
    "import seaborn           as sns\n",
    "import matplotlib.pyplot as plt\n",
    "\n",
    "from matplotlib import cm\n",
    "from wordcloud  import WordCloud\n",
    "\n",
    "from nltk.probability import FreqDist\n",
    "from nltk.corpus      import stopwords\n",
    "from nltk.tokenize    import sent_tokenize, word_tokenize\n",
    "from nltk.stem        import PorterStemmer, WordNetLemmatizer\n",
    "\n",
    "from imblearn.combine        import SMOTETomek\n",
    "from imblearn.under_sampling import TomekLinks\n",
    "\n",
    "from sklearn          import metrics\n",
    "from sklearn.metrics  import confusion_matrix, plot_confusion_matrix, classification_report, make_scorer, accuracy_score\n",
    "from sklearn.datasets import make_classification\n",
    "\n",
    "from sklearn.preprocessing           import StandardScaler\n",
    "from sklearn.feature_extraction.text import CountVectorizer, TfidfVectorizer, TfidfTransformer\n",
    "from sklearn.model_selection         import train_test_split, GridSearchCV\n",
    "from sklearn.model_selection         import cross_validate, RepeatedStratifiedKFold\n",
    "\n",
    "from sklearn.naive_bayes   import MultinomialNB, GaussianNB\n",
    "from sklearn.ensemble      import RandomForestClassifier, BaggingClassifier\n",
    "from sklearn.decomposition import PCA\n",
    "from sklearn.svm           import SVC\n",
    "\n",
    "np.random.seed(0)"
   ]
  },
  {
   "cell_type": "markdown",
   "metadata": {},
   "source": [
    "## Combining All Datasets"
   ]
  },
  {
   "cell_type": "code",
   "execution_count": 120,
   "metadata": {},
   "outputs": [],
   "source": [
    "esocinfo = pd.read_csv('Data/Headlines/ESOCheadlines_eng.csv')\n",
    "zenodoinfo = pd.read_csv('Data/Headlines/Zenodoheadlines.csv')\n",
    "fakeinfo = pd.read_csv('Data/Headlines/fakeheadlines.csv')\n",
    "trueinfo = pd.read_csv('Data/Headlines/trueheadlines.csv')\n",
    "sarcasminfo = pd.read_csv('Data/Headlines/sarc_headlines.csv')"
   ]
  },
  {
   "cell_type": "code",
   "execution_count": 121,
   "metadata": {},
   "outputs": [],
   "source": [
    "df = pd.concat([esocinfo, zenodoinfo, fakeinfo, trueinfo, sarcasminfo], ignore_index=True)\n",
    "#shape: (111928, 2)"
   ]
  },
  {
   "cell_type": "markdown",
   "metadata": {},
   "source": [
    "### Frequency of Target Variable\n",
    "RECALL: True = 0, Fake/Misinformation = 1 <br>\n",
    "The headlines dataset contains 55% True Headlines and 45% Fake/Misinformation Headlines"
   ]
  },
  {
   "cell_type": "code",
   "execution_count": 4,
   "metadata": {},
   "outputs": [
    {
     "data": {
      "text/plain": [
       "0    61114\n",
       "1    50814\n",
       "Name: real_or_fake, dtype: int64"
      ]
     },
     "execution_count": 4,
     "metadata": {},
     "output_type": "execute_result"
    }
   ],
   "source": [
    "df.real_or_fake.value_counts()"
   ]
  },
  {
   "cell_type": "markdown",
   "metadata": {},
   "source": [
    "## Data Instantiation and Lemmatization"
   ]
  },
  {
   "cell_type": "code",
   "execution_count": 125,
   "metadata": {},
   "outputs": [],
   "source": [
    "data = df['headline']\n",
    "target = df['real_or_fake']\n",
    "\n",
    "processed_data = [d.split() for d in data.to_list()]\n",
    "\n",
    "lemmatizer = WordNetLemmatizer()\n",
    "lemmatized_output = []\n",
    "\n",
    "for listy in processed_data:\n",
    "    lemmed = ' '.join([lemmatizer.lemmatize(w) for w in listy])\n",
    "    lemmatized_output.append(lemmed)"
   ]
  },
  {
   "cell_type": "markdown",
   "metadata": {},
   "source": [
    "### Lemmatized Data"
   ]
  },
  {
   "cell_type": "code",
   "execution_count": 126,
   "metadata": {},
   "outputs": [],
   "source": [
    "X_lem = lemmatized_output\n",
    "y_lem = target"
   ]
  },
  {
   "cell_type": "markdown",
   "metadata": {},
   "source": [
    "## Stop Words List"
   ]
  },
  {
   "cell_type": "code",
   "execution_count": 127,
   "metadata": {},
   "outputs": [],
   "source": [
    "sw_list  = stopwords.words('english')\n",
    "sw_list += list(string.punctuation)\n",
    "sw_list += [\"''\", '\"\"', '...', '``', '’', '“', '’', '”', '‘', '‘', '©', '27', '1', \"'ve\",\n",
    "            '-', '–', '—', \"n't\", 'https', '2', \"'re\", \"'m'\", '3', '..', 'ca', \"'s\", 'amp']"
   ]
  },
  {
   "cell_type": "markdown",
   "metadata": {},
   "source": [
    "## TFIDF Vectorization\n",
    "#### Keeping all rows but Maximum Features after vectorization: 5000"
   ]
  },
  {
   "cell_type": "code",
   "execution_count": 128,
   "metadata": {},
   "outputs": [],
   "source": [
    "X_train_lem, X_test_lem, y_train_lem, y_test_lem = train_test_split(X_lem, y_lem, test_size=0.20, random_state=1)\n",
    "\n",
    "tfidf = TfidfVectorizer(stop_words=sw_list, max_features=5000)\n",
    "tfidf_data_train_lem = tfidf.fit_transform(X_train_lem)\n",
    "tfidf_data_test_lem  = tfidf.transform(X_test_lem)\n",
    "#shape train: (89542, 5000)\n",
    "#shape test: (22386, 5000)"
   ]
  },
  {
   "cell_type": "markdown",
   "metadata": {},
   "source": [
    "#### Average Number Of Elements And Matrix Sparsity"
   ]
  },
  {
   "cell_type": "code",
   "execution_count": 9,
   "metadata": {},
   "outputs": [
    {
     "name": "stdout",
     "output_type": "stream",
     "text": [
      "Average Number of Non-Zero Elements in Vectorized Text: 6.913180406959863\n",
      "Percentage of columns containing ZERO: 0.998617363918608\n"
     ]
    }
   ],
   "source": [
    "non_zero_cols = tfidf_data_train_lem.nnz / float(tfidf_data_train_lem.shape[0])\n",
    "print(\"Average Number of Non-Zero Elements in Vectorized Text: {}\".format(non_zero_cols))\n",
    "\n",
    "percent_sparse = 1 - (non_zero_cols / float(tfidf_data_train_lem.shape[1]))\n",
    "print('Percentage of columns containing ZERO: {}'.format(percent_sparse))"
   ]
  },
  {
   "cell_type": "markdown",
   "metadata": {},
   "source": [
    "### Dense Data"
   ]
  },
  {
   "cell_type": "code",
   "execution_count": 8,
   "metadata": {},
   "outputs": [],
   "source": [
    "train = tfidf_data_train_lem.toarray()\n",
    "test  = tfidf_data_test_lem.toarray()"
   ]
  },
  {
   "cell_type": "markdown",
   "metadata": {},
   "source": [
    "### Data Seperability\n",
    "#### PCA Transformation"
   ]
  },
  {
   "cell_type": "code",
   "execution_count": 13,
   "metadata": {},
   "outputs": [],
   "source": [
    "pca = PCA(n_components=2)\n",
    "X_pca = pca.fit_transform(train)\n",
    "X_pca = pd.DataFrame(X_pca, columns=['PC1', 'PC2'])\n",
    "X_pca['Target'] = y_lem"
   ]
  },
  {
   "cell_type": "code",
   "execution_count": 14,
   "metadata": {},
   "outputs": [
    {
     "data": {
      "image/png": "[encoded data removed]",
      "text/plain": [
       "<Figure size 432x288 with 1 Axes>"
      ]
     },
     "metadata": {
      "needs_background": "light"
     },
     "output_type": "display_data"
    }
   ],
   "source": [
    "sns.scatterplot(x=X_pca['PC1'], y=X_pca['PC2'],\n",
    "                hue=X_pca['Target']).set_title('Data Separability');"
   ]
  },
  {
   "cell_type": "markdown",
   "metadata": {},
   "source": [
    "## SMOTETomek Data\n",
    "SMOTETomek data created from 89542 rows (scaled down from full headlines dataset via tfidf vectorization with maximum features set to 5000) OR about 80% of the total dataset"
   ]
  },
  {
   "cell_type": "code",
   "execution_count": 129,
   "metadata": {},
   "outputs": [],
   "source": [
    "resample = SMOTETomek(tomek=TomekLinks(sampling_strategy='majority'))\n",
    "X_res, y_res = resample.fit_resample(tfidf_data_train_lem, y_train_lem)"
   ]
  },
  {
   "cell_type": "code",
   "execution_count": 9,
   "metadata": {},
   "outputs": [],
   "source": [
    "X_res_train, X_res_test, y_res_train, y_res_test = train_test_split(X_res, y_res, test_size=0.20, random_state=1)\n",
    "#shape X_res_train: (78076, 5000)\n",
    "#shape X_res_test: (19520, 5000)"
   ]
  },
  {
   "cell_type": "markdown",
   "metadata": {},
   "source": [
    "Resulting SMOTETomek dataset has shape (97596, 5000) OR about 87% of the size of the total dataset "
   ]
  },
  {
   "cell_type": "markdown",
   "metadata": {},
   "source": [
    "### SMOTETomek Dense Data"
   ]
  },
  {
   "cell_type": "code",
   "execution_count": 11,
   "metadata": {},
   "outputs": [],
   "source": [
    "train_res = X_res_train.toarray()\n",
    "test_res = X_res_test.toarray()"
   ]
  },
  {
   "cell_type": "markdown",
   "metadata": {},
   "source": [
    "#### All SMOTETomek Data for DataFrame\n",
    "Will use for subsets of SMOTETomek Data for use in GridSearch"
   ]
  },
  {
   "cell_type": "code",
   "execution_count": 130,
   "metadata": {},
   "outputs": [],
   "source": [
    "X_resamp_dense = X_res.toarray()"
   ]
  },
  {
   "cell_type": "code",
   "execution_count": 131,
   "metadata": {},
   "outputs": [],
   "source": [
    "resample_df = pd.DataFrame(data=X_resamp_dense)\n",
    "resample_df['y_res'] = y_res"
   ]
  },
  {
   "cell_type": "markdown",
   "metadata": {},
   "source": [
    "#### DataFrames of Subsets of SMOTETomek Data"
   ]
  },
  {
   "cell_type": "markdown",
   "metadata": {},
   "source": [
    "HALF SAMPLE of SMOTETomek data - about 44% of the total dataset"
   ]
  },
  {
   "cell_type": "code",
   "execution_count": 132,
   "metadata": {},
   "outputs": [],
   "source": [
    "df_resample_half = resample_df.sample(frac=0.5, random_state=1)\n",
    "df_resample_half.reset_index(inplace=True, drop=True)"
   ]
  },
  {
   "cell_type": "code",
   "execution_count": 133,
   "metadata": {},
   "outputs": [],
   "source": [
    "X_res_half_df = df_resample_half.drop(['y_res'], axis=1)\n",
    "y_res_half_df = df_resample_half['y_res']\n",
    "#shape: (48798, 5000)"
   ]
  },
  {
   "cell_type": "code",
   "execution_count": 134,
   "metadata": {},
   "outputs": [],
   "source": [
    "X_res_half_train, X_res_half_test, y_res_half_train, y_res_half_test = train_test_split(X_res_half_df, y_res_half_df, test_size=0.20, random_state=1)"
   ]
  },
  {
   "cell_type": "markdown",
   "metadata": {},
   "source": [
    "15% SAMPLE of SMOTETomek data - about 13% of the total datset"
   ]
  },
  {
   "cell_type": "code",
   "execution_count": 12,
   "metadata": {},
   "outputs": [],
   "source": [
    "df_resample_15 = resample_df.sample(frac=0.15, random_state=1)\n",
    "df_resample_15.reset_index(inplace=True, drop=True)"
   ]
  },
  {
   "cell_type": "code",
   "execution_count": 13,
   "metadata": {},
   "outputs": [],
   "source": [
    "X_res_15_df = df_resample_15.drop(['y_res'], axis=1)\n",
    "y_res_15_df = df_resample_15['y_res']\n",
    "#shape: (14639, 5000)"
   ]
  },
  {
   "cell_type": "code",
   "execution_count": 14,
   "metadata": {},
   "outputs": [],
   "source": [
    "X_res_15_train, X_res_15_test, y_res_15_train, y_res_15_test = train_test_split(X_res_15_df, y_res_15_df, test_size=0.20, random_state=1)"
   ]
  },
  {
   "cell_type": "markdown",
   "metadata": {},
   "source": [
    "# Base Models"
   ]
  },
  {
   "cell_type": "markdown",
   "metadata": {},
   "source": [
    "## Gausian Naive Bayes - all data"
   ]
  },
  {
   "cell_type": "code",
   "execution_count": 9,
   "metadata": {
    "scrolled": true
   },
   "outputs": [
    {
     "name": "stdout",
     "output_type": "stream",
     "text": [
      "              precision    recall  f1-score   support\n",
      "\n",
      "           0       0.79      0.85      0.82     48932\n",
      "           1       0.80      0.72      0.76     40610\n",
      "\n",
      "    accuracy                           0.79     89542\n",
      "   macro avg       0.79      0.79      0.79     89542\n",
      "weighted avg       0.79      0.79      0.79     89542\n",
      "\n",
      "              precision    recall  f1-score   support\n",
      "\n",
      "           0       0.77      0.84      0.80     12182\n",
      "           1       0.78      0.70      0.74     10204\n",
      "\n",
      "    accuracy                           0.77     22386\n",
      "   macro avg       0.78      0.77      0.77     22386\n",
      "weighted avg       0.77      0.77      0.77     22386\n",
      "\n"
     ]
    }
   ],
   "source": [
    "gnb = GaussianNB()\n",
    "\n",
    "gnb.fit(train, y_train_lem)\n",
    "\n",
    "gnb_train_preds_lem = gnb.predict(train)\n",
    "gnb_test_preds_lem  = gnb.predict(test)\n",
    "\n",
    "print(classification_report(y_train_lem, gnb_train_preds_lem))\n",
    "print(classification_report(y_test_lem, gnb_test_preds_lem))"
   ]
  },
  {
   "cell_type": "markdown",
   "metadata": {},
   "source": [
    "## Gausian Naive Bayes - SMOTETomek data\n",
    "SMOTETomek data created from 89542 rows OR about 80% of the total dataset"
   ]
  },
  {
   "cell_type": "code",
   "execution_count": 47,
   "metadata": {},
   "outputs": [
    {
     "name": "stdout",
     "output_type": "stream",
     "text": [
      "              precision    recall  f1-score   support\n",
      "\n",
      "           0       0.73      0.85      0.79     38865\n",
      "           1       0.82      0.68      0.75     39211\n",
      "\n",
      "    accuracy                           0.77     78076\n",
      "   macro avg       0.78      0.77      0.77     78076\n",
      "weighted avg       0.78      0.77      0.77     78076\n",
      "\n",
      "              precision    recall  f1-score   support\n",
      "\n",
      "           0       0.74      0.85      0.79      9799\n",
      "           1       0.83      0.69      0.75      9721\n",
      "\n",
      "    accuracy                           0.77     19520\n",
      "   macro avg       0.78      0.77      0.77     19520\n",
      "weighted avg       0.78      0.77      0.77     19520\n",
      "\n"
     ]
    }
   ],
   "source": [
    "gnb_smote = GaussianNB()\n",
    "\n",
    "gnb_smote.fit(train, y_train_lem)\n",
    "\n",
    "gnb_smote_train_preds = gnb.predict(train_res)\n",
    "gnb_smote_test_preds  = gnb.predict(test_res)\n",
    "\n",
    "print(classification_report(y_res_train, gnb_smote_train_preds))\n",
    "print(classification_report(y_res_test, gnb_smote_test_preds))"
   ]
  },
  {
   "cell_type": "markdown",
   "metadata": {},
   "source": [
    "## Random Forest Classifier - all data"
   ]
  },
  {
   "cell_type": "code",
   "execution_count": 13,
   "metadata": {},
   "outputs": [
    {
     "name": "stdout",
     "output_type": "stream",
     "text": [
      "              precision    recall  f1-score   support\n",
      "\n",
      "           0       1.00      1.00      1.00     48932\n",
      "           1       1.00      1.00      1.00     40610\n",
      "\n",
      "    accuracy                           1.00     89542\n",
      "   macro avg       1.00      1.00      1.00     89542\n",
      "weighted avg       1.00      1.00      1.00     89542\n",
      "\n",
      "              precision    recall  f1-score   support\n",
      "\n",
      "           0       0.91      0.95      0.93     12182\n",
      "           1       0.93      0.88      0.91     10204\n",
      "\n",
      "    accuracy                           0.92     22386\n",
      "   macro avg       0.92      0.92      0.92     22386\n",
      "weighted avg       0.92      0.92      0.92     22386\n",
      "\n"
     ]
    }
   ],
   "source": [
    "rf = RandomForestClassifier(random_state=123)\n",
    "\n",
    "rf.fit(train, y_train_lem)\n",
    "\n",
    "rf_train_preds_lem = rf.predict(train)\n",
    "rf_test_preds_lem = rf.predict(test)\n",
    "\n",
    "print(classification_report(y_train_lem, rf_train_preds_lem))\n",
    "print(classification_report(y_test_lem, rf_test_preds_lem))"
   ]
  },
  {
   "cell_type": "code",
   "execution_count": 23,
   "metadata": {},
   "outputs": [],
   "source": [
    "#For use in visualizations\n",
    "base_rf_feat_imp = rf.feature_importances_"
   ]
  },
  {
   "cell_type": "markdown",
   "metadata": {},
   "source": [
    "## Random Forest Classifier - SMOTETomek data \n",
    "SMOTETomek data created from 89542 rows OR about 80% of the total dataset"
   ]
  },
  {
   "cell_type": "code",
   "execution_count": 29,
   "metadata": {},
   "outputs": [
    {
     "name": "stdout",
     "output_type": "stream",
     "text": [
      "              precision    recall  f1-score   support\n",
      "\n",
      "           0       0.95      1.00      0.97     38865\n",
      "           1       1.00      0.95      0.97     39211\n",
      "\n",
      "    accuracy                           0.97     78076\n",
      "   macro avg       0.97      0.97      0.97     78076\n",
      "weighted avg       0.97      0.97      0.97     78076\n",
      "\n",
      "              precision    recall  f1-score   support\n",
      "\n",
      "           0       0.95      1.00      0.97      9799\n",
      "           1       1.00      0.95      0.97      9721\n",
      "\n",
      "    accuracy                           0.97     19520\n",
      "   macro avg       0.97      0.97      0.97     19520\n",
      "weighted avg       0.97      0.97      0.97     19520\n",
      "\n"
     ]
    }
   ],
   "source": [
    "rf_smote = RandomForestClassifier(random_state=123)\n",
    "\n",
    "rf_smote.fit(train_res, y_res_train)\n",
    "\n",
    "rf_smote_train_preds = rf.predict(train_res)\n",
    "rf_smote_test_preds = rf.predict(test_res)\n",
    "\n",
    "print(classification_report(y_res_train, rf_smote_train_preds))\n",
    "print(classification_report(y_res_test, rf_smote_test_preds))"
   ]
  },
  {
   "cell_type": "code",
   "execution_count": 31,
   "metadata": {},
   "outputs": [],
   "source": [
    "#For use in visualizations\n",
    "base_rfsmote_feat_imp = rf_smote.feature_importances_"
   ]
  },
  {
   "cell_type": "markdown",
   "metadata": {},
   "source": [
    "## Support Vector Machine - all data\n",
    "This model was originally run in another notebook, entitled models_all_data.ipynb. An image of the code and resulting classification report is seen below as this model has a very high computational cost, taking two days to run. Upon examination of the classification report, I chose to forgo another SVC model on the SMOTETomek data as this base model performed more poorly than the other base models."
   ]
  },
  {
   "attachments": {
    "svc_image.jpg": {
     "image/jpeg": "[encoded data removed]"
    }
   },
   "cell_type": "markdown",
   "metadata": {},
   "source": [
    "![svc_image.jpg](attachment:svc_image.jpg)"
   ]
  },
  {
   "cell_type": "markdown",
   "metadata": {},
   "source": [
    "# GridSearch \n",
    "Due to the size of the dataset, in order to run an exhaustive GridSearch for Gaussian Naive Bayes and Random Forest Classifier models, subsets of the SMOTETomek data were used."
   ]
  },
  {
   "cell_type": "markdown",
   "metadata": {},
   "source": [
    "## Gaussian Naive Bayes GridSearch - SMOTETomek data \n",
    "NOTE: SMOTETomek data useed 89542 rows OR about 80% the size of the total dataset. The GaussianNB GridSearch used half of the SMOTETomek data meaning 48798 rows were utilized i.e. about 44% of the size of total dataset."
   ]
  },
  {
   "cell_type": "code",
   "execution_count": 135,
   "metadata": {
    "scrolled": false
   },
   "outputs": [
    {
     "name": "stdout",
     "output_type": "stream",
     "text": [
      "Fitting 5 folds for each of 100 candidates, totalling 500 fits\n",
      "\u001b[1mGaussian Naive Bayes Train Report:\n",
      "\u001b[0m\n",
      "              precision    recall  f1-score   support\n",
      "\n",
      "           0       0.86      0.79      0.82     19579\n",
      "           1       0.81      0.87      0.83     19461\n",
      "\n",
      "    accuracy                           0.83     39040\n",
      "   macro avg       0.83      0.83      0.83     39040\n",
      "weighted avg       0.83      0.83      0.83     39040\n",
      "\n",
      "\u001b[1mGaussian Naive Bayes Test Report:\n",
      "\u001b[0m\n",
      "              precision    recall  f1-score   support\n",
      "\n",
      "           0       0.83      0.76      0.79      4814\n",
      "           1       0.78      0.85      0.82      4946\n",
      "\n",
      "    accuracy                           0.80      9760\n",
      "   macro avg       0.81      0.80      0.80      9760\n",
      "weighted avg       0.81      0.80      0.80      9760\n",
      "\n"
     ]
    }
   ],
   "source": [
    "gnb_params = {'var_smoothing': np.logspace(0,-9,num=100)}\n",
    "\n",
    "gnb_smote_grid = GridSearchCV(estimator=GaussianNB(), param_grid=gnb_params, verbose=1, cv=5, n_jobs=1)\n",
    "\n",
    "gnb_smote_grid.fit(X_res_half_train, y_res_half_train)\n",
    "\n",
    "gnb_smote_grid_train_preds = gnb_smote_grid.predict(X_res_half_train)\n",
    "gnb_smote_grid_test_preds = gnb_smote_grid.predict(X_res_half_test)\n",
    "\n",
    "print('\\033[1m' + 'Gaussian Naive Bayes Train Report:\\n' + '\\033[0m')\n",
    "print(classification_report(y_res_half_train, gnb_smote_grid_train_preds))\n",
    "print('\\033[1m' + 'Gaussian Naive Bayes Test Report:\\n' + '\\033[0m')\n",
    "print(classification_report(y_res_half_test, gnb_smote_grid_test_preds))"
   ]
  },
  {
   "cell_type": "code",
   "execution_count": 137,
   "metadata": {},
   "outputs": [
    {
     "data": {
      "text/plain": [
       "GaussianNB(var_smoothing=0.0533669923120631)"
      ]
     },
     "execution_count": 137,
     "metadata": {},
     "output_type": "execute_result"
    }
   ],
   "source": [
    "best_gnb_smote_grid = gnb_smote_grid.best_estimator_\n",
    "best_gnb_smote_grid"
   ]
  },
  {
   "cell_type": "code",
   "execution_count": 140,
   "metadata": {},
   "outputs": [
    {
     "data": {
      "text/plain": [
       "0.7918545081967213"
      ]
     },
     "execution_count": 140,
     "metadata": {},
     "output_type": "execute_result"
    }
   ],
   "source": [
    "gnb_score = gnb_smote_grid.best_score_\n",
    "gnb_score"
   ]
  },
  {
   "cell_type": "code",
   "execution_count": 143,
   "metadata": {},
   "outputs": [
    {
     "name": "stdout",
     "output_type": "stream",
     "text": [
      "Train Accuracy : 0.829\n",
      "Test Accuracy : 0.805\n",
      "Best Accuracy Through Grid Search : 0.792\n"
     ]
    }
   ],
   "source": [
    "print('Train Accuracy : %.3f'%gnb_smote_grid.best_estimator_.score(X_res_half_train, y_res_half_train))\n",
    "print('Test Accuracy : %.3f'%gnb_smote_grid.best_estimator_.score(X_res_half_test, y_res_half_test))\n",
    "print('Best Accuracy Through Grid Search : %.3f'%gnb_smote_grid.best_score_)"
   ]
  },
  {
   "cell_type": "code",
   "execution_count": 20,
   "metadata": {},
   "outputs": [
    {
     "name": "stdout",
     "output_type": "stream",
     "text": [
      "\u001b[1mGaussian Naive Bayes Train Data Confusion Matrix:\n",
      "\n"
     ]
    },
    {
     "data": {
      "image/png": "[encoded data removed]",
      "text/plain": [
       "<Figure size 432x288 with 2 Axes>"
      ]
     },
     "metadata": {
      "needs_background": "light"
     },
     "output_type": "display_data"
    },
    {
     "name": "stdout",
     "output_type": "stream",
     "text": [
      "\u001b[1mGaussian Naive Bayes Test Data Confusion Matrix:\n",
      "\n"
     ]
    },
    {
     "data": {
      "image/png": "[encoded data removed]",
      "text/plain": [
       "<Figure size 432x288 with 2 Axes>"
      ]
     },
     "metadata": {
      "needs_background": "light"
     },
     "output_type": "display_data"
    }
   ],
   "source": [
    "print('\\033[1m' + 'Gaussian Naive Bayes Train Data Confusion Matrix:\\n')\n",
    "plot_confusion_matrix(gnb_smote_grid, X_res_half_train, y_res_half_train, cmap=plt.cm.Blues)\n",
    "plt.show()\n",
    "print('\\033[1m' + 'Gaussian Naive Bayes Test Data Confusion Matrix:\\n')\n",
    "plot_confusion_matrix(gnb_smote_grid, X_res_half_test, y_res_half_test, cmap=plt.cm.Blues)\n",
    "plt.show()"
   ]
  },
  {
   "cell_type": "markdown",
   "metadata": {},
   "source": [
    "## Random Forest GridSearch - SMOTETomek data \n",
    "NOTE: SMOTETomek data created 89542 rows OR about 80% the size of the total dataset. Random Forest GridSearch used 15% of SMOTETomek data meaning 14639 rows were utilized i.e. about 13% of the size of total dataset."
   ]
  },
  {
   "cell_type": "code",
   "execution_count": 15,
   "metadata": {},
   "outputs": [
    {
     "name": "stdout",
     "output_type": "stream",
     "text": [
      "Fitting 5 folds for each of 12 candidates, totalling 60 fits\n",
      "\u001b[1mRandom Forest Classifier Train Report:\n",
      "\u001b[0m\n",
      "              precision    recall  f1-score   support\n",
      "\n",
      "           0       0.87      0.60      0.71      5874\n",
      "           1       0.69      0.91      0.79      5837\n",
      "\n",
      "    accuracy                           0.76     11711\n",
      "   macro avg       0.78      0.76      0.75     11711\n",
      "weighted avg       0.78      0.76      0.75     11711\n",
      "\n",
      "\u001b[1mRandom Forest Classifier Test Report:\n",
      "\u001b[0m\n",
      "              precision    recall  f1-score   support\n",
      "\n",
      "           0       0.80      0.54      0.65      1421\n",
      "           1       0.67      0.88      0.76      1507\n",
      "\n",
      "    accuracy                           0.71      2928\n",
      "   macro avg       0.74      0.71      0.70      2928\n",
      "weighted avg       0.73      0.71      0.70      2928\n",
      "\n"
     ]
    }
   ],
   "source": [
    "rf_params = {'n_estimators': [10,20], 'criterion':['gini', 'entropy'],\n",
    "            'max_depth':[10,15,20]}\n",
    "\n",
    "rf_smote_grid = GridSearchCV(RandomForestClassifier(), rf_params, scoring='f1_weighted',\n",
    "                      return_train_score=True, verbose=1, n_jobs=-1)\n",
    "\n",
    "rf_smote_grid.fit(X_res_15_train, y_res_15_train)\n",
    "\n",
    "rf_smote_grid_train_preds = rf_smote_grid.predict(X_res_15_train)\n",
    "rf_smote_grid_test_preds = rf_smote_grid.predict(X_res_15_test)\n",
    "\n",
    "print('\\033[1m' + 'Random Forest Classifier Train Report:\\n' + '\\033[0m')\n",
    "print(classification_report(y_res_15_train, rf_smote_grid_train_preds))\n",
    "print('\\033[1m' + 'Random Forest Classifier Test Report:\\n' + '\\033[0m')\n",
    "print(classification_report(y_res_15_test, rf_smote_grid_test_preds))"
   ]
  },
  {
   "cell_type": "code",
   "execution_count": 16,
   "metadata": {},
   "outputs": [
    {
     "name": "stdout",
     "output_type": "stream",
     "text": [
      "\u001b[1mRandom Forest Classifier Train Data Confusion Matrix:\n",
      "\n"
     ]
    },
    {
     "data": {
      "image/png": "[encoded data removed]",
      "text/plain": [
       "<Figure size 432x288 with 2 Axes>"
      ]
     },
     "metadata": {
      "needs_background": "light"
     },
     "output_type": "display_data"
    },
    {
     "name": "stdout",
     "output_type": "stream",
     "text": [
      "\u001b[1mRandom Forest Classifier Test Data Confusion Matrix:\n",
      "\n"
     ]
    },
    {
     "data": {
      "image/png": "[encoded data removed]",
      "text/plain": [
       "<Figure size 432x288 with 2 Axes>"
      ]
     },
     "metadata": {
      "needs_background": "light"
     },
     "output_type": "display_data"
    }
   ],
   "source": [
    "print('\\033[1m' + 'Random Forest Classifier Train Data Confusion Matrix:\\n')\n",
    "plot_confusion_matrix(rf_smote_grid, X_res_15_train, y_res_15_train, cmap=plt.cm.Blues)\n",
    "plt.show()\n",
    "print('\\033[1m' + 'Random Forest Classifier Test Data Confusion Matrix:\\n')\n",
    "plot_confusion_matrix(rf_smote_grid, X_res_15_test, y_res_15_test, cmap=plt.cm.Blues)\n",
    "plt.show()"
   ]
  },
  {
   "cell_type": "markdown",
   "metadata": {},
   "source": [
    "## Post-GridSearch Random Forest Classifier - all SMOTETomek data\n",
    "### Using best parameter citerion='gini' found from first GridSearch\n",
    "The GridSearch best parameters n_estimators=20 and max_depth=20 did not hold for the full SMOTETomek data."
   ]
  },
  {
   "cell_type": "code",
   "execution_count": 17,
   "metadata": {},
   "outputs": [
    {
     "name": "stderr",
     "output_type": "stream",
     "text": [
      "[Parallel(n_jobs=-1)]: Using backend ThreadingBackend with 12 concurrent workers.\n",
      "[Parallel(n_jobs=-1)]: Done  26 tasks      | elapsed:   21.8s\n",
      "[Parallel(n_jobs=-1)]: Done  50 out of  50 | elapsed:   31.0s finished\n",
      "[Parallel(n_jobs=12)]: Using backend ThreadingBackend with 12 concurrent workers.\n",
      "[Parallel(n_jobs=12)]: Done  26 tasks      | elapsed:    0.3s\n",
      "[Parallel(n_jobs=12)]: Done  50 out of  50 | elapsed:    0.4s finished\n",
      "[Parallel(n_jobs=12)]: Using backend ThreadingBackend with 12 concurrent workers.\n",
      "[Parallel(n_jobs=12)]: Done  26 tasks      | elapsed:    0.1s\n",
      "[Parallel(n_jobs=12)]: Done  50 out of  50 | elapsed:    0.1s finished\n"
     ]
    },
    {
     "name": "stdout",
     "output_type": "stream",
     "text": [
      "              precision    recall  f1-score   support\n",
      "\n",
      "           0       0.78      0.93      0.85     38865\n",
      "           1       0.92      0.75      0.82     39211\n",
      "\n",
      "    accuracy                           0.84     78076\n",
      "   macro avg       0.85      0.84      0.84     78076\n",
      "weighted avg       0.85      0.84      0.84     78076\n",
      "\n",
      "              precision    recall  f1-score   support\n",
      "\n",
      "           0       0.75      0.89      0.81      9799\n",
      "           1       0.87      0.70      0.77      9721\n",
      "\n",
      "    accuracy                           0.79     19520\n",
      "   macro avg       0.81      0.79      0.79     19520\n",
      "weighted avg       0.81      0.79      0.79     19520\n",
      "\n"
     ]
    }
   ],
   "source": [
    "rf_smote_best = RandomForestClassifier(n_estimators=50, max_depth=60, criterion='gini', \n",
    "                                       verbose=1, random_state=123, n_jobs=-1)\n",
    "\n",
    "rf_smote_best.fit(train_res, y_res_train)\n",
    "\n",
    "rf_smote_best_train_preds = rf_smote_best.predict(train_res)\n",
    "rf_smote_best_test_preds = rf_smote_best.predict(test_res)\n",
    "\n",
    "print(classification_report(y_res_train, rf_smote_best_train_preds))\n",
    "print(classification_report(y_res_test, rf_smote_best_test_preds))"
   ]
  },
  {
   "cell_type": "code",
   "execution_count": 18,
   "metadata": {},
   "outputs": [
    {
     "name": "stdout",
     "output_type": "stream",
     "text": [
      "\u001b[1mRandom Forest Classifier Train Data Confusion Matrix:\n",
      "\n"
     ]
    },
    {
     "name": "stderr",
     "output_type": "stream",
     "text": [
      "[Parallel(n_jobs=12)]: Using backend ThreadingBackend with 12 concurrent workers.\n",
      "[Parallel(n_jobs=12)]: Done  26 tasks      | elapsed:    0.3s\n",
      "[Parallel(n_jobs=12)]: Done  50 out of  50 | elapsed:    0.4s finished\n"
     ]
    },
    {
     "data": {
      "image/png": "[encoded data removed]",
      "text/plain": [
       "<Figure size 432x288 with 2 Axes>"
      ]
     },
     "metadata": {
      "needs_background": "light"
     },
     "output_type": "display_data"
    },
    {
     "name": "stdout",
     "output_type": "stream",
     "text": [
      "\u001b[1mRandom Forest Classifier Test Data Confusion Matrix:\n",
      "\n"
     ]
    },
    {
     "name": "stderr",
     "output_type": "stream",
     "text": [
      "[Parallel(n_jobs=12)]: Using backend ThreadingBackend with 12 concurrent workers.\n",
      "[Parallel(n_jobs=12)]: Done  26 tasks      | elapsed:    0.1s\n",
      "[Parallel(n_jobs=12)]: Done  50 out of  50 | elapsed:    0.1s finished\n"
     ]
    },
    {
     "data": {
      "image/png": "[encoded data removed]",
      "text/plain": [
       "<Figure size 432x288 with 2 Axes>"
      ]
     },
     "metadata": {
      "needs_background": "light"
     },
     "output_type": "display_data"
    }
   ],
   "source": [
    "print('\\033[1m' + 'Random Forest Classifier Train Data Confusion Matrix:\\n')\n",
    "plot_confusion_matrix(rf_smote_best, train_res, y_res_train, cmap=plt.cm.Blues)\n",
    "plt.show()\n",
    "print('\\033[1m' + 'Random Forest Classifier Test Data Confusion Matrix:\\n')\n",
    "plot_confusion_matrix(rf_smote_best, test_res, y_res_test, cmap=plt.cm.Blues)\n",
    "plt.show()"
   ]
  },
  {
   "cell_type": "markdown",
   "metadata": {},
   "source": [
    "# Tweets\n",
    "The following variable, tweets, is a pandas Series containing tweets that are tokenized and in lower-case as well as run through a stop words list."
   ]
  },
  {
   "cell_type": "code",
   "execution_count": 114,
   "metadata": {},
   "outputs": [],
   "source": [
    "tweets = pd.read_csv('Data/CleanedTweets/token_tweets.csv')\n",
    "#shape (7638, 1)"
   ]
  },
  {
   "cell_type": "markdown",
   "metadata": {},
   "source": [
    "## Prepare Unseen Tweets Data for Gaussian Naive Bayes Model"
   ]
  },
  {
   "cell_type": "markdown",
   "metadata": {},
   "source": [
    "### Lemmatization"
   ]
  },
  {
   "cell_type": "code",
   "execution_count": 21,
   "metadata": {},
   "outputs": [],
   "source": [
    "tweet_data = tweets['clean_tweets']\n",
    "\n",
    "tweet_processed_data = [d.split() for d in tweet_data.to_list()]\n",
    "\n",
    "tweet_lemmatizer = WordNetLemmatizer()\n",
    "tweet_lemmatized_output = []\n",
    "\n",
    "for listy in tweet_processed_data:\n",
    "    tweet_lemmed = ' '.join([tweet_lemmatizer.lemmatize(w) for w in listy])\n",
    "    tweet_lemmatized_output.append(tweet_lemmed)"
   ]
  },
  {
   "cell_type": "code",
   "execution_count": 22,
   "metadata": {},
   "outputs": [],
   "source": [
    "tweet_unseen_data = tweet_lemmatized_output"
   ]
  },
  {
   "cell_type": "markdown",
   "metadata": {},
   "source": [
    "### TFIDF Vectorization"
   ]
  },
  {
   "cell_type": "code",
   "execution_count": 23,
   "metadata": {},
   "outputs": [],
   "source": [
    "unseen_vectorized = tfidf.transform(tweet_unseen_data)"
   ]
  },
  {
   "cell_type": "code",
   "execution_count": 25,
   "metadata": {},
   "outputs": [],
   "source": [
    "dense_unseen = unseen_vectorized.toarray()"
   ]
  },
  {
   "cell_type": "markdown",
   "metadata": {},
   "source": [
    "### Classification Predictions of Unseen Tweets from Gaussian Naive Bayes Model"
   ]
  },
  {
   "cell_type": "markdown",
   "metadata": {},
   "source": [
    "#### Predictions"
   ]
  },
  {
   "cell_type": "code",
   "execution_count": 26,
   "metadata": {},
   "outputs": [],
   "source": [
    "tweet_preds = gnb_smote_grid.predict(dense_unseen)"
   ]
  },
  {
   "cell_type": "markdown",
   "metadata": {},
   "source": [
    "#### Combine Original, Unaltered Tweets with Cleaned Tweets and Predictions for Dataframe and .csv File"
   ]
  },
  {
   "cell_type": "code",
   "execution_count": 40,
   "metadata": {},
   "outputs": [],
   "source": [
    "preds_df = pd.Series(tweet_preds)\n",
    "twts_preds_df = pd.concat([engtweets['tweet'], tweets, preds_df], axis=1)\n",
    "\n",
    "twts_preds_df.rename(columns={0: 'prediction'}, inplace=True)\n",
    "\n",
    "twts_preds_df.to_csv('Data/twts_preds', index=False)"
   ]
  },
  {
   "cell_type": "code",
   "execution_count": 16,
   "metadata": {},
   "outputs": [],
   "source": [
    "#Read Dataframe with Predictions back into notebook\n",
    "predictions = pd.read_csv('Data/twts_preds')"
   ]
  },
  {
   "cell_type": "markdown",
   "metadata": {},
   "source": [
    "#### Frequencies of Unseen Data Target Variable\n",
    "RECALL: True = 0, Fake/Misinformation = 1 <br>\n",
    "Unseen data predictions contain 41% Factual Tweets and 59% Fake/Misinformation Tweets"
   ]
  },
  {
   "cell_type": "code",
   "execution_count": 59,
   "metadata": {},
   "outputs": [
    {
     "data": {
      "text/plain": [
       "1    4489\n",
       "0    3149\n",
       "Name: prediction, dtype: int64"
      ]
     },
     "execution_count": 59,
     "metadata": {},
     "output_type": "execute_result"
    }
   ],
   "source": [
    "twts_preds_df['prediction'].value_counts()"
   ]
  },
  {
   "cell_type": "markdown",
   "metadata": {},
   "source": [
    "### Individual Tweets Predicted as Misinformation"
   ]
  },
  {
   "cell_type": "markdown",
   "metadata": {},
   "source": [
    "#### Correctly Flagged"
   ]
  },
  {
   "cell_type": "code",
   "execution_count": 144,
   "metadata": {},
   "outputs": [
    {
     "data": {
      "text/plain": [
       "'Covid is communism'"
      ]
     },
     "execution_count": 144,
     "metadata": {},
     "output_type": "execute_result"
    }
   ],
   "source": [
    "predictions['tweet'][48]"
   ]
  },
  {
   "cell_type": "code",
   "execution_count": 145,
   "metadata": {},
   "outputs": [
    {
     "data": {
      "text/plain": [
       "\"@EricMMatheny @LateNightBobbyD WHY would ANYONE STOP FREE CHOICE?! ESP WHEN IT COMES TO A VACCINE THAT DOESN'T STOP YOU FROM GETTING OR GIVING COVID19 TO OTHERS, supposedly only LESSONS the symptoms! Well HELL, so does Tylenol!! WAKE UP! This IS Socialist Government control! That IS the Demoncratic party!\""
      ]
     },
     "execution_count": 145,
     "metadata": {},
     "output_type": "execute_result"
    }
   ],
   "source": [
    "predictions['tweet'][40]"
   ]
  },
  {
   "cell_type": "code",
   "execution_count": 146,
   "metadata": {},
   "outputs": [
    {
     "data": {
      "text/plain": [
       "'@david_shane One of the largest payoff schemes the world has ever seen. Why would testing companies ever want covid to end.'"
      ]
     },
     "execution_count": 146,
     "metadata": {},
     "output_type": "execute_result"
    }
   ],
   "source": [
    "predictions['tweet'][7599]"
   ]
  },
  {
   "cell_type": "code",
   "execution_count": 147,
   "metadata": {},
   "outputs": [
    {
     "data": {
      "text/plain": [
       "'Communism has killed more people then the Holocaust and COVID-19 COMBINED.'"
      ]
     },
     "execution_count": 147,
     "metadata": {},
     "output_type": "execute_result"
    }
   ],
   "source": [
    "predictions['tweet'][7611]"
   ]
  },
  {
   "cell_type": "code",
   "execution_count": 148,
   "metadata": {},
   "outputs": [
    {
     "data": {
      "text/plain": [
       "'Anti-Vaxxer MAGA Cartoonist Has COVID, Will Self-treat With Ivermectin, Beet Juice   https://t.co/o9p1xFY0Rc'"
      ]
     },
     "execution_count": 148,
     "metadata": {},
     "output_type": "execute_result"
    }
   ],
   "source": [
    "predictions['tweet'][22]"
   ]
  },
  {
   "cell_type": "code",
   "execution_count": 150,
   "metadata": {},
   "outputs": [
    {
     "data": {
      "text/plain": [
       "'@Iroserebel @ILYM333 Sounds like that are suing the CDC for fraud - passing off influenza as covid! Thanks for sharing.... This could be huge! ♥️'"
      ]
     },
     "execution_count": 150,
     "metadata": {},
     "output_type": "execute_result"
    }
   ],
   "source": [
    "predictions['tweet'][2]"
   ]
  },
  {
   "cell_type": "markdown",
   "metadata": {},
   "source": [
    "#### Incorrectly Flagged\n",
    "While technically not misinformation, these tweets are still misleading"
   ]
  },
  {
   "cell_type": "code",
   "execution_count": 151,
   "metadata": {},
   "outputs": [
    {
     "data": {
      "text/plain": [
       "'Excited to start my new ivermectin routine to prevent COVID. What do you mean this is dog medicine?! (This tweet is satire, please spare me)  https://t.co/FxlYtmRYQL'"
      ]
     },
     "execution_count": 151,
     "metadata": {},
     "output_type": "execute_result"
    }
   ],
   "source": [
    "predictions['tweet'][7595]"
   ]
  },
  {
   "cell_type": "code",
   "execution_count": 109,
   "metadata": {
    "scrolled": true
   },
   "outputs": [
    {
     "data": {
      "text/plain": [
       "'Rock boasted about the size of the crowd and claimed that \"there is nothing the mainstream media, internet or social media trolls can do but look at this pic and weep, knowing they will never beat us.\"Kid Rock Cancels  Shows Due To COVID-19 Illness #Covid  https://t.co/vb97e3G5mk'"
      ]
     },
     "execution_count": 109,
     "metadata": {},
     "output_type": "execute_result"
    }
   ],
   "source": [
    "predictions['tweet'][7579]"
   ]
  },
  {
   "cell_type": "code",
   "execution_count": 57,
   "metadata": {},
   "outputs": [
    {
     "data": {
      "text/plain": [
       "'@briantylercohen Literally such a minority. I don’t even know why it makes news. While most of us our continuing to live our lives, these people are OBSESSED with COVID and mandates. It’s taken over who they are. It’s sad really.'"
      ]
     },
     "execution_count": 57,
     "metadata": {},
     "output_type": "execute_result"
    }
   ],
   "source": [
    "predictions['tweet'][7609]"
   ]
  },
  {
   "cell_type": "code",
   "execution_count": 152,
   "metadata": {},
   "outputs": [
    {
     "data": {
      "text/plain": [
       "'ICYMI: #FoxNews Employees must carry a version of a #vaccinepassport.  Seth Meyers Slams Fox News for Saying Horse Dewormer Ivermectin Cures COVID | Vanity Fair  https://t.co/ChXr2rJMk9'"
      ]
     },
     "execution_count": 152,
     "metadata": {},
     "output_type": "execute_result"
    }
   ],
   "source": [
    "predictions['tweet'][7596]"
   ]
  },
  {
   "cell_type": "code",
   "execution_count": 153,
   "metadata": {},
   "outputs": [
    {
     "data": {
      "text/plain": [
       "'Some B.C. residents are seeking out horse dewormer to treat COVID-19 – Victoria\\xa0News  https://t.co/sFFXAntG45'"
      ]
     },
     "execution_count": 153,
     "metadata": {},
     "output_type": "execute_result"
    }
   ],
   "source": [
    "predictions['tweet'][7618]"
   ]
  },
  {
   "cell_type": "code",
   "execution_count": 154,
   "metadata": {},
   "outputs": [
    {
     "data": {
      "text/plain": [
       "'@RepRonnyJackson @GOPLeader @RepChrisStewart I love republicans who put out misinformation on covid -19 then push animal dewarmer for there constituents to take, try anything they say.other than the vaccine😁'"
      ]
     },
     "execution_count": 154,
     "metadata": {},
     "output_type": "execute_result"
    }
   ],
   "source": [
    "predictions['tweet'][7616]"
   ]
  },
  {
   "cell_type": "markdown",
   "metadata": {},
   "source": [
    "#### Examples in Conclusion"
   ]
  },
  {
   "cell_type": "code",
   "execution_count": 56,
   "metadata": {},
   "outputs": [
    {
     "data": {
      "text/plain": [
       "'COVID Vaccine Injury Reports Jump by 27,000 in One Week, FDA Pulls ‘Bait and Switch’ With Pfizer Vaccine Approval  https://t.co/ByEetLFOIp'"
      ]
     },
     "execution_count": 56,
     "metadata": {},
     "output_type": "execute_result"
    }
   ],
   "source": [
    "predictions['tweet'][7610]"
   ]
  },
  {
   "cell_type": "code",
   "execution_count": 38,
   "metadata": {},
   "outputs": [
    {
     "data": {
      "text/plain": [
       "'@FlatEarthGang All the current covid related deaths in NSW are on Berijiklian and Hazzard.'"
      ]
     },
     "execution_count": 38,
     "metadata": {},
     "output_type": "execute_result"
    }
   ],
   "source": [
    "predictions['tweet'][7605]"
   ]
  },
  {
   "cell_type": "code",
   "execution_count": 44,
   "metadata": {},
   "outputs": [
    {
     "data": {
      "text/plain": [
       "'@civilizedrights @Lexham_1 There is a reason why reasonable people don\\'t readily or easily trust BIG PHARMA &amp; their bought &amp; paid government lackeys.  Nothing said thus far about COVID has been reasonable from its \"origin\" to its emergency use status &amp; not to mention its subject to quickly change efficacy.  https://t.co/gWstNlkIcl'"
      ]
     },
     "execution_count": 44,
     "metadata": {},
     "output_type": "execute_result"
    }
   ],
   "source": [
    "predictions['tweet'][7589]"
   ]
  },
  {
   "cell_type": "code",
   "execution_count": 19,
   "metadata": {},
   "outputs": [
    {
     "data": {
      "text/plain": [
       "'@RepRonnyJackson @GOPLeader @RepChrisStewart I love republicans who put out misinformation on covid -19 then push animal dewarmer for there constituents to take, try anything they say.other than the vaccine😁'"
      ]
     },
     "execution_count": 19,
     "metadata": {},
     "output_type": "execute_result"
    }
   ],
   "source": [
    "predictions['tweet'][7616]"
   ]
  },
  {
   "cell_type": "markdown",
   "metadata": {},
   "source": [
    "# Visualizations\n",
    "I combined the two COVID misinformation datasets from Zenodo and ESOC in order to get an overall picture of the data as it directly pertains to COVID. Additionally, I used the information gleaned in post modeleing analysis to compare and contrast."
   ]
  },
  {
   "cell_type": "markdown",
   "metadata": {},
   "source": [
    "#### A second stop words list was created that included variations of COVID for elimination so as to ascertain non-COVID prominent words in the COVID misinformation headlines. "
   ]
  },
  {
   "cell_type": "code",
   "execution_count": 123,
   "metadata": {},
   "outputs": [],
   "source": [
    "sw_list2  = stopwords.words('english')\n",
    "sw_list2 += list(string.punctuation)\n",
    "sw_list2 += [\"''\", '\"\"', '...', '``', '’', '“', '’', '”', '‘', '‘', '©', '27', '1', \"'ve\",\n",
    "            '-', '–', '—', \"n't\", 'https', '2', \"'re\", \"'m'\", '3', '..', 'ca', \"'s\", 'amp', \n",
    "            'coronavirus', 'covid', 'covid-19', 'coronavirus.', 'covid-19.']"
   ]
  },
  {
   "cell_type": "markdown",
   "metadata": {},
   "source": [
    "### Bar Graphs\n",
    "#### Word Frequencies Raw Data from COVID Misinformation Headlines"
   ]
  },
  {
   "cell_type": "code",
   "execution_count": 21,
   "metadata": {},
   "outputs": [
    {
     "name": "stdout",
     "output_type": "stream",
     "text": [
      "181581\n"
     ]
    },
    {
     "data": {
      "image/png": "[encoded data removed]",
      "text/plain": [
       "<Figure size 432x288 with 1 Axes>"
      ]
     },
     "metadata": {
      "needs_background": "light"
     },
     "output_type": "display_data"
    }
   ],
   "source": [
    "all_covid_misinfo = pd.concat([esocinfo, zenodoinfo], ignore_index=True)\n",
    "data_all_covid_misinfo = all_covid_misinfo['headline']\n",
    "all_covid_misinfo_words = [d.split() for d in data_all_covid_misinfo.tolist()]\n",
    "\n",
    "total_all_covid_misinfo = set()\n",
    "for words in all_covid_misinfo_words:\n",
    "    total_all_covid_misinfo.update([w.lower for w in words])\n",
    "print(len(total_all_covid_misinfo))\n",
    "\n",
    "clean_all_covid_misinfo_words = [item.lower() for sublist in all_covid_misinfo_words for item in sublist if item.lower() not in sw_list2]\n",
    "all_covid_misinfo_freq = FreqDist(clean_all_covid_misinfo_words)\n",
    "top25_all_covid_misinfo = all_covid_misinfo_freq.most_common(25)\n",
    "\n",
    "top25_all_covid_misinfodf = pd.DataFrame(top25_all_covid_misinfo)\n",
    "plt.barh(top25_all_covid_misinfodf[0], top25_all_covid_misinfodf[1])\n",
    "plt.title('Top 25 Words from All Covid Misinformation Headlines')\n",
    "plt.savefig('final_top25_mis_covid_head.png')\n",
    "plt.show()"
   ]
  },
  {
   "cell_type": "markdown",
   "metadata": {},
   "source": [
    "#### Word Frequencies Raw Data from All Headlines"
   ]
  },
  {
   "cell_type": "code",
   "execution_count": 124,
   "metadata": {},
   "outputs": [
    {
     "name": "stdout",
     "output_type": "stream",
     "text": [
      "1276621\n"
     ]
    },
    {
     "data": {
      "image/png": "[encoded data removed]",
      "text/plain": [
       "<Figure size 432x288 with 1 Axes>"
      ]
     },
     "metadata": {
      "needs_background": "light"
     },
     "output_type": "display_data"
    }
   ],
   "source": [
    "all_covid_misinfo = pd.concat([esocinfo, zenodoinfo], ignore_index=True)\n",
    "data_all_headlines = df['headline']\n",
    "all_headlines_words = [d.split() for d in data_all_headlines.tolist()]\n",
    "\n",
    "total_all_headlines = set()\n",
    "for words in all_headlines_words:\n",
    "    total_all_headlines.update([w.lower for w in words])\n",
    "print(len(total_all_headlines))\n",
    "\n",
    "clean_all_headlines_words = [item.lower() for sublist in all_headlines_words for item in sublist if item.lower() not in sw_list2]\n",
    "all_headlines_freq = FreqDist(clean_all_headlines_words)\n",
    "top25_all_headlines = all_headlines_freq.most_common(25)\n",
    "\n",
    "top25_all_headlinesdf = pd.DataFrame(top25_all_headlines)\n",
    "plt.barh(top25_all_headlinesdf[0], top25_all_headlinesdf[1])\n",
    "plt.title('Top 25 Words from All Headlines')\n",
    "plt.savefig('final_top25_allhead.png')\n",
    "plt.show()"
   ]
  },
  {
   "cell_type": "markdown",
   "metadata": {},
   "source": [
    "#### Feature Importances"
   ]
  },
  {
   "cell_type": "markdown",
   "metadata": {},
   "source": [
    "Random Forest - All Data "
   ]
  },
  {
   "cell_type": "code",
   "execution_count": 42,
   "metadata": {},
   "outputs": [
    {
     "data": {
      "image/png": "[encoded data removed]",
      "text/plain": [
       "<Figure size 432x288 with 1 Axes>"
      ]
     },
     "metadata": {
      "needs_background": "light"
     },
     "output_type": "display_data"
    }
   ],
   "source": [
    "plt.barh(top25_all_covid_misinfodf[0], base_rf_feat_imp[:25])\n",
    "plt.title('Feature Importances All Data')\n",
    "plt.savefig('base_rf_FeatImp.png')\n",
    "plt.show()"
   ]
  },
  {
   "cell_type": "markdown",
   "metadata": {},
   "source": [
    "Random Forest - SMOTETomek Data"
   ]
  },
  {
   "cell_type": "code",
   "execution_count": 41,
   "metadata": {},
   "outputs": [
    {
     "data": {
      "image/png": "[encoded data removed]",
      "text/plain": [
       "<Figure size 432x288 with 1 Axes>"
      ]
     },
     "metadata": {
      "needs_background": "light"
     },
     "output_type": "display_data"
    }
   ],
   "source": [
    "plt.barh(top25_all_covid_misinfodf[0], base_rfsmote_feat_imp[:25])\n",
    "plt.title('Feature Importances SMOTETomek Data')\n",
    "plt.savefig('base_rfsmote_FeatImp.png')\n",
    "plt.show()"
   ]
  },
  {
   "cell_type": "code",
   "execution_count": null,
   "metadata": {},
   "outputs": [],
   "source": []
  }
 ],
 "metadata": {
  "kernelspec": {
   "display_name": "Python 3",
   "language": "python",
   "name": "python3"
  },
  "language_info": {
   "codemirror_mode": {
    "name": "ipython",
    "version": 3
   },
   "file_extension": ".py",
   "mimetype": "text/x-python",
   "name": "python",
   "nbconvert_exporter": "python",
   "pygments_lexer": "ipython3",
   "version": "3.8.3"
  }
 },
 "nbformat": 4,
 "nbformat_minor": 4
}
