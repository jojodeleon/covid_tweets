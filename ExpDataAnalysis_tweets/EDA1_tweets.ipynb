{
 "cells": [
  {
   "cell_type": "markdown",
   "metadata": {},
   "source": [
    "## Combining tweets from all months, dropping columns, filtering for english only tweets"
   ]
  },
  {
   "cell_type": "code",
   "execution_count": 1,
   "metadata": {},
   "outputs": [],
   "source": [
    "import pandas as pd"
   ]
  },
  {
   "cell_type": "code",
   "execution_count": 4,
   "metadata": {},
   "outputs": [],
   "source": [
    "tweets1 = pd.read_csv('Data/ScrapedTweets/covidtweetsBegApr.csv')\n",
    "tweets2 = pd.read_csv('Data/ScrapedTweets/covidtweetsBegFeb.csv')\n",
    "tweets3 = pd.read_csv('Data/ScrapedTweets/covidtweetsBegMar.csv')\n",
    "tweets4 = pd.read_csv('Data/ScrapedTweets/covidtweetsBegMay.csv')\n",
    "tweets5 = pd.read_csv('Data/ScrapedTweets/covidtweetsEndApr.csv')\n",
    "tweets6 = pd.read_csv('Data/ScrapedTweets/covidtweetsEndFeb.csv')\n",
    "tweets7 = pd.read_csv('Data/ScrapedTweets/covidtweetsEndMar.csv')\n",
    "tweets8 = pd.read_csv('Data/ScrapedTweets/covidtweetsEndMay2.csv')\n",
    "tweets9 = pd.read_csv('Data/ScrapedTweets/covidtweetsEndSept.csv')\n",
    "tweets10 = pd.read_csv('Data/ScrapedTweets/covidtweetsBegJun.csv')\n",
    "tweets11 = pd.read_csv('Data/ScrapedTweets/covidtweetsEndJun.csv')\n",
    "tweets12 = pd.read_csv('Data/ScrapedTweets/covidtweetsBegJul.csv')\n",
    "tweets13 = pd.read_csv('Data/ScrapedTweets/covidtweetsEndJul.csv')\n",
    "tweets14 = pd.read_csv('Data/ScrapedTweets/covidtweetsBegAug.csv')\n",
    "tweets15 = pd.read_csv('Data/ScrapedTweets/covidtweetsEndAug.csv')\n",
    "tweets16 = pd.read_csv('Data/ScrapedTweets/covidtweetsBegSept.csv')\n"
   ]
  },
  {
   "cell_type": "code",
   "execution_count": 5,
   "metadata": {},
   "outputs": [],
   "source": [
    "frames = [tweets1, tweets2, tweets3, tweets4, tweets5, tweets6, tweets7, tweets8, tweets9,\n",
    "         tweets10, tweets11, tweets12, tweets13, tweets14, tweets15, tweets16]\n",
    "alltweets = pd.concat(frames, ignore_index=True)"
   ]
  },
  {
   "cell_type": "code",
   "execution_count": 6,
   "metadata": {},
   "outputs": [
    {
     "data": {
      "text/plain": [
       "(11029, 36)"
      ]
     },
     "execution_count": 6,
     "metadata": {},
     "output_type": "execute_result"
    }
   ],
   "source": [
    "alltweets.shape"
   ]
  },
  {
   "cell_type": "code",
   "execution_count": 8,
   "metadata": {},
   "outputs": [
    {
     "data": {
      "text/plain": [
       "39"
      ]
     },
     "execution_count": 8,
     "metadata": {},
     "output_type": "execute_result"
    }
   ],
   "source": [
    "len(alltweets.language.value_counts())"
   ]
  },
  {
   "cell_type": "code",
   "execution_count": 5,
   "metadata": {},
   "outputs": [
    {
     "data": {
      "text/plain": [
       "0                                                    NaN\n",
       "1        https://pbs.twimg.com/media/Ey-RsdtXMAIOjpG.jpg\n",
       "2                                                    NaN\n",
       "3                                                    NaN\n",
       "4                                                    NaN\n",
       "                              ...                       \n",
       "11024                                                NaN\n",
       "11025                                                NaN\n",
       "11026                                                NaN\n",
       "11027                                                NaN\n",
       "11028                                                NaN\n",
       "Name: thumbnail, Length: 11029, dtype: object"
      ]
     },
     "execution_count": 5,
     "metadata": {},
     "output_type": "execute_result"
    }
   ],
   "source": [
    "alltweets.thumbnail"
   ]
  },
  {
   "cell_type": "code",
   "execution_count": 6,
   "metadata": {},
   "outputs": [
    {
     "name": "stdout",
     "output_type": "stream",
     "text": [
      "<class 'pandas.core.frame.DataFrame'>\n",
      "RangeIndex: 11029 entries, 0 to 11028\n",
      "Data columns (total 36 columns):\n",
      " #   Column           Non-Null Count  Dtype  \n",
      "---  ------           --------------  -----  \n",
      " 0   id               11029 non-null  int64  \n",
      " 1   conversation_id  11029 non-null  int64  \n",
      " 2   created_at       11029 non-null  object \n",
      " 3   date             11029 non-null  object \n",
      " 4   time             11029 non-null  object \n",
      " 5   timezone         11029 non-null  int64  \n",
      " 6   user_id          11029 non-null  int64  \n",
      " 7   username         11029 non-null  object \n",
      " 8   name             11026 non-null  object \n",
      " 9   place            5 non-null      object \n",
      " 10  tweet            11029 non-null  object \n",
      " 11  language         11029 non-null  object \n",
      " 12  mentions         11029 non-null  object \n",
      " 13  urls             11029 non-null  object \n",
      " 14  photos           11029 non-null  object \n",
      " 15  replies_count    11029 non-null  int64  \n",
      " 16  retweets_count   11029 non-null  int64  \n",
      " 17  likes_count      11029 non-null  int64  \n",
      " 18  hashtags         11029 non-null  object \n",
      " 19  cashtags         11029 non-null  object \n",
      " 20  link             11029 non-null  object \n",
      " 21  retweet          11029 non-null  bool   \n",
      " 22  quote_url        996 non-null    object \n",
      " 23  video            11029 non-null  int64  \n",
      " 24  thumbnail        1417 non-null   object \n",
      " 25  near             0 non-null      float64\n",
      " 26  geo              0 non-null      float64\n",
      " 27  source           0 non-null      float64\n",
      " 28  user_rt_id       0 non-null      float64\n",
      " 29  user_rt          0 non-null      float64\n",
      " 30  retweet_id       0 non-null      float64\n",
      " 31  reply_to         11029 non-null  object \n",
      " 32  retweet_date     0 non-null      float64\n",
      " 33  translate        0 non-null      float64\n",
      " 34  trans_src        0 non-null      float64\n",
      " 35  trans_dest       0 non-null      float64\n",
      "dtypes: bool(1), float64(10), int64(8), object(17)\n",
      "memory usage: 3.0+ MB\n"
     ]
    }
   ],
   "source": [
    "alltweets.info()"
   ]
  },
  {
   "cell_type": "markdown",
   "metadata": {},
   "source": [
    "Getting rid of (15) columns:<br>\n",
    "11 columns are all null or nearly so (column 'place' had 5 entries)<br>\n",
    "column 'name' is redundant with username<br>\n",
    "column 'timezone' has same value for all entries so is meaningless<br>\n",
    "column 'thumbnail' is the avatar associated with user and is not needed<br>\n",
    "column 'photos' is mostly filled with empty [] "
   ]
  },
  {
   "cell_type": "code",
   "execution_count": 7,
   "metadata": {},
   "outputs": [
    {
     "data": {
      "text/plain": [
       "0    9612\n",
       "1    1417\n",
       "Name: video, dtype: int64"
      ]
     },
     "execution_count": 7,
     "metadata": {},
     "output_type": "execute_result"
    }
   ],
   "source": [
    "alltweets.video.value_counts()"
   ]
  },
  {
   "cell_type": "code",
   "execution_count": 8,
   "metadata": {},
   "outputs": [
    {
     "data": {
      "text/plain": [
       "[]                                                                                                                                                                                                                                                                                                                                                                                                                                                                                                                9992\n",
       "[{'screen_name': 'youtube', 'name': 'youtube', 'id': '10228272'}]                                                                                                                                                                                                                                                                                                                                                                                                                                                   34\n",
       "[{'screen_name': 'gatewaypundit', 'name': 'jim hoft', 'id': '19211550'}]                                                                                                                                                                                                                                                                                                                                                                                                                                             9\n",
       "[{'screen_name': 'olivierveran', 'name': 'olivier véran', 'id': '600345740'}, {'screen_name': 'jeancastex', 'name': 'jean castex', 'id': '119081177'}, {'screen_name': 'cnews', 'name': 'cnews', 'id': '18396319'}, {'screen_name': 'lci', 'name': 'lci', 'id': '26110930'}, {'screen_name': 'bfmtv', 'name': 'bfmtv', 'id': '133663801'}, {'screen_name': 'larem_an', 'name': 'députés larem', 'id': '880534969650642945'}, {'screen_name': 'emmanuelmacron', 'name': 'emmanuel macron', 'id': '1976143068'}]       8\n",
       "[{'screen_name': 'potus', 'name': 'president biden', 'id': '1349149096909668363'}]                                                                                                                                                                                                                                                                                                                                                                                                                                   8\n",
       "                                                                                                                                                                                                                                                                                                                                                                                                                                                                                                                  ... \n",
       "[{'screen_name': 'ssalud_mx', 'name': 'salud méxico', 'id': '132225222'}, {'screen_name': 'lopezobrador_', 'name': 'andrés manuel', 'id': '82119937'}, {'screen_name': 'gobiernomx', 'name': 'gobierno de méxico', 'id': '1067218403914436608'}]                                                                                                                                                                                                                                                                     1\n",
       "[{'screen_name': 'laurenboebert', 'name': 'lauren boebert', 'id': '1201670995435646976'}]                                                                                                                                                                                                                                                                                                                                                                                                                            1\n",
       "[{'screen_name': 'stpatricks', 'name': \"st patrick's mental health services\", 'id': '246759869'}, {'screen_name': 'tiglinireland', 'name': 'tiglin', 'id': '1006642682'}]                                                                                                                                                                                                                                                                                                                                            1\n",
       "[{'screen_name': 'nycgov', 'name': 'city of new york', 'id': '250884927'}, {'screen_name': 'newyorkstateag', 'name': 'ny ag james', 'id': '132496568'}, {'screen_name': 'govkathyhochul', 'name': 'kathy hochul', 'id': '2977083957'}]                                                                                                                                                                                                                                                                               1\n",
       "[{'screen_name': 'eruizescudero', 'name': 'enrique ruiz escudero', 'id': '209171395'}]                                                                                                                                                                                                                                                                                                                                                                                                                               1\n",
       "Name: mentions, Length: 669, dtype: int64"
      ]
     },
     "execution_count": 8,
     "metadata": {},
     "output_type": "execute_result"
    }
   ],
   "source": [
    "alltweets.mentions.value_counts()"
   ]
  },
  {
   "cell_type": "code",
   "execution_count": 9,
   "metadata": {},
   "outputs": [
    {
     "data": {
      "text/plain": [
       "[]                                                                                                                                                                                7819\n",
       "['https://michaelgchandler34blog.wordpress.com']                                                                                                                                    25\n",
       "['https://michaelgchandler34blog.wordpress.com/']                                                                                                                                   19\n",
       "['https://twitter.com/i/events/1442556695645802498']                                                                                                                                12\n",
       "['https://www.gov.uk/government/publications/proposal-for-mandatory-covid-certification-in-a-plan-b-scenario/proposal-for-mandatory-covid-certification-in-a-plan-b-scenario']       9\n",
       "                                                                                                                                                                                  ... \n",
       "['https://bit.ly/3m1ONyZ']                                                                                                                                                           1\n",
       "['https://petition.parliament.uk/petitions/596452']                                                                                                                                  1\n",
       "['https://portaldozacarias.com.br/site/noticia/joe-biden-recebe-dose-de-reforao-de-vacina-contra-a-covid-19-nos-eua/']                                                               1\n",
       "['https://twitter.com/alsjane_therapy/status/1442052134611177476?s=21']                                                                                                              1\n",
       "['https://jornalempauta.com.br/58-dos-leitos-de-covid-serao-cortados-em-braganca-paulista/']                                                                                         1\n",
       "Name: urls, Length: 2320, dtype: int64"
      ]
     },
     "execution_count": 9,
     "metadata": {},
     "output_type": "execute_result"
    }
   ],
   "source": [
    "alltweets.urls.value_counts()"
   ]
  },
  {
   "cell_type": "code",
   "execution_count": 10,
   "metadata": {},
   "outputs": [
    {
     "data": {
      "text/plain": [
       "0    9612\n",
       "1    1417\n",
       "Name: video, dtype: int64"
      ]
     },
     "execution_count": 10,
     "metadata": {},
     "output_type": "execute_result"
    }
   ],
   "source": [
    "alltweets.video.value_counts()"
   ]
  },
  {
   "cell_type": "code",
   "execution_count": 11,
   "metadata": {},
   "outputs": [],
   "source": [
    "columns = ['near', 'geo', 'source', 'user_rt_id', 'user_rt', 'retweet_id', 'retweet_date', \n",
    "          'translate', 'trans_src', 'trans_dest', 'thumbnail', 'place', 'name',\n",
    "          'timezone', 'photos']\n",
    "\n",
    "alltweets.drop(columns, axis=1, inplace=True)"
   ]
  },
  {
   "cell_type": "code",
   "execution_count": 12,
   "metadata": {},
   "outputs": [
    {
     "name": "stdout",
     "output_type": "stream",
     "text": [
      "<class 'pandas.core.frame.DataFrame'>\n",
      "RangeIndex: 11029 entries, 0 to 11028\n",
      "Data columns (total 21 columns):\n",
      " #   Column           Non-Null Count  Dtype \n",
      "---  ------           --------------  ----- \n",
      " 0   id               11029 non-null  int64 \n",
      " 1   conversation_id  11029 non-null  int64 \n",
      " 2   created_at       11029 non-null  object\n",
      " 3   date             11029 non-null  object\n",
      " 4   time             11029 non-null  object\n",
      " 5   user_id          11029 non-null  int64 \n",
      " 6   username         11029 non-null  object\n",
      " 7   tweet            11029 non-null  object\n",
      " 8   language         11029 non-null  object\n",
      " 9   mentions         11029 non-null  object\n",
      " 10  urls             11029 non-null  object\n",
      " 11  replies_count    11029 non-null  int64 \n",
      " 12  retweets_count   11029 non-null  int64 \n",
      " 13  likes_count      11029 non-null  int64 \n",
      " 14  hashtags         11029 non-null  object\n",
      " 15  cashtags         11029 non-null  object\n",
      " 16  link             11029 non-null  object\n",
      " 17  retweet          11029 non-null  bool  \n",
      " 18  quote_url        996 non-null    object\n",
      " 19  video            11029 non-null  int64 \n",
      " 20  reply_to         11029 non-null  object\n",
      "dtypes: bool(1), int64(7), object(13)\n",
      "memory usage: 1.7+ MB\n"
     ]
    }
   ],
   "source": [
    "alltweets.info()"
   ]
  },
  {
   "cell_type": "code",
   "execution_count": 13,
   "metadata": {},
   "outputs": [
    {
     "data": {
      "text/html": [
       "<div>\n",
       "<style scoped>\n",
       "    .dataframe tbody tr th:only-of-type {\n",
       "        vertical-align: middle;\n",
       "    }\n",
       "\n",
       "    .dataframe tbody tr th {\n",
       "        vertical-align: top;\n",
       "    }\n",
       "\n",
       "    .dataframe thead th {\n",
       "        text-align: right;\n",
       "    }\n",
       "</style>\n",
       "<table border=\"1\" class=\"dataframe\">\n",
       "  <thead>\n",
       "    <tr style=\"text-align: right;\">\n",
       "      <th></th>\n",
       "      <th>id</th>\n",
       "      <th>conversation_id</th>\n",
       "      <th>created_at</th>\n",
       "      <th>date</th>\n",
       "      <th>time</th>\n",
       "      <th>user_id</th>\n",
       "      <th>username</th>\n",
       "      <th>tweet</th>\n",
       "      <th>language</th>\n",
       "      <th>mentions</th>\n",
       "      <th>...</th>\n",
       "      <th>replies_count</th>\n",
       "      <th>retweets_count</th>\n",
       "      <th>likes_count</th>\n",
       "      <th>hashtags</th>\n",
       "      <th>cashtags</th>\n",
       "      <th>link</th>\n",
       "      <th>retweet</th>\n",
       "      <th>quote_url</th>\n",
       "      <th>video</th>\n",
       "      <th>reply_to</th>\n",
       "    </tr>\n",
       "  </thead>\n",
       "  <tbody>\n",
       "    <tr>\n",
       "      <th>0</th>\n",
       "      <td>1382483808239374336</td>\n",
       "      <td>1381622686548385792</td>\n",
       "      <td>2021-04-14 18:59:59 CDT</td>\n",
       "      <td>2021-04-14</td>\n",
       "      <td>18:59:59</td>\n",
       "      <td>1373667420523655182</td>\n",
       "      <td>rocket654321</td>\n",
       "      <td>@milamesmo Porque vc toma? Ouvi falar que toma...</td>\n",
       "      <td>pt</td>\n",
       "      <td>[]</td>\n",
       "      <td>...</td>\n",
       "      <td>1</td>\n",
       "      <td>0</td>\n",
       "      <td>0</td>\n",
       "      <td>[]</td>\n",
       "      <td>[]</td>\n",
       "      <td>https://twitter.com/rocket654321/status/138248...</td>\n",
       "      <td>False</td>\n",
       "      <td>NaN</td>\n",
       "      <td>0</td>\n",
       "      <td>[{'screen_name': 'milamesmo', 'name': 'Mila', ...</td>\n",
       "    </tr>\n",
       "    <tr>\n",
       "      <th>1</th>\n",
       "      <td>1382483806607802370</td>\n",
       "      <td>1382483806607802370</td>\n",
       "      <td>2021-04-14 18:59:59 CDT</td>\n",
       "      <td>2021-04-14</td>\n",
       "      <td>18:59:59</td>\n",
       "      <td>147589125</td>\n",
       "      <td>diariotalcual</td>\n",
       "      <td>Tribunal imputó a cuatro personas por revender...</td>\n",
       "      <td>es</td>\n",
       "      <td>[]</td>\n",
       "      <td>...</td>\n",
       "      <td>1</td>\n",
       "      <td>0</td>\n",
       "      <td>2</td>\n",
       "      <td>['talcual', 'claroyraspao', 'justoynecesario']</td>\n",
       "      <td>[]</td>\n",
       "      <td>https://twitter.com/DiarioTalCual/status/13824...</td>\n",
       "      <td>False</td>\n",
       "      <td>NaN</td>\n",
       "      <td>1</td>\n",
       "      <td>[]</td>\n",
       "    </tr>\n",
       "    <tr>\n",
       "      <th>2</th>\n",
       "      <td>1382483805206896643</td>\n",
       "      <td>1382483417141497858</td>\n",
       "      <td>2021-04-14 18:59:59 CDT</td>\n",
       "      <td>2021-04-14</td>\n",
       "      <td>18:59:59</td>\n",
       "      <td>176432118</td>\n",
       "      <td>drapestania</td>\n",
       "      <td>@WandaMalbec2016 Qué pedazo de soretes nos gob...</td>\n",
       "      <td>es</td>\n",
       "      <td>[]</td>\n",
       "      <td>...</td>\n",
       "      <td>0</td>\n",
       "      <td>0</td>\n",
       "      <td>1</td>\n",
       "      <td>[]</td>\n",
       "      <td>[]</td>\n",
       "      <td>https://twitter.com/DraPestania/status/1382483...</td>\n",
       "      <td>False</td>\n",
       "      <td>NaN</td>\n",
       "      <td>0</td>\n",
       "      <td>[{'screen_name': 'WandaMalbec2016', 'name': 'W...</td>\n",
       "    </tr>\n",
       "    <tr>\n",
       "      <th>3</th>\n",
       "      <td>1382483803592085505</td>\n",
       "      <td>1382483803592085505</td>\n",
       "      <td>2021-04-14 18:59:58 CDT</td>\n",
       "      <td>2021-04-14</td>\n",
       "      <td>18:59:58</td>\n",
       "      <td>163983794</td>\n",
       "      <td>sonyworlds</td>\n",
       "      <td>De 9 a 19 hs es la nueva hora activa?  wtf ? S...</td>\n",
       "      <td>es</td>\n",
       "      <td>[]</td>\n",
       "      <td>...</td>\n",
       "      <td>0</td>\n",
       "      <td>0</td>\n",
       "      <td>0</td>\n",
       "      <td>['nuevasrestricciones', 'covid19']</td>\n",
       "      <td>[]</td>\n",
       "      <td>https://twitter.com/Sonyworlds/status/13824838...</td>\n",
       "      <td>False</td>\n",
       "      <td>NaN</td>\n",
       "      <td>0</td>\n",
       "      <td>[]</td>\n",
       "    </tr>\n",
       "    <tr>\n",
       "      <th>4</th>\n",
       "      <td>1382483803554385925</td>\n",
       "      <td>1382472677206687746</td>\n",
       "      <td>2021-04-14 18:59:58 CDT</td>\n",
       "      <td>2021-04-14</td>\n",
       "      <td>18:59:58</td>\n",
       "      <td>503541916</td>\n",
       "      <td>johnmaddox</td>\n",
       "      <td>@rosensteindave @Dollarlogic It's like modern ...</td>\n",
       "      <td>en</td>\n",
       "      <td>[]</td>\n",
       "      <td>...</td>\n",
       "      <td>1</td>\n",
       "      <td>0</td>\n",
       "      <td>0</td>\n",
       "      <td>[]</td>\n",
       "      <td>[]</td>\n",
       "      <td>https://twitter.com/johnmaddox/status/13824838...</td>\n",
       "      <td>False</td>\n",
       "      <td>NaN</td>\n",
       "      <td>0</td>\n",
       "      <td>[{'screen_name': 'rosensteindave', 'name': 'Da...</td>\n",
       "    </tr>\n",
       "  </tbody>\n",
       "</table>\n",
       "<p>5 rows × 21 columns</p>\n",
       "</div>"
      ],
      "text/plain": [
       "                    id      conversation_id               created_at  \\\n",
       "0  1382483808239374336  1381622686548385792  2021-04-14 18:59:59 CDT   \n",
       "1  1382483806607802370  1382483806607802370  2021-04-14 18:59:59 CDT   \n",
       "2  1382483805206896643  1382483417141497858  2021-04-14 18:59:59 CDT   \n",
       "3  1382483803592085505  1382483803592085505  2021-04-14 18:59:58 CDT   \n",
       "4  1382483803554385925  1382472677206687746  2021-04-14 18:59:58 CDT   \n",
       "\n",
       "         date      time              user_id       username  \\\n",
       "0  2021-04-14  18:59:59  1373667420523655182   rocket654321   \n",
       "1  2021-04-14  18:59:59            147589125  diariotalcual   \n",
       "2  2021-04-14  18:59:59            176432118    drapestania   \n",
       "3  2021-04-14  18:59:58            163983794     sonyworlds   \n",
       "4  2021-04-14  18:59:58            503541916     johnmaddox   \n",
       "\n",
       "                                               tweet language mentions  ...  \\\n",
       "0  @milamesmo Porque vc toma? Ouvi falar que toma...       pt       []  ...   \n",
       "1  Tribunal imputó a cuatro personas por revender...       es       []  ...   \n",
       "2  @WandaMalbec2016 Qué pedazo de soretes nos gob...       es       []  ...   \n",
       "3  De 9 a 19 hs es la nueva hora activa?  wtf ? S...       es       []  ...   \n",
       "4  @rosensteindave @Dollarlogic It's like modern ...       en       []  ...   \n",
       "\n",
       "  replies_count  retweets_count  likes_count  \\\n",
       "0             1               0            0   \n",
       "1             1               0            2   \n",
       "2             0               0            1   \n",
       "3             0               0            0   \n",
       "4             1               0            0   \n",
       "\n",
       "                                         hashtags cashtags  \\\n",
       "0                                              []       []   \n",
       "1  ['talcual', 'claroyraspao', 'justoynecesario']       []   \n",
       "2                                              []       []   \n",
       "3              ['nuevasrestricciones', 'covid19']       []   \n",
       "4                                              []       []   \n",
       "\n",
       "                                                link retweet  quote_url video  \\\n",
       "0  https://twitter.com/rocket654321/status/138248...   False        NaN     0   \n",
       "1  https://twitter.com/DiarioTalCual/status/13824...   False        NaN     1   \n",
       "2  https://twitter.com/DraPestania/status/1382483...   False        NaN     0   \n",
       "3  https://twitter.com/Sonyworlds/status/13824838...   False        NaN     0   \n",
       "4  https://twitter.com/johnmaddox/status/13824838...   False        NaN     0   \n",
       "\n",
       "                                            reply_to  \n",
       "0  [{'screen_name': 'milamesmo', 'name': 'Mila', ...  \n",
       "1                                                 []  \n",
       "2  [{'screen_name': 'WandaMalbec2016', 'name': 'W...  \n",
       "3                                                 []  \n",
       "4  [{'screen_name': 'rosensteindave', 'name': 'Da...  \n",
       "\n",
       "[5 rows x 21 columns]"
      ]
     },
     "execution_count": 13,
     "metadata": {},
     "output_type": "execute_result"
    }
   ],
   "source": [
    "alltweets.head()"
   ]
  },
  {
   "cell_type": "code",
   "execution_count": 15,
   "metadata": {},
   "outputs": [
    {
     "data": {
      "text/plain": [
       "(7638, 21)"
      ]
     },
     "execution_count": 15,
     "metadata": {},
     "output_type": "execute_result"
    }
   ],
   "source": [
    "engtweets = alltweets.loc[alltweets.language == 'en']\n",
    "engtweets.shape"
   ]
  },
  {
   "cell_type": "code",
   "execution_count": 16,
   "metadata": {},
   "outputs": [
    {
     "name": "stderr",
     "output_type": "stream",
     "text": [
      "/home/jojo/.local/lib/python3.8/site-packages/pandas/core/frame.py:4163: SettingWithCopyWarning: \n",
      "A value is trying to be set on a copy of a slice from a DataFrame\n",
      "\n",
      "See the caveats in the documentation: https://pandas.pydata.org/pandas-docs/stable/user_guide/indexing.html#returning-a-view-versus-a-copy\n",
      "  return super().drop(\n"
     ]
    }
   ],
   "source": [
    "engtweets.drop('language', axis=True, inplace=True)"
   ]
  },
  {
   "cell_type": "code",
   "execution_count": 17,
   "metadata": {},
   "outputs": [],
   "source": [
    "alltweets.to_csv('alltweets.csv', index=False)"
   ]
  },
  {
   "cell_type": "code",
   "execution_count": 18,
   "metadata": {},
   "outputs": [],
   "source": [
    "engtweets.to_csv('engtweets.csv', index=False)"
   ]
  },
  {
   "cell_type": "code",
   "execution_count": 19,
   "metadata": {},
   "outputs": [
    {
     "data": {
      "text/plain": [
       "Index(['id', 'conversation_id', 'created_at', 'date', 'time', 'user_id',\n",
       "       'username', 'tweet', 'mentions', 'urls', 'replies_count',\n",
       "       'retweets_count', 'likes_count', 'hashtags', 'cashtags', 'link',\n",
       "       'retweet', 'quote_url', 'video', 'reply_to'],\n",
       "      dtype='object')"
      ]
     },
     "execution_count": 19,
     "metadata": {},
     "output_type": "execute_result"
    }
   ],
   "source": [
    "engtweets.columns"
   ]
  },
  {
   "cell_type": "code",
   "execution_count": null,
   "metadata": {},
   "outputs": [],
   "source": []
  }
 ],
 "metadata": {
  "kernelspec": {
   "display_name": "Python 3",
   "language": "python",
   "name": "python3"
  },
  "language_info": {
   "codemirror_mode": {
    "name": "ipython",
    "version": 3
   },
   "file_extension": ".py",
   "mimetype": "text/x-python",
   "name": "python",
   "nbconvert_exporter": "python",
   "pygments_lexer": "ipython3",
   "version": "3.8.3"
  }
 },
 "nbformat": 4,
 "nbformat_minor": 4
}
