{
 "cells": [
  {
   "cell_type": "code",
   "execution_count": 8,
   "metadata": {},
   "outputs": [
    {
     "name": "stdout",
     "output_type": "stream",
     "text": [
      "Requirement already satisfied: twint in /home/jojo/src/twint (2.1.21)\n",
      "Requirement already satisfied: aiohttp in /home/jojo/anaconda3/lib/python3.8/site-packages (from twint) (3.7.4.post0)\n",
      "Requirement already satisfied: aiodns in /home/jojo/anaconda3/lib/python3.8/site-packages (from twint) (3.0.0)\n",
      "Requirement already satisfied: beautifulsoup4 in /home/jojo/anaconda3/lib/python3.8/site-packages (from twint) (4.9.1)\n",
      "Requirement already satisfied: cchardet in /home/jojo/anaconda3/lib/python3.8/site-packages (from twint) (2.1.7)\n",
      "Requirement already satisfied: dataclasses in /home/jojo/.local/lib/python3.8/site-packages (from twint) (0.6)\n",
      "Requirement already satisfied: elasticsearch in /home/jojo/anaconda3/lib/python3.8/site-packages (from twint) (7.15.0)\n",
      "Requirement already satisfied: pysocks in /home/jojo/anaconda3/lib/python3.8/site-packages (from twint) (1.7.1)\n",
      "Requirement already satisfied: pandas in /home/jojo/.local/lib/python3.8/site-packages (from twint) (1.1.3)\n",
      "Requirement already satisfied: aiohttp_socks in /home/jojo/anaconda3/lib/python3.8/site-packages (from twint) (0.6.0)\n",
      "Requirement already satisfied: schedule in /home/jojo/anaconda3/lib/python3.8/site-packages (from twint) (1.1.0)\n",
      "Requirement already satisfied: geopy in /home/jojo/anaconda3/lib/python3.8/site-packages (from twint) (2.2.0)\n",
      "Requirement already satisfied: fake-useragent in /home/jojo/anaconda3/lib/python3.8/site-packages (from twint) (0.1.11)\n",
      "Requirement already satisfied: googletransx in /home/jojo/anaconda3/lib/python3.8/site-packages (from twint) (2.4.2)\n",
      "Requirement already satisfied: multidict<7.0,>=4.5 in /home/jojo/anaconda3/lib/python3.8/site-packages (from aiohttp->twint) (5.1.0)\n",
      "Requirement already satisfied: typing-extensions>=3.6.5 in /home/jojo/anaconda3/lib/python3.8/site-packages (from aiohttp->twint) (3.10.0.2)\n",
      "Requirement already satisfied: yarl<2.0,>=1.0 in /home/jojo/anaconda3/lib/python3.8/site-packages (from aiohttp->twint) (1.6.3)\n",
      "Requirement already satisfied: attrs>=17.3.0 in /home/jojo/anaconda3/lib/python3.8/site-packages (from aiohttp->twint) (19.3.0)\n",
      "Requirement already satisfied: chardet<5.0,>=2.0 in /home/jojo/anaconda3/lib/python3.8/site-packages (from aiohttp->twint) (3.0.4)\n",
      "Requirement already satisfied: async-timeout<4.0,>=3.0 in /home/jojo/anaconda3/lib/python3.8/site-packages (from aiohttp->twint) (3.0.1)\n",
      "Requirement already satisfied: pycares>=4.0.0 in /home/jojo/anaconda3/lib/python3.8/site-packages (from aiodns->twint) (4.0.0)\n",
      "Requirement already satisfied: soupsieve>1.2 in /home/jojo/anaconda3/lib/python3.8/site-packages (from beautifulsoup4->twint) (2.0.1)\n",
      "Requirement already satisfied: urllib3<2,>=1.21.1 in /home/jojo/anaconda3/lib/python3.8/site-packages (from elasticsearch->twint) (1.25.9)\n",
      "Requirement already satisfied: certifi in /home/jojo/anaconda3/lib/python3.8/site-packages (from elasticsearch->twint) (2020.6.20)\n",
      "Requirement already satisfied: python-dateutil>=2.7.3 in /home/jojo/anaconda3/lib/python3.8/site-packages (from pandas->twint) (2.8.1)\n",
      "Requirement already satisfied: pytz>=2017.2 in /home/jojo/anaconda3/lib/python3.8/site-packages (from pandas->twint) (2020.1)\n",
      "Requirement already satisfied: numpy>=1.15.4 in /home/jojo/anaconda3/lib/python3.8/site-packages (from pandas->twint) (1.18.5)\n",
      "Requirement already satisfied: python-socks[asyncio]>=1.2.2 in /home/jojo/anaconda3/lib/python3.8/site-packages (from aiohttp_socks->twint) (1.2.4)\n",
      "Requirement already satisfied: geographiclib<2,>=1.49 in /home/jojo/anaconda3/lib/python3.8/site-packages (from geopy->twint) (1.52)\n",
      "Requirement already satisfied: requests in /home/jojo/anaconda3/lib/python3.8/site-packages (from googletransx->twint) (2.24.0)\n",
      "Requirement already satisfied: idna>=2.0 in /home/jojo/anaconda3/lib/python3.8/site-packages (from yarl<2.0,>=1.0->aiohttp->twint) (2.10)\n",
      "Requirement already satisfied: cffi>=1.5.0 in /home/jojo/anaconda3/lib/python3.8/site-packages (from pycares>=4.0.0->aiodns->twint) (1.14.0)\n",
      "Requirement already satisfied: six>=1.5 in /home/jojo/anaconda3/lib/python3.8/site-packages (from python-dateutil>=2.7.3->pandas->twint) (1.15.0)\n",
      "Requirement already satisfied: pycparser in /home/jojo/anaconda3/lib/python3.8/site-packages (from cffi>=1.5.0->pycares>=4.0.0->aiodns->twint) (2.20)\n",
      "Requirement already satisfied: nest_asyncio in /home/jojo/anaconda3/lib/python3.8/site-packages (1.5.1)\n"
     ]
    }
   ],
   "source": [
    "!pip install twint\n",
    "!pip install nest_asyncio"
   ]
  },
  {
   "cell_type": "code",
   "execution_count": 9,
   "metadata": {},
   "outputs": [],
   "source": [
    "import twint\n",
    "import pandas as pd\n",
    "\n",
    "import nest_asyncio\n",
    "nest_asyncio.apply()"
   ]
  },
  {
   "cell_type": "code",
   "execution_count": 10,
   "metadata": {},
   "outputs": [],
   "source": [
    "from url import *"
   ]
  },
  {
   "cell_type": "code",
   "execution_count": 19,
   "metadata": {},
   "outputs": [],
   "source": [
    "c = twint.Config()\n",
    "\n",
    "c.Search = \"covid OR coronavirus OR COVID-19\"\n",
    "c.Lang = \"en\"\n",
    "c.Since = \"2021-02-02\"\n",
    "c.Until = \"2021-02-16\"\n",
    "c.Limit = 5000\n",
    "c.Store_csv = True\n",
    "c.Output = \"covidtweetsBegFeb.csv\""
   ]
  },
  {
   "cell_type": "code",
   "execution_count": 20,
   "metadata": {},
   "outputs": [
    {
     "name": "stdout",
     "output_type": "stream",
     "text": [
      "1361465311334178822 2021-02-15 17:59:59 -0500 <TonyGough9> The vaccinations for COVID-19 have begun. When I’m offered the vaccine, I’ll get it. #WeAreScotland\n",
      "1361465309933281280 2021-02-15 17:59:59 -0500 <iOptimizeRealty> 7 Reasons Warehouses Are Booming During COVID-19 #CRE #TenantTips #Warehouse #COVID-19 #NewNormal #CommercialRealEstate #TenantRep  https://t.co/irHOmsv7Pl\n",
      "1361465309329297408 2021-02-15 17:59:59 -0500 <8NewsNow> COVID-19: Close to home.  Could your address play a part in the pandemic?  In an I-Team special report, David Charns shows you the neighborhoods that are considered COVID-19 hot spots. Get all of the details tonight at 6 p.m. in a live report. #8NN  https://t.co/y2HappeaFK\n",
      "1361465306854658048 2021-02-15 17:59:58 -0500 <millahotspot> Has Akufo-Addo delivered the winged snake, Covid?  https://t.co/j7vFjvkpND\n",
      "1361465306024140804 2021-02-15 17:59:58 -0500 <frasco86> @5zambranocz @ManuOlivari @BocaJrsOficial Sos un muerto de hambre Zambrano, por favor que te agarre Covid así nos liberamos de vos por unas fechas\n",
      "1361465305726394370 2021-02-15 17:59:58 -0500 <JaneDoe12976453> Found 653 cases where Vaccine targets COVID-19 (COVID19) and Patient Died  https://t.co/Q4l2AnZ3WD\n",
      "1361465303813808128 2021-02-15 17:59:57 -0500 <roelgrif> @JohannesKeuning @Ellen_elluh @sari32264489 @notmobydick @lemonandpeach @MerlotVine @mr_Smith_Econ @Wimpelientje @DanielTuijnman @verderkijkend @ArmandGirbes @mus_nico @C19RedTeam @hugodejonge Nee, absolute aantallen, waarbij covid is geextrapoleerd o.b.v. een aanname dat er 550.000 doden vallen in de USA in 1 jaar door covid. Daar zitten we nu al zo'n beetje aan. en dat is *met* maatregelen.\n",
      "1361465303348224000 2021-02-15 17:59:57 -0500 <DoomerCoomer> @ShatteredQuark @RinAldrin marvel and dc's sales tanked even before covid, everyone staffed there gives writing jobs to people who clearly hate the characters and gleefully drive these legacies into the ground\n",
      "1361465303079780361 2021-02-15 17:59:57 -0500 <SensorInformati> #SensorInformativo Carmen  INICIÓ VACUNACIÓN COVID19 A ADULTOS MAYORES  https://t.co/gZPNLI4TYu  https://t.co/rdfBK56xBj\n",
      "1361465302714843136 2021-02-15 17:59:57 -0500 <MinAmbienteCo> Una de las metas de la 'Política para la Reactivación: Nuevo Compromiso por el Futuro de Colombia' es la vacunación incluyente para 35 millones de colombianos contra la COVID-19. Más información:  https://t.co/rtj44i5Ie2 #CONPESDeReactivación  https://t.co/6726xAvqsl\n",
      "1361465297996144640 2021-02-15 17:59:56 -0500 <kabuyutan17> PPnBM nol persen? ( Kritik pemerintah bidang ekonomi)  Saya tahu bahwa industri otomotif merupakan salah satu sektor manufaktur yang terkena dampak pandemi Covid-19 paling besar. Di sisi lain, sektor otomoif jadi salah satu industri yang paling banyak menyerap tenaga kerja.\n",
      "1361465297354522626 2021-02-15 17:59:56 -0500 <PaulPisano56> @WAGSocialCare @NassauExecutive will Walgreens  be following the new NYState 1C mandate effective 2/15 and allow those under 65 with health conditions to make Covid vaccine appts.? Cannot right now. Please clarify ASAP !!!\n",
      "1361465293722296320 2021-02-15 17:59:55 -0500 <InuAngry> @jaketapper Jake, I love your progressive reporting, but this is a bad take.  This was debunked by the stellar reporting of @RosaFlores &amp; @randikayeCNN of CNN: only Republican states have failed the COVID response. NY should be held up as an example of how to respond.  https://t.co/QlD5QPVtL4\n",
      "1361465293638262784 2021-02-15 17:59:55 -0500 <WheefoTootho> @Bronson_Gravy @chrisaarterburn @HoodieRamey Kirk is a bum who dropped multiple TD passes and went on a party bus days before the biggest game of his career and got put on the covid list.\n",
      "1361465290958254093 2021-02-15 17:59:54 -0500 <AvA4Bleue> @latimes i hope it will change the minds of those who are insistent that covid19 is a hoax\n",
      "1361465288445853697 2021-02-15 17:59:54 -0500 <John_Sevigny> Name one governor who faced a crisis as bad as covid in New York in March 2020 and handled it better than Cuomo. We had more deaths early on than any other state. We've also flattened the curve better. We had model leadership.\n",
      "1361465288139542529 2021-02-15 17:59:54 -0500 <loudoglfc> Here we go latest  Covid update\n",
      "1361465286101241856 2021-02-15 17:59:53 -0500 <dickins_sasha> #TwitterWorld #mentalhealth #COVID19 #SuicidePrevention hi 🙋‍♀️ beautiful 😍 Twitter world 🌍 hope your all keeping safe and well xx be kind ,be positive and never give up x every life matters x #StayHome\n",
      "1361465285644025861 2021-02-15 17:59:53 -0500 <eithamizera> tô com coriza e tive um breve o que pareceu ser uma febrezinha e aí você fica naquela será q eh só uma gripezinha será q eh só porque eu fui p praia domingo e sou igual pirrai não aguenta dia inteiro na praia ou será q tô com covid 19 e só tenho 3 dias de vida\n",
      "1361465284649975817 2021-02-15 17:59:53 -0500 <gattigracinha> O povo ta achando que covid ta de brincadeira ..\n",
      "1361465283580411907 2021-02-15 17:59:53 -0500 <Fitzyminxy40> @andy70912701 @JuliaHB1 What happens with ppl who are being advised not to get for medical reason? Jesus the world has gone backwards. Maybe we can bring back a form of segregation covid vaccine pubs and non vaccine pubs. Bloody hell give me yer medical info or your no getting in.🤣🤣\n",
      "1361465282225668101 2021-02-15 17:59:52 -0500 <q_aurelius> Last week our childcare provider came to our home with undisclosed COVID symptoms. But the time I find out and sent her home and to get tested, we were exposed.   Now I can't walk to the bathroom without having to sit down and catch my breath.  15/\n",
      "1361465280564781056 2021-02-15 17:59:52 -0500 <OriginalStereo> El Ministerio de Salud informa que de acuerdo a la confirmación de la Farmacéutica Pfizer, se recibirá en la madrugada de este miércoles 17 de febrero, 67,860 dosis de vacunas contra el COVID-19. #OriginalStereo27Años  https://t.co/N6SztHX09R\n",
      "1361465279839166467 2021-02-15 17:59:52 -0500 <MLJankans> @BlackCaucusAus Do not vote for the Covid package. They are trying to rob us again. We are tired of voting for the same people. Hold up the package. DO NOT VOTE unless they give us the $15 an hour.\n",
      "1361465279289647105 2021-02-15 17:59:52 -0500 <nbaguy9899> @kylegriffin1 amazing how the only Republicans in the country who don’t support the COVID all happen to be in Congress.\n",
      "1361465276240449536 2021-02-15 17:59:51 -0500 <UnnimediosMx> 💉😷 @SaludEdomex inicia la primera etapa de vacunación a adultos mayores contra #COVID19 en el Estado de México  #Unnimedios 📰  https://t.co/U0LiMIkcX9  #Edomex @Edomex @alfredodelmazo  https://t.co/lMMFmFhS76\n",
      "1361465275569201153 2021-02-15 17:59:51 -0500 <kgnors79> @LeonardRoxon @CMOH_NL Does anyone have a feeling that the powers that be want to extend and intensify this lockdown for more power and control. What happened to the most important Covid test result, feeling sick and have flu like symptoms? If you have these stay at home.\n",
      "1361465273908396038 2021-02-15 17:59:50 -0500 <HarryLeist> @GOPoooooop @seanhannity China. We find out Governors and mayors didn't take care of their emergency equipment like ventilators. Which is there responsibility. So democrats claimed it was Trumps fault. Mayors put covid patients in nursing homes killing and spreading covid. Democrats claims Trump.\n",
      "1361465273576873986 2021-02-15 17:59:50 -0500 <BobBarthmonina> @Stevo7AFL Thought you were much better than that @Stevo7AFL . It's a Hot Hotel so people likely to have Covid and just hiding their identities. It's not hard to work it out.\n",
      "1361465273413427204 2021-02-15 17:59:50 -0500 <juntasXpublica> Madrid supera los 15.000 fallecidos por COVID-19 en los hospitales de la región  https://t.co/dAxeY6mveH\n",
      "1361465272859820033 2021-02-15 17:59:50 -0500 <Mcatlady54> @mynamesnotgordy Don’t know.   But when he does, can you ask him when I can expect to get my f*cking COVID19 shot? I’ll even take a double double &amp; a chocolate dip with that.   Signed, Pissed off ON senior who votes @fordnation\n",
      "1361465272838856708 2021-02-15 17:59:50 -0500 <myahmctear> Send a letter to your members of Congress...  - to demand $15/hr, union rights and a just #COVID19 relief package!  https://t.co/tiDrnA9Hta\n",
      "1361465272738144262 2021-02-15 17:59:50 -0500 <SAnatolios> I'm not saying covid doesn't exist but I am saying the hysteria to an illness that is quite average is over the top to ruin everyone's lives and take away my bodily autonomy with a placebo.\n",
      "1361465271781851136 2021-02-15 17:59:50 -0500 <eonny> @Elizabe54318163 @govkristinoem You do know South Dakota has the 7th worst COVID death rate per capita in the country?\n",
      "1361465271366479872 2021-02-15 17:59:50 -0500 <profyousefi> @ChildFoundUSA @MazJobrani @firoozehdumas Is this virtual and physical? We signed up assuming it is Covid-safe=virtual but have not received any confirmation nor more information. Thanks @firoozehdumas @MazJobrani @ChildFoundUSA .\n",
      "1361465271358279682 2021-02-15 17:59:50 -0500 <FuturoVieira> Projeto Bruno Vieira futuro jornalista  Cobertura de informações do desenvolvimento da vacinação contra a covid-19 aqui no Brasil.  https://t.co/IBFHkmZFmj\n",
      "1361465269894459393 2021-02-15 17:59:49 -0500 <ForgottenPAYE> “Eligibility for Government support should be extended to those missing out, including limited company directors and freelancers.”  Covid-19: Treasury Committee reports on economic impact accountancylive  https://t.co/lqhu6bDbjq via @accountancylive\n",
      "1361465269667913730 2021-02-15 17:59:49 -0500 <celulu99> @oncor @ERCOT_ISO My mom and I are stuck inside with COVID atm. My mom has a 102 fever and the chills and I cannot help or even cook a warm meal for her. The electricity came on ten minutes before going off again. This shouldn't be an issue. It is an immense lack of planning.\n",
      "1361465266413182978 2021-02-15 17:59:48 -0500 <vivifuckin_life> Perso j'ai pas eu le covid après la beach des salines donc 😂\n",
      "1361465264928358402 2021-02-15 17:59:48 -0500 <Reporte_Indigo> Mario Draghi es el nuevo primer ministro de Italia y ahora está listo para continuar con su gobierno, sus principales retos serán hacerle frente al #COVID19 y a las secuelas económicas que ha provocado  https://t.co/j5Qj1oG2hK  https://t.co/tEWmC8GIg1\n"
     ]
    },
    {
     "name": "stdout",
     "output_type": "stream",
     "text": [
      "1361465262055321605 2021-02-15 17:59:47 -0500 <Shayan86> Last month he claimed Nesara - an old conspiracy about the global economy - was \"low key announced\" before election day and there was a chance Gitmo prisoners would be given Covid vaccines so they'd die and the real cause of their deaths - executions - could be concealed.  https://t.co/wzJAi2BWnQ\n",
      "1361465261757526017 2021-02-15 17:59:47 -0500 <erensscrawnyazz> @JSHKSUPREMACY BAHA I’m sorry that happened but it must’ve been worth it lmfaoo. And yeah tysmmm I was on a concert rave b4 covid🙈\n",
      "1361465261308710913 2021-02-15 17:59:47 -0500 <Team_kinda1> The Egyptian government force 22 million students to attend for schools and universities without any care about their health from covid-19  Please Help them 💔 @WHO @hrw @hrw_ar @UNICEF @UNICEF_Egypt #مصر_تضحي_بالطلاب\n",
      "1361465260792815616 2021-02-15 17:59:47 -0500 <mcforgod> @ABC @JoeBiden called on 60+mil Americans to riot for 90 days in the middle of a pandemic. He said COVID was to easy to spread so he stopped holding rallies after Super Tuesday. But on March 26th Joe infected our country to flood the system with FAKE BALLOTS.  https://t.co/zw4WNRuMPb\n",
      "1361465259748450304 2021-02-15 17:59:47 -0500 <ryabro> @SCforEd @Molly_Spearman @EducationSC If this is being asked of families &amp; educators in a school, community needs to be asking the school board how they are spending $1.2 BILLION in federal funds that districts have received for COVID-19.  ESSER I -  https://t.co/vIIGdwuquz ESSER II -  https://t.co/8LTcMwFpcZ\n",
      "1361465258464976909 2021-02-15 17:59:47 -0500 <Consalud_es> #EspecialCoronavirus | El @CSIC obtiene un nanomaterial que elimina la #COVID19  https://t.co/ZWeKoDHE5h\n",
      "1361465258179723275 2021-02-15 17:59:47 -0500 <VirtuosoAssist> @BBCPanorama They're entitled to their opinion, the they're entitled to refuse the vaccine.  But hospitals should be entitled to send them to the back of the queue if they get Covid.\n",
      "1361465256741076993 2021-02-15 17:59:46 -0500 <quinones_alanis> Secretario de @desaludpr insiste en que el atraso en las vacunas está en los datos reportados y no es las vacunas como tal. #COVID19 #PuertoRico\n",
      "1361465256388755456 2021-02-15 17:59:46 -0500 <PauIRob> Pretty much all twitter polls appear to be showing similar results, despite what we are being told..  Worryingly, twitter is not real life..  #lockdown #Boris #COVID19 #coronavirus\n",
      "1361465250973945857 2021-02-15 17:59:45 -0500 <Kopter__> Covid need to end im tryna duet karaoke with somebody daughter\n",
      "1361465250608914433 2021-02-15 17:59:45 -0500 <AmyLynnPupLover> @PunkResists I still have the stockpile from the COVID shutdown...\n",
      "1361465249069551617 2021-02-15 17:59:44 -0500 <hectorharmon7> COVID-19 proves to be a tailwind for Nearmap  https://t.co/60abKlB8pS\n",
      "1361465248549584896 2021-02-15 17:59:44 -0500 <OKBradCarl> FYI: It’s not the vaccinations dropping the COVID case numbers yet...it’s continued social distancing, less travel, etc.  https://t.co/c5Jg4WUEIb\n",
      "1361465247228452864 2021-02-15 17:59:44 -0500 <dnbbook5> @McmuffinLady I wrote out the covid protocols for an exercise we’re doing and the Col in charge was like yeah we aren’t doing contact tracing, it has the potential to shut everything down. Yes? That’s how it works? (Also he was very much told we will be doing it by the Wing)\n",
      "1361465246045646851 2021-02-15 17:59:44 -0500 <CristhianSM13> @antoinejes942 Ya gracias por la info, lo bueno que Rescalvo esta mirando las inferiores aunque obligado por lo del covid pero es bueno que busque jugadores en la cantera\n",
      "1361465245689085960 2021-02-15 17:59:44 -0500 <SvecTweet> Får mig att undra hur många som dött i Kina innan det ens blev en nyhet utanför Kina och världen fick reda på att Covid-19 existerade. Kanske var rejälare än vad som hittills framkommit och först när det inte gick att dölja längre blev det nyheter av det.\n",
      "1361465243273023488 2021-02-15 17:59:43 -0500 <MayaZoeee> @MayaZoeee's account is temporarily unavailable because it violates the Twitter Media Policy. Learn more.\n",
      "1361465242362863617 2021-02-15 17:59:43 -0500 <warwick512> @14froger14 @GenRescue Of course if you want to invent a different measurement of your own, and then retrospectively apply it to the other contagions we compare Covid to; That's perfectly fine. But good luck with that idea taking off among the experts.\n",
      "1361465241058631681 2021-02-15 17:59:42 -0500 <Sandy85762869> @startelegram Under @GregAbbott_TX he has totally mismanaged the response to Covid and now the response to these frigid temps under his leadership causing unprecedented blackouts. Abbott is as big of a joke as Trump was and is.\n",
      "1361465239867392002 2021-02-15 17:59:42 -0500 <ACCEDIALSITO> Darsena di Ferrara...raso al suolo il bosco. IN TUTTA ITALIA STANNO ABBETTENDO ALBERI COME MAI? \"vedi quantum dots\" #stop 5G #gfivip #Brunetta #Inter #Torino #COVID19 #Corona #corriere #RicciardiVattene #Draghi #Sallusti  #varianteinglese #zaia #Bassetti #lockdown #Rai  https://t.co/GBNt7OOwid\n",
      "1361465239846277121 2021-02-15 17:59:42 -0500 <El_Grillo1> Australian Proud Boys sought combat-trained supporters to 'arrest' police at Covid lockdown protests  https://t.co/Dj4qQO1YNl\n",
      "1361465239502540803 2021-02-15 17:59:42 -0500 <TurtleKnife16> @Cade50143331 @bryandaboss1 @scrowder Only about 50k people were even infected with a mosquito born disease here in the US in 2018. Here in the US, almost a half million people have died (that's the equivalent of a medium sized city). Worldwide 2 million have died from COVID while only 1 million die each year from1/2\n",
      "1361465239317921793 2021-02-15 17:59:42 -0500 <infonogalescom> Inició este lunes vacunación contra Covid-19 para adultos mayores en 45 municipios de #Sonora @ClaudiaPavlovic @gobiernosonora @ssaludsonora @GobiernoMX @SSalud_mx  https://t.co/Ugg3RYGV4w\n",
      "1361465239217135616 2021-02-15 17:59:42 -0500 <medicosergio> 🔥Les comparto mi artículo en prensa.  #obesidad y #COVID19\n",
      "1361465239053631488 2021-02-15 17:59:42 -0500 <ROBERTRROWLEY> Symptomatic Covid-19 Cases Dropped 94% With Pfizer Vaccine, Israeli Data Show  https://t.co/VTPlTCHE6S\n",
      "1361465238432804865 2021-02-15 17:59:42 -0500 <rjclac> IHS COVID TESTING AT SIPI   https://t.co/8jEPqoXSle  https://t.co/iu9JEWwinR\n",
      "1361465237690585088 2021-02-15 17:59:42 -0500 <Psycobunny> @PeterMNorman @SuzanneEvans1 @JamesfWells They are not the same! The yellow fever vaccine is well known/trialed and side effects understood. The covid vaccine is not. Yellow fever is not mandatory for all but the least pop destinations ww. This is being talked about for going to tescos, never mind Spain.\n",
      "1361465236893667330 2021-02-15 17:59:41 -0500 <enfraybentos> 7 casos nuevos de coronavirus en Río Negro.  https://t.co/Tt0eqS5k5L\n",
      "1361465235710894082 2021-02-15 17:59:41 -0500 <amberjtresca> COVID is not funny. But accusing each other of having COVID every time we sneeze: that's funny.\n",
      "1361465234289004546 2021-02-15 17:59:41 -0500 <FascBear> @Scoop36431703 @ByronLuna16 @jaketapper Setup for COVID, an unknown highly communicable disease, which means more focus on isolation throughout the ship, which means fewer beds overall to keep everything separated.  It is a floating hospital. It has modular designs.  Next.\n",
      "1361465233336897538 2021-02-15 17:59:41 -0500 <Telemundo39> Última hora / Conferencia de prensa: El juez del condado Dallas, Clay Jenkins, el doctor Philip Huang, y un representante de Oncor brindan actualización sobre el tiempo invernal y el plan de acción por el COVID-19. Mira aquí la conferencia:  https://t.co/qRqKwUwkMv\n",
      "1361465231134842888 2021-02-15 17:59:40 -0500 <jennermostoles> Parecen pocos, cuando #Ayuso está mas preocupada de abrir más bares  Madrid supera los 15.000 fallecidos por COVID-19 en los hospitales de la región  https://t.co/RmH9iLtWrY\n",
      "1361465231063592962 2021-02-15 17:59:40 -0500 <Mougeon2> @zanfr @mon_caillou Selon le site américain des évènements indésirables du #Vaccin #COVID19 #VAERS: 73% des 468 sujets dont le pronostic vital a été engagé avaient entre 17 et 65 ans et 57% des 653 décès avaient plus de 75 ans  https://t.co/GOuGhvTSKb\n",
      "1361465230782439425 2021-02-15 17:59:40 -0500 <super_crone> @DrGJackBrown @ManMet80 Class action suit People of the USA vs DJT for extreme negligence. There are millions of us that have had COVID. Most of us have never fully recovered nor will we ever do so. Probably a million dead. Totally unacceptable. #JailForDJT and his accomplices.  https://t.co/go2V0dwYu7\n",
      "1361465228844744704 2021-02-15 17:59:40 -0500 <kevinpbreslin> @POCX100 @_Innovation_ @PhilibertLeslie At what stage in my hypothetical did I compare hospitalization rates in a single vaccination to having no vaccination at all?   My point is there will still be \"vaccinated people\" going to hospital with COVID symptoms, even if it's minor symptoms.\n",
      "1361465228614057985 2021-02-15 17:59:39 -0500 <ecobearwitness> Cuomo's COVID cover-up hid nearly 1,900 NYC nursing home deaths: New York Post  https://t.co/cxYtByyOZS  MORE w/ EcoSearch:  https://t.co/bqfGdp0D2g\n",
      "1361465228316323841 2021-02-15 17:59:39 -0500 <jangmunru> u potpisu  -covid elita\n",
      "1361465227783585798 2021-02-15 17:59:39 -0500 <coccinelle2323> @silvano_trotta Et si une personne Covid asymptomatique est hôspitalisée. On la met où d'après vous? Dans une chambre auprès de personnes Non-Covid. Vois êtes ridicules.\n",
      "1361465227473207298 2021-02-15 17:59:39 -0500 <angela_army97> Bueno si quieren tener una dictadura donde el hambre de poder es más la plata que TU GANAS se lo robe esos políticos de cuarta que fallescan mas personas por covid y después para a hacerse a los desatendidos allá tú Yo en cambio quiero un Perú mejor #RestituyanaMerino 💩🤡  https://t.co/LndPDyiQGA\n",
      "1361465226894409729 2021-02-15 17:59:39 -0500 <Roydini25> COVID-19: Banning care home visits 'inhumane and barbaric', says one still allowing family contact  https://t.co/DwjPvHOIKF\n"
     ]
    },
    {
     "name": "stdout",
     "output_type": "stream",
     "text": [
      "[!] No more data! Scraping will stop now.\n",
      "found 0 deleted tweets in this search.\n"
     ]
    }
   ],
   "source": [
    "twint.run.Search(c)"
   ]
  },
  {
   "cell_type": "code",
   "execution_count": 21,
   "metadata": {},
   "outputs": [],
   "source": [
    "tweetsBegFeb = pd.read_csv('covidtweetsBegFeb.csv')"
   ]
  },
  {
   "cell_type": "code",
   "execution_count": 22,
   "metadata": {},
   "outputs": [
    {
     "data": {
      "text/plain": [
       "(5123, 36)"
      ]
     },
     "execution_count": 22,
     "metadata": {},
     "output_type": "execute_result"
    }
   ],
   "source": [
    "tweetsBegFeb.shape"
   ]
  },
  {
   "cell_type": "code",
   "execution_count": 23,
   "metadata": {},
   "outputs": [
    {
     "data": {
      "text/html": [
       "<div>\n",
       "<style scoped>\n",
       "    .dataframe tbody tr th:only-of-type {\n",
       "        vertical-align: middle;\n",
       "    }\n",
       "\n",
       "    .dataframe tbody tr th {\n",
       "        vertical-align: top;\n",
       "    }\n",
       "\n",
       "    .dataframe thead th {\n",
       "        text-align: right;\n",
       "    }\n",
       "</style>\n",
       "<table border=\"1\" class=\"dataframe\">\n",
       "  <thead>\n",
       "    <tr style=\"text-align: right;\">\n",
       "      <th></th>\n",
       "      <th>id</th>\n",
       "      <th>conversation_id</th>\n",
       "      <th>created_at</th>\n",
       "      <th>date</th>\n",
       "      <th>time</th>\n",
       "      <th>timezone</th>\n",
       "      <th>user_id</th>\n",
       "      <th>username</th>\n",
       "      <th>name</th>\n",
       "      <th>place</th>\n",
       "      <th>...</th>\n",
       "      <th>geo</th>\n",
       "      <th>source</th>\n",
       "      <th>user_rt_id</th>\n",
       "      <th>user_rt</th>\n",
       "      <th>retweet_id</th>\n",
       "      <th>reply_to</th>\n",
       "      <th>retweet_date</th>\n",
       "      <th>translate</th>\n",
       "      <th>trans_src</th>\n",
       "      <th>trans_dest</th>\n",
       "    </tr>\n",
       "  </thead>\n",
       "  <tbody>\n",
       "    <tr>\n",
       "      <th>0</th>\n",
       "      <td>1442590686864236544</td>\n",
       "      <td>1442565240143503368</td>\n",
       "      <td>2021-09-27 15:43:16 CDT</td>\n",
       "      <td>2021-09-27</td>\n",
       "      <td>15:43:16</td>\n",
       "      <td>-500</td>\n",
       "      <td>56878214</td>\n",
       "      <td>darinp2</td>\n",
       "      <td>BarrDeceivedForTrump</td>\n",
       "      <td>NaN</td>\n",
       "      <td>...</td>\n",
       "      <td>NaN</td>\n",
       "      <td>NaN</td>\n",
       "      <td>NaN</td>\n",
       "      <td>NaN</td>\n",
       "      <td>NaN</td>\n",
       "      <td>[{'screen_name': 'RussDzl', 'name': 'RussDzl',...</td>\n",
       "      <td>NaN</td>\n",
       "      <td>NaN</td>\n",
       "      <td>NaN</td>\n",
       "      <td>NaN</td>\n",
       "    </tr>\n",
       "    <tr>\n",
       "      <th>1</th>\n",
       "      <td>1442590686273024003</td>\n",
       "      <td>1442590686273024003</td>\n",
       "      <td>2021-09-27 15:43:16 CDT</td>\n",
       "      <td>2021-09-27</td>\n",
       "      <td>15:43:16</td>\n",
       "      <td>-500</td>\n",
       "      <td>513975987</td>\n",
       "      <td>zinga1991</td>\n",
       "      <td>WhitePaperRobinson</td>\n",
       "      <td>NaN</td>\n",
       "      <td>...</td>\n",
       "      <td>NaN</td>\n",
       "      <td>NaN</td>\n",
       "      <td>NaN</td>\n",
       "      <td>NaN</td>\n",
       "      <td>NaN</td>\n",
       "      <td>[]</td>\n",
       "      <td>NaN</td>\n",
       "      <td>NaN</td>\n",
       "      <td>NaN</td>\n",
       "      <td>NaN</td>\n",
       "    </tr>\n",
       "    <tr>\n",
       "      <th>2</th>\n",
       "      <td>1442590685488562178</td>\n",
       "      <td>1442262656388251649</td>\n",
       "      <td>2021-09-27 15:43:16 CDT</td>\n",
       "      <td>2021-09-27</td>\n",
       "      <td>15:43:16</td>\n",
       "      <td>-500</td>\n",
       "      <td>188216669</td>\n",
       "      <td>yvettelu</td>\n",
       "      <td>Dr. Yvette Lu</td>\n",
       "      <td>NaN</td>\n",
       "      <td>...</td>\n",
       "      <td>NaN</td>\n",
       "      <td>NaN</td>\n",
       "      <td>NaN</td>\n",
       "      <td>NaN</td>\n",
       "      <td>NaN</td>\n",
       "      <td>[{'screen_name': 'dds_135', 'name': 'Barren Wa...</td>\n",
       "      <td>NaN</td>\n",
       "      <td>NaN</td>\n",
       "      <td>NaN</td>\n",
       "      <td>NaN</td>\n",
       "    </tr>\n",
       "    <tr>\n",
       "      <th>3</th>\n",
       "      <td>1442590685354360844</td>\n",
       "      <td>1442590685354360844</td>\n",
       "      <td>2021-09-27 15:43:16 CDT</td>\n",
       "      <td>2021-09-27</td>\n",
       "      <td>15:43:16</td>\n",
       "      <td>-500</td>\n",
       "      <td>1266373605291552770</td>\n",
       "      <td>feliciasunnyfl1</td>\n",
       "      <td>Felicia@SunnyFlorida</td>\n",
       "      <td>NaN</td>\n",
       "      <td>...</td>\n",
       "      <td>NaN</td>\n",
       "      <td>NaN</td>\n",
       "      <td>NaN</td>\n",
       "      <td>NaN</td>\n",
       "      <td>NaN</td>\n",
       "      <td>[]</td>\n",
       "      <td>NaN</td>\n",
       "      <td>NaN</td>\n",
       "      <td>NaN</td>\n",
       "      <td>NaN</td>\n",
       "    </tr>\n",
       "    <tr>\n",
       "      <th>4</th>\n",
       "      <td>1442590683861188612</td>\n",
       "      <td>1442575208351629313</td>\n",
       "      <td>2021-09-27 15:43:15 CDT</td>\n",
       "      <td>2021-09-27</td>\n",
       "      <td>15:43:15</td>\n",
       "      <td>-500</td>\n",
       "      <td>390473749</td>\n",
       "      <td>rpegazo</td>\n",
       "      <td>El Culpable del Covid19 según María Fernanda C...</td>\n",
       "      <td>NaN</td>\n",
       "      <td>...</td>\n",
       "      <td>NaN</td>\n",
       "      <td>NaN</td>\n",
       "      <td>NaN</td>\n",
       "      <td>NaN</td>\n",
       "      <td>NaN</td>\n",
       "      <td>[{'screen_name': 'Roberto70313428', 'name': 'R...</td>\n",
       "      <td>NaN</td>\n",
       "      <td>NaN</td>\n",
       "      <td>NaN</td>\n",
       "      <td>NaN</td>\n",
       "    </tr>\n",
       "  </tbody>\n",
       "</table>\n",
       "<p>5 rows × 36 columns</p>\n",
       "</div>"
      ],
      "text/plain": [
       "                    id      conversation_id               created_at  \\\n",
       "0  1442590686864236544  1442565240143503368  2021-09-27 15:43:16 CDT   \n",
       "1  1442590686273024003  1442590686273024003  2021-09-27 15:43:16 CDT   \n",
       "2  1442590685488562178  1442262656388251649  2021-09-27 15:43:16 CDT   \n",
       "3  1442590685354360844  1442590685354360844  2021-09-27 15:43:16 CDT   \n",
       "4  1442590683861188612  1442575208351629313  2021-09-27 15:43:15 CDT   \n",
       "\n",
       "         date      time  timezone              user_id         username  \\\n",
       "0  2021-09-27  15:43:16      -500             56878214          darinp2   \n",
       "1  2021-09-27  15:43:16      -500            513975987        zinga1991   \n",
       "2  2021-09-27  15:43:16      -500            188216669         yvettelu   \n",
       "3  2021-09-27  15:43:16      -500  1266373605291552770  feliciasunnyfl1   \n",
       "4  2021-09-27  15:43:15      -500            390473749          rpegazo   \n",
       "\n",
       "                                                name place  ... geo source  \\\n",
       "0                               BarrDeceivedForTrump   NaN  ... NaN    NaN   \n",
       "1                                 WhitePaperRobinson   NaN  ... NaN    NaN   \n",
       "2                                      Dr. Yvette Lu   NaN  ... NaN    NaN   \n",
       "3                               Felicia@SunnyFlorida   NaN  ... NaN    NaN   \n",
       "4  El Culpable del Covid19 según María Fernanda C...   NaN  ... NaN    NaN   \n",
       "\n",
       "  user_rt_id user_rt retweet_id  \\\n",
       "0        NaN     NaN        NaN   \n",
       "1        NaN     NaN        NaN   \n",
       "2        NaN     NaN        NaN   \n",
       "3        NaN     NaN        NaN   \n",
       "4        NaN     NaN        NaN   \n",
       "\n",
       "                                            reply_to  retweet_date  translate  \\\n",
       "0  [{'screen_name': 'RussDzl', 'name': 'RussDzl',...           NaN        NaN   \n",
       "1                                                 []           NaN        NaN   \n",
       "2  [{'screen_name': 'dds_135', 'name': 'Barren Wa...           NaN        NaN   \n",
       "3                                                 []           NaN        NaN   \n",
       "4  [{'screen_name': 'Roberto70313428', 'name': 'R...           NaN        NaN   \n",
       "\n",
       "  trans_src trans_dest  \n",
       "0       NaN        NaN  \n",
       "1       NaN        NaN  \n",
       "2       NaN        NaN  \n",
       "3       NaN        NaN  \n",
       "4       NaN        NaN  \n",
       "\n",
       "[5 rows x 36 columns]"
      ]
     },
     "execution_count": 23,
     "metadata": {},
     "output_type": "execute_result"
    }
   ],
   "source": [
    "tweetsBegFeb.head()"
   ]
  },
  {
   "cell_type": "code",
   "execution_count": 59,
   "metadata": {},
   "outputs": [
    {
     "data": {
      "text/plain": [
       "Index(['id', 'conversation_id', 'created_at', 'date', 'time', 'timezone',\n",
       "       'user_id', 'username', 'name', 'place', 'tweet', 'language', 'mentions',\n",
       "       'urls', 'photos', 'replies_count', 'retweets_count', 'likes_count',\n",
       "       'hashtags', 'cashtags', 'link', 'retweet', 'quote_url', 'video',\n",
       "       'thumbnail', 'near', 'geo', 'source', 'user_rt_id', 'user_rt',\n",
       "       'retweet_id', 'reply_to', 'retweet_date', 'translate', 'trans_src',\n",
       "       'trans_dest'],\n",
       "      dtype='object')"
      ]
     },
     "execution_count": 59,
     "metadata": {},
     "output_type": "execute_result"
    }
   ],
   "source": [
    "tweetsBegFeb.columns"
   ]
  },
  {
   "cell_type": "code",
   "execution_count": 113,
   "metadata": {},
   "outputs": [],
   "source": [
    "c1 = twint.Config()\n",
    "\n",
    "c1.Search = \"covid OR coronavirus OR COVID-19\"\n",
    "c1.Lang = \"en\"\n",
    "c1.Since = \"2021-02-17\"\n",
    "c1.Until = \"2021-02-28\"\n",
    "c1.Limit = 5000\n",
    "c1.Store_csv = True\n",
    "c1.Output = 'covidtweetsEndFeb.csv'"
   ]
  },
  {
   "cell_type": "code",
   "execution_count": 114,
   "metadata": {},
   "outputs": [
    {
     "name": "stdout",
     "output_type": "stream",
     "text": [
      "1365813964756692993 2021-02-27 17:59:59 -0500 <USAGov> Are you ready to roll your sleeve up for the COVID-19 vaccine?   Each state has its own registration and vaccination plan.   Learn about the COVID-19 Vaccination Program and find information on how and when you can get vaccinated in your area.  https://t.co/6CXeIOhS7E\n",
      "1365813964320501767 2021-02-27 17:59:59 -0500 <seeker375> I've been trying to tweet about Dr Yeadon, for a long time, now, days... Why wouldn't you allow the page to refresh? Why did I have to log out? Why don't you want to accept opinions from the \"other side\" about Covid &amp; vaccines? Why? No MSM Debate! #MSM #SackSAGE\n",
      "1365813963578040322 2021-02-27 17:59:59 -0500 <FMLaMarea> Elsa Nélida Alonso, una mujer de 90 años, de la localidad bonaerense de #Cañuelas, se transformó hoy en la persona 1.000.000 en recibir una vacuna como parte del Plan Estratégico para la #vacunación contra el #COVID19 en la Argentina, según informó el @msalnacion  #FMLaMarea  https://t.co/tAbsMumB7l\n",
      "1365813963431280640 2021-02-27 17:59:59 -0500 <MBRodamilans> This article is a must read not only for those interested in COVID, but for anyone interested in public policy communications...\n",
      "1365813962739179523 2021-02-27 17:59:58 -0500 <The_StreetPress> U.S. authorizes Johnson &amp; Johnson’s COVID-19 vaccine By Reuters  https://t.co/T1qzs5cVni\n",
      "1365813962173018113 2021-02-27 17:59:58 -0500 <ImBrianBritain> Another weapon in the fight against Covid. #JandJ #1010WINS\n",
      "1365813959333318656 2021-02-27 17:59:58 -0500 <Richard31225984> The Food and Drug Administration has authorized Johnson &amp; Johnson’s vaccine for emergency use, making it the third vaccine available to the US public and securing another vital step in the US fight to control Covid-19.  Lets see how Trudeau fucks this up.Canada needs to concur\n",
      "1365813958377152516 2021-02-27 17:59:57 -0500 <BbsitaMaldonado> Wow el covid me ha creado un social anxiety 🤡\n",
      "1365813958163111938 2021-02-27 17:59:57 -0500 <NxtLevelPromo_> @AP There’s three COVID-19 vaccines but Flint, Michigan still doesn’t have clean water 🤔.\n",
      "1365813958008074240 2021-02-27 17:59:57 -0500 <Claudia53893506> @mauriciomacri Sos peor que el Covid , pero por suerte una vacuna nos proteje de vos, Cristina\n",
      "1365813957227905030 2021-02-27 17:59:57 -0500 <thomas_neddo> @JenniferWexton No they voted against the bailouts of red states plus the fact that more money was going to other country's than to Americans and covid relief\n",
      "1365813955936083980 2021-02-27 17:59:57 -0500 <TJProvincial> Canada's COVID models have been largely accurate, with worst cases avoided  https://t.co/0a6E4EuYfa  https://t.co/MOmv1yzpyn\n",
      "1365813955399155716 2021-02-27 17:59:57 -0500 <PeriwinkleRose3> Me too. Since March 11,2020, I have been hime due to COVID precautions. I have learned to enjoy my own company and took up drawing and painting. Didn’t used to dislike people so much but the last four years has certainly decreased my tolerance considerably. I am introverted too.\n",
      "1365813955361452039 2021-02-27 17:59:57 -0500 <dxlcemaria> eu e meus amigos fizemos teste de covid e deu negativo 🙏🏻\n",
      "1365813954988044288 2021-02-27 17:59:57 -0500 <beritaminangcom> DPRD Sumbar Rekomendasikan Agar Kepala BPBD Ditindak, Ini Jawaban Gubernurr Mahyeldi #COVID19 #Covid_19 #COVID  https://t.co/ryqW4OIr2a\n",
      "1365813952941326337 2021-02-27 17:59:56 -0500 <ysupandillajxc> @pulsionparcial Cómo siempre, o se cagan muriendo de hambre, o de covid.les da lo mismo,\n",
      "1365813952857452546 2021-02-27 17:59:56 -0500 <Samantha_Doom> En que momento el covid se terminó, que yo veo a todo mundo en la playa, ríos, montaña, parqueando en carnitas asada, piscina sin mascarillas 👁️👄👁️\n",
      "1365813952647745542 2021-02-27 17:59:56 -0500 <eusebeias> CONSIDERANDO EN FRIO, IMPARCIALMENTE, SOLO  HERNANDO DE SOTO ESTA PREPARADO PARA RESCATAR NUESTRO PAÍS DESVASTADO POR EL COVID-19, CON UNA ECONOMIA EN RUINAS Y CON LA CORRUPCIÓN A TODO NIVEL.\n",
      "1365813951544623106 2021-02-27 17:59:56 -0500 <DWR_Productions> \"FDA grants emergency use authorization for Johnson &amp; Johnson's COVID-19 vaccine\"   https://t.co/EUtGidHVfZ\n",
      "1365813951217479680 2021-02-27 17:59:56 -0500 <peluporlachucha> No me dieron el bono covid de funcionario de salud y llevo 2 años trabajando en el mismo hospital 😢\n",
      "1365813950869352455 2021-02-27 17:59:56 -0500 <gregholman3> @WHAS11 We are suffering under Biden for sure. The bill is not a Covid or stimulus bill it pays only 9% of it on American people - the rest is pay back to Pelosi and Shumer people in NY and CA\n",
      "1365813950349123584 2021-02-27 17:59:56 -0500 <Tragictiger> Neighbour just Covid-proofed her car...  https://t.co/rGOOHXT3ql\n",
      "1365813949975973890 2021-02-27 17:59:55 -0500 <nechod> @RogerValdes @jfea9 @patricionavia Calma campeón sigue creyendo que la gente solo muere de COVID....  #TodosLosFachosSonWeones\n",
      "1365813948642115585 2021-02-27 17:59:55 -0500 <LanaMontalban> #BREAKING #BreakingNews  FDA authorizes Johnson &amp; Johnson's single-shot coronavirus vaccine The action  means the US will have 3 vaccines, a year after the virus began spreading rapidly. A few million doses expected to be shipped shortly, with supplies increasing in coming weeks\n",
      "1365813947971104783 2021-02-27 17:59:55 -0500 <le__vir> meu teste de covid deu negativo  deus n castiga duas vezes #fe #tudonocontrole 🙏🏻🙏🏻\n",
      "1365813947136413696 2021-02-27 17:59:55 -0500 <nacho79162> Fallecidos COVID argentina 👇👇👇👇 24 feb.....15 muertos 25 feb.....30 muertos 26 feb.....92 muertos 27 feb.....59 muertos  Que  pasa  @carlavizzotti empezamos a esconder los muertos?  🙄🙄🙄\n",
      "1365813947043962882 2021-02-27 17:59:55 -0500 <baermath> @robertkaplinsky @MrVaudrey They seem to be popular again and I think Covid has increased this.\n",
      "1365813943336398850 2021-02-27 17:59:54 -0500 <DrWoodcockFDA> LISTEN LIVE: Be sure to listen in as @FDACBER Director Dr. Peter Marks and I discuss today’s #COVID19 vaccine authorization with the media. You can access the stream here on YouTube:  https://t.co/J6rGAkfRp0\n",
      "1365813941419397121 2021-02-27 17:59:53 -0500 <melzo36> @DavidShuster @JoseArmand37 Min. wage will be separate -  loan forgiveness should be by case basis only those that were impacted due to Covid.  No financial loss no forgiveness. Loans need to be restructured capping interest allowing students to pay off in decent time -Students knew the commitment and cost.\n",
      "1365813940844965893 2021-02-27 17:59:53 -0500 <aricrindfleisch> Lockdowns Do Not Control the Coronavirus: The Evidence  https://t.co/YLglQOi4j3 via @aier\n",
      "1365813940828135427 2021-02-27 17:59:53 -0500 <kdcoffey93> A third vaccine approved in the fight against #COVID19 . Great news\n",
      "1365813940522020872 2021-02-27 17:59:53 -0500 <SocialistVoice> High Court dismisses case on failure to give guidance on prioritising NHS patients during the coronavirus pandemic  Court was told doctors regularly faced with desperately difficult decisions about which patients should first in line for treatment    https://t.co/74gZilMssq\n",
      "1365813938898825219 2021-02-27 17:59:53 -0500 <fogey> @Nixxed @votenoincumbent @forgive_luv @guardian Meanwhile you’ve had over half a million covid deaths in the USA and they have had 26.   But yeah, lecture them about “proportionality.”\n",
      "1365813936918982657 2021-02-27 17:59:52 -0500 <rene_twilight> The Department of Health (DOH) reported a record-high 2,921 new coronavirus disease 2019 (COVID-19) infections on Saturday, bringing the nation’s tally to 574,247, as six laboratories failed to submit data on time.  https://t.co/B2zfOJEGRJ\n",
      "1365813936520499200 2021-02-27 17:59:52 -0500 <MarianSmedley> @smh @smh_andrew I've always preferred no physical contact at work (handshakes were OK) esp. as a woman I would get men I hardly knew insisting on kissing me on the cheek. I'm pleased Covid has stopped that.\n",
      "1365813933899190273 2021-02-27 17:59:52 -0500 <Dulceclotilde> @soybruji_20 @PatriotaCurico Políticos, Colectivos,Venezolanos,Haitianos,Colombianos,Extranjeros,Derechos,Manifestación,Pacífica,Convención,constituyente,Candidatos,pueblo,Comisión,INDH,Jesuitas,CAM,Reivindicaciones,Exigimos, encuesta,periodista,analista,compañero,aborto,Covid, cuarentena,vacuna,fase 1,2,3\n",
      "1365813933173395458 2021-02-27 17:59:51 -0500 <Asdaysuki> kgn jalan2 liburan, ke museum,candi, festival, makan2 bgt bgt bgt 😭❤🙏🏼 . #art #artist #drawing #artwork #digitalart #fanart #anime #drawings #oc #indonesia #dirumahaja #lfl #instagram #COVID19 #illustration #illustrator #digital #painting  https://t.co/0rkCF0NXDt\n",
      "1365813931814625282 2021-02-27 17:59:51 -0500 <bysheldon> @wagrobanite @thegymterdotnet But like send a container to their house from amazon? It is what it is. I get covid but surely you can do something ro the athletes who are the only reason they exist.\n",
      "1365813931411976194 2021-02-27 17:59:51 -0500 <Hernn33797938> La lógica de mis Borregos Útiles? Que estamos como #Venezuela por tantas colas en todas partes! Les respondo que Si. Ya que el #Covid19 llego del imperio Comunista Chino.🙃\n",
      "1365813930803814402 2021-02-27 17:59:51 -0500 <ainhoaglez_> Aegerter lleva mas test de covid que yo, tampoco estamos tan mal\n"
     ]
    },
    {
     "name": "stdout",
     "output_type": "stream",
     "text": [
      "1365813929457422336 2021-02-27 17:59:51 -0500 <M4rcus_Fuchs> @wahrundtreu Mein Beileid. Hauptsache nicht an COVID.\n",
      "1365813929046253572 2021-02-27 17:59:50 -0500 <ACCEDIALSITO> #pandemia #virus #Juventus #Juve #COVID19 #zaia #SalaLettura #Bassetti #gfivip  https://t.co/eLkUtibyDV\n",
      "1365813928018739204 2021-02-27 17:59:50 -0500 <publicaPenelope> Estado dentro do Estado: os gastos sem limites da República Fardada - #ForaBolsonaro #BolsonaroGenocida #coronavirus #BolsonaroÉCulpado #Covid_19 #DefundBolsonaro #Brasilsufocado #ImpeachmentBolsonarourgente #Abraçaavacina #Impeachmentparavacina   https://t.co/ruTjuGtOBa\n",
      "1365813928006213633 2021-02-27 17:59:50 -0500 <ItoOliveira1> @DCM_online @BiaC37522495 O presidente é o principal pelo aumento da covid-19 o irresponsável só anda sem máscara e com aglomeração .\n",
      "1365813927465127940 2021-02-27 17:59:50 -0500 <jackson_mnslp> @CeCe374774461 @FlaDems This tweet is about Florida representatives that voted no on the covid relief package, which all Republicans did.\n",
      "1365813925082763266 2021-02-27 17:59:49 -0500 <WENYNicholasP> Johnson &amp; Johnson's COVID-19 vaccine gets emergency use authorization from the FDA.   https://t.co/NBRGKs0jbo\n",
      "1365813924352962567 2021-02-27 17:59:49 -0500 <dylcnbriens> desci de uber na minha cunhada morrendo de medo de tocir e o moço me jogar pra fora do carro achando que é covid kkjkkkkk q ódio\n",
      "1365813923577016321 2021-02-27 17:59:49 -0500 <Tassian52922239> @MarceloFreixo Com certeza não, porém a esperança do Guedes era desafogar o sistema previdenciário deixando morrer os idosos, o culpado seria a covid. Crime quase perfeito.\n",
      "1365813923325296646 2021-02-27 17:59:49 -0500 <elnuevoherald> Se desploma la demanda de pruebas de COVID-19, pero ello puede dejar expuesto a EEUU ante las variantes emergentes, que podrían prolongar la crisis de salud.  https://t.co/ZAJYugpHof\n",
      "1365813922239021059 2021-02-27 17:59:49 -0500 <BabyCatFace_> Si hay una serie que confío en que va a llevar MUY bien el tema covid, esa serie es #QueenSugar. Y, por ahora, ese pasar de 0 a 3000 de mediados de marzo, de no hacer mucho caso a estar en modo JODER ESTO ES SERIO la ha clavado. Nivel me están viniendo flashbacks. Y escalofríos.\n",
      "1365813921660211207 2021-02-27 17:59:49 -0500 <AimeeLynneVDH> The Coronavirus records we want to be setting.\n",
      "1365813921119150083 2021-02-27 17:59:49 -0500 <MinhasGlobal> #Theworlddeservestoknow. Given the unprecedented death and destruction caused by COVID, we deserve to know if virus was a deliberate action or accidental Chinese release\n",
      "1365813920972353538 2021-02-27 17:59:49 -0500 <fartymcpoopy> I really don’t think it’s a coincidence that all this Cuomo shit is coming out now. The guy was being lauded as a hero for his “handling” of Covid, and probably had presidential aspirations. I’m sure the DNC made the decision that he wasn’t cut out for it.\n",
      "1365813920162861057 2021-02-27 17:59:48 -0500 <La_VerdadSonora> El centro para el Control y la Prevención de Enfermedades de EU informa que se han administrado 72 millones 806 mil 180 dosis de vacunas contra el covid-19  https://t.co/ZWfw7cFKkW\n",
      "1365813916148797441 2021-02-27 17:59:47 -0500 <sardinest> @jackbrady1010 @scrowder 510,000 people who died from covid here in the US would probably disagree with you.\n",
      "1365813915280695299 2021-02-27 17:59:47 -0500 <MariluParreiras> \"Este mapa é de ontem. A saúde está à beira do caos. Quem pegar covid e ficar grave, corre o sério risco de morrer em casa.   Protejam-se não saiam se não houver real necessidade!\"  https://t.co/BctIT2QBku\n",
      "1365813911535067140 2021-02-27 17:59:46 -0500 <ennyjhi> Second dose of Pfizer shot is no joke I feel like I have mild covid rn\n",
      "1365813911208030213 2021-02-27 17:59:46 -0500 <xphile101> @aamots20 @likethe309 My cousin is a doctor who had Covid last year. In one post about the vaccine he said \"I'd get the shot if they needed to inject it into my eyeball to be effective.\" Thankfully it isn't... so yeah, gimme any one of them.\n",
      "1365813910830473219 2021-02-27 17:59:46 -0500 <HEMDWellness> Me getting ready for Nationals. Who else got played? #coronavirus #vonchallenge #socialfellowship #fyp #foryou #foryoupage #fraternity #sorority #tag #gphig #nationals #conclave  https://t.co/TnFQO1siIw\n",
      "[!] No more data! Scraping will stop now.\n",
      "found 0 deleted tweets in this search.\n"
     ]
    }
   ],
   "source": [
    "twint.run.Search(c1)"
   ]
  },
  {
   "cell_type": "code",
   "execution_count": 116,
   "metadata": {},
   "outputs": [],
   "source": [
    "tweetsEndFeb = pd.read_csv('covidtweetsEndFeb.csv')"
   ]
  },
  {
   "cell_type": "code",
   "execution_count": 117,
   "metadata": {},
   "outputs": [
    {
     "data": {
      "text/plain": [
       "(119, 36)"
      ]
     },
     "execution_count": 117,
     "metadata": {},
     "output_type": "execute_result"
    }
   ],
   "source": [
    "tweetsEndFeb.shape"
   ]
  },
  {
   "cell_type": "code",
   "execution_count": 120,
   "metadata": {},
   "outputs": [],
   "source": [
    "c2 = twint.Config()\n",
    "\n",
    "c2.Search = \"covid OR coronavirus OR COVID-19\"\n",
    "c2.Lang = \"en\"\n",
    "c2.Since = \"2021-03-01\"\n",
    "c2.Until = \"2021-03-15\"\n",
    "c2.Limit = 5000\n",
    "c2.Store_csv = True\n",
    "c2.Output = 'covidtweetsBegMar.csv'"
   ]
  },
  {
   "cell_type": "code",
   "execution_count": 121,
   "metadata": {},
   "outputs": [
    {
     "name": "stdout",
     "output_type": "stream",
     "text": [
      "1371249785018200070 2021-03-14 18:59:59 -0500 <karinamnezes> @guvtz Graças a Deus vivemos essa sala antes do covid\n",
      "1371249784686804993 2021-03-14 18:59:59 -0500 <iOptimizeRealty> The Benefits of Suburban Office Locations #CRE #Office #TenantTips #COVID-19  https://t.co/zKZQOidfJu\n",
      "1371249784326135817 2021-03-14 18:59:59 -0500 <nrhinds> Seeing Louisville fans begging a team to get covid is next level UL shit\n",
      "1371249783462060037 2021-03-14 18:59:59 -0500 <Florlagos_> @adriantual Coronavirus cheeeeck\n",
      "1371249783319359491 2021-03-14 18:59:59 -0500 <data_covid19> Total Coronavirus Cases: 120,401,413 Current Deaths: 2,664,662 Total Recoveries: 96,945,284  #Coronavirus #Corona #Covid19 #CoronaVirusUpdate\n",
      "1371249779792039936 2021-03-14 18:59:58 -0500 <janemrkz> Quem saiu de casa, aglomerou e roteou covid por aí quando tinha 1000 mortos falando como se não tivesse responsabilidade nenhuma sobre os 2 mil, vocês acham que chegou a esse número pq???\n",
      "1371249779649433602 2021-03-14 18:59:58 -0500 <BlastEnvy> Si on avait pas eu le COVID SNK ce serait fini le 9 mars\n",
      "1371249777678123009 2021-03-14 18:59:58 -0500 <SavageSusannah> And more recently I interviewed a VSO youth activist who thanks to the charity was working to raise awareness of Covid-19 and help his community in rural Bangladesh.   https://t.co/92cEvF4wEn\n",
      "1371249777367674882 2021-03-14 18:59:58 -0500 <mr_eking> @RepDLesko @arizonapbs Also, how can you possibly know when the COVID crisis is going to end? Can you see the future?\n",
      "1371249777254486016 2021-03-14 18:59:58 -0500 <TejasKat> Hey, Joe! @POTUS @JoeBiden You need to  FINISH BUILDING THE WALL! STOP the FLOODING of #ILLEGALaliens  #MS13 #Gangs #Coyotes #OTMs  What's wrong with you that you would put the American ppl at risk?  #article25 - #MentallyUNFIT #IMPEACHJoeBidenNOW #COVID19 #REMOVEJoeBiden\n",
      "1371249775702511616 2021-03-14 18:59:57 -0500 <ESimolini> @MollieeWalkerr Makes zero sense. So sick and tired of hearing  about COVID protocol lists\n",
      "1371249775505457153 2021-03-14 18:59:57 -0500 <aj_8_deadly_sin> GTA5 Online Funny Moments - Missions with the Coronavirus!  https://t.co/bUQPSn2xFH @Terroriser I didn’t know u had COVID I’m glad u r feeling better\n",
      "1371249775123652608 2021-03-14 18:59:57 -0500 <RealNAFYZ2K21> This is some very interesting stuff on COVID-19 and how to take it down! Trust me, I know mainly everything that's in this source from Facebook.  ⬇️⬇️  https://t.co/EWJriPzs27\n",
      "1371249772560982019 2021-03-14 18:59:57 -0500 <SkippyIsNuts> @B52Malmet Particularly when crises drive people into close proximity and then you immediately drop all restrictions on gathering, restaurants, etc.  Thank God the flu was severely restrained by COVID restrictions.\n",
      "1371249770556223490 2021-03-14 18:59:56 -0500 <WERANowPlaying> DJJACK_RADIO_STATIONHEAD - \"DRR Covid Set #1\"\n",
      "1371249768979177473 2021-03-14 18:59:56 -0500 <PGATOURKevin> An American adventure. 🇺🇸 ⛳️  On the road from Jax to Cajun country for my sixth @LouisianaOpen!  After 2020 event cancelled due to COVID, an honor to head back to Acadiana.   #KornFerryCommute  https://t.co/p26HN8c8jl\n",
      "1371249768714833923 2021-03-14 18:59:56 -0500 <ikiIIxxx> FLASHBACK: It was a year ago  today, on a Sunday, nasa bahay ako, relaxing on my day off. Pero yun na pala ang start ng unlimited day off ko. Wala na pala akong babalikang trabaho. Community lockdown due to Covid19 happened. (1)\n",
      "1371249767137878026 2021-03-14 18:59:55 -0500 <camvinay> @ElizabethEThorp @SRichards0228 Ugh the misinformation is rampant abt covid &amp; vaccines. 🥱🥱\n",
      "1371249767070720004 2021-03-14 18:59:55 -0500 <nbcsandiego> Duke Students on COVID Lockdown for a Week Over ‘Rapidly Escalating' Outbreak  https://t.co/R9p5DOzHbO\n",
      "1371249764998733824 2021-03-14 18:59:55 -0500 <bubblygum1983> @MissLiane65 @steverino629 My husband was working with two people last week, jabbed felt ill with covid symptoms and still at work.   Brilliant isn't it? 🤦\n",
      "[!] No more data! Scraping will stop now.\n",
      "found 0 deleted tweets in this search.\n"
     ]
    }
   ],
   "source": [
    "twint.run.Search(c2)"
   ]
  },
  {
   "cell_type": "code",
   "execution_count": 122,
   "metadata": {},
   "outputs": [],
   "source": [
    "tweetsBegMar = pd.read_csv('covidtweetsBegMar.csv')"
   ]
  },
  {
   "cell_type": "code",
   "execution_count": 123,
   "metadata": {},
   "outputs": [
    {
     "data": {
      "text/plain": [
       "(20, 36)"
      ]
     },
     "execution_count": 123,
     "metadata": {},
     "output_type": "execute_result"
    }
   ],
   "source": [
    "tweetsBegMar.shape"
   ]
  },
  {
   "cell_type": "code",
   "execution_count": 11,
   "metadata": {},
   "outputs": [],
   "source": [
    "c3 = twint.Config()\n",
    "\n",
    "c3.Search = \"covid OR coronavirus OR COVID-19\"\n",
    "c3.Lang = \"en\"\n",
    "c3.Since = \"2021-03-16\"\n",
    "c3.Until = \"2021-03-31\"\n",
    "c3.Limit = 5000\n",
    "c3.Store_csv = True\n",
    "c3.Output = 'covidtweetsEndMar.csv'"
   ]
  },
  {
   "cell_type": "code",
   "execution_count": 12,
   "metadata": {
    "scrolled": false
   },
   "outputs": [
    {
     "name": "stdout",
     "output_type": "stream",
     "text": [
      "1377047990817411073 2021-03-30 18:59:59 -0500 <anternn> Ojala no sea covid lpm\n",
      "1377047990402179082 2021-03-30 18:59:59 -0500 <KELVINGAME3> PRUEBA GRATUITA PARA COVID 19 !!! 👇🏿👇🏿👇🏿👇🏿👇🏿👇🏿👇🏿👇🏿👇🏿\n",
      "1377047989697581058 2021-03-30 18:59:59 -0500 <xxxl_oliveira> Eu amo ouvir um “Gisele já foi vacinada contra a COVID” parece a voz do anjo sussurrando no meu ouvido 😍\n",
      "1377047989588492291 2021-03-30 18:59:59 -0500 <SuperChannel_12> Abuelita muere en fila para vacunación contra Covid  https://t.co/LIZd8kfgZU #Puebla #Deceso  https://t.co/53MHizqnMX\n",
      "1377047988942614530 2021-03-30 18:59:59 -0500 <REoptimizer> 7 Tips For Companies Returning to Office Space After COVID-19 #CRE #COVID-19 #Office #TenantTips    https://t.co/fyO7hfwa70\n",
      "1377047986551787530 2021-03-30 18:59:58 -0500 <BjCamacho> @Fran_Reporta Mosca y lo que se lo llevó se llama covid\n",
      "1377047981753389057 2021-03-30 18:59:57 -0500 <moodyangela> @RileyMiner @Covid_Stinks @HaidaHockey Our system is rigged to give the wealthy control  Being funded by donations is legal bribery  Our parties have progressive names but they’re all either centre or right  When they get into power they move further right too  It’s all about money  We can die so the rich get richer\n",
      "1377047980151238657 2021-03-30 18:59:57 -0500 <Locus_403> @SheldrickTrust Looks like whatever started the covid 😄\n",
      "1377047979023069191 2021-03-30 18:59:57 -0500 <djdamien5630> @FLVaccine @bridgetteANjax When you get your flu shot...you don't immediately run out and do the dumb crap that would normally give the flu...some people are too dense to apply this idea to the Covid stuff..\n",
      "1377047978440032270 2021-03-30 18:59:57 -0500 <nexosdelsur> LABOULAYE: SE REGISTRARON 7 CASOS POSITIVOS DE COVID-19 Y 3 PACIENTES RECUPERADOS . Urgente 🚨 👉🏼 El Centro de Operaciones de Emergencia Departamental informó hoy que  se registraron 7 nuevos casos positivos de COVID-19 en Laboulaye 😷🦠  https://t.co/67Z5b3YGXU\n",
      "1377047978330951680 2021-03-30 18:59:57 -0500 <PrickyPiranha> \"The Marc Patrone Show - March 30, 2021 - COVID Lockdowns, RCMP Internal Probe &amp; Renewable Energy Taxpayer Waste\" by NEWSTALK Sauga 960 AM via #spreaker  https://t.co/RKahQnBS0C Miss the show? Check out the podcast!w/@MarcPatrone  Happy 555hrs of freedom loving awesomeness!\n",
      "1377047978117107714 2021-03-30 18:59:56 -0500 <pumpkibu> anyway despite more vaccination availability please dont be stupid. just because you got the shot, you shouldnt go run around on spring break with no mask. my floor on the hospital i’m currently working at just got turned into a covid floor due to the influx of new covid patients\n",
      "1377047977630572544 2021-03-30 18:59:56 -0500 <RadioZP12Pilar> #URGENTE | Ñeembucú registra 3 muertes por Covid 19 en las últimas 24 horas. #700AM  https://t.co/5WoKJPE45T\n",
      "1377047977425010690 2021-03-30 18:59:56 -0500 <mary1966n> @Joe911S @robersperanza Ma chi se ne frega. Tanto i dati son falsi a prescindere. Malati terminali che hanno contratto una polmonite o un raffreddore qualsiasi vengono dichiarati deceduti per covid. Ci marciano tutti.\n",
      "1377047976141586438 2021-03-30 18:59:56 -0500 <antonioprosperi> ESTAMOS EN CRISIS EN #NE . Por lo menos en la #IsladeMargarita no hemos visto que estén colocando vacunas a alguien. Lo que si se sabe es que en hospital central y en centros de salud no hay cupo para los contagiados del Covid19, y se conoce que el tratamiento está agotado.\n",
      "1377047975466242048 2021-03-30 18:59:56 -0500 <RepBera> It’s unacceptable that WHO investigators were denied full access to data needed for their investigation on #COVID19.  I support the call for a comprehensive, transparent &amp; independent analysis. The only way we’ll prevent the next pandemic is to understand the origins of this one.\n",
      "1377047974988103682 2021-03-30 18:59:56 -0500 <judenyaho> Eventually a requirement to travel . No Covid shot no travels\n",
      "1377047974862327817 2021-03-30 18:59:56 -0500 <PaulM81587676> @daletournier1 @DebraG_Robins Researchers are monitoring new COVID variants closely. This includes research to see whether new variants may change the protective effects of the current vaccines. So far studies suggest that antibodies gathered through vaccination do recognize new variants. (source – CDC)\n",
      "1377047973998252032 2021-03-30 18:59:55 -0500 <gordimxd> Mortes no mundo por Covid-19 nas últimas 24h. Parabéns aos envolvidos, em especial ao nosso excelentíssimo presidente @jairbolsonaro  https://t.co/Kjx6OVmnig\n",
      "1377047973037756429 2021-03-30 18:59:55 -0500 <SAMYSEURET> COVID-19 en el mundo: Líderes mundiales abogan por tratado global contra pandemias futuras  #CubaPorLaVida #CubaCoopera #BarrioAdentro18Aniversario #CubaViva  @rubeletsis @AngelRdeDios @cubacolabora  @SAMYSEURET @Cubacoopera_Ve3 @NelaTa83 @StMarrero ⁦  https://t.co/dv6iaZbf9q\n",
      "1377047971729133569 2021-03-30 18:59:55 -0500 <lnfestissumam_> eu posso perdoar o coronavírus por tudo menos por me fazer perder dois anos de festa junina\n",
      "1377047971209093122 2021-03-30 18:59:55 -0500 <abc4utah> Utah’s mask mandate is set to end next week. With COVID-19 cases on the rise nationwide, national officials are calling on states to keep their mandates in place.  https://t.co/R3VxzcHOH2\n",
      "1377047970886090754 2021-03-30 18:59:55 -0500 <flopirocha> @dra_eutanasia Jajajajajajaj escupí las goticulas con covid\n",
      "1377047970051469318 2021-03-30 18:59:55 -0500 <gmgall> Existem falantes não nativos para manter a língua viva ou a Covid deu um jeito de matar até idiomas inteiros também?\n",
      "1377047967841054721 2021-03-30 18:59:54 -0500 <Carlitosyq> @MinSaludGuate Semana santa y las pruebas de Covid se fueron de vacaciones, que logista más paupérrima\n",
      "1377047966846885889 2021-03-30 18:59:54 -0500 <kkyls> @TheHightIsRight Vandal Joe &amp; @POTUS deliver. Perhaps President Biden should come experience a Vandal tailgate once he’s ended this COVID mess\n",
      "1377047965517422603 2021-03-30 18:59:53 -0500 <narcolepticsoul> @freeoposittion Não tô sabendo amiga, covid?\n",
      "1377047965429157894 2021-03-30 18:59:53 -0500 <crrllo> 1 week na ubo at sipon ko beke nemen covid hawaan mo nako 🥲\n",
      "1377047964510793729 2021-03-30 18:59:53 -0500 <jessieanton_> Some Saskatchewan religious leaders say a recent editorial in Moose Jaw Today comparing COVID-19 restrictions with the Holocaust minimizes the immense suffering and death caused by Adolf Hitler and his Nazis.  READ MORE via @WarickCBC:  https://t.co/Y14mTj0B63\n",
      "1377047962455584774 2021-03-30 18:59:53 -0500 <mccorvey09> I'm happy people are getting vaxxed AND I'm gonna miss judging people's covid unsafe instagram stories\n",
      "1377047960677183491 2021-03-30 18:59:52 -0500 <juvensil> @central_sage @ChinoiseMama Centrale, tozo bundana awa n’a Covid-19 mbula mibale déjà kaka te...\n",
      "1377047959381143552 2021-03-30 18:59:52 -0500 <brk7391> @Gutfeldfox I have to get a covid test to join?  Cancel culture greg!\n",
      "1377047959322439691 2021-03-30 18:59:52 -0500 <Pratt17> @adamjacobgraham Looks like they need to use that COVID money that was sent to them from that whole fiasco a few months ago. Or did that money go away?\n",
      "1377047957615304706 2021-03-30 18:59:52 -0500 <RadioUnionTfe> Las farmacéuticas prueban ahora la vacuna contra el coronavirus con miles de menores. Aunque la covid les afecta poco, los expertos advierten de que es un riesgo dejarlos fuera: podrían convertirse en reservorios del virus  https://t.co/NIX3Y61cuD\n",
      "1377047957535526913 2021-03-30 18:59:52 -0500 <Heart10Looks3> Found out a close contact was exposed to COVID-19. He &amp; other person were masked/socially distanced.  My contact tested negative. Whew!  But now imagine the other person was unmasked &amp; didn't tell MY contact they'd tested positive.   That's why your \"personal choice\" is bullshit.\n",
      "1377047955501428740 2021-03-30 18:59:51 -0500 <criscur> Un año de COVID y cuarentenas pero aún no hay zombies #pesimoservicio  https://t.co/Fu5g6kXOcK\n",
      "1377047953551020034 2021-03-30 18:59:51 -0500 <Brendin97> Fazer esse maldito exame da Covid amanhã\n",
      "1377047953521643520 2021-03-30 18:59:51 -0500 <william68727496> @fordnation neglecting min of Ont’s  in Covid inoculation.  Ford is racist. We’ve heard same b4. Time 4 @OntarioPCParty 2 become accountable. Denying Ont’s of truth during Pandemic is being complicit in deaths of Ont’s @celliottability @DrFullertonMPP @CP24\n",
      "1377047952418598913 2021-03-30 18:59:50 -0500 <ComiteAzteca> Iniciamos la campaña contra #COVID19 en esta #SemanaSanta no bajamos la guardia.  #AztecaUnida #Sanazteca  https://t.co/v1Iax5CsBX\n",
      "1377047951739084800 2021-03-30 18:59:50 -0500 <meg_vaszko> Hi @nattierizzo we are eager to connect with you to discuss the impacts of COVID-19 on young people’s mental health. Hope to hear back so we can set up a meeting! #hifromnewmarketkingvaughanfm!\n"
     ]
    },
    {
     "name": "stdout",
     "output_type": "stream",
     "text": [
      "1377047951617323013 2021-03-30 18:59:50 -0500 <wnoticiasmor> SITUACIÓN ACTUAL DEL CORONAVIRUS COVID-19 EN MORELOS AL 30 DE MARZO  https://t.co/CYqcU0NVK7  https://t.co/1Rt8NKNlwb\n",
      "1377047950971568128 2021-03-30 18:59:50 -0500 <bordet> María Angélica tiene 73 años y hoy recibió la vacuna número 100.000 de #EntreRíos. Su alegría es la alegría de todos.  Pero para que este plan funcione es importante seguir cuidándonos, como desde el primer día. Unidos podemos seguir enfrentando esta pandemia. #Covid19  https://t.co/9cHpQyvGJZ\n",
      "1377047950061371396 2021-03-30 18:59:50 -0500 <KCRodriguez201> @DoctorG92 Hay yo soy de 3ro me pase el 1er semestre en sala (el 2do está interrumpido por la covid) y vimos y aprendimos muchísimo fue bonito la verdad, esa es mi defensa creo q se q es un paciente\n",
      "1377047949608280064 2021-03-30 18:59:50 -0500 <basquinoz> @normanswan ‘Thus highly likely’🙄 you keep using words that aren’t providing any clear facts. It is or it is not. If you have no evidence that vaccin stop transmission, you stay either silent or say no. It is not yes ( I want to believe so) maybe! Never forget, 99.95% with covid are fine\n",
      "1377047947284713473 2021-03-30 18:59:49 -0500 <AbbasalveBrasil> O cara não entende q JÁ há uma mobilização nacional de combate ao covid, governantes de estados e municípios, cientistas e cidadãos, todos cooperam, quem atrapalha são os 57Mil eleitores fanáticos e o eleito!\n",
      "1377047945699328001 2021-03-30 18:59:49 -0500 <crollim> Hoje a cada 24 segundos uma pessoa morreu de covid no Brasil.\n",
      "1377047945569312770 2021-03-30 18:59:49 -0500 <rafaelg_fisica> R. del Biobío   Ocupación UCI por 12 meses empeorando  Hace pocos días récord pacientes #COVID19 222  Hoy 218, está bien complicado todo  Cuídese  https://t.co/Je2EjC1zXB\n",
      "1377047944768188421 2021-03-30 18:59:49 -0500 <jeanpazjpz> @parmeramilgrau Abracei dois bêbados na rua, e acabei pegando covid 19. Valeu a pena!\n",
      "1377047944700981250 2021-03-30 18:59:48 -0500 <SusieQandB> Mr @CUhlmann when will you report on @ScottMorrisonMP to announce the #Vaccines are kept with #women in general and specifically with  @latingle @AmyRemeikis @murpharoo @Milliganreports @KarenMMiddleton @Jess_Irvine   52% of #Australian responsible for the #coronavirus #StuffUP\n",
      "1377047943916650496 2021-03-30 18:59:48 -0500 <ChuyMiranda16> @KristiNoem @JoeBiden Everyone comparing a covid passport to a drivers license should exclude themselves from this society and maybe start your own society far far away from here, then keep going a little further till you forget which way you came from and stay lost for eternity. We’ll be fine here.\n",
      "1377047943505530880 2021-03-30 18:59:48 -0500 <matthewleemur> @InsulaeW @Riceball1001 @mattyyhill @BBCNews You just don’t understand what vulnerable population means. Fact China has a aging population fact over 50 is considered vulnerable for covid exposure 🤷‍♂️\n",
      "1377047940863250433 2021-03-30 18:59:48 -0500 <pedroairbnb> 1 a cada 4 mortes por covid no Mundo é no Brasil.  Se cuidem\n",
      "1377047940557049857 2021-03-30 18:59:47 -0500 <PrioriMilena> @MoniqueCheker Pobre país. Governo federal destinou verbas bilionárias para os estados e municípios empregarem na saúde para combater a covid e, praticamente, nenhum político aplicou o dinheiro em benefício do povo. Pobre país q tem membros da magistratura e do MP q se acham estrelas.\n",
      "1377047940515172354 2021-03-30 18:59:47 -0500 <MareVive> Nem de tiros! Nem de COVID! Nem de fome! #maresolidaria @FrenteMare\n",
      "1377047939391062017 2021-03-30 18:59:47 -0500 <TVTenlinea> #Entérate Reporta la Secretaría de Salud del estado 130 nuevos casos positivos a COVID-19 y 13 defunciones de las cuales 3 se registraron en las últimas 48 horas. Tiene Tabasco 873 casos activos y acumula 60 mil 933 casos desde el inicio de la pandemia  https://t.co/5D2bV922SV\n",
      "1377047939261071366 2021-03-30 18:59:47 -0500 <ecobearwitness> COVID-19 time capsules preserve history of pandemic through artifacts, audio recordings: CBS News  https://t.co/tUAVZkReRL  MORE w/ EcoSearch:  https://t.co/oB771ambZa\n",
      "1377047938396872706 2021-03-30 18:59:47 -0500 <Claudin98876199> @Gutfeldfox Really! COVID is a hoax but...  https://t.co/ztAClLgdil\n",
      "1377047937415401473 2021-03-30 18:59:47 -0500 <resbklutara> Ayo Bersama Sama Putus Mata Rantai Penyebaran Virus Covid-19 @poldabengkulu  @Satlantasbu @Reskrimbkluutra  https://t.co/DpWzCgfR1L\n",
      "1377047937214189573 2021-03-30 18:59:47 -0500 <danptrn> @jujukidding Então, na teoria eu ainda to com covid ne.. ai quero fazer pra ver se realmente ainda to\n",
      "1377047936853549059 2021-03-30 18:59:47 -0500 <vickilyn_90> I’m entire body has been itching for almost an entire week now. Is it the new laundry detergent, my new body wash, covid itch? I am unwell.\n",
      "[!] No more data! Scraping will stop now.\n",
      "found 0 deleted tweets in this search.\n"
     ]
    }
   ],
   "source": [
    "twint.run.Search(c3)"
   ]
  },
  {
   "cell_type": "code",
   "execution_count": 13,
   "metadata": {},
   "outputs": [],
   "source": [
    "tweetsEndMar = pd.read_csv('covidtweetsEndMar.csv')"
   ]
  },
  {
   "cell_type": "code",
   "execution_count": 14,
   "metadata": {},
   "outputs": [
    {
     "data": {
      "text/plain": [
       "(60, 36)"
      ]
     },
     "execution_count": 14,
     "metadata": {},
     "output_type": "execute_result"
    }
   ],
   "source": [
    "tweetsEndMar.shape"
   ]
  },
  {
   "cell_type": "code",
   "execution_count": 61,
   "metadata": {},
   "outputs": [],
   "source": [
    "c4 = twint.Config()\n",
    "\n",
    "c4.Search = \"covid OR coronavirus OR COVID-19\"\n",
    "c4.Lang = \"en\"\n",
    "c4.Since = \"2021-04-01\"\n",
    "c4.Until = \"2021-04-15\"\n",
    "c4.Limit = 5000\n",
    "c4.Store_csv = True\n",
    "c4.Output = 'covidtweetsBegApr.csv'"
   ]
  },
  {
   "cell_type": "code",
   "execution_count": 62,
   "metadata": {},
   "outputs": [
    {
     "name": "stdout",
     "output_type": "stream",
     "text": [
      "1382483808239374336 2021-04-14 18:59:59 -0500 <rocket654321> @milamesmo Porque vc toma? Ouvi falar que tomando essa da gripe, reduz em 24% a chance de pegar covid\n",
      "1382483806607802370 2021-04-14 18:59:59 -0500 <DiarioTalCual> Tribunal imputó a cuatro personas por revender vacunas de covid-19 #TalCual #ClaroyRaspao #JustoYNecesario  https://t.co/57WR5cmm1E  https://t.co/qLqVKk6hKl\n",
      "1382483805206896643 2021-04-14 18:59:59 -0500 <DraPestania> @WandaMalbec2016 Qué pedazo de soretes nos gobiernan. O te morís de Covid, o te morís de hambre ✌\n",
      "1382483803592085505 2021-04-14 18:59:58 -0500 <Sonyworlds> De 9 a 19 hs es la nueva hora activa?  wtf ? Si antes con 24 hs no me alcanzaba el día ahora menos. Ni me saco el pijama,fue. #nuevasrestricciones #COVID19\n",
      "1382483803554385925 2021-04-14 18:59:58 -0500 <johnmaddox> @rosensteindave @Dollarlogic It's like modern idiots can't put things in actual context. Don't equate polio with Covid-19. Seriously.\n",
      "1382483801197133827 2021-04-14 18:59:58 -0500 <lesta_06> @josefita_d Pero después si te contagias de COVID es culpa de un bar...\n",
      "1382483797380325384 2021-04-14 18:59:57 -0500 <dianavytony> #QuéOndasAllí   ¿Y a ti, ya te pusieron la vacuna contra el #COVID19 o tienes a alguién cercano?   ¿Cuéntanos cómo les fue?  https://t.co/O8JZsfSGcg\n",
      "1382483797090971648 2021-04-14 18:59:57 -0500 <onomojo> I went to get my Covid test today but the place had no power so I've got to go back tomorrow. Another 24 hours of anxiety thinking about how they're going to shove that thing up into my brain.\n",
      "1382483795056689152 2021-04-14 18:59:56 -0500 <VLunven> Las fuerzas armadas .... #COVID19 🙏🤦‍♀️\n",
      "1382483794423394308 2021-04-14 18:59:56 -0500 <AnonLoomom> @Iroserebel @ILYM333 Sounds like that are suing the CDC for fraud - passing off influenza as covid! Thanks for sharing.... This could be huge! ♥️\n",
      "1382483794150629378 2021-04-14 18:59:56 -0500 <JosePuliampatta> Blocking middle seats on planes reduces risk of COVID-19 transmission, CDC study says  https://t.co/C5miD2j05c via @Yahoo\n",
      "1382483793345445888 2021-04-14 18:59:56 -0500 <damifarm> #Argentina #COVID19 En AMBA @alferdez virtualmente arruina al gremio gastronómico, cultural y además vuelven a suspender las clases por 15 días cuando no es fuente de contagios. NEFASTOS.\n",
      "1382483793047605250 2021-04-14 18:59:56 -0500 <ZazaS_> *Covid: Erro da prefeitura de SP faz agentes da CET furarem fila da vacinação*  https://t.co/46kicmH1UW\n",
      "1382483791457964035 2021-04-14 18:59:55 -0500 <aimecoscia> Estoy hartaaaaaaaa del COVID la re concha de su madreeeee\n",
      "1382483790283501569 2021-04-14 18:59:55 -0500 <elcentro72> We’re proud to receive support from @AllInWA2020. With the help of these funds, we can help reduce barriers to vaccine access for communities disproportionately impacted by #COVID19. #allinWA   https://t.co/g5OnlNUSg8\n",
      "1382483787976736768 2021-04-14 18:59:55 -0500 <zinburcu> 38.5 ateşle sanki eklemlerimi ezmişlercesine bir ağrıyla kıvranıyorum. Sağa , sola ve sırt üstü asla yatamıyorum. #corona #covid böyle bişey mi ?\n",
      "1382483787792089088 2021-04-14 18:59:54 -0500 <Abhishek1747142> Up board exam class 10th &amp;12th ka exam cancel hona chahiye Kyoki bachhe infected ho jayaenge covid se. @narendramodi #cancel12thboardexams2021\n",
      "1382483786974294020 2021-04-14 18:59:54 -0500 <ClaudioFMadan> #LibertadParaYosvany Sánchez Valenciano.  Priorizar los #PresosDeCastro, 1er paso del #CompromisoDemocrático con la LIBERTAD.   Hay Covid en cárceles de #Cuba. #AbandonarlosEsUnCrimen @MarcoRubioCuba @MarioDB  @USEmbCuba @WHAAsstSecty @IleanaGraciaUSA @RepMariaSalazar  https://t.co/DPMlcEde0I\n",
      "1382483785514631169 2021-04-14 18:59:54 -0500 <monicanicanica5> Se me había olvidado lo muchísimos q echaba la vida antes del covid hasta q he visto este vídeo🙃\n",
      "1382483783555895296 2021-04-14 18:59:53 -0500 <agus1ben> alberto por momentos está hablando como macri mucho covid\n",
      "1382483783425929220 2021-04-14 18:59:53 -0500 <Ravnski> Can Imagine when covid finally calm...Tufton need like a 4 mth vacation lol 🤣\n",
      "1382483780561104898 2021-04-14 18:59:53 -0500 <KValerieH> I survived my first 5K post covid, I’ve been too scared to run one since February 🥴.\n",
      "1382483780426956800 2021-04-14 18:59:53 -0500 <willim767> @FoxNews the coronavirus is 🌐 pandemic so why would believe anyone believe what trump or anyone else said that's it's a hoax a worldwide 🌐 hoax that's REDICOUS like most things trump said then he said it came out of China which one is it a hoax or came out of China CRAZY TALK\n",
      "1382483778585595904 2021-04-14 18:59:52 -0500 <gumby_mister> #ScottyDoesNothing  All through Covid, Morrison has always tried the cheap expedient pathway only to find he   has to be dragged kicking a screaming to do it again properly.\n",
      "1382483777927122945 2021-04-14 18:59:52 -0500 <guirosello> Es tan pelotudo el presi que TENEMOS  que dice que unos de los problemas que tenemos,  es el DESCUIDO PERSONAL,  justo el que viene de ser dado de alta por COVID19..  mi dios\n",
      "1382483777654566912 2021-04-14 18:59:52 -0500 <FernandaKlitzk1> E eu aqui imaginando em quê circunstância vaza o áudio do Bolsonaro e do Presidente do Senado, sobre a CPI Covid-19. 🙊 culpa do estagiário certamente! #CPIdoGenocidio #CPIdaCovid  #CPIdaPandemiaJa\n",
      "1382483776790528000 2021-04-14 18:59:52 -0500 <ga_fronte> @alferdez Alverso, le tiembla la voz terriblemente ... Y te dice, q no hay clases, no podés atenderte x los medicos ... Perdón pero hay vida durante el covid, inepto. Todos hemos postergados atenciones médicas. Cerrar nuestras vidas se llama. Vacunen  @carlavizzotti bestias\n",
      "1382483775821611011 2021-04-14 18:59:52 -0500 <MsJugosa> Caerle al sistema de salud por atender otras dolencias no relacionadas con Covid es de una ironía inimaginable. #dalealberto\n",
      "1382483775624417282 2021-04-14 18:59:52 -0500 <mychinapress> ◤全球大流行◢又多一国！  https://t.co/T9K2bTlkid  #今日中国报 #全球大流行 #新冠肺炎 #COVID19 #复管令SOP  https://t.co/6QGF8MHrpE\n",
      "1382483775485976577 2021-04-14 18:59:52 -0500 <canada4news> Calgary wastewater samples show recent spike in coronavirus  https://t.co/znIrs4VAZx\n",
      "1382483774529630213 2021-04-14 18:59:51 -0500 <LegalAidAtWork> Si has faltado al trabajo debido a #COVID19 o para cuidar a un ser querido afectado por el virus, puedes ser elegible para hasta 80 horas de Enfermedad Pagadas Suplementarias.  Aprenda acerca de quién es elegible, y donde obtener más información.  https://t.co/ulGh5n0HXG\n",
      "1382483774349443072 2021-04-14 18:59:51 -0500 <partidoUNT> @LuisFlorido El oncológico Luis Razetti #Guarenas una de las obras inconclusas del régimen. 800 millones de $ aprobados en el 2007, en la actualidad es una estructura vacía sin paredes y pacientes muriendo a diario por covid. #GiraPorEleccionesLibres  https://t.co/bKsX2ZkGYw\n",
      "1382483773871300609 2021-04-14 18:59:51 -0500 <Geraldinealezon> Quiero pedir tu colaboracion, La Sra Nancy enfermera de mas de 25 años de Servicio de los Pacientes de Carabobo, ella y su Hijo estan luchando contra el COVID19 Podrias ayudarnos con tu aporte, tu oracion o tu retweet  DIOS TE BENDIGA @pedroluisflores  https://t.co/ep3Lprifhb\n",
      "1382483773082722306 2021-04-14 18:59:51 -0500 <icindengecerim> Öyle kritik bir hayat evresine geldik ki depresyona girsen giremiyosun zaten kısıtlamalar covid filan olmuşsun patates isyan edemiyorsun ramazan geldi oruç tutuyorsun ağzın kapalı ne yaşayacağımızı şaşırdık\n",
      "1382483772885585921 2021-04-14 18:59:51 -0500 <Dayruiz16> Se puede ir al re pingo todo, una bronca covid y la re concha de tu madre\n",
      "1382483770968801285 2021-04-14 18:59:50 -0500 <RomeroSaltaren> Check out this article: Magdalena superó los 50 mil casos por Covid-19 -  https://t.co/QfXO7IpvYB\n",
      "1382483770834612228 2021-04-14 18:59:50 -0500 <PericoGoldo> Cabron como que de momento el covid se acerca a mi vida poco a poco\n",
      "1382483769517543430 2021-04-14 18:59:50 -0500 <118ari> @CapoPocho @elmediouchiha @Gabriela613 @No_MeCalmoNada @jorgegandini Y xq lo piden permanente el impuesto si es solo x el Covid? DEMAGOGIA\n",
      "1382483766640308230 2021-04-14 18:59:49 -0500 <LosAndesDiario> #AHORA Habla @alferdez al país  \"Le he pedido a las Fuerzas Armadas a que colaboren con la asistencia sanitaria\"  #Coronavirus  #SegundaOla\n",
      "1382483766204112897 2021-04-14 18:59:49 -0500 <TucumanD> Coronavirus en Argentina: confirmaron 25.157 nuevos contagios y 368 muertos, la cifra más alta en casi 3 meses. Con estos números, el total de infectados desde que comenzó la pandemia asciende a 2.604.157 y las víctimas fatales so ... | Tucumán Despierta -  https://t.co/cuh1kVBOOY  https://t.co/hS5NoLURv4\n"
     ]
    },
    {
     "name": "stdout",
     "output_type": "stream",
     "text": [
      "1382483766036271105 2021-04-14 18:59:49 -0500 <abogvalladares7> Hoy 14 de abril del 2021, Audiencia Telemática.  Valladares y Montoya Abogados Asociados, defendiendo tus derechos en tiempos Covid.  https://t.co/IvlLSKfnEe\n",
      "1382483764144713730 2021-04-14 18:59:49 -0500 <merycris77> @master_dic @jadecker83 Sabes que son costos de operación, pruebas covid para empleados, más vehículos para transporte por aforo, desinfecciones etc, tienes razón estudien para que no escriban estupideces\n",
      "1382483761468735496 2021-04-14 18:59:48 -0500 <TriCityHerald> And no, just because your first shot felt more intense than your second doesn’t mean you’ve had COVID-19 before.  https://t.co/voNZpoClSV\n",
      "1382483760969502720 2021-04-14 18:59:48 -0500 <ej989> @novimon34 とにかく日常生活で、 どこでも気楽に自由にマスクをしないで外出したいですね。 いいかげんうんざりというか気持ちがめいってきます。 テレビのニュースも一日中COVID19。\n",
      "1382483760935997442 2021-04-14 18:59:48 -0500 <Letra_P> #COVID19 | AHORA | Fernández: \"Toda actividad comercial deberá desarrollarse entre las 9 y las 19. Fuera de ese horario los negocios deben permanecer cerrados\".  https://t.co/aWHqazU39S\n",
      "1382483760638169092 2021-04-14 18:59:48 -0500 <silvermistirl> Well we'll see how invincible I am to the Coronavirus today.\n",
      "1382483760222982151 2021-04-14 18:59:48 -0500 <agustinvasaloOK> @BellListing Yo me di la sinopharm y creo que tengo covid\n",
      "1382483759371591682 2021-04-14 18:59:48 -0500 <umboocowju> I miss my mom, covid go away so i can travel and see her\n",
      "1382483758822088707 2021-04-14 18:59:48 -0500 <LudmilaDT> Vayan a joder al obelisco, militantes del covid!  Bien ahí, Alberto!\n",
      "1382483758759120897 2021-04-14 18:59:48 -0500 <FSDiMasi> Las Vegas set to come out of Covid-19 better than ever | CNN Travel  https://t.co/5bbbLLOLP5\n",
      "1382483758696239111 2021-04-14 18:59:48 -0500 <galvis60> En las redes se transmite información sobre el incrementos de contagios y fallecidos por el #Covid19.Eso indica q no es suficiente las medidas de bioseguridad que se ha venido tomando,se hace necesario acompañarla con un plan de vacunación masiva sin exclusión de ninguna especie.  https://t.co/EhKYJQYqhO\n",
      "1382483758587187200 2021-04-14 18:59:48 -0500 <mirandajavier29> Creo que son correctas las medidas tomadas en bs as #COVID19 #MedidasSanitarias #BuenosAires\n",
      "1382483758335598596 2021-04-14 18:59:47 -0500 <sprint221> Según albertitere @alferdez la culpa de la segunda ola es que la medicina privada se rasco no le dieron mal bola al covid19 o sea no te podes morir de covid19 todo lo de más no importa #cadenanacional\n",
      "1382483758176145410 2021-04-14 18:59:47 -0500 <ReporteYa> #14Abr #Coronavirus #Argentina Pdte. Alberto Fernández prohíbe todas las actividades deportivas, culturales y recreativas en espacio cerrado.   Actividad comercial será de 9:00 a 7:00 pm.  Gastronomía no podrá trabajar en la noche. Solo por delivery. - @Gbastidas\n",
      "1382483757622464513 2021-04-14 18:59:47 -0500 <TheValuesVoter> @govkristinoem South Dakota has had 120,154 COVID cases out of a population of 884,649. Which means that 1 out of every 7.4 South Dakotans got the virus. And 1 out of every 454 people in your state have died from it.  Is this your roundabout way of trying to protect immigrants from COVID?\n",
      "1382483756838223878 2021-04-14 18:59:47 -0500 <diazdiego11> #Coronavirus #LaPlata: 842 nuevos casos este miércoles. 17 fallecidos ⚠️ Los gráficos 👇🚦  https://t.co/HfXV3aKZF4\n",
      "1382483756372664322 2021-04-14 18:59:47 -0500 <Matthew09412243> @JTL794Gulag @Marc_Veld And yet you assume there won’t be further negative effects from the virus, which already has a 1% death rate and a 15-30% long-term debility rate? The vaccine doesn’t give long covid to 20%, does it? The clotting events alone are not anywhere 1%.\n",
      "1382483756158746641 2021-04-14 18:59:47 -0500 <Loqueimporta5> #urgente Alberto acaba de anunciar que en el área metropolitana se suspenden las clases presenciales a partir del próximo lunes por dos semanas  #COVID19\n",
      "1382483755823198213 2021-04-14 18:59:47 -0500 <Mini_Extra> 🎱 ¿Por qué las abejas se están beneficiando del Covid-19?...  https://t.co/gHoo8ycZAT\n",
      "1382483755508457477 2021-04-14 18:59:47 -0500 <pueblapreciosa> #AsílodicePuebla #TuneinRadioAsílodicePuebla #México #Puebla #COVID19 #ULTIMAHORA @_CarlosAMorales impulsara al distrito 5 de texmelucan con propuestas viables  https://t.co/4LZZtp5G6a  https://t.co/RpFARPd3b3\n",
      "[!] No more data! Scraping will stop now.\n",
      "found 0 deleted tweets in this search.\n"
     ]
    }
   ],
   "source": [
    "twint.run.Search(c4)"
   ]
  },
  {
   "cell_type": "code",
   "execution_count": 63,
   "metadata": {},
   "outputs": [],
   "source": [
    "tweetsBegApr = pd.read_csv('covidtweetsBegApr.csv')"
   ]
  },
  {
   "cell_type": "code",
   "execution_count": 64,
   "metadata": {},
   "outputs": [
    {
     "data": {
      "text/plain": [
       "(60, 36)"
      ]
     },
     "execution_count": 64,
     "metadata": {},
     "output_type": "execute_result"
    }
   ],
   "source": [
    "tweetsBegApr.shape"
   ]
  },
  {
   "cell_type": "code",
   "execution_count": 65,
   "metadata": {},
   "outputs": [],
   "source": [
    "c5 = twint.Config()\n",
    "\n",
    "c5.Search = \"covid OR coronavirus OR COVID-19\"\n",
    "c5.Lang = \"en\"\n",
    "c5.Since = \"2021-04-16\"\n",
    "c5.Until = \"2021-04-30\"\n",
    "c5.Limit = 5000\n",
    "c5.Store_csv = True\n",
    "c5.Output = 'covidtweetsEndApr.csv'"
   ]
  },
  {
   "cell_type": "code",
   "execution_count": 66,
   "metadata": {},
   "outputs": [
    {
     "name": "stdout",
     "output_type": "stream",
     "text": [
      "1387919626059792384 2021-04-29 18:59:59 -0500 <SIMONELYS> Covid-19. Comment fonctionnera le « pass sanitaire » souhaité par Emmanuel Macron ? #Coronavirus #Virus  https://t.co/Y5KGIbrPJ0 via @ouestfrance\n",
      "1387919623950159879 2021-04-29 18:59:59 -0500 <PlenoNews> Câmara encerra votações sem concluir projeto que cria loteria da saúde #coronavirus  https://t.co/liNMCO57Uc\n",
      "1387919623698460676 2021-04-29 18:59:59 -0500 <enioverri> Duas vitórias no Senado. Depois de pressionarmos, o PL 5595/20, que torna a escola serviço essencial, obrigando o volta às aulas presenciais sem vacina, foi retirado de pauta. E o PL 12, que prevê quebra de patentes de vacina contra Covid-19, foi aprovado e segue pra Câmara.\n",
      "1387919622557556739 2021-04-29 18:59:58 -0500 <thauxny> morumbi vazio em plena noite de libertadores, eu te odeio covid eu te odeio\n",
      "1387919622486339586 2021-04-29 18:59:58 -0500 <Cuarto_Poder> COVID-19: Hubo 15 casos de peruanos contagiados en la India, según embajador  https://t.co/jYMAvGwvbj\n",
      "1387919621227962375 2021-04-29 18:59:58 -0500 <kpeters13> @amandamull Feel like any agency that has seen at least a 10% drop in ridership since covid started should be able to easily pull enough buses for this. *cough* @metrolosangeles *cough*\n",
      "1387919619839647751 2021-04-29 18:59:58 -0500 <SaraVenialgo2> El dengue me está haciendo peor q el covid\n",
      "1387919619525124097 2021-04-29 18:59:58 -0500 <barcademar> #10MillonesDeEsperanzas y más.☀️ Nuevo vuelo a Moscú: llegarán alrededor de 700 mil vacunas contra el covid | vía @eldestapeweb  https://t.co/rPRnVhCxZR\n",
      "1387919618816106501 2021-04-29 18:59:58 -0500 <MitchDexter> @uhmanyel Holy shit could I dream of post-COVID karaoke.  Too bad the @jkenney government is steadfast trying to kill me and my coworkers, since we work with kids and don't deserve any COVID support, I guess\n",
      "1387919618543702023 2021-04-29 18:59:58 -0500 <AntonioSous> Covid-19: fila por leito de UTI volta a subir em Santa Catarina  https://t.co/UBlqO0F4ou\n",
      "1387919617113346050 2021-04-29 18:59:57 -0500 <Zehraaltun92> @1306AYSEKASARCI Yani bu durumda napmalıyız dediginiz üzere kanser bulasici olmayan biyolojik bir hastalık gelin görün ki ismi üzerinde bulaşıcı covid 19 ayrımını yapalım lütfen siz diyorsunuz ki her yeri açalım hos bi izlenim birakmiyorsunuz cidden\n",
      "1387919616194883584 2021-04-29 18:59:57 -0500 <Lucas10905> @TelemundoUY Y así es como va a aumentar más el contagio de coronavirus ...\n",
      "1387919615523753988 2021-04-29 18:59:57 -0500 <Steel74212864> no han pensado en eso.Somos mas de 40 millones de colombianos y queda mas facil y barato producir vacuna contra covid19 en Colombia q estar comprandola o esperar q europeos se les de la gana y dejen salir la misma? @AlvaroUribeVel @MariaFdaCabal @RafaNietoLoaiza @FicoGutierrez\n",
      "1387919614756069376 2021-04-29 18:59:57 -0500 <SuperInVinceble> India’s coronavirus infections cross 18 million as gravediggers work round the clock   https://t.co/f5PlCbz4qQ\n",
      "1387919612571004933 2021-04-29 18:59:56 -0500 <ltravel395> Former PM Manmohan Singh beats COVID-19, discharged from AIIMS  https://t.co/y7Z96nHk8N\n",
      "1387919611442642954 2021-04-29 18:59:56 -0500 <yadsantamarina> @marytwitts @EmmaLaEnanuli @viyita Ah otra cosa, si querés convencerme de que el covid mata por sí mismo, MOSTRAME LAS AUTOPSIAS... ah no, cierto que no las hacen porque de hacerlas se les cae la mentira!\n",
      "1387919611304325125 2021-04-29 18:59:56 -0500 <LueltonB> @costa_rui Parece q o gabinete do ódio tem filial no governo da Bahia, pois só isso justificaria a ação de coagir a polícia a reprimir o trabalhador, o cidadão de bem. Além do mais, o estado baiano conta com um dos maiores números de casos e de mortes por covid-19 no Brasil (18.391 mortes).\n",
      "1387919609819549697 2021-04-29 18:59:55 -0500 <Fabrofalco> Hoy me tocó. Hace horas el laboratorio me confirmó que soy positivo de Covid-19. Y si bien estoy bien, en líneas generales, me tocó toda la sintomatología por suerte leve. No me contagié en una clandestina o boludeando. Mi estrecho fue mi suegro que tuvo que estar internado.\n",
      "1387919608817070085 2021-04-29 18:59:55 -0500 <dianaberrent> Remember that Covid research will benefit ALL patient communities Cc: @danaparish @StevePhillipsMD\n",
      "1387919607550316546 2021-04-29 18:59:55 -0500 <_brunamalaquias> Minha mãe conversando com o boy \"você vai tomar a vacina sim, se não eu te mato, vai morrer de covid ou por mim\" KKKKKK eu amei\n",
      "1387919606774263808 2021-04-29 18:59:55 -0500 <LavAgrahari1> @ekta199mishra @dmpratapgarh @UPGovt @narendramodi @myogiadityanath Did she die of Covid19\n",
      "1387919606220791812 2021-04-29 18:59:55 -0500 <RosanyDiaz> @LilianaRobeson Liliana, hace unos días a mi hijo le picó una garrapata en el campo, empecé a leer sobre las pruebas del Lyme por si acaso ( luego supe no vivo en zona endémica donde se desarrolle bacteria Borrelia) y me entró vertigo al leer que el test de anticuerpos es como Covid falsos +.\n",
      "1387919605272915970 2021-04-29 18:59:54 -0500 <TeamYouTube> @Goatguyf Appreciate the follow up – since you've recently submitted an appeal, it's best to give our reviewers a bit of a time to look into it. Note that due to the impact of COVID-19 on our workforce, delays in our responses can be expected. Reach back out if needed.\n",
      "1387919604807348226 2021-04-29 18:59:54 -0500 <osarrio> @patriciov Yo diría que es indolencia. Castillo tiene Covid.\n",
      "1387919604333355016 2021-04-29 18:59:54 -0500 <reporterpb> Paraíba registra mais de 291 mil casos de Covid-19 confirmados...  https://t.co/n0jg3KhQPm\n",
      "1387919603972681732 2021-04-29 18:59:54 -0500 <oliverr98256096> @LynnBrittney2 The NANO technology in the vaccine, is controlled by 5g, why do you think they want everyone to take vaccine, even children who have no chance of dying from covid, WAKE UP PEOPLE, ITS ALL ABOUT CONTROL. TIME TO SWITCH OFF THE TV, YOU ARE BEING BRAINWASHED.\n",
      "1387919602441728000 2021-04-29 18:59:54 -0500 <gulffrancefc> GULFMORNING à notre rayon de soleil. GULF phi phi fans s'inquiète de te savoir en sécurité et en bonne santé. Prend soin de toi ne sors que si c'est vraiment nécessaire sinon reste à la maison pour te reposer. Aujourd'hui avec toi nous allons lutter ensemble contre le COVID 19.  https://t.co/b9PfDNEgxW\n",
      "1387919602211074049 2021-04-29 18:59:54 -0500 <astronauteando> Ansiedade ou covid?\n",
      "1387919602152185859 2021-04-29 18:59:54 -0500 <BriceDavidson> I just need to keep my family safe.   You can go enjoy your freedom. (Just don’t spread the Covid to innocent people, and if you do get the Covid because you need your freedom... please expire quickly so as to not cost me lots of tax dollars trying to save your ass)\n",
      "1387919602013900801 2021-04-29 18:59:54 -0500 <MusingsOfYouth> Oh flu is gone--that's why lockdowns work--but Covid is still ubiquitous--that's why we need lockdowns/gathering restrictions/the whole shebang. Simply press an assertion, take it further. Diseases are a real life phenomenon; does this reflect real life?\n",
      "1387919601653227523 2021-04-29 18:59:53 -0500 <viniciusandre28> Mais de 400 mil vidas para COVID-19. MEU DEUS!\n",
      "1387919600688447493 2021-04-29 18:59:53 -0500 <zedanilorangel> O POETA ACIMA  \"Um poeta deve falar só  do que é alto.\"  Do que é alto? Concordo!  Por exemplo, o número  de desempregados:  alto.  O número de mortes  por Covid: alto também.  Pode falar, né?  A indignação, então,  já tá passando das nuvens,  Né?  Pode gritar também?\n",
      "1387919599249809408 2021-04-29 18:59:53 -0500 <guty2370> @MinSaludCol @IvanDuque @Supersalud @INSColombia @infopresidencia @urnadecristal @UNGRD @ViceColombia @MinInterior @Fruizgomez ⚱ | Dolor en Colombia.  505 muertos por COVID reportados hoy😭😭😭  RÉCORD cifra más alta en toda la pandemia.  Ya son más de 73 mil víctimas.  Abrazo gigante a todas las familias y mucha firtaleza🙏🙏🙏🙏🙏 #NoSonCifrasSonVidas no nos acostumbremos.  https://t.co/l05vf0hBaM\n",
      "1387919599211929603 2021-04-29 18:59:53 -0500 <itsnataliemc> señora deje de verme feo, es alergia no covid 😩\n",
      "1387919599019122692 2021-04-29 18:59:53 -0500 <14Agencia> Boletim da Covid-19 desta quinta-feira, 29 de abril, em Botucatu.  https://t.co/Vfp118GcuK  https://t.co/prsUOud4X9\n",
      "1387919597899292674 2021-04-29 18:59:53 -0500 <DoubleWizard> i feel so bad critiquing this season, it's the only one that's ever felt lacking to me. and i don't hate it or anything, it's just so weird! i wish we had some way of knowing how much stuff like covid effected plans\n",
      "1387919597899116544 2021-04-29 18:59:53 -0500 <FreeJayNasty> @shandiditbetter Def crack because we’re not supposed to pay out of pocket for covid tests/vaccines because the government is paying for them. 👏🏼\n",
      "1387919597785976840 2021-04-29 18:59:53 -0500 <braileysanchez> @brown_ellewoods 1. What in the world is this survey, it’s very threatening 2. My experience is diff bc mine was delayed twice due to COVID, but before I knew I had extra time I still never studied a full 8 hour day and also only occasionally studied on weekends.\n",
      "1387919597232435204 2021-04-29 18:59:52 -0500 <victortr> @BlogdoBG BG não caia nessa narrativa de COVID-19, dê nome aos bois.. É VÍRUS CHINÊS.. ou então COVID-19 \"O VÍRUS CHINÊS\n",
      "1387919594216697862 2021-04-29 18:59:52 -0500 <peelinganal> eu tenho certeza que uma das variantes do covid saiu da casa dessa diabo podi\n"
     ]
    },
    {
     "name": "stdout",
     "output_type": "stream",
     "text": [
      "1387919593889419265 2021-04-29 18:59:52 -0500 <carcinoidmama> @fabiohasler_ @BenBCDE @EricTopol @cellhostmicrobe @sailorrooscout @dianaberrent SAR-1 also burned itself out really quickly so I don't think it's reasonable to attempt to compare the 2. Typical Coronavirus only confer immune protection for 6-12 months depending upon the specific one. There's been nothing to indicate SARS-COV-2 confers more than a year.\n",
      "1387919593340030979 2021-04-29 18:59:52 -0500 <ArizaMafe_> Ustedes si creen en esas cifras que dan del covid porque no yo.  Una forma más de distraernos de los temas importantes.\n",
      "1387919592257847300 2021-04-29 18:59:51 -0500 <WH4LIEN52HZ> sayang kung walang covid baka um-attend din sb19 sa bbmas wowowow\n",
      "1387919592249602053 2021-04-29 18:59:51 -0500 <piojitasaltarin> #CASTILLO #Contagiado d #COVID BUCAL ELECTORAL y justo cuando dsp d recibir #ASESORIA d #SOTO salio a declarar q no era ni #COMUNISTA ni #TERRUCO ni #LENINISTA ni #MARXISTAni #Pensamiento GONZALO cm decia jf  #CERRON?  o teme #DEBATIR con #KEIKO q lo #REVOLCARA en sus PROPUESTAS\n",
      "1387919591016259588 2021-04-29 18:59:51 -0500 <orangeclarke98> @SeanWarren234 That aside I felt like it was going to be an uphill end of the year the Covid just makes me want to let them all go home and be with their families.\n",
      "1387919589925871622 2021-04-29 18:59:51 -0500 <BEAST17761> The coronavirus pandemic has exposed dangerous weaknesses in U.S. planning and preparation for civil defense protection, and those weaknesses surely have been noticed by our potential enemies: China, Russia, North Korea, Iran and international terrorists.  https://t.co/pNFDF4Xn8N\n",
      "1387919586444681219 2021-04-29 18:59:50 -0500 <Voces_criticas> Puesta en marcha del centro de atención transitoria COVID-19 en la capital  https://t.co/lb0dqwYDxR\n",
      "1387919585043566595 2021-04-29 18:59:50 -0500 <EARL_COVID19_tw> コロナ差別「ある」８８％、接種「受けたい」８７％…読売世論調査  https://t.co/94zOfCm9sS\n",
      "1387919581747060744 2021-04-29 18:59:49 -0500 <TreadOnMeDezza> @JohnGuaido @ChateauSteel @Artsy_Marxist Yes but w particular regulation, i forget but generally you need family there or a special visa to fly direct. Im fairly certain theyre allowing people during covid w some quarantine reqs\n",
      "1387919580891389955 2021-04-29 18:59:49 -0500 <mitags> @cianetinho @ProfessorOlive8 Seu governador ou prefeito que estão comandando o combate ao COVID ,pararam de beber água ? Santo Deus ! É cada coisa que a gente lê aqui... 🤦‍♀️\n",
      "1387919578815139841 2021-04-29 18:59:48 -0500 <tcristinarsac> @randolfeap @PMMacapa Senador, em relação a CPI da Covid será abordada a orientação dada pelo Ministério da Saúde em relação a não guardar as 2°s doses da coronavac? Essa orientação foi totalmente descabida e sem planejamento e está prejudicando muitos idosos que estão com o prazo vencido.\n",
      "1387919575879196677 2021-04-29 18:59:47 -0500 <guilherme___061> @My_bsb__ @Mariiaraujo09 covid princesa😔\n",
      "1387919574285225984 2021-04-29 18:59:47 -0500 <lotusmountnmama> Four months til that second dose. PHO not following manufacturers’ guidelines. 1000+ Covid breakthrough cases 14+ days after first dose in BC.\n",
      "1387919573668745219 2021-04-29 18:59:47 -0500 <chowigonzalez> @NanoPoblu @JuanGonzalezzz1 Ow nano 🥺 te diría que vengas a jugar a la play con nos pero  1: tenes covid  2: te tenemos de hijo\n",
      "1387919573169709059 2021-04-29 18:59:47 -0500 <WDVMTV> Dr. Brookmyer has led the county response to the COVID-19 pandemic, and she works daily to keep locals updated on COVID-19.   https://t.co/k655PbxGzt\n",
      "1387919572842463240 2021-04-29 18:59:47 -0500 <ENIC_Oficial> 29/04/2021, são +de 401 mil mortos pela convid-19 sonhos,vidas interrompidas. Ja são 14.592.886 infectados. 2020/2021, Brasil p/ ele vacina ñ, e arma sim. Brasileiros é hora de extermina o genocida, assassino Jair Bolsonaro. Propagação da Covid-19 no Brasil foi intencional.  https://t.co/242anMYSg5\n",
      "1387919571168997379 2021-04-29 18:59:46 -0500 <SD_ICTP> Please follow SOPs, wear Mask, use Senitizer, and avoid crowded places. #humsabkaislamabad #COVID19  @ICT_Police\n",
      "1387919569352892417 2021-04-29 18:59:46 -0500 <GustavoOrozcoH> Mientras los pacientes COVID mueren por falta de :  Médicos  Medicinas  Camas UCI Oxígeno  Enfermeras  Etc  El SOCIALISTA y defensor de los pobres está recibiendo atención VIP, cuidados especiales 6 galenos(para un dolor de cabeza) mientras otros MUEREN!  @CastilloCobarde\n",
      "1387919567482089472 2021-04-29 18:59:45 -0500 <AlishaTeaches> @jsvsakamoto Had my son stream the press conference from my phone while I was in the car. 36 mb wasted jamming out to the COVID music.\n",
      "1387919567364804611 2021-04-29 18:59:45 -0500 <silencedCRNA> @lisamarieLML I can’t say no as there aren’t enough studies currently to say there is no risk. I can only say in my case I decided the risk from COVID outweighed the risk from the vaccine. I have had no side effects since the second but she should make an informed decision with her MD.\n",
      "1387919567352209408 2021-04-29 18:59:45 -0500 <KralcTrebor> @jtate00 Oh because lots of people get bad complications from COVID ... it's pretty good at causing tissue damage, so lungs and nerves don't recover well ... it's not death so much as life quality ... and the vaccine is not a risk to any meaningful extent.\n",
      "1387919566232178689 2021-04-29 18:59:45 -0500 <ManojSa50151127> @alma_kullu @HemantSorenJMM Common people will ask for everything. Lockdown is not the answer to stop covid -19\n",
      "1387919566009815043 2021-04-29 18:59:45 -0500 <Pentalwise> Seriously??? How hard can it be??? #auspol #covid #idiotgovernment   https://t.co/vURIpS0kSL\n",
      "1387919565552820228 2021-04-29 18:59:45 -0500 <EdierAndres> @JeniferDopada Aaaa ya por los disturbios que nada tienen que ver con las vacunas. Que virus tan tenaz son ellos, más mortíferos que el Covid.\n",
      "1387919563128516612 2021-04-29 18:59:44 -0500 <ClarkCoWA_PH> “I can’t take care of my family and my community unless I first take care of myself.” The vaccine protects Steve from getting really sick from COVID-19 and gets the community one shot closer to herd immunity and reopening without restrictions.  #IGotTheShot #ThisIsOurShot  https://t.co/8a8wUo8Ibb\n",
      "1387919562373582852 2021-04-29 18:59:44 -0500 <angegraciano> Otra compañera docente falleció por coronavirus. Mónica Suarez, una gran trabajadora, luchadora incansable y siempre solidaria.  Abrazamos fuertemente a su familia, a sus amigos y a sus compañeras y compañeros de escuela.  Hasta siempre querida Mónica.  🔗  https://t.co/1CjD51UZlT  https://t.co/BefJsNnzeM\n",
      "1387919561941561348 2021-04-29 18:59:44 -0500 <PeluzaGuzman> Elecciones 2021: Candidato Pedro Castillo dio positivo para COVID-19\n",
      "1387919559705911299 2021-04-29 18:59:43 -0500 <LustrousLynx> @BrandyFromTX @piratefoxy It makes me so happy Bernie flopped and leftshits became irrelevant. y’all still not learned anything how barking ageist shit like “ok boomer” and calling Covid  “boomer remover” tanked him.   And anything the big Bernie accounts are all middleaged yt bros that y’all listen to 🤣\n",
      "1387919557738729474 2021-04-29 18:59:43 -0500 <sayk_art> #COVID19 #COVID19India #coronavirus #Corona #COVID #CoronavirusPandemic #Covid_19 #IndiaFightsCOVID19 #pandemic #SystemहीSarkar #System #SYSTEM_IS_ANI #ResignModi\n",
      "1387919555704459264 2021-04-29 18:59:43 -0500 <ShmesSufyan> @jokerrr577 Maintain covid protocols bro. Stay safe.\n",
      "1387919555641724928 2021-04-29 18:59:43 -0500 <zaracaytv> #ATENCIÓN | 90.130 personas del grupo prioritario de la Fase 1 recibieron la vacuna contra la COVID19 en el país este jueves 29 de abril, según el Gobierno.  https://t.co/aK9KNgM36n  https://t.co/sa86GwN7Xo\n",
      "1387919554270187528 2021-04-29 18:59:42 -0500 <marcelosbacelar> 400 mil mortes por covid-19? Total já pode ter passado de 514 mil no Brasil, apontam pesquisadores.   https://t.co/BOBUr78h3T\n",
      "1387919552978243589 2021-04-29 18:59:42 -0500 <astronauteando> Covid ou tpm?\n",
      "1387919551124361226 2021-04-29 18:59:41 -0500 <valeriosobral> OS RECADOS DE RENAN PARA BOLSONARO E OS MILITARES NA ABERTURA DA CPI DA COVID  https://t.co/TR0dk6RJbG\n",
      "1387919551040352257 2021-04-29 18:59:41 -0500 <SenJoshBecker> We’re celebrating the 13th Senate District’s COVID Community Champions TONIGHT @6PM in an online Town Hall! I hope you can join me &amp; Nicole Taylor, Silicon Valley Community Foundation Pres. &amp; CEO, at  https://t.co/AMho40FoKr.\n",
      "1387919550243643394 2021-04-29 18:59:41 -0500 <1joamonje> @GaldeanoNahuu q no se done, encima estas con covid 🤣🤒\n",
      "1387919548318248960 2021-04-29 18:59:41 -0500 <BobHart17648443> @libbyemmons Reward system removing masks- that is child abuse. Children should not be wearing masks! There are studies...actual science...not politics which states that children do not transmit covid and actually have very little symptoms if actually infected.\n",
      "1387919544501428224 2021-04-29 18:59:40 -0500 <ASRAR_1968> #COVID19 #ModiGovtSeNaHoPayega #ModiResign #ModiFailsIndia\n",
      "1387919543683670023 2021-04-29 18:59:40 -0500 <AmyCetrulo1> Covid &amp; QAnon at Camelot | Edgelands Ep.1  https://t.co/dGfr1UUWEH via @YouTube\n",
      "1387919542152740868 2021-04-29 18:59:39 -0500 <sweetlouiet> @donakdrama ah amg eu comecei a trabalhar com 18 só mas agr com isso de covid nem vale muito ja q ta mais de 1 ano ne\n"
     ]
    },
    {
     "name": "stdout",
     "output_type": "stream",
     "text": [
      "[!] No more data! Scraping will stop now.\n",
      "found 0 deleted tweets in this search.\n"
     ]
    }
   ],
   "source": [
    "twint.run.Search(c5)"
   ]
  },
  {
   "cell_type": "code",
   "execution_count": 67,
   "metadata": {},
   "outputs": [],
   "source": [
    "tweetsEndApr = pd.read_csv('covidtweetsEndApr.csv')"
   ]
  },
  {
   "cell_type": "code",
   "execution_count": 68,
   "metadata": {},
   "outputs": [
    {
     "data": {
      "text/plain": [
       "(80, 36)"
      ]
     },
     "execution_count": 68,
     "metadata": {},
     "output_type": "execute_result"
    }
   ],
   "source": [
    "tweetsEndApr.shape"
   ]
  },
  {
   "cell_type": "code",
   "execution_count": 134,
   "metadata": {},
   "outputs": [],
   "source": [
    "c6 = twint.Config()\n",
    "\n",
    "c6.Search = \"covid OR coronavirus OR COVID-19\"\n",
    "c6.Lang = \"en\"\n",
    "c6.Since = \"2021-05-01\"\n",
    "c6.Until = \"2021-05-15\"\n",
    "c6.Limit = 5000\n",
    "c6.Store_csv = True\n",
    "c6.Output = 'covidtweetsBegMay2.csv'"
   ]
  },
  {
   "cell_type": "code",
   "execution_count": 135,
   "metadata": {
    "scrolled": false
   },
   "outputs": [
    {
     "name": "stdout",
     "output_type": "stream",
     "text": [
      "1393355444740149256 2021-05-14 18:59:59 -0500 <RodiesDjango> COVID: LE CURE PROIBITE - Massimo Mazzucco  https://t.co/ra1FPlbdT5\n",
      "1393355444446498816 2021-05-14 18:59:59 -0500 <REoptimizer> COVID-19 &amp; Retail Space: What You Need To Know   #CRE #COVID-19 #TenantTips #Retail #CorporateRealEstate  https://t.co/oyHEMC00QJ\n",
      "1393355444152897536 2021-05-14 18:59:59 -0500 <henriquefvvusa> @cavalinhobahiia @gibamilgrau Obrigado, Senhor! Levo o Otero de carro até Salvador pra não correr risco dele pegar covid e o Bahia desistir da proposta\n",
      "1393355443053944832 2021-05-14 18:59:59 -0500 <CBMSC193> 20:59:59 #ações_preventivas local: Rua Coronel Feddersen, Centro, #Taio - prevenção covid 19\n",
      "1393355442357608449 2021-05-14 18:59:59 -0500 <charliesmithvcr> COVID-19 in B.C.: Hospitalizations continue falling but number of cases in intensive care remains the same  https://t.co/C3EaV6pj1R via @georgiastraight @cinecraig #covid19 #vaccinations #vaccines #bcpoli\n",
      "1393355441846038531 2021-05-14 18:59:59 -0500 <iOptimizeRealty> Essential office amenities that every business should have in their post-COVID-19 workplace.  #CRE #Amenities #Office #NewNormal #TenantTips #CorporateRealEstate  https://t.co/6dSrliMPOc\n",
      "1393355441380499462 2021-05-14 18:59:59 -0500 <shesuchanangel_> @giocarstairs amg tudo que eu mais quero é poder sair sem me preocupar com covid 😭 tô há um passo de entrar em colapso\n",
      "1393355440768143362 2021-05-14 18:59:59 -0500 <JohnGeones> Trump Begs for COVID Vaccine Credit: ‘Just a Mention Please!’  https://t.co/jQl8KzbQTj via @Yahoo NOT A CHANCE WHEN YOU DID NOTHING BUT LET IT SPREAD. EAT SHIT TRUMP !\n",
      "1393355440424112131 2021-05-14 18:59:58 -0500 <PricklePear1> @AlisonPower9 @FoxNews and Andrew Cuomo's Covid 19 decisions/actions led to the death of several  people in retirement homes while writing a book and sexually assaulting 9 females according to several sources  https://t.co/yXHm4vcJZF  https://t.co/UXc0ne4CDD  https://t.co/sSH1SrAPHa\n",
      "1393355438209605635 2021-05-14 18:59:58 -0500 <orlandobenitezm> 🔴 Sahagún: Ocupación UCI TOTAL: 18 Camas  Ocupación UCI #COVID19 : 14 camas instaladas Ocupadas: 13 camas Disponibles: 1 cama  Ocupación UCI NO #COVID19 : 4 camas instaladas.  Ocupadas: 4 Disponibles: 0\n",
      "1393355436712157184 2021-05-14 18:59:58 -0500 <WADeptHealth> Here’s where Washington’s #COVID-19 vaccine allocation will go next week. The local health portion of #COVIDvaccine is divided among local health, hospitals, community health centers, providers &amp; pharmacies.  https://t.co/iXrlXpc4JT\n",
      "1393355436288405507 2021-05-14 18:59:57 -0500 <Berlesue> Perhaps, hospitals could refuse to treat those who contract Covid after refusing to get vaxed. It's not fair to require our over worked Doctors and staff to take time away from helping patients who had no choice in their illness.\n",
      "1393355435348955136 2021-05-14 18:59:57 -0500 <noon1027mumu> COVID-19、法的な扱いを変えたところで重篤化しなくなるわけでも感染力が下がるわけでもない。虎を猫と分類したとて一般家庭で飼育可能にはならない。可能な事例もある？虎を虎として飼育するのではなく、現行の猫の手法で飼育したいという話だ。世の猫をそのまま虎に置換して、さて如何。\n",
      "1393355435025965064 2021-05-14 18:59:57 -0500 <IndySpiritus> @thelonevirologi Isn't there a range in severity of mRNA vaccine reactions for those most at risk from COVID-19?  If so, maybe one day an index could be assembled to indicate those most likely to die from COVID-19 if unvacc'd.  Then the vaccine naysayers could be shown the enormity of their risk.\n",
      "1393355434229121029 2021-05-14 18:59:57 -0500 <StefanMcbride3> @gaysex420 I get that this is a joke but seriously try not to be in groups of more than 3 people because a lot of people are expanding their groups are getting sick( not just COViD)\n",
      "1393355433931284484 2021-05-14 18:59:57 -0500 <CalNurses> Since the beginning, nurses have been loud and clear on #Covid19: Follow👏the 👏science.👏  Given the threat to our patients, we are disappointed to see new @CDCgov guidance that is NOT based on science — especially on the heels of #InternationalNursesDay.  https://t.co/ErNE2WKW5t\n",
      "1393355433155387395 2021-05-14 18:59:57 -0500 <KitsapEM> Today’s edition of the COVID-19 Bulletin features information on: * Target date for re-opening businesses to 100%  * A challenge to county healthcare providers  * Updated guidance on youth activities &amp; K-12 schools More information can be found at:   https://t.co/l0RsrHwRRU  https://t.co/JmQ9Hbv4zK\n",
      "1393355432505188358 2021-05-14 18:59:57 -0500 <anjarVratama> Waiting for tsunami covid\n",
      "1393355429133000706 2021-05-14 18:59:56 -0500 <rjfrailey> @Hskers62 I’ll find out from my co worker Monday. Oh the same one that gave me Covid for Christmas\n",
      "1393355428143132673 2021-05-14 18:59:56 -0500 <geoffs65> New post (FDA Registers Moderna COVID-19 Vaccine) has been published on Thai Suggest -  https://t.co/iHoQUlkwHy -  https://t.co/rA29kFdd6K\n",
      "[!] No more data! Scraping will stop now.\n",
      "found 0 deleted tweets in this search.\n"
     ]
    }
   ],
   "source": [
    "twint.run.Search(c6)"
   ]
  },
  {
   "cell_type": "code",
   "execution_count": 136,
   "metadata": {},
   "outputs": [],
   "source": [
    "tweetsBegMay = pd.read_csv('covidtweetsBegMay.csv')"
   ]
  },
  {
   "cell_type": "code",
   "execution_count": 137,
   "metadata": {},
   "outputs": [
    {
     "data": {
      "text/plain": [
       "(40, 36)"
      ]
     },
     "execution_count": 137,
     "metadata": {},
     "output_type": "execute_result"
    }
   ],
   "source": [
    "tweetsBegMay.shape"
   ]
  },
  {
   "cell_type": "code",
   "execution_count": 138,
   "metadata": {},
   "outputs": [],
   "source": [
    "c7 = twint.Config()\n",
    "\n",
    "c7.Search = \"covid OR coronavirus OR COVID-19\"\n",
    "c7.Lang = \"en\"\n",
    "c7.Since = \"2021-05-16\"\n",
    "c7.Until = \"2021-05-31\"\n",
    "c7.Limit = 5000\n",
    "c7.Store_csv = True\n",
    "c7.Output = 'covidtweetsEndMay2.csv'"
   ]
  },
  {
   "cell_type": "code",
   "execution_count": 82,
   "metadata": {},
   "outputs": [
    {
     "name": "stdout",
     "output_type": "stream",
     "text": [
      "1399153650379878400 2021-05-30 18:59:59 -0500 <BCISLEMAN> As Covid Rampages Across Nepal, Workers Pay the Price  https://t.co/EsB8ayl9Aw   India's crisi has become Nepal's crisis. What a horror!\n",
      "1399153648287031298 2021-05-30 18:59:59 -0500 <RicoDaGawd> apparently COVID doesn’t exist at LIV.  #VERZUZ\n",
      "1399153647494303752 2021-05-30 18:59:59 -0500 <Joetsakurai> バイデンは、COVIDラボリーク説の調査を命じる  https://t.co/KPBQCoo1D9\n",
      "1399153646923882499 2021-05-30 18:59:59 -0500 <mayitazharick> @conycamelo Y luego la culpa es de los médicos xq no le salvaron la vida porque se infecto de Covid\n",
      "1399153646479237123 2021-05-30 18:59:58 -0500 <alfernandea> @do_genocida @FIBRA2018 Só idiota acredita nisso, no mundo inteiro não morre de covid19, só no Br, tem vacina pra todos, aqui não, com Bolsonaro ou sem vai morrer gente, são abutres disputando a carne podre tripudiando em cima dos enlutados. Fora lixo comunista!\n",
      "1399153644298178561 2021-05-30 18:59:58 -0500 <BinAnimals> Saw a ratlicker sticker today which said roughly   \"There's a “spike” in COVID cases because we've increased testing. If we gave more IQ tests, there'd be a spike in morons too.\"  But surely the people most likely to get IQ tested would be at the top and bottom of the range...\n",
      "1399153643530735618 2021-05-30 18:59:58 -0500 <LicitraLeonardo> @marcelitaokk Si es la vacuna contra el covid no,ahora sí la vacunada fue importante escavie tranquila compañera\n",
      "1399153642960216070 2021-05-30 18:59:58 -0500 <TLyonsCRE> Bullish on RV parks as a CRE investment in the coming decade   Huge sales growth from major RV manufacturers several quarters running (e.g. Thor Industries)  2 big macro trends converging providing big tailwind(boomers retiring and buying RVs + RVing seen as safe post-COVID)\n",
      "1399153642477953024 2021-05-30 18:59:58 -0500 <maxicorrea313> Reporte SUMI CTI 30/05/2021  CTI 583 pacientes CoVID (+8) Ocupación total: 77.4% Ocupación por CoVID: 56%  En 10 días 51 ingresos.\n",
      "1399153642339508226 2021-05-30 18:59:58 -0500 <FalangeDion> @GoldFM_Fiji Am happy that you never get tired to repeat the stay well and safe message to your citizens, you keep encouraging them to stay safe and wear mask keep social distance keep up the great work #COVID19\n",
      "1399153641605451778 2021-05-30 18:59:57 -0500 <Gaudi57692621> Cara Vallejos : “ Karol dance me ponía todos los días la vacuna de carne , así que estoy protegida contra el coronavirus “\n",
      "1399153641026560000 2021-05-30 18:59:57 -0500 <Arya9516> Nada como una fiesta costeña para olvidarte del covid jajaja\n",
      "1399153640636571649 2021-05-30 18:59:57 -0500 <gillianinbrief> @SylviaPuente8 @DrFrankKlose @mtgreenee Except he's wrong. If you've had Covid, your antibodies will wane over a few months. The vaccination will last much longer.\n",
      "1399153638749184012 2021-05-30 18:59:57 -0500 <SSalud_mx> Conferencia de prensa #COVID19 | 30 de mayo de 2021 #GraciasPorCuidarnos    https://t.co/kDfJpPQI8l\n",
      "1399153638497570818 2021-05-30 18:59:57 -0500 <Foro_TV> Conferencia de prensa por coronavirus en México del 30 de mayo de 2021:  https://t.co/qurSvu21gC  https://t.co/hR1yo7ZUB0\n",
      "1399153636652072960 2021-05-30 18:59:56 -0500 <DaniServin11> Después de estar 14 días internada mi abuela de 92 años acaba de superarle al covid y también mi mamá que es la 2 vez que se contagia 👏🏿👏🏿❤️  https://t.co/3XBVn9pLD7\n",
      "1399153635410468867 2021-05-30 18:59:56 -0500 <TerryFHunter> By contaminating all possible donors through Covid vaccinations they've played the card that'll stop  future operations!  They've set you up for no medical treatments or life saving operations!  Those pushing vaccinations are also those who state the world's overpopulated.  Think\n",
      "1399153633363742721 2021-05-30 18:59:55 -0500 <VictorR63713304> Los muertos victimas del covid no son un sector de la sociedad...🙄\n",
      "1399153633091100672 2021-05-30 18:59:55 -0500 <NewsinSeconds1> How low-cost antibody cocktail can be 'game changer' in India's Covid fight | India News  https://t.co/gMzpUWSJsi\n",
      "1399153630868033538 2021-05-30 18:59:55 -0500 <agropetroleros_> 🇻🇪✅ En estos tiempos, cuidemos nuestra salud emocional.   ¡Familia Petrolera de frente contra el Covid-19!    https://t.co/JbQipIgudo #VenezuelaSeVacuna\n",
      "[!] No more data! Scraping will stop now.\n",
      "found 0 deleted tweets in this search.\n"
     ]
    }
   ],
   "source": [
    "twint.run.Search(c7)"
   ]
  },
  {
   "cell_type": "code",
   "execution_count": 140,
   "metadata": {},
   "outputs": [],
   "source": [
    "tweetsEndMay = pd.read_csv('covidtweetsEndMay2.csv')"
   ]
  },
  {
   "cell_type": "code",
   "execution_count": 141,
   "metadata": {},
   "outputs": [
    {
     "data": {
      "text/plain": [
       "(39, 36)"
      ]
     },
     "execution_count": 141,
     "metadata": {},
     "output_type": "execute_result"
    }
   ],
   "source": [
    "tweetsEndMay.shape"
   ]
  },
  {
   "cell_type": "code",
   "execution_count": 3,
   "metadata": {},
   "outputs": [
    {
     "name": "stdout",
     "output_type": "stream",
     "text": [
      "1399153650379878400 2021-05-30 18:59:59 -0500 <BCISLEMAN> As Covid Rampages Across Nepal, Workers Pay the Price  https://t.co/EsB8ayl9Aw   India's crisi has become Nepal's crisis. What a horror!\n",
      "1399153648287031298 2021-05-30 18:59:59 -0500 <RicoDaGawd> apparently COVID doesn’t exist at LIV.  #VERZUZ\n",
      "1399153647494303752 2021-05-30 18:59:59 -0500 <Joetsakurai> バイデンは、COVIDラボリーク説の調査を命じる  https://t.co/KPBQCoo1D9\n",
      "1399153646923882499 2021-05-30 18:59:59 -0500 <mayitazharick> @conycamelo Y luego la culpa es de los médicos xq no le salvaron la vida porque se infecto de Covid\n",
      "1399153646479237123 2021-05-30 18:59:58 -0500 <alfernandea> @do_genocida @FIBRA2018 Só idiota acredita nisso, no mundo inteiro não morre de covid19, só no Br, tem vacina pra todos, aqui não, com Bolsonaro ou sem vai morrer gente, são abutres disputando a carne podre tripudiando em cima dos enlutados. Fora lixo comunista!\n",
      "1399153644298178561 2021-05-30 18:59:58 -0500 <BinAnimals> Saw a ratlicker sticker today which said roughly   \"There's a “spike” in COVID cases because we've increased testing. If we gave more IQ tests, there'd be a spike in morons too.\"  But surely the people most likely to get IQ tested would be at the top and bottom of the range...\n",
      "1399153643530735618 2021-05-30 18:59:58 -0500 <LicitraLeonardo> @marcelitaokk Si es la vacuna contra el covid no,ahora sí la vacunada fue importante escavie tranquila compañera\n",
      "1399153642960216070 2021-05-30 18:59:58 -0500 <TLyonsCRE> Bullish on RV parks as a CRE investment in the coming decade   Huge sales growth from major RV manufacturers several quarters running (e.g. Thor Industries)  2 big macro trends converging providing big tailwind(boomers retiring and buying RVs + RVing seen as safe post-COVID)\n",
      "1399153642477953024 2021-05-30 18:59:58 -0500 <maxicorrea313> Reporte SUMI CTI 30/05/2021  CTI 583 pacientes CoVID (+8) Ocupación total: 77.4% Ocupación por CoVID: 56%  En 10 días 51 ingresos.\n",
      "1399153642339508226 2021-05-30 18:59:58 -0500 <FalangeDion> @GoldFM_Fiji Am happy that you never get tired to repeat the stay well and safe message to your citizens, you keep encouraging them to stay safe and wear mask keep social distance keep up the great work #COVID19\n",
      "1399153641605451778 2021-05-30 18:59:57 -0500 <Gaudi57692621> Cara Vallejos : “ Karol dance me ponía todos los días la vacuna de carne , así que estoy protegida contra el coronavirus “\n",
      "1399153641026560000 2021-05-30 18:59:57 -0500 <Arya9516> Nada como una fiesta costeña para olvidarte del covid jajaja\n",
      "1399153640636571649 2021-05-30 18:59:57 -0500 <gillianinbrief> @SylviaPuente8 @DrFrankKlose @mtgreenee Except he's wrong. If you've had Covid, your antibodies will wane over a few months. The vaccination will last much longer.\n",
      "1399153638749184012 2021-05-30 18:59:57 -0500 <SSalud_mx> Conferencia de prensa #COVID19 | 30 de mayo de 2021 #GraciasPorCuidarnos    https://t.co/kDfJpPQI8l\n",
      "1399153638497570818 2021-05-30 18:59:57 -0500 <Foro_TV> Conferencia de prensa por coronavirus en México del 30 de mayo de 2021:  https://t.co/qurSvu21gC  https://t.co/hR1yo7ZUB0\n",
      "1399153636652072960 2021-05-30 18:59:56 -0500 <DaniServin11> Después de estar 14 días internada mi abuela de 92 años acaba de superarle al covid y también mi mamá que es la 2 vez que se contagia 👏🏿👏🏿❤️  https://t.co/3XBVn9pLD7\n",
      "1399153635410468867 2021-05-30 18:59:56 -0500 <TerryFHunter> By contaminating all possible donors through Covid vaccinations they've played the card that'll stop  future operations!  They've set you up for no medical treatments or life saving operations!  Those pushing vaccinations are also those who state the world's overpopulated.  Think\n",
      "1399153633363742721 2021-05-30 18:59:55 -0500 <VictorR63713304> Los muertos victimas del covid no son un sector de la sociedad...🙄\n",
      "1399153633091100672 2021-05-30 18:59:55 -0500 <NewsinSeconds1> How low-cost antibody cocktail can be 'game changer' in India's Covid fight | India News  https://t.co/gMzpUWSJsi\n",
      "1399153630868033538 2021-05-30 18:59:55 -0500 <agropetroleros_> 🇻🇪✅ En estos tiempos, cuidemos nuestra salud emocional.   ¡Familia Petrolera de frente contra el Covid-19!    https://t.co/JbQipIgudo #VenezuelaSeVacuna\n",
      "1399153630083784706 2021-05-30 18:59:55 -0500 <Lumyl_> Apuesto 2 packs a que tengo covid de nuevo...\n",
      "1399153629114810370 2021-05-30 18:59:54 -0500 <Alesaanchezs> Oigan candidatos, y familiares de candidatos y achichincles de candidatos, que nos dicen del covid? Así como nos informaban hace unos meses?\n",
      "1399153628171014144 2021-05-30 18:59:54 -0500 <Reporte_Indigo> Sigue #EnVivo el informe diario de Salud sobre el avance del COVID-19 en México al 30 de mayo 2021  https://t.co/e42otq4BHW\n",
      "1399153627177000960 2021-05-30 18:59:54 -0500 <DevGreg3> @Natski82 @drpete00 Now it's 5% that's close to the death rate of covid19\n",
      "1399153626497519616 2021-05-30 18:59:54 -0500 <gld301218> The shameful failures that threw care home residents to Covid. (UK)   https://t.co/69uGGB1kQU\n",
      "1399153626413731852 2021-05-30 18:59:54 -0500 <izazu25> Desde el 28 no se usa mascarillas aquí, y yo ya siento que me dio COVID. 😷\n",
      "1399153625633595393 2021-05-30 18:59:54 -0500 <AleBense> @PatoBullrich Viva la democracia y la libertad!!! Mientras veía tu nota por televisión me llama mi hijo Joel desde formosa, contándome que se lo están llevando a un centro de aislamiento por positivo covid...\n",
      "1399153624849301510 2021-05-30 18:59:53 -0500 <LavenderFoxAD> Remember when the world was mocking the USA for it's stupidity in handling COVID? Even US citizens were in on the joke...   Now the US is being stingy as hell with it's supply. Seems like no matter how you cut it, our country is full of idiots and assholes. Lol.\n",
      "1399153623578431491 2021-05-30 18:59:53 -0500 <eusochata> ontem = protesto pelas vidas dizimadas pelo covid e contra o genocídio hoje = qual a boooa' coerência\n",
      "1399153621024088065 2021-05-30 18:59:52 -0500 <lindsaysmoore> @brosiah_jgpat11 @keith_blankens @dreamingintrees @aslavitt46 I don't have a car. I live in Brooklyn. We encounter hundreds of people every day. Masks are on here. I'm fully capable of assessing risk. Our elementary school was closed last week due to covid. Get over yourself.\n",
      "1399153618566123525 2021-05-30 18:59:52 -0500 <jeleblanc15> @JoeBarri @DawnRubino I am vaccinated. I have had cancer twice. My lungs are compromised due to the high dose chemo and radiation. So, yes I still wear a mask. The vaccine does not = cure. I have kids. I didn’t survive cancer twice to die from COVID. Unfortunately there are people who don’t vaccinate\n",
      "1399153617106395143 2021-05-30 18:59:51 -0500 <tomo5268350076> #Amazon #東京五輪 #五輪ファースト #COVID19 #がんばれニッポン #日本の文化 #日本の中小企業  【見つけほしい日本があります】  日本政府は五輪ファースト、みなさんの応援が必要です。  https://t.co/up1M6lxQz3  https://t.co/GS0uy40gNs\n",
      "1399153616288686081 2021-05-30 18:59:51 -0500 <osopolarver3> @3decorazones3_ La del beso, positivo para covid jajajaja\n",
      "1399153613122019333 2021-05-30 18:59:51 -0500 <dtduval> @sylvainlother @mb_covid Thank you, thank you, thank you.\n",
      "1399153611289120776 2021-05-30 18:59:50 -0500 <Thedombruce> @GustavHerwitz @LeafsAllDayy I know they said he won't play but yeah I'm here for that. Covid protocols probably block it\n",
      "1399153610664169472 2021-05-30 18:59:50 -0500 <Daddysdoneplay1> @ShipmanSkyler @MindyVixen1017 @cshoe758 @CNN Working class would be what age group? Oh yeah the one that has a 99% recovery rate to covid.. weird\n",
      "1399153605588836354 2021-05-30 18:59:49 -0500 <LexiconDigital_> As Australia begins the long journey to post-Covid recovery, we’re witnessing a candidate-driven market in software delivery. Learn more about our approach to hiring and what we found was most successful in this competitive market. 🚀   https://t.co/cJPVemnQWZ  #recruitment #hire\n",
      "1399153605341433859 2021-05-30 18:59:49 -0500 <CapitalMexico> #CuidarteEsCuidarnos | Conferencia sobre la situación en México al 30 de mayo 2021 #Covid_19  https://t.co/oGERuhzguC\n",
      "1399153605081436163 2021-05-30 18:59:49 -0500 <ThierryZeis> @SkywalkerLuc2 @andrexnoel Le COVID est devenu une maladie psychiatrique dont seul le peuple possède le Vaccin.\n",
      "[!] No more data! Scraping will stop now.\n",
      "found 0 deleted tweets in this search.\n"
     ]
    }
   ],
   "source": [
    "c8 = twint.Config()\n",
    "\n",
    "c8.Search = \"covid OR coronavirus OR COVID-19\"\n",
    "c8.Lang = \"en\"\n",
    "c8.Since = \"2021-05-16\"\n",
    "c8.Until = \"2021-05-31\"\n",
    "c8.Limit = 5000\n",
    "c8.Store_csv = True\n",
    "c8.Output = 'covidtweetsEndMay2.csv'\n",
    "\n",
    "twint.run.Search(c8)"
   ]
  },
  {
   "cell_type": "code",
   "execution_count": 4,
   "metadata": {},
   "outputs": [],
   "source": [
    "tweetsEndMay2 = pd.read_csv('covidtweetsEndMay2.csv')"
   ]
  },
  {
   "cell_type": "code",
   "execution_count": 5,
   "metadata": {},
   "outputs": [
    {
     "data": {
      "text/plain": [
       "(39, 36)"
      ]
     },
     "execution_count": 5,
     "metadata": {},
     "output_type": "execute_result"
    }
   ],
   "source": [
    "tweetsEndMay2.shape"
   ]
  },
  {
   "cell_type": "code",
   "execution_count": 166,
   "metadata": {},
   "outputs": [
    {
     "name": "stdout",
     "output_type": "stream",
     "text": [
      "1399153650379878400 2021-05-30 18:59:59 -0500 <BCISLEMAN> As Covid Rampages Across Nepal, Workers Pay the Price  https://t.co/EsB8ayl9Aw   India's crisi has become Nepal's crisis. What a horror!\n",
      "1399153648287031298 2021-05-30 18:59:59 -0500 <RicoDaGawd> apparently COVID doesn’t exist at LIV.  #VERZUZ\n",
      "1399153647494303752 2021-05-30 18:59:59 -0500 <Joetsakurai> バイデンは、COVIDラボリーク説の調査を命じる  https://t.co/KPBQCoo1D9\n",
      "1399153646923882499 2021-05-30 18:59:59 -0500 <mayitazharick> @conycamelo Y luego la culpa es de los médicos xq no le salvaron la vida porque se infecto de Covid\n",
      "1399153646479237123 2021-05-30 18:59:58 -0500 <alfernandea> @do_genocida @FIBRA2018 Só idiota acredita nisso, no mundo inteiro não morre de covid19, só no Br, tem vacina pra todos, aqui não, com Bolsonaro ou sem vai morrer gente, são abutres disputando a carne podre tripudiando em cima dos enlutados. Fora lixo comunista!\n",
      "1399153644298178561 2021-05-30 18:59:58 -0500 <BinAnimals> Saw a ratlicker sticker today which said roughly   \"There's a “spike” in COVID cases because we've increased testing. If we gave more IQ tests, there'd be a spike in morons too.\"  But surely the people most likely to get IQ tested would be at the top and bottom of the range...\n",
      "1399153643530735618 2021-05-30 18:59:58 -0500 <LicitraLeonardo> @marcelitaokk Si es la vacuna contra el covid no,ahora sí la vacunada fue importante escavie tranquila compañera\n",
      "1399153642960216070 2021-05-30 18:59:58 -0500 <TLyonsCRE> Bullish on RV parks as a CRE investment in the coming decade   Huge sales growth from major RV manufacturers several quarters running (e.g. Thor Industries)  2 big macro trends converging providing big tailwind(boomers retiring and buying RVs + RVing seen as safe post-COVID)\n",
      "1399153642477953024 2021-05-30 18:59:58 -0500 <maxicorrea313> Reporte SUMI CTI 30/05/2021  CTI 583 pacientes CoVID (+8) Ocupación total: 77.4% Ocupación por CoVID: 56%  En 10 días 51 ingresos.\n",
      "1399153642339508226 2021-05-30 18:59:58 -0500 <FalangeDion> @GoldFM_Fiji Am happy that you never get tired to repeat the stay well and safe message to your citizens, you keep encouraging them to stay safe and wear mask keep social distance keep up the great work #COVID19\n",
      "1399153641605451778 2021-05-30 18:59:57 -0500 <Gaudi57692621> Cara Vallejos : “ Karol dance me ponía todos los días la vacuna de carne , así que estoy protegida contra el coronavirus “\n",
      "1399153641026560000 2021-05-30 18:59:57 -0500 <Arya9516> Nada como una fiesta costeña para olvidarte del covid jajaja\n",
      "1399153640636571649 2021-05-30 18:59:57 -0500 <gillianinbrief> @SylviaPuente8 @DrFrankKlose @mtgreenee Except he's wrong. If you've had Covid, your antibodies will wane over a few months. The vaccination will last much longer.\n",
      "1399153638749184012 2021-05-30 18:59:57 -0500 <SSalud_mx> Conferencia de prensa #COVID19 | 30 de mayo de 2021 #GraciasPorCuidarnos    https://t.co/kDfJpPQI8l\n",
      "1399153638497570818 2021-05-30 18:59:57 -0500 <Foro_TV> Conferencia de prensa por coronavirus en México del 30 de mayo de 2021:  https://t.co/qurSvu21gC  https://t.co/hR1yo7ZUB0\n",
      "1399153636652072960 2021-05-30 18:59:56 -0500 <DaniServin11> Después de estar 14 días internada mi abuela de 92 años acaba de superarle al covid y también mi mamá que es la 2 vez que se contagia 👏🏿👏🏿❤️  https://t.co/3XBVn9pLD7\n",
      "1399153635410468867 2021-05-30 18:59:56 -0500 <TerryFHunter> By contaminating all possible donors through Covid vaccinations they've played the card that'll stop  future operations!  They've set you up for no medical treatments or life saving operations!  Those pushing vaccinations are also those who state the world's overpopulated.  Think\n",
      "1399153633363742721 2021-05-30 18:59:55 -0500 <VictorR63713304> Los muertos victimas del covid no son un sector de la sociedad...🙄\n",
      "1399153633091100672 2021-05-30 18:59:55 -0500 <NewsinSeconds1> How low-cost antibody cocktail can be 'game changer' in India's Covid fight | India News  https://t.co/gMzpUWSJsi\n",
      "1399153630868033538 2021-05-30 18:59:55 -0500 <agropetroleros_> 🇻🇪✅ En estos tiempos, cuidemos nuestra salud emocional.   ¡Familia Petrolera de frente contra el Covid-19!    https://t.co/JbQipIgudo #VenezuelaSeVacuna\n",
      "[!] No more data! Scraping will stop now.\n",
      "found 0 deleted tweets in this search.\n"
     ]
    }
   ],
   "source": [
    "c9 = twint.Config()\n",
    "\n",
    "c9.Search = \"covid OR coronavirus OR COVID-19\"\n",
    "c9.Lang = \"en\"\n",
    "c9.Since = \"2021-05-16\"\n",
    "c9.Until = \"2021-05-31\"\n",
    "c9.Limit = 5000\n",
    "c9.Store_csv = True\n",
    "c9.Output = 'covidtweetsEndMay3.csv'\n",
    "\n",
    "twint.run.Search(c9)"
   ]
  },
  {
   "cell_type": "code",
   "execution_count": 167,
   "metadata": {},
   "outputs": [],
   "source": [
    "tweetsEndMay3 = pd.read_csv('covidtweetsEndMay3.csv')"
   ]
  },
  {
   "cell_type": "code",
   "execution_count": 168,
   "metadata": {},
   "outputs": [
    {
     "data": {
      "text/plain": [
       "(20, 36)"
      ]
     },
     "execution_count": 168,
     "metadata": {},
     "output_type": "execute_result"
    }
   ],
   "source": [
    "tweetsEndMay3.shape"
   ]
  },
  {
   "cell_type": "code",
   "execution_count": 12,
   "metadata": {},
   "outputs": [],
   "source": [
    "c10 = twint.Config()\n",
    "\n",
    "c10.Search = \"covid OR coronavirus OR COVID-19\"\n",
    "c10.Lang = \"en\"\n",
    "c10.Since = \"2021-03-16\"\n",
    "c10.Until = \"2021-03-31\"\n",
    "c10.Limit = 5000\n",
    "c10.Store_csv = True\n",
    "c10.Output = 'covidtweetsEndMar2.csv'"
   ]
  },
  {
   "cell_type": "code",
   "execution_count": 13,
   "metadata": {},
   "outputs": [
    {
     "name": "stdout",
     "output_type": "stream",
     "text": [
      "1377047990817411073 2021-03-30 18:59:59 -0500 <anternn> Ojala no sea covid lpm\n",
      "1377047990402179082 2021-03-30 18:59:59 -0500 <KELVINGAME3> PRUEBA GRATUITA PARA COVID 19 !!! 👇🏿👇🏿👇🏿👇🏿👇🏿👇🏿👇🏿👇🏿👇🏿\n",
      "1377047989697581058 2021-03-30 18:59:59 -0500 <xxxl_oliveira> Eu amo ouvir um “Gisele já foi vacinada contra a COVID” parece a voz do anjo sussurrando no meu ouvido 😍\n",
      "1377047989588492291 2021-03-30 18:59:59 -0500 <SuperChannel_12> Abuelita muere en fila para vacunación contra Covid  https://t.co/LIZd8kfgZU #Puebla #Deceso  https://t.co/53MHizqnMX\n",
      "1377047988942614530 2021-03-30 18:59:59 -0500 <REoptimizer> 7 Tips For Companies Returning to Office Space After COVID-19 #CRE #COVID-19 #Office #TenantTips    https://t.co/fyO7hfwa70\n",
      "1377047986551787530 2021-03-30 18:59:58 -0500 <BjCamacho> @Fran_Reporta Mosca y lo que se lo llevó se llama covid\n",
      "1377047981753389057 2021-03-30 18:59:57 -0500 <moodyangela> @RileyMiner @Covid_Stinks @HaidaHockey Our system is rigged to give the wealthy control  Being funded by donations is legal bribery  Our parties have progressive names but they’re all either centre or right  When they get into power they move further right too  It’s all about money  We can die so the rich get richer\n",
      "1377047980151238657 2021-03-30 18:59:57 -0500 <Locus_403> @SheldrickTrust Looks like whatever started the covid 😄\n",
      "1377047979023069191 2021-03-30 18:59:57 -0500 <djdamien5630> @FLVaccine @bridgetteANjax When you get your flu shot...you don't immediately run out and do the dumb crap that would normally give the flu...some people are too dense to apply this idea to the Covid stuff..\n",
      "1377047978440032270 2021-03-30 18:59:57 -0500 <nexosdelsur> LABOULAYE: SE REGISTRARON 7 CASOS POSITIVOS DE COVID-19 Y 3 PACIENTES RECUPERADOS . Urgente 🚨 👉🏼 El Centro de Operaciones de Emergencia Departamental informó hoy que  se registraron 7 nuevos casos positivos de COVID-19 en Laboulaye 😷🦠  https://t.co/67Z5b3YGXU\n",
      "1377047978330951680 2021-03-30 18:59:57 -0500 <PrickyPiranha> \"The Marc Patrone Show - March 30, 2021 - COVID Lockdowns, RCMP Internal Probe &amp; Renewable Energy Taxpayer Waste\" by NEWSTALK Sauga 960 AM via #spreaker  https://t.co/RKahQnBS0C Miss the show? Check out the podcast!w/@MarcPatrone  Happy 555hrs of freedom loving awesomeness!\n",
      "1377047978117107714 2021-03-30 18:59:56 -0500 <pumpkibu> anyway despite more vaccination availability please dont be stupid. just because you got the shot, you shouldnt go run around on spring break with no mask. my floor on the hospital i’m currently working at just got turned into a covid floor due to the influx of new covid patients\n",
      "1377047977630572544 2021-03-30 18:59:56 -0500 <RadioZP12Pilar> #URGENTE | Ñeembucú registra 3 muertes por Covid 19 en las últimas 24 horas. #700AM  https://t.co/5WoKJPE45T\n",
      "1377047977425010690 2021-03-30 18:59:56 -0500 <mary1966n> @Joe911S @robersperanza Ma chi se ne frega. Tanto i dati son falsi a prescindere. Malati terminali che hanno contratto una polmonite o un raffreddore qualsiasi vengono dichiarati deceduti per covid. Ci marciano tutti.\n",
      "1377047976141586438 2021-03-30 18:59:56 -0500 <antonioprosperi> ESTAMOS EN CRISIS EN #NE . Por lo menos en la #IsladeMargarita no hemos visto que estén colocando vacunas a alguien. Lo que si se sabe es que en hospital central y en centros de salud no hay cupo para los contagiados del Covid19, y se conoce que el tratamiento está agotado.\n",
      "1377047975466242048 2021-03-30 18:59:56 -0500 <RepBera> It’s unacceptable that WHO investigators were denied full access to data needed for their investigation on #COVID19.  I support the call for a comprehensive, transparent &amp; independent analysis. The only way we’ll prevent the next pandemic is to understand the origins of this one.\n",
      "1377047974988103682 2021-03-30 18:59:56 -0500 <judenyaho> Eventually a requirement to travel . No Covid shot no travels\n",
      "1377047974862327817 2021-03-30 18:59:56 -0500 <PaulM81587676> @daletournier1 @DebraG_Robins Researchers are monitoring new COVID variants closely. This includes research to see whether new variants may change the protective effects of the current vaccines. So far studies suggest that antibodies gathered through vaccination do recognize new variants. (source – CDC)\n",
      "1377047973998252032 2021-03-30 18:59:55 -0500 <gordimxd> Mortes no mundo por Covid-19 nas últimas 24h. Parabéns aos envolvidos, em especial ao nosso excelentíssimo presidente @jairbolsonaro  https://t.co/Kjx6OVmnig\n",
      "1377047973037756429 2021-03-30 18:59:55 -0500 <SAMYSEURET> COVID-19 en el mundo: Líderes mundiales abogan por tratado global contra pandemias futuras  #CubaPorLaVida #CubaCoopera #BarrioAdentro18Aniversario #CubaViva  @rubeletsis @AngelRdeDios @cubacolabora  @SAMYSEURET @Cubacoopera_Ve3 @NelaTa83 @StMarrero ⁦  https://t.co/dv6iaZbf9q\n",
      "1377047972362379266 2021-03-30 18:59:55 -0500 <VIKBataille> Manufacturer: IV Aviptadil Shows Benefit in COVID Recovery, Survival  https://t.co/xGp9vZyid4\n",
      "1377047971729133569 2021-03-30 18:59:55 -0500 <lnfestissumam_> eu posso perdoar o coronavírus por tudo menos por me fazer perder dois anos de festa junina\n",
      "1377047971209093122 2021-03-30 18:59:55 -0500 <abc4utah> Utah’s mask mandate is set to end next week. With COVID-19 cases on the rise nationwide, national officials are calling on states to keep their mandates in place.  https://t.co/R3VxzcHOH2\n",
      "1377047970886090754 2021-03-30 18:59:55 -0500 <flopirocha> @dra_eutanasia Jajajajajajaj escupí las goticulas con covid\n",
      "1377047970051469318 2021-03-30 18:59:55 -0500 <gmgall> Existem falantes não nativos para manter a língua viva ou a Covid deu um jeito de matar até idiomas inteiros também?\n",
      "1377047967841054721 2021-03-30 18:59:54 -0500 <Carlitosyq> @MinSaludGuate Semana santa y las pruebas de Covid se fueron de vacaciones, que logista más paupérrima\n",
      "1377047966846885889 2021-03-30 18:59:54 -0500 <kkyls> @TheHightIsRight Vandal Joe &amp; @POTUS deliver. Perhaps President Biden should come experience a Vandal tailgate once he’s ended this COVID mess\n",
      "1377047965517422603 2021-03-30 18:59:53 -0500 <narcolepticsoul> @freeoposittion Não tô sabendo amiga, covid?\n",
      "1377047965429157894 2021-03-30 18:59:53 -0500 <crrllo> 1 week na ubo at sipon ko beke nemen covid hawaan mo nako 🥲\n",
      "1377047964510793729 2021-03-30 18:59:53 -0500 <jessieanton_> Some Saskatchewan religious leaders say a recent editorial in Moose Jaw Today comparing COVID-19 restrictions with the Holocaust minimizes the immense suffering and death caused by Adolf Hitler and his Nazis.  READ MORE via @WarickCBC:  https://t.co/Y14mTj0B63\n",
      "1377047962455584774 2021-03-30 18:59:53 -0500 <mccorvey09> I'm happy people are getting vaxxed AND I'm gonna miss judging people's covid unsafe instagram stories\n",
      "1377047960677183491 2021-03-30 18:59:52 -0500 <juvensil> @central_sage @ChinoiseMama Centrale, tozo bundana awa n’a Covid-19 mbula mibale déjà kaka te...\n",
      "1377047959381143552 2021-03-30 18:59:52 -0500 <brk7391> @Gutfeldfox I have to get a covid test to join?  Cancel culture greg!\n",
      "1377047959322439691 2021-03-30 18:59:52 -0500 <Pratt17> @adamjacobgraham Looks like they need to use that COVID money that was sent to them from that whole fiasco a few months ago. Or did that money go away?\n",
      "1377047957615304706 2021-03-30 18:59:52 -0500 <RadioUnionTfe> Las farmacéuticas prueban ahora la vacuna contra el coronavirus con miles de menores. Aunque la covid les afecta poco, los expertos advierten de que es un riesgo dejarlos fuera: podrían convertirse en reservorios del virus  https://t.co/NIX3Y61cuD\n",
      "1377047957535526913 2021-03-30 18:59:52 -0500 <Heart10Looks3> Found out a close contact was exposed to COVID-19. He &amp; other person were masked/socially distanced.  My contact tested negative. Whew!  But now imagine the other person was unmasked &amp; didn't tell MY contact they'd tested positive.   That's why your \"personal choice\" is bullshit.\n",
      "1377047955501428740 2021-03-30 18:59:51 -0500 <criscur> Un año de COVID y cuarentenas pero aún no hay zombies #pesimoservicio  https://t.co/Fu5g6kXOcK\n",
      "1377047953551020034 2021-03-30 18:59:51 -0500 <Brendin97> Fazer esse maldito exame da Covid amanhã\n",
      "1377047953521643520 2021-03-30 18:59:51 -0500 <william68727496> @fordnation neglecting min of Ont’s  in Covid inoculation.  Ford is racist. We’ve heard same b4. Time 4 @OntarioPCParty 2 become accountable. Denying Ont’s of truth during Pandemic is being complicit in deaths of Ont’s @celliottability @DrFullertonMPP @CP24\n",
      "1377047952418598913 2021-03-30 18:59:50 -0500 <ComiteAzteca> Iniciamos la campaña contra #COVID19 en esta #SemanaSanta no bajamos la guardia.  #AztecaUnida #Sanazteca  https://t.co/v1Iax5CsBX\n"
     ]
    },
    {
     "name": "stdout",
     "output_type": "stream",
     "text": [
      "1377047951739084800 2021-03-30 18:59:50 -0500 <meg_vaszko> Hi @nattierizzo we are eager to connect with you to discuss the impacts of COVID-19 on young people’s mental health. Hope to hear back so we can set up a meeting! #hifromnewmarketkingvaughanfm!\n",
      "1377047951617323013 2021-03-30 18:59:50 -0500 <wnoticiasmor> SITUACIÓN ACTUAL DEL CORONAVIRUS COVID-19 EN MORELOS AL 30 DE MARZO  https://t.co/CYqcU0NVK7  https://t.co/1Rt8NKNlwb\n",
      "1377047950971568128 2021-03-30 18:59:50 -0500 <bordet> María Angélica tiene 73 años y hoy recibió la vacuna número 100.000 de #EntreRíos. Su alegría es la alegría de todos.  Pero para que este plan funcione es importante seguir cuidándonos, como desde el primer día. Unidos podemos seguir enfrentando esta pandemia. #Covid19  https://t.co/9cHpQyvGJZ\n",
      "1377047950061371396 2021-03-30 18:59:50 -0500 <KCRodriguez201> @DoctorG92 Hay yo soy de 3ro me pase el 1er semestre en sala (el 2do está interrumpido por la covid) y vimos y aprendimos muchísimo fue bonito la verdad, esa es mi defensa creo q se q es un paciente\n",
      "1377047949608280064 2021-03-30 18:59:50 -0500 <basquinoz> @normanswan ‘Thus highly likely’🙄 you keep using words that aren’t providing any clear facts. It is or it is not. If you have no evidence that vaccin stop transmission, you stay either silent or say no. It is not yes ( I want to believe so) maybe! Never forget, 99.95% with covid are fine\n",
      "1377047947284713473 2021-03-30 18:59:49 -0500 <AbbasalveBrasil> O cara não entende q JÁ há uma mobilização nacional de combate ao covid, governantes de estados e municípios, cientistas e cidadãos, todos cooperam, quem atrapalha são os 57Mil eleitores fanáticos e o eleito!\n",
      "1377047945699328001 2021-03-30 18:59:49 -0500 <crollim> Hoje a cada 24 segundos uma pessoa morreu de covid no Brasil.\n",
      "1377047945569312770 2021-03-30 18:59:49 -0500 <rafaelg_fisica> R. del Biobío   Ocupación UCI por 12 meses empeorando  Hace pocos días récord pacientes #COVID19 222  Hoy 218, está bien complicado todo  Cuídese  https://t.co/Je2EjC1zXB\n",
      "1377047944768188421 2021-03-30 18:59:49 -0500 <jeanpazjpz> @parmeramilgrau Abracei dois bêbados na rua, e acabei pegando covid 19. Valeu a pena!\n",
      "1377047944700981250 2021-03-30 18:59:48 -0500 <SusieQandB> Mr @CUhlmann when will you report on @ScottMorrisonMP to announce the #Vaccines are kept with #women in general and specifically with  @latingle @AmyRemeikis @murpharoo @Milliganreports @KarenMMiddleton @Jess_Irvine   52% of #Australian responsible for the #coronavirus #StuffUP\n",
      "1377047943916650496 2021-03-30 18:59:48 -0500 <ChuyMiranda16> @KristiNoem @JoeBiden Everyone comparing a covid passport to a drivers license should exclude themselves from this society and maybe start your own society far far away from here, then keep going a little further till you forget which way you came from and stay lost for eternity. We’ll be fine here.\n",
      "1377047943505530880 2021-03-30 18:59:48 -0500 <matthewleemur> @InsulaeW @Riceball1001 @mattyyhill @BBCNews You just don’t understand what vulnerable population means. Fact China has a aging population fact over 50 is considered vulnerable for covid exposure 🤷‍♂️\n",
      "1377047940863250433 2021-03-30 18:59:48 -0500 <pedroairbnb> 1 a cada 4 mortes por covid no Mundo é no Brasil.  Se cuidem\n",
      "1377047940557049857 2021-03-30 18:59:47 -0500 <PrioriMilena> @MoniqueCheker Pobre país. Governo federal destinou verbas bilionárias para os estados e municípios empregarem na saúde para combater a covid e, praticamente, nenhum político aplicou o dinheiro em benefício do povo. Pobre país q tem membros da magistratura e do MP q se acham estrelas.\n",
      "1377047940515172354 2021-03-30 18:59:47 -0500 <MareVive> Nem de tiros! Nem de COVID! Nem de fome! #maresolidaria @FrenteMare\n",
      "1377047939391062017 2021-03-30 18:59:47 -0500 <TVTenlinea> #Entérate Reporta la Secretaría de Salud del estado 130 nuevos casos positivos a COVID-19 y 13 defunciones de las cuales 3 se registraron en las últimas 48 horas. Tiene Tabasco 873 casos activos y acumula 60 mil 933 casos desde el inicio de la pandemia  https://t.co/5D2bV922SV\n",
      "1377047939261071366 2021-03-30 18:59:47 -0500 <ecobearwitness> COVID-19 time capsules preserve history of pandemic through artifacts, audio recordings: CBS News  https://t.co/tUAVZkReRL  MORE w/ EcoSearch:  https://t.co/oB771ambZa\n",
      "1377047938396872706 2021-03-30 18:59:47 -0500 <Claudin98876199> @Gutfeldfox Really! COVID is a hoax but...  https://t.co/ztAClLgdil\n",
      "1377047937415401473 2021-03-30 18:59:47 -0500 <resbklutara> Ayo Bersama Sama Putus Mata Rantai Penyebaran Virus Covid-19 @poldabengkulu  @Satlantasbu @Reskrimbkluutra  https://t.co/DpWzCgfR1L\n",
      "1377047937214189573 2021-03-30 18:59:47 -0500 <danptrn> @jujukidding Então, na teoria eu ainda to com covid ne.. ai quero fazer pra ver se realmente ainda to\n",
      "[!] No more data! Scraping will stop now.\n",
      "found 0 deleted tweets in this search.\n"
     ]
    }
   ],
   "source": [
    "twint.run.Search(c10)"
   ]
  },
  {
   "cell_type": "code",
   "execution_count": 14,
   "metadata": {},
   "outputs": [],
   "source": [
    "tweetsEndMar2 = pd.read_csv('covidtweetsEndMar2.csv')"
   ]
  },
  {
   "cell_type": "code",
   "execution_count": 15,
   "metadata": {},
   "outputs": [
    {
     "data": {
      "text/plain": [
       "(60, 36)"
      ]
     },
     "execution_count": 15,
     "metadata": {},
     "output_type": "execute_result"
    }
   ],
   "source": [
    "tweetsEndMar2.shape"
   ]
  },
  {
   "cell_type": "code",
   "execution_count": 18,
   "metadata": {},
   "outputs": [],
   "source": [
    "c11 = twint.Config()\n",
    "\n",
    "c11.Search = \"covid OR coronavirus OR COVID-19\"\n",
    "c11.Lang = \"en\"\n",
    "c11.Since = \"2021-03-16\"\n",
    "c11.Until = \"2021-03-31\"\n",
    "c11.Limit = 5000\n",
    "c11.Store_csv = True\n",
    "c11.Output = 'covidtweetsEndMar2.csv'"
   ]
  },
  {
   "cell_type": "code",
   "execution_count": 19,
   "metadata": {
    "scrolled": true
   },
   "outputs": [
    {
     "name": "stdout",
     "output_type": "stream",
     "text": [
      "1377047990817411073 2021-03-30 18:59:59 -0500 <anternn> Ojala no sea covid lpm\n",
      "1377047990402179082 2021-03-30 18:59:59 -0500 <KELVINGAME3> PRUEBA GRATUITA PARA COVID 19 !!! 👇🏿👇🏿👇🏿👇🏿👇🏿👇🏿👇🏿👇🏿👇🏿\n",
      "1377047989697581058 2021-03-30 18:59:59 -0500 <xxxl_oliveira> Eu amo ouvir um “Gisele já foi vacinada contra a COVID” parece a voz do anjo sussurrando no meu ouvido 😍\n",
      "1377047989588492291 2021-03-30 18:59:59 -0500 <SuperChannel_12> Abuelita muere en fila para vacunación contra Covid  https://t.co/LIZd8kfgZU #Puebla #Deceso  https://t.co/53MHizqnMX\n",
      "1377047988942614530 2021-03-30 18:59:59 -0500 <REoptimizer> 7 Tips For Companies Returning to Office Space After COVID-19 #CRE #COVID-19 #Office #TenantTips    https://t.co/fyO7hfwa70\n",
      "1377047986551787530 2021-03-30 18:59:58 -0500 <BjCamacho> @Fran_Reporta Mosca y lo que se lo llevó se llama covid\n",
      "1377047981753389057 2021-03-30 18:59:57 -0500 <moodyangela> @RileyMiner @Covid_Stinks @HaidaHockey Our system is rigged to give the wealthy control  Being funded by donations is legal bribery  Our parties have progressive names but they’re all either centre or right  When they get into power they move further right too  It’s all about money  We can die so the rich get richer\n",
      "1377047980151238657 2021-03-30 18:59:57 -0500 <Locus_403> @SheldrickTrust Looks like whatever started the covid 😄\n",
      "1377047979023069191 2021-03-30 18:59:57 -0500 <djdamien5630> @FLVaccine @bridgetteANjax When you get your flu shot...you don't immediately run out and do the dumb crap that would normally give the flu...some people are too dense to apply this idea to the Covid stuff..\n",
      "1377047978440032270 2021-03-30 18:59:57 -0500 <nexosdelsur> LABOULAYE: SE REGISTRARON 7 CASOS POSITIVOS DE COVID-19 Y 3 PACIENTES RECUPERADOS . Urgente 🚨 👉🏼 El Centro de Operaciones de Emergencia Departamental informó hoy que  se registraron 7 nuevos casos positivos de COVID-19 en Laboulaye 😷🦠  https://t.co/67Z5b3YGXU\n",
      "1377047978330951680 2021-03-30 18:59:57 -0500 <PrickyPiranha> \"The Marc Patrone Show - March 30, 2021 - COVID Lockdowns, RCMP Internal Probe &amp; Renewable Energy Taxpayer Waste\" by NEWSTALK Sauga 960 AM via #spreaker  https://t.co/RKahQnBS0C Miss the show? Check out the podcast!w/@MarcPatrone  Happy 555hrs of freedom loving awesomeness!\n",
      "1377047978117107714 2021-03-30 18:59:56 -0500 <pumpkibu> anyway despite more vaccination availability please dont be stupid. just because you got the shot, you shouldnt go run around on spring break with no mask. my floor on the hospital i’m currently working at just got turned into a covid floor due to the influx of new covid patients\n",
      "1377047977630572544 2021-03-30 18:59:56 -0500 <RadioZP12Pilar> #URGENTE | Ñeembucú registra 3 muertes por Covid 19 en las últimas 24 horas. #700AM  https://t.co/5WoKJPE45T\n",
      "1377047977425010690 2021-03-30 18:59:56 -0500 <mary1966n> @Joe911S @robersperanza Ma chi se ne frega. Tanto i dati son falsi a prescindere. Malati terminali che hanno contratto una polmonite o un raffreddore qualsiasi vengono dichiarati deceduti per covid. Ci marciano tutti.\n",
      "1377047976141586438 2021-03-30 18:59:56 -0500 <antonioprosperi> ESTAMOS EN CRISIS EN #NE . Por lo menos en la #IsladeMargarita no hemos visto que estén colocando vacunas a alguien. Lo que si se sabe es que en hospital central y en centros de salud no hay cupo para los contagiados del Covid19, y se conoce que el tratamiento está agotado.\n",
      "1377047975466242048 2021-03-30 18:59:56 -0500 <RepBera> It’s unacceptable that WHO investigators were denied full access to data needed for their investigation on #COVID19.  I support the call for a comprehensive, transparent &amp; independent analysis. The only way we’ll prevent the next pandemic is to understand the origins of this one.\n",
      "1377047974988103682 2021-03-30 18:59:56 -0500 <judenyaho> Eventually a requirement to travel . No Covid shot no travels\n",
      "1377047974862327817 2021-03-30 18:59:56 -0500 <PaulM81587676> @daletournier1 @DebraG_Robins Researchers are monitoring new COVID variants closely. This includes research to see whether new variants may change the protective effects of the current vaccines. So far studies suggest that antibodies gathered through vaccination do recognize new variants. (source – CDC)\n",
      "1377047973998252032 2021-03-30 18:59:55 -0500 <gordimxd> Mortes no mundo por Covid-19 nas últimas 24h. Parabéns aos envolvidos, em especial ao nosso excelentíssimo presidente @jairbolsonaro  https://t.co/Kjx6OVmnig\n",
      "1377047973037756429 2021-03-30 18:59:55 -0500 <SAMYSEURET> COVID-19 en el mundo: Líderes mundiales abogan por tratado global contra pandemias futuras  #CubaPorLaVida #CubaCoopera #BarrioAdentro18Aniversario #CubaViva  @rubeletsis @AngelRdeDios @cubacolabora  @SAMYSEURET @Cubacoopera_Ve3 @NelaTa83 @StMarrero ⁦  https://t.co/dv6iaZbf9q\n",
      "[!] No more data! Scraping will stop now.\n",
      "found 0 deleted tweets in this search.\n"
     ]
    }
   ],
   "source": [
    "twint.run.Search(c11)"
   ]
  },
  {
   "cell_type": "code",
   "execution_count": 7,
   "metadata": {},
   "outputs": [
    {
     "ename": "FileNotFoundError",
     "evalue": "[Errno 2] No such file or directory: 'covidtweetsEndMar2.csv'",
     "output_type": "error",
     "traceback": [
      "\u001b[0;31m---------------------------------------------------------------------------\u001b[0m",
      "\u001b[0;31mFileNotFoundError\u001b[0m                         Traceback (most recent call last)",
      "\u001b[0;32m<ipython-input-7-9db76e939abb>\u001b[0m in \u001b[0;36m<module>\u001b[0;34m\u001b[0m\n\u001b[0;32m----> 1\u001b[0;31m \u001b[0mtweetsEndMar3\u001b[0m \u001b[0;34m=\u001b[0m \u001b[0mpd\u001b[0m\u001b[0;34m.\u001b[0m\u001b[0mread_csv\u001b[0m\u001b[0;34m(\u001b[0m\u001b[0;34m'covidtweetsEndMar2.csv'\u001b[0m\u001b[0;34m)\u001b[0m\u001b[0;34m\u001b[0m\u001b[0;34m\u001b[0m\u001b[0m\n\u001b[0m",
      "\u001b[0;32m~/.local/lib/python3.8/site-packages/pandas/io/parsers.py\u001b[0m in \u001b[0;36mread_csv\u001b[0;34m(filepath_or_buffer, sep, delimiter, header, names, index_col, usecols, squeeze, prefix, mangle_dupe_cols, dtype, engine, converters, true_values, false_values, skipinitialspace, skiprows, skipfooter, nrows, na_values, keep_default_na, na_filter, verbose, skip_blank_lines, parse_dates, infer_datetime_format, keep_date_col, date_parser, dayfirst, cache_dates, iterator, chunksize, compression, thousands, decimal, lineterminator, quotechar, quoting, doublequote, escapechar, comment, encoding, dialect, error_bad_lines, warn_bad_lines, delim_whitespace, low_memory, memory_map, float_precision)\u001b[0m\n\u001b[1;32m    684\u001b[0m     )\n\u001b[1;32m    685\u001b[0m \u001b[0;34m\u001b[0m\u001b[0m\n\u001b[0;32m--> 686\u001b[0;31m     \u001b[0;32mreturn\u001b[0m \u001b[0m_read\u001b[0m\u001b[0;34m(\u001b[0m\u001b[0mfilepath_or_buffer\u001b[0m\u001b[0;34m,\u001b[0m \u001b[0mkwds\u001b[0m\u001b[0;34m)\u001b[0m\u001b[0;34m\u001b[0m\u001b[0;34m\u001b[0m\u001b[0m\n\u001b[0m\u001b[1;32m    687\u001b[0m \u001b[0;34m\u001b[0m\u001b[0m\n\u001b[1;32m    688\u001b[0m \u001b[0;34m\u001b[0m\u001b[0m\n",
      "\u001b[0;32m~/.local/lib/python3.8/site-packages/pandas/io/parsers.py\u001b[0m in \u001b[0;36m_read\u001b[0;34m(filepath_or_buffer, kwds)\u001b[0m\n\u001b[1;32m    450\u001b[0m \u001b[0;34m\u001b[0m\u001b[0m\n\u001b[1;32m    451\u001b[0m     \u001b[0;31m# Create the parser.\u001b[0m\u001b[0;34m\u001b[0m\u001b[0;34m\u001b[0m\u001b[0;34m\u001b[0m\u001b[0m\n\u001b[0;32m--> 452\u001b[0;31m     \u001b[0mparser\u001b[0m \u001b[0;34m=\u001b[0m \u001b[0mTextFileReader\u001b[0m\u001b[0;34m(\u001b[0m\u001b[0mfp_or_buf\u001b[0m\u001b[0;34m,\u001b[0m \u001b[0;34m**\u001b[0m\u001b[0mkwds\u001b[0m\u001b[0;34m)\u001b[0m\u001b[0;34m\u001b[0m\u001b[0;34m\u001b[0m\u001b[0m\n\u001b[0m\u001b[1;32m    453\u001b[0m \u001b[0;34m\u001b[0m\u001b[0m\n\u001b[1;32m    454\u001b[0m     \u001b[0;32mif\u001b[0m \u001b[0mchunksize\u001b[0m \u001b[0;32mor\u001b[0m \u001b[0miterator\u001b[0m\u001b[0;34m:\u001b[0m\u001b[0;34m\u001b[0m\u001b[0;34m\u001b[0m\u001b[0m\n",
      "\u001b[0;32m~/.local/lib/python3.8/site-packages/pandas/io/parsers.py\u001b[0m in \u001b[0;36m__init__\u001b[0;34m(self, f, engine, **kwds)\u001b[0m\n\u001b[1;32m    944\u001b[0m             \u001b[0mself\u001b[0m\u001b[0;34m.\u001b[0m\u001b[0moptions\u001b[0m\u001b[0;34m[\u001b[0m\u001b[0;34m\"has_index_names\"\u001b[0m\u001b[0;34m]\u001b[0m \u001b[0;34m=\u001b[0m \u001b[0mkwds\u001b[0m\u001b[0;34m[\u001b[0m\u001b[0;34m\"has_index_names\"\u001b[0m\u001b[0;34m]\u001b[0m\u001b[0;34m\u001b[0m\u001b[0;34m\u001b[0m\u001b[0m\n\u001b[1;32m    945\u001b[0m \u001b[0;34m\u001b[0m\u001b[0m\n\u001b[0;32m--> 946\u001b[0;31m         \u001b[0mself\u001b[0m\u001b[0;34m.\u001b[0m\u001b[0m_make_engine\u001b[0m\u001b[0;34m(\u001b[0m\u001b[0mself\u001b[0m\u001b[0;34m.\u001b[0m\u001b[0mengine\u001b[0m\u001b[0;34m)\u001b[0m\u001b[0;34m\u001b[0m\u001b[0;34m\u001b[0m\u001b[0m\n\u001b[0m\u001b[1;32m    947\u001b[0m \u001b[0;34m\u001b[0m\u001b[0m\n\u001b[1;32m    948\u001b[0m     \u001b[0;32mdef\u001b[0m \u001b[0mclose\u001b[0m\u001b[0;34m(\u001b[0m\u001b[0mself\u001b[0m\u001b[0;34m)\u001b[0m\u001b[0;34m:\u001b[0m\u001b[0;34m\u001b[0m\u001b[0;34m\u001b[0m\u001b[0m\n",
      "\u001b[0;32m~/.local/lib/python3.8/site-packages/pandas/io/parsers.py\u001b[0m in \u001b[0;36m_make_engine\u001b[0;34m(self, engine)\u001b[0m\n\u001b[1;32m   1176\u001b[0m     \u001b[0;32mdef\u001b[0m \u001b[0m_make_engine\u001b[0m\u001b[0;34m(\u001b[0m\u001b[0mself\u001b[0m\u001b[0;34m,\u001b[0m \u001b[0mengine\u001b[0m\u001b[0;34m=\u001b[0m\u001b[0;34m\"c\"\u001b[0m\u001b[0;34m)\u001b[0m\u001b[0;34m:\u001b[0m\u001b[0;34m\u001b[0m\u001b[0;34m\u001b[0m\u001b[0m\n\u001b[1;32m   1177\u001b[0m         \u001b[0;32mif\u001b[0m \u001b[0mengine\u001b[0m \u001b[0;34m==\u001b[0m \u001b[0;34m\"c\"\u001b[0m\u001b[0;34m:\u001b[0m\u001b[0;34m\u001b[0m\u001b[0;34m\u001b[0m\u001b[0m\n\u001b[0;32m-> 1178\u001b[0;31m             \u001b[0mself\u001b[0m\u001b[0;34m.\u001b[0m\u001b[0m_engine\u001b[0m \u001b[0;34m=\u001b[0m \u001b[0mCParserWrapper\u001b[0m\u001b[0;34m(\u001b[0m\u001b[0mself\u001b[0m\u001b[0;34m.\u001b[0m\u001b[0mf\u001b[0m\u001b[0;34m,\u001b[0m \u001b[0;34m**\u001b[0m\u001b[0mself\u001b[0m\u001b[0;34m.\u001b[0m\u001b[0moptions\u001b[0m\u001b[0;34m)\u001b[0m\u001b[0;34m\u001b[0m\u001b[0;34m\u001b[0m\u001b[0m\n\u001b[0m\u001b[1;32m   1179\u001b[0m         \u001b[0;32melse\u001b[0m\u001b[0;34m:\u001b[0m\u001b[0;34m\u001b[0m\u001b[0;34m\u001b[0m\u001b[0m\n\u001b[1;32m   1180\u001b[0m             \u001b[0;32mif\u001b[0m \u001b[0mengine\u001b[0m \u001b[0;34m==\u001b[0m \u001b[0;34m\"python\"\u001b[0m\u001b[0;34m:\u001b[0m\u001b[0;34m\u001b[0m\u001b[0;34m\u001b[0m\u001b[0m\n",
      "\u001b[0;32m~/.local/lib/python3.8/site-packages/pandas/io/parsers.py\u001b[0m in \u001b[0;36m__init__\u001b[0;34m(self, src, **kwds)\u001b[0m\n\u001b[1;32m   2006\u001b[0m         \u001b[0mkwds\u001b[0m\u001b[0;34m[\u001b[0m\u001b[0;34m\"usecols\"\u001b[0m\u001b[0;34m]\u001b[0m \u001b[0;34m=\u001b[0m \u001b[0mself\u001b[0m\u001b[0;34m.\u001b[0m\u001b[0musecols\u001b[0m\u001b[0;34m\u001b[0m\u001b[0;34m\u001b[0m\u001b[0m\n\u001b[1;32m   2007\u001b[0m \u001b[0;34m\u001b[0m\u001b[0m\n\u001b[0;32m-> 2008\u001b[0;31m         \u001b[0mself\u001b[0m\u001b[0;34m.\u001b[0m\u001b[0m_reader\u001b[0m \u001b[0;34m=\u001b[0m \u001b[0mparsers\u001b[0m\u001b[0;34m.\u001b[0m\u001b[0mTextReader\u001b[0m\u001b[0;34m(\u001b[0m\u001b[0msrc\u001b[0m\u001b[0;34m,\u001b[0m \u001b[0;34m**\u001b[0m\u001b[0mkwds\u001b[0m\u001b[0;34m)\u001b[0m\u001b[0;34m\u001b[0m\u001b[0;34m\u001b[0m\u001b[0m\n\u001b[0m\u001b[1;32m   2009\u001b[0m         \u001b[0mself\u001b[0m\u001b[0;34m.\u001b[0m\u001b[0munnamed_cols\u001b[0m \u001b[0;34m=\u001b[0m \u001b[0mself\u001b[0m\u001b[0;34m.\u001b[0m\u001b[0m_reader\u001b[0m\u001b[0;34m.\u001b[0m\u001b[0munnamed_cols\u001b[0m\u001b[0;34m\u001b[0m\u001b[0;34m\u001b[0m\u001b[0m\n\u001b[1;32m   2010\u001b[0m \u001b[0;34m\u001b[0m\u001b[0m\n",
      "\u001b[0;32mpandas/_libs/parsers.pyx\u001b[0m in \u001b[0;36mpandas._libs.parsers.TextReader.__cinit__\u001b[0;34m()\u001b[0m\n",
      "\u001b[0;32mpandas/_libs/parsers.pyx\u001b[0m in \u001b[0;36mpandas._libs.parsers.TextReader._setup_parser_source\u001b[0;34m()\u001b[0m\n",
      "\u001b[0;31mFileNotFoundError\u001b[0m: [Errno 2] No such file or directory: 'covidtweetsEndMar2.csv'"
     ]
    }
   ],
   "source": [
    "tweetsEndMar3 = pd.read_csv('covidtweetsEndMar2.csv')"
   ]
  },
  {
   "cell_type": "code",
   "execution_count": 22,
   "metadata": {},
   "outputs": [
    {
     "data": {
      "text/plain": [
       "(80, 36)"
      ]
     },
     "execution_count": 22,
     "metadata": {},
     "output_type": "execute_result"
    }
   ],
   "source": [
    "tweetsEndMar3.shape"
   ]
  },
  {
   "cell_type": "code",
   "execution_count": 25,
   "metadata": {},
   "outputs": [],
   "source": [
    "c12 = twint.Config()\n",
    "\n",
    "c12.Search = \"covid OR coronavirus OR COVID-19\"\n",
    "c12.Lang = \"en\"\n",
    "c12.Since = \"2021-04-01\"\n",
    "c12.Until = \"2021-04-15\"\n",
    "c12.Limit = 5000\n",
    "c12.Store_csv = True\n",
    "c12.Output = 'covidtweetsBegApr2.csv'"
   ]
  },
  {
   "cell_type": "code",
   "execution_count": 26,
   "metadata": {},
   "outputs": [
    {
     "name": "stdout",
     "output_type": "stream",
     "text": [
      "1382483808239374336 2021-04-14 18:59:59 -0500 <rocket654321> @milamesmo Porque vc toma? Ouvi falar que tomando essa da gripe, reduz em 24% a chance de pegar covid\n",
      "1382483806607802370 2021-04-14 18:59:59 -0500 <DiarioTalCual> Tribunal imputó a cuatro personas por revender vacunas de covid-19 #TalCual #ClaroyRaspao #JustoYNecesario  https://t.co/57WR5cmm1E  https://t.co/qLqVKk6hKl\n",
      "1382483805206896643 2021-04-14 18:59:59 -0500 <DraPestania> @WandaMalbec2016 Qué pedazo de soretes nos gobiernan. O te morís de Covid, o te morís de hambre ✌\n",
      "1382483803592085505 2021-04-14 18:59:58 -0500 <Sonyworlds> De 9 a 19 hs es la nueva hora activa?  wtf ? Si antes con 24 hs no me alcanzaba el día ahora menos. Ni me saco el pijama,fue. #nuevasrestricciones #COVID19\n",
      "1382483803554385925 2021-04-14 18:59:58 -0500 <johnmaddox> @rosensteindave @Dollarlogic It's like modern idiots can't put things in actual context. Don't equate polio with Covid-19. Seriously.\n",
      "1382483801197133827 2021-04-14 18:59:58 -0500 <lesta_06> @josefita_d Pero después si te contagias de COVID es culpa de un bar...\n",
      "1382483797380325384 2021-04-14 18:59:57 -0500 <dianavytony> #QuéOndasAllí   ¿Y a ti, ya te pusieron la vacuna contra el #COVID19 o tienes a alguién cercano?   ¿Cuéntanos cómo les fue?  https://t.co/O8JZsfSGcg\n",
      "1382483797090971648 2021-04-14 18:59:57 -0500 <onomojo> I went to get my Covid test today but the place had no power so I've got to go back tomorrow. Another 24 hours of anxiety thinking about how they're going to shove that thing up into my brain.\n",
      "1382483795056689152 2021-04-14 18:59:56 -0500 <VLunven> Las fuerzas armadas .... #COVID19 🙏🤦‍♀️\n",
      "1382483794423394308 2021-04-14 18:59:56 -0500 <AnonLoomom> @Iroserebel @ILYM333 Sounds like that are suing the CDC for fraud - passing off influenza as covid! Thanks for sharing.... This could be huge! ♥️\n",
      "1382483794150629378 2021-04-14 18:59:56 -0500 <JosePuliampatta> Blocking middle seats on planes reduces risk of COVID-19 transmission, CDC study says  https://t.co/C5miD2j05c via @Yahoo\n",
      "1382483793345445888 2021-04-14 18:59:56 -0500 <damifarm> #Argentina #COVID19 En AMBA @alferdez virtualmente arruina al gremio gastronómico, cultural y además vuelven a suspender las clases por 15 días cuando no es fuente de contagios. NEFASTOS.\n",
      "1382483793047605250 2021-04-14 18:59:56 -0500 <ZazaS_> *Covid: Erro da prefeitura de SP faz agentes da CET furarem fila da vacinação*  https://t.co/46kicmH1UW\n",
      "1382483791457964035 2021-04-14 18:59:55 -0500 <aimecoscia> Estoy hartaaaaaaaa del COVID la re concha de su madreeeee\n",
      "1382483790283501569 2021-04-14 18:59:55 -0500 <elcentro72> We’re proud to receive support from @AllInWA2020. With the help of these funds, we can help reduce barriers to vaccine access for communities disproportionately impacted by #COVID19. #allinWA   https://t.co/g5OnlNUSg8\n",
      "1382483787976736768 2021-04-14 18:59:55 -0500 <zinburcu> 38.5 ateşle sanki eklemlerimi ezmişlercesine bir ağrıyla kıvranıyorum. Sağa , sola ve sırt üstü asla yatamıyorum. #corona #covid böyle bişey mi ?\n",
      "1382483787792089088 2021-04-14 18:59:54 -0500 <Abhishek1747142> Up board exam class 10th &amp;12th ka exam cancel hona chahiye Kyoki bachhe infected ho jayaenge covid se. @narendramodi #cancel12thboardexams2021\n",
      "1382483786974294020 2021-04-14 18:59:54 -0500 <ClaudioFMadan> #LibertadParaYosvany Sánchez Valenciano.  Priorizar los #PresosDeCastro, 1er paso del #CompromisoDemocrático con la LIBERTAD.   Hay Covid en cárceles de #Cuba. #AbandonarlosEsUnCrimen @MarcoRubioCuba @MarioDB  @USEmbCuba @WHAAsstSecty @IleanaGraciaUSA @RepMariaSalazar  https://t.co/DPMlcEde0I\n",
      "1382483785514631169 2021-04-14 18:59:54 -0500 <monicanicanica5> Se me había olvidado lo muchísimos q echaba la vida antes del covid hasta q he visto este vídeo🙃\n",
      "1382483783555895296 2021-04-14 18:59:53 -0500 <agus1ben> alberto por momentos está hablando como macri mucho covid\n",
      "1382483783425929220 2021-04-14 18:59:53 -0500 <Ravnski> Can Imagine when covid finally calm...Tufton need like a 4 mth vacation lol 🤣\n",
      "1382483780561104898 2021-04-14 18:59:53 -0500 <KValerieH> I survived my first 5K post covid, I’ve been too scared to run one since February 🥴.\n",
      "1382483780426956800 2021-04-14 18:59:53 -0500 <willim767> @FoxNews the coronavirus is 🌐 pandemic so why would believe anyone believe what trump or anyone else said that's it's a hoax a worldwide 🌐 hoax that's REDICOUS like most things trump said then he said it came out of China which one is it a hoax or came out of China CRAZY TALK\n",
      "1382483778585595904 2021-04-14 18:59:52 -0500 <gumby_mister> #ScottyDoesNothing  All through Covid, Morrison has always tried the cheap expedient pathway only to find he   has to be dragged kicking a screaming to do it again properly.\n",
      "1382483777927122945 2021-04-14 18:59:52 -0500 <guirosello> Es tan pelotudo el presi que TENEMOS  que dice que unos de los problemas que tenemos,  es el DESCUIDO PERSONAL,  justo el que viene de ser dado de alta por COVID19..  mi dios\n",
      "1382483777654566912 2021-04-14 18:59:52 -0500 <FernandaKlitzk1> E eu aqui imaginando em quê circunstância vaza o áudio do Bolsonaro e do Presidente do Senado, sobre a CPI Covid-19. 🙊 culpa do estagiário certamente! #CPIdoGenocidio #CPIdaCovid  #CPIdaPandemiaJa\n",
      "1382483776790528000 2021-04-14 18:59:52 -0500 <ga_fronte> @alferdez Alverso, le tiembla la voz terriblemente ... Y te dice, q no hay clases, no podés atenderte x los medicos ... Perdón pero hay vida durante el covid, inepto. Todos hemos postergados atenciones médicas. Cerrar nuestras vidas se llama. Vacunen  @carlavizzotti bestias\n",
      "1382483775821611011 2021-04-14 18:59:52 -0500 <MsJugosa> Caerle al sistema de salud por atender otras dolencias no relacionadas con Covid es de una ironía inimaginable. #dalealberto\n",
      "1382483775624417282 2021-04-14 18:59:52 -0500 <mychinapress> ◤全球大流行◢又多一国！  https://t.co/T9K2bTlkid  #今日中国报 #全球大流行 #新冠肺炎 #COVID19 #复管令SOP  https://t.co/6QGF8MHrpE\n",
      "1382483775485976577 2021-04-14 18:59:52 -0500 <canada4news> Calgary wastewater samples show recent spike in coronavirus  https://t.co/znIrs4VAZx\n",
      "1382483774529630213 2021-04-14 18:59:51 -0500 <LegalAidAtWork> Si has faltado al trabajo debido a #COVID19 o para cuidar a un ser querido afectado por el virus, puedes ser elegible para hasta 80 horas de Enfermedad Pagadas Suplementarias.  Aprenda acerca de quién es elegible, y donde obtener más información.  https://t.co/ulGh5n0HXG\n",
      "1382483774349443072 2021-04-14 18:59:51 -0500 <partidoUNT> @LuisFlorido El oncológico Luis Razetti #Guarenas una de las obras inconclusas del régimen. 800 millones de $ aprobados en el 2007, en la actualidad es una estructura vacía sin paredes y pacientes muriendo a diario por covid. #GiraPorEleccionesLibres  https://t.co/bKsX2ZkGYw\n",
      "1382483773871300609 2021-04-14 18:59:51 -0500 <Geraldinealezon> Quiero pedir tu colaboracion, La Sra Nancy enfermera de mas de 25 años de Servicio de los Pacientes de Carabobo, ella y su Hijo estan luchando contra el COVID19 Podrias ayudarnos con tu aporte, tu oracion o tu retweet  DIOS TE BENDIGA @pedroluisflores  https://t.co/ep3Lprifhb\n",
      "1382483773082722306 2021-04-14 18:59:51 -0500 <icindengecerim> Öyle kritik bir hayat evresine geldik ki depresyona girsen giremiyosun zaten kısıtlamalar covid filan olmuşsun patates isyan edemiyorsun ramazan geldi oruç tutuyorsun ağzın kapalı ne yaşayacağımızı şaşırdık\n",
      "1382483772885585921 2021-04-14 18:59:51 -0500 <Dayruiz16> Se puede ir al re pingo todo, una bronca covid y la re concha de tu madre\n",
      "1382483770968801285 2021-04-14 18:59:50 -0500 <RomeroSaltaren> Check out this article: Magdalena superó los 50 mil casos por Covid-19 -  https://t.co/QfXO7IpvYB\n",
      "1382483770834612228 2021-04-14 18:59:50 -0500 <PericoGoldo> Cabron como que de momento el covid se acerca a mi vida poco a poco\n",
      "1382483769517543430 2021-04-14 18:59:50 -0500 <118ari> @CapoPocho @elmediouchiha @Gabriela613 @No_MeCalmoNada @jorgegandini Y xq lo piden permanente el impuesto si es solo x el Covid? DEMAGOGIA\n",
      "1382483766640308230 2021-04-14 18:59:49 -0500 <LosAndesDiario> #AHORA Habla @alferdez al país  \"Le he pedido a las Fuerzas Armadas a que colaboren con la asistencia sanitaria\"  #Coronavirus  #SegundaOla\n",
      "1382483766204112897 2021-04-14 18:59:49 -0500 <TucumanD> Coronavirus en Argentina: confirmaron 25.157 nuevos contagios y 368 muertos, la cifra más alta en casi 3 meses. Con estos números, el total de infectados desde que comenzó la pandemia asciende a 2.604.157 y las víctimas fatales so ... | Tucumán Despierta -  https://t.co/cuh1kVBOOY  https://t.co/hS5NoLURv4\n"
     ]
    },
    {
     "name": "stdout",
     "output_type": "stream",
     "text": [
      "[!] No more data! Scraping will stop now.\n",
      "found 0 deleted tweets in this search.\n"
     ]
    }
   ],
   "source": [
    "twint.run.Search(c12)"
   ]
  },
  {
   "cell_type": "code",
   "execution_count": 27,
   "metadata": {},
   "outputs": [],
   "source": [
    "tweetsBegApr2 = pd.read_csv('covidtweetsBegApr2.csv')"
   ]
  },
  {
   "cell_type": "code",
   "execution_count": 28,
   "metadata": {},
   "outputs": [
    {
     "data": {
      "text/plain": [
       "(40, 36)"
      ]
     },
     "execution_count": 28,
     "metadata": {},
     "output_type": "execute_result"
    }
   ],
   "source": [
    "tweetsBegApr2.shape"
   ]
  },
  {
   "cell_type": "code",
   "execution_count": 33,
   "metadata": {},
   "outputs": [],
   "source": [
    "c13 = twint.Config()\n",
    "\n",
    "c13.Search = \"covid OR coronavirus OR COVID-19\"\n",
    "c13.Lang = \"en\"\n",
    "c13.Since = \"2021-04-16\"\n",
    "c13.Until = \"2021-04-30\"\n",
    "c13.Limit = 5000\n",
    "c13.Store_csv = True\n",
    "c13.Output = 'covidtweetsEndApr2.csv'"
   ]
  },
  {
   "cell_type": "code",
   "execution_count": 34,
   "metadata": {},
   "outputs": [
    {
     "name": "stdout",
     "output_type": "stream",
     "text": [
      "1387919626059792384 2021-04-29 18:59:59 -0500 <SIMONELYS> Covid-19. Comment fonctionnera le « pass sanitaire » souhaité par Emmanuel Macron ? #Coronavirus #Virus  https://t.co/Y5KGIbrPJ0 via @ouestfrance\n",
      "1387919623950159879 2021-04-29 18:59:59 -0500 <PlenoNews> Câmara encerra votações sem concluir projeto que cria loteria da saúde #coronavirus  https://t.co/liNMCO57Uc\n",
      "1387919623698460676 2021-04-29 18:59:59 -0500 <enioverri> Duas vitórias no Senado. Depois de pressionarmos, o PL 5595/20, que torna a escola serviço essencial, obrigando o volta às aulas presenciais sem vacina, foi retirado de pauta. E o PL 12, que prevê quebra de patentes de vacina contra Covid-19, foi aprovado e segue pra Câmara.\n",
      "1387919622557556739 2021-04-29 18:59:58 -0500 <thauxny> morumbi vazio em plena noite de libertadores, eu te odeio covid eu te odeio\n",
      "1387919622486339586 2021-04-29 18:59:58 -0500 <Cuarto_Poder> COVID-19: Hubo 15 casos de peruanos contagiados en la India, según embajador  https://t.co/jYMAvGwvbj\n",
      "1387919621227962375 2021-04-29 18:59:58 -0500 <kpeters13> @amandamull Feel like any agency that has seen at least a 10% drop in ridership since covid started should be able to easily pull enough buses for this. *cough* @metrolosangeles *cough*\n",
      "1387919619839647751 2021-04-29 18:59:58 -0500 <SaraVenialgo2> El dengue me está haciendo peor q el covid\n",
      "1387919619525124097 2021-04-29 18:59:58 -0500 <barcademar> #10MillonesDeEsperanzas y más.☀️ Nuevo vuelo a Moscú: llegarán alrededor de 700 mil vacunas contra el covid | vía @eldestapeweb  https://t.co/rPRnVhCxZR\n",
      "1387919618816106501 2021-04-29 18:59:58 -0500 <MitchDexter> @uhmanyel Holy shit could I dream of post-COVID karaoke.  Too bad the @jkenney government is steadfast trying to kill me and my coworkers, since we work with kids and don't deserve any COVID support, I guess\n",
      "1387919618543702023 2021-04-29 18:59:58 -0500 <AntonioSous> Covid-19: fila por leito de UTI volta a subir em Santa Catarina  https://t.co/UBlqO0F4ou\n",
      "1387919617113346050 2021-04-29 18:59:57 -0500 <Zehraaltun92> @1306AYSEKASARCI Yani bu durumda napmalıyız dediginiz üzere kanser bulasici olmayan biyolojik bir hastalık gelin görün ki ismi üzerinde bulaşıcı covid 19 ayrımını yapalım lütfen siz diyorsunuz ki her yeri açalım hos bi izlenim birakmiyorsunuz cidden\n",
      "1387919616194883584 2021-04-29 18:59:57 -0500 <Lucas10905> @TelemundoUY Y así es como va a aumentar más el contagio de coronavirus ...\n",
      "1387919615523753988 2021-04-29 18:59:57 -0500 <Steel74212864> no han pensado en eso.Somos mas de 40 millones de colombianos y queda mas facil y barato producir vacuna contra covid19 en Colombia q estar comprandola o esperar q europeos se les de la gana y dejen salir la misma? @AlvaroUribeVel @MariaFdaCabal @RafaNietoLoaiza @FicoGutierrez\n",
      "1387919614756069376 2021-04-29 18:59:57 -0500 <SuperInVinceble> India’s coronavirus infections cross 18 million as gravediggers work round the clock   https://t.co/f5PlCbz4qQ\n",
      "1387919612571004933 2021-04-29 18:59:56 -0500 <ltravel395> Former PM Manmohan Singh beats COVID-19, discharged from AIIMS  https://t.co/y7Z96nHk8N\n",
      "1387919611442642954 2021-04-29 18:59:56 -0500 <yadsantamarina> @marytwitts @EmmaLaEnanuli @viyita Ah otra cosa, si querés convencerme de que el covid mata por sí mismo, MOSTRAME LAS AUTOPSIAS... ah no, cierto que no las hacen porque de hacerlas se les cae la mentira!\n",
      "1387919611304325125 2021-04-29 18:59:56 -0500 <LueltonB> @costa_rui Parece q o gabinete do ódio tem filial no governo da Bahia, pois só isso justificaria a ação de coagir a polícia a reprimir o trabalhador, o cidadão de bem. Além do mais, o estado baiano conta com um dos maiores números de casos e de mortes por covid-19 no Brasil (18.391 mortes).\n",
      "1387919609819549697 2021-04-29 18:59:55 -0500 <Fabrofalco> Hoy me tocó. Hace horas el laboratorio me confirmó que soy positivo de Covid-19. Y si bien estoy bien, en líneas generales, me tocó toda la sintomatología por suerte leve. No me contagié en una clandestina o boludeando. Mi estrecho fue mi suegro que tuvo que estar internado.\n",
      "1387919608817070085 2021-04-29 18:59:55 -0500 <dianaberrent> Remember that Covid research will benefit ALL patient communities Cc: @danaparish @StevePhillipsMD\n",
      "1387919607550316546 2021-04-29 18:59:55 -0500 <_brunamalaquias> Minha mãe conversando com o boy \"você vai tomar a vacina sim, se não eu te mato, vai morrer de covid ou por mim\" KKKKKK eu amei\n",
      "1387919606774263808 2021-04-29 18:59:55 -0500 <LavAgrahari1> @ekta199mishra @dmpratapgarh @UPGovt @narendramodi @myogiadityanath Did she die of Covid19\n",
      "1387919606220791812 2021-04-29 18:59:55 -0500 <RosanyDiaz> @LilianaRobeson Liliana, hace unos días a mi hijo le picó una garrapata en el campo, empecé a leer sobre las pruebas del Lyme por si acaso ( luego supe no vivo en zona endémica donde se desarrolle bacteria Borrelia) y me entró vertigo al leer que el test de anticuerpos es como Covid falsos +.\n",
      "1387919605272915970 2021-04-29 18:59:54 -0500 <TeamYouTube> @Goatguyf Appreciate the follow up – since you've recently submitted an appeal, it's best to give our reviewers a bit of a time to look into it. Note that due to the impact of COVID-19 on our workforce, delays in our responses can be expected. Reach back out if needed.\n",
      "1387919604807348226 2021-04-29 18:59:54 -0500 <osarrio> @patriciov Yo diría que es indolencia. Castillo tiene Covid.\n",
      "1387919604333355016 2021-04-29 18:59:54 -0500 <reporterpb> Paraíba registra mais de 291 mil casos de Covid-19 confirmados...  https://t.co/n0jg3KhQPm\n",
      "1387919603972681732 2021-04-29 18:59:54 -0500 <oliverr98256096> @LynnBrittney2 The NANO technology in the vaccine, is controlled by 5g, why do you think they want everyone to take vaccine, even children who have no chance of dying from covid, WAKE UP PEOPLE, ITS ALL ABOUT CONTROL. TIME TO SWITCH OFF THE TV, YOU ARE BEING BRAINWASHED.\n",
      "1387919602441728000 2021-04-29 18:59:54 -0500 <gulffrancefc> GULFMORNING à notre rayon de soleil. GULF phi phi fans s'inquiète de te savoir en sécurité et en bonne santé. Prend soin de toi ne sors que si c'est vraiment nécessaire sinon reste à la maison pour te reposer. Aujourd'hui avec toi nous allons lutter ensemble contre le COVID 19.  https://t.co/b9PfDNEgxW\n",
      "1387919602211074049 2021-04-29 18:59:54 -0500 <astronauteando> Ansiedade ou covid?\n",
      "1387919602152185859 2021-04-29 18:59:54 -0500 <BriceDavidson> I just need to keep my family safe.   You can go enjoy your freedom. (Just don’t spread the Covid to innocent people, and if you do get the Covid because you need your freedom... please expire quickly so as to not cost me lots of tax dollars trying to save your ass)\n",
      "1387919602013900801 2021-04-29 18:59:54 -0500 <MusingsOfYouth> Oh flu is gone--that's why lockdowns work--but Covid is still ubiquitous--that's why we need lockdowns/gathering restrictions/the whole shebang. Simply press an assertion, take it further. Diseases are a real life phenomenon; does this reflect real life?\n",
      "1387919601653227523 2021-04-29 18:59:53 -0500 <viniciusandre28> Mais de 400 mil vidas para COVID-19. MEU DEUS!\n",
      "1387919600688447493 2021-04-29 18:59:53 -0500 <zedanilorangel> O POETA ACIMA  \"Um poeta deve falar só  do que é alto.\"  Do que é alto? Concordo!  Por exemplo, o número  de desempregados:  alto.  O número de mortes  por Covid: alto também.  Pode falar, né?  A indignação, então,  já tá passando das nuvens,  Né?  Pode gritar também?\n",
      "1387919599249809408 2021-04-29 18:59:53 -0500 <guty2370> @MinSaludCol @IvanDuque @Supersalud @INSColombia @infopresidencia @urnadecristal @UNGRD @ViceColombia @MinInterior @Fruizgomez ⚱ | Dolor en Colombia.  505 muertos por COVID reportados hoy😭😭😭  RÉCORD cifra más alta en toda la pandemia.  Ya son más de 73 mil víctimas.  Abrazo gigante a todas las familias y mucha firtaleza🙏🙏🙏🙏🙏 #NoSonCifrasSonVidas no nos acostumbremos.  https://t.co/l05vf0hBaM\n",
      "1387919599211929603 2021-04-29 18:59:53 -0500 <itsnataliemc> señora deje de verme feo, es alergia no covid 😩\n",
      "1387919599019122692 2021-04-29 18:59:53 -0500 <14Agencia> Boletim da Covid-19 desta quinta-feira, 29 de abril, em Botucatu.  https://t.co/Vfp118GcuK  https://t.co/prsUOud4X9\n",
      "1387919597899292674 2021-04-29 18:59:53 -0500 <DoubleWizard> i feel so bad critiquing this season, it's the only one that's ever felt lacking to me. and i don't hate it or anything, it's just so weird! i wish we had some way of knowing how much stuff like covid effected plans\n",
      "1387919597899116544 2021-04-29 18:59:53 -0500 <FreeJayNasty> @shandiditbetter Def crack because we’re not supposed to pay out of pocket for covid tests/vaccines because the government is paying for them. 👏🏼\n",
      "1387919597785976840 2021-04-29 18:59:53 -0500 <braileysanchez> @brown_ellewoods 1. What in the world is this survey, it’s very threatening 2. My experience is diff bc mine was delayed twice due to COVID, but before I knew I had extra time I still never studied a full 8 hour day and also only occasionally studied on weekends.\n",
      "1387919597232435204 2021-04-29 18:59:52 -0500 <victortr> @BlogdoBG BG não caia nessa narrativa de COVID-19, dê nome aos bois.. É VÍRUS CHINÊS.. ou então COVID-19 \"O VÍRUS CHINÊS\n",
      "[!] No more data! Scraping will stop now.\n",
      "found 0 deleted tweets in this search.\n"
     ]
    }
   ],
   "source": [
    "twint.run.Search(c13)"
   ]
  },
  {
   "cell_type": "code",
   "execution_count": 35,
   "metadata": {},
   "outputs": [],
   "source": [
    "tweetsEndApr2 = pd.read_csv('covidtweetsEndApr2.csv')"
   ]
  },
  {
   "cell_type": "code",
   "execution_count": 36,
   "metadata": {},
   "outputs": [
    {
     "data": {
      "text/plain": [
       "(39, 36)"
      ]
     },
     "execution_count": 36,
     "metadata": {},
     "output_type": "execute_result"
    }
   ],
   "source": [
    "tweetsEndApr2.shape"
   ]
  },
  {
   "cell_type": "code",
   "execution_count": 51,
   "metadata": {},
   "outputs": [],
   "source": [
    "c13 = twint.Config()\n",
    "\n",
    "c13.Search = \"covid OR coronavirus OR COVID-19\"\n",
    "c13.Lang = \"en\"\n",
    "c13.Since = \"2021-02-17\"\n",
    "c13.Until = \"2021-02-28\"\n",
    "c13.Limit = 5000\n",
    "c13.Store_csv = True\n",
    "c13.Output = 'covidtweetsEndFeb2.csv'"
   ]
  },
  {
   "cell_type": "code",
   "execution_count": 52,
   "metadata": {},
   "outputs": [
    {
     "name": "stdout",
     "output_type": "stream",
     "text": [
      "1365813964756692993 2021-02-27 17:59:59 -0500 <USAGov> Are you ready to roll your sleeve up for the COVID-19 vaccine?   Each state has its own registration and vaccination plan.   Learn about the COVID-19 Vaccination Program and find information on how and when you can get vaccinated in your area.  https://t.co/6CXeIOhS7E\n",
      "1365813964320501767 2021-02-27 17:59:59 -0500 <seeker375> I've been trying to tweet about Dr Yeadon, for a long time, now, days... Why wouldn't you allow the page to refresh? Why did I have to log out? Why don't you want to accept opinions from the \"other side\" about Covid &amp; vaccines? Why? No MSM Debate! #MSM #SackSAGE\n",
      "1365813963578040322 2021-02-27 17:59:59 -0500 <FMLaMarea> Elsa Nélida Alonso, una mujer de 90 años, de la localidad bonaerense de #Cañuelas, se transformó hoy en la persona 1.000.000 en recibir una vacuna como parte del Plan Estratégico para la #vacunación contra el #COVID19 en la Argentina, según informó el @msalnacion  #FMLaMarea  https://t.co/tAbsMumB7l\n",
      "1365813963431280640 2021-02-27 17:59:59 -0500 <MBRodamilans> This article is a must read not only for those interested in COVID, but for anyone interested in public policy communications...\n",
      "1365813962739179523 2021-02-27 17:59:58 -0500 <The_StreetPress> U.S. authorizes Johnson &amp; Johnson’s COVID-19 vaccine By Reuters  https://t.co/T1qzs5cVni\n",
      "1365813962173018113 2021-02-27 17:59:58 -0500 <ImBrianBritain> Another weapon in the fight against Covid. #JandJ #1010WINS\n",
      "1365813959333318656 2021-02-27 17:59:58 -0500 <Richard31225984> The Food and Drug Administration has authorized Johnson &amp; Johnson’s vaccine for emergency use, making it the third vaccine available to the US public and securing another vital step in the US fight to control Covid-19.  Lets see how Trudeau fucks this up.Canada needs to concur\n",
      "1365813958377152516 2021-02-27 17:59:57 -0500 <BbsitaMaldonado> Wow el covid me ha creado un social anxiety 🤡\n",
      "1365813958163111938 2021-02-27 17:59:57 -0500 <NxtLevelPromo_> @AP There’s three COVID-19 vaccines but Flint, Michigan still doesn’t have clean water 🤔.\n",
      "1365813958008074240 2021-02-27 17:59:57 -0500 <Claudia53893506> @mauriciomacri Sos peor que el Covid , pero por suerte una vacuna nos proteje de vos, Cristina\n",
      "1365813957227905030 2021-02-27 17:59:57 -0500 <thomas_neddo> @JenniferWexton No they voted against the bailouts of red states plus the fact that more money was going to other country's than to Americans and covid relief\n",
      "1365813955936083980 2021-02-27 17:59:57 -0500 <TJProvincial> Canada's COVID models have been largely accurate, with worst cases avoided  https://t.co/0a6E4EuYfa  https://t.co/MOmv1yzpyn\n",
      "1365813955399155716 2021-02-27 17:59:57 -0500 <PeriwinkleRose3> Me too. Since March 11,2020, I have been hime due to COVID precautions. I have learned to enjoy my own company and took up drawing and painting. Didn’t used to dislike people so much but the last four years has certainly decreased my tolerance considerably. I am introverted too.\n",
      "1365813955361452039 2021-02-27 17:59:57 -0500 <dxlcemaria> eu e meus amigos fizemos teste de covid e deu negativo 🙏🏻\n",
      "1365813954988044288 2021-02-27 17:59:57 -0500 <beritaminangcom> DPRD Sumbar Rekomendasikan Agar Kepala BPBD Ditindak, Ini Jawaban Gubernurr Mahyeldi #COVID19 #Covid_19 #COVID  https://t.co/ryqW4OIr2a\n",
      "1365813952941326337 2021-02-27 17:59:56 -0500 <ysupandillajxc> @pulsionparcial Cómo siempre, o se cagan muriendo de hambre, o de covid.les da lo mismo,\n",
      "1365813952857452546 2021-02-27 17:59:56 -0500 <Samantha_Doom> En que momento el covid se terminó, que yo veo a todo mundo en la playa, ríos, montaña, parqueando en carnitas asada, piscina sin mascarillas 👁️👄👁️\n",
      "1365813952647745542 2021-02-27 17:59:56 -0500 <eusebeias> CONSIDERANDO EN FRIO, IMPARCIALMENTE, SOLO  HERNANDO DE SOTO ESTA PREPARADO PARA RESCATAR NUESTRO PAÍS DESVASTADO POR EL COVID-19, CON UNA ECONOMIA EN RUINAS Y CON LA CORRUPCIÓN A TODO NIVEL.\n",
      "1365813951544623106 2021-02-27 17:59:56 -0500 <DWR_Productions> \"FDA grants emergency use authorization for Johnson &amp; Johnson's COVID-19 vaccine\"   https://t.co/EUtGidHVfZ\n",
      "1365813951217479680 2021-02-27 17:59:56 -0500 <peluporlachucha> No me dieron el bono covid de funcionario de salud y llevo 2 años trabajando en el mismo hospital 😢\n",
      "[!] No more data! Scraping will stop now.\n",
      "found 0 deleted tweets in this search.\n"
     ]
    }
   ],
   "source": [
    "twint.run.Search(c13)"
   ]
  },
  {
   "cell_type": "code",
   "execution_count": 53,
   "metadata": {},
   "outputs": [],
   "source": [
    "tweetsEndFeb2 = pd.read_csv('covidtweetsEndFeb2.csv')"
   ]
  },
  {
   "cell_type": "code",
   "execution_count": 54,
   "metadata": {
    "scrolled": true
   },
   "outputs": [
    {
     "data": {
      "text/plain": [
       "(20, 36)"
      ]
     },
     "execution_count": 54,
     "metadata": {},
     "output_type": "execute_result"
    }
   ],
   "source": [
    "tweetsEndFeb2.shape"
   ]
  },
  {
   "cell_type": "code",
   "execution_count": 57,
   "metadata": {},
   "outputs": [],
   "source": [
    "c14 = twint.Config()\n",
    "\n",
    "c14.Search = \"covid OR coronavirus OR COVID-19\"\n",
    "c14.Lang = \"en\"\n",
    "c14.Since = \"2021-06-01\"\n",
    "c14.Until = \"2021-06-15\"\n",
    "c14.Limit = 5000\n",
    "c14.Store_csv = True\n",
    "c14.Output = 'covidtweetsBegJun.csv'"
   ]
  },
  {
   "cell_type": "code",
   "execution_count": 58,
   "metadata": {},
   "outputs": [
    {
     "name": "stdout",
     "output_type": "stream",
     "text": [
      "1404589463867641858 2021-06-14 18:59:58 -0500 <julgrigollette> Gente, é sério. Já podemos criar uma comunidade dos não vacinados para Covid?! O que será de nós com esse negócio de passaporte vacinal?! Quais as opções??\n",
      "1404589463762735107 2021-06-14 18:59:58 -0500 <03_klg> menindak lanjuti kebijakan pemerintah tentang PPKM Mikro,Babinsa Desa Hulosobo, Serda Triyanto Koramil 03/Kaligesing bersama Kepala Desa melaksanakan pengecekan terhadap warga yang masih terdampak Covid-19, serta memberikan bantuan sembako guna mencukupi kebutuhan.  https://t.co/7TUz9cXgb1\n",
      "1404589463280439303 2021-06-14 18:59:58 -0500 <ofjesus24> Comparing vaccination/unvaccinated to segregation is the wildest most ugly inconsiderate things that come out of COVID. Like how DUMB are you .\n",
      "1404589461929922561 2021-06-14 18:59:58 -0500 <astrolinguista> @sujetobjeto @latercera Si!... Es una propuesta estúpida, los del Colmed son estúpidos y por ser de izquierda, más estúpido son. Si quieres hacer políticas sanitarias en torno al COVID-19, que sea un grupo técnico de Virologos y epidemiologos; médicos generales, no sirven.\n",
      "1404589461166493699 2021-06-14 18:59:58 -0500 <Eduhst> @BertiSidnei @Opif_Pires Na verdade, os números estão subnotificados... tem gente com morte registada como outra doença quando na verdade foi COVID.\n",
      "1404589461107658752 2021-06-14 18:59:58 -0500 <JeneeTibshraeny> In Auckland, the median price hit a new record of $1.15 million in May, up from $1.12 million in April.   We all know where that Covid stimulus has gone in NZ:   https://t.co/piq6Vv5H5z  https://t.co/WCvzzOH7LB\n",
      "1404589459530608642 2021-06-14 18:59:57 -0500 <inkophile> Nearly 40% of small businesses have closed as a result of the lockdown while big-box outlets have flourished due to being designated \"essential\". Support your local merchants! #COVID19 #smallbusiness #ShopLocal\n",
      "1404589459266408452 2021-06-14 18:59:57 -0500 <saudiboy2> @PinoyAkoBlog Inuuna kse kampanya kung saan saan sa Luzon, hayun tuloy lumala covid crisis sa Davao! Yan ba ang hindi tatakbo daw sa 2022? Sara ayusin mu muna problema nyu sa Davao! Aga aga mung politicking!\n",
      "1404589458603737089 2021-06-14 18:59:57 -0500 <Alex6twi> @CAudigierValett @RemiSalomon Pourquoi je le ferais vacciner ? J'ai eu le covid, j'ai pris zéro mesure à la maison, j'ai dormi avec ma femme toutes les nuits en toussant comme pour un rhume classique hivernal. Ma femme a même pas été malade alors qu'on était dans la même pièce fermé toute les nuits...\n",
      "1404589455772512258 2021-06-14 18:59:56 -0500 <BarbieQuinn5> @Rasnorok @GeorgeTakei True. This insanity of what the COVID vax is “doing” to people is a new level.  Guess that’s what happens when a new vax is made during our adult lifetime on the back of a global pandemic no one has ever experienced, while a deranged idiot proclaims the whole thing is false.🤦‍♀️\n",
      "1404589454371721216 2021-06-14 18:59:56 -0500 <kellevieeira> Gratidão por ter meus pais vacinados contra COVID 🥰♥️\n",
      "1404589452790579201 2021-06-14 18:59:56 -0500 <deniseferm> @DoctorKruz Viejo impresentable que dijo q el covid no iba a llegar... No me puedo tomar las vacaciones en el hospital y el gordo forro de paseo en Europa!!\n",
      "1404589451938988037 2021-06-14 18:59:56 -0500 <rafaelzperfect1> @RepRufus Dear Cong Rodriguez, if national unable to supply vaccines, you may try Ivermectin for the people of Cag de Oro to stem the spike of Covid and save lives. God be with you!\n",
      "1404589450114519040 2021-06-14 18:59:55 -0500 <Edwin3_0> Estudio revela que vacuna de Pfizer o AstraZeneca protegen de hospitalización por variante Delta de coronavirus  https://t.co/ccmjnMOTmu  https://t.co/YIKdiVVT4c\n",
      "1404589449263169537 2021-06-14 18:59:55 -0500 <stantheman> @brewmeone Dang... I guess with Covid and less students they see they won’t make it during the summer...hope they come back in the Fall\n",
      "1404589445727330304 2021-06-14 18:59:54 -0500 <Mmoje4> @ESPNFutbolCol No preocupa ; Fisioterapeuta de Colombia Positivo para Covid?\n",
      "1404589439611936768 2021-06-14 18:59:53 -0500 <OroNoticiasPue> #Noticias | ¡Entérate! Aquí la logística de vacunación Covid en zona conurbada de Puebla  https://t.co/qAVTnJ4kb6  https://t.co/0XPUxwgNwc\n",
      "1404589437208649728 2021-06-14 18:59:52 -0500 <ffstxm> @PengAsian i mean covid kinda shegged me at my new 6th form but before it i only had a few friends mostly from the football team\n",
      "1404589436697026561 2021-06-14 18:59:52 -0500 <valeepedrotti> @1anitagimenez Esas jarras me hicieron inmune al covid\n",
      "1404589436634079235 2021-06-14 18:59:52 -0500 <dickinsonpress> NewsMD podcast 'The Health Variant' episode: 'COVID-19 Vaccine Answers'  https://t.co/HmCMv5GI8r\n",
      "[!] No more data! Scraping will stop now.\n",
      "found 0 deleted tweets in this search.\n"
     ]
    }
   ],
   "source": [
    "twint.run.Search(c14)"
   ]
  },
  {
   "cell_type": "code",
   "execution_count": 59,
   "metadata": {},
   "outputs": [],
   "source": [
    "tweetsBegJun = pd.read_csv('covidtweetsBegJun.csv')"
   ]
  },
  {
   "cell_type": "code",
   "execution_count": 60,
   "metadata": {},
   "outputs": [
    {
     "data": {
      "text/plain": [
       "(20, 36)"
      ]
     },
     "execution_count": 60,
     "metadata": {},
     "output_type": "execute_result"
    }
   ],
   "source": [
    "tweetsBegJun.shape"
   ]
  },
  {
   "cell_type": "code",
   "execution_count": 61,
   "metadata": {},
   "outputs": [],
   "source": [
    "c15 = twint.Config()\n",
    "\n",
    "c15.Search = \"covid OR coronavirus OR COVID-19\"\n",
    "c15.Lang = \"en\"\n",
    "c15.Since = \"2021-06-16\"\n",
    "c15.Until = \"2021-06-30\"\n",
    "c15.Limit = 5000\n",
    "c15.Store_csv = True\n",
    "c15.Output = 'covidtweetsEndJun.csv'"
   ]
  },
  {
   "cell_type": "code",
   "execution_count": 62,
   "metadata": {},
   "outputs": [
    {
     "name": "stdout",
     "output_type": "stream",
     "text": [
      "1410025284938600451 2021-06-29 18:59:59 -0500 <dngksmzn> Yg suka nanyain \"covid kok ga ada yg meninggal di jalan? Di rumah? Di kantor? Kenapa meninggal di RS trs?\"  Nih sudah mule meninggal di rumah krna RS sudah mule penuh, ga perlu nunggu meninggal di jalan dan kantor kan?\n",
      "1410025283244105728 2021-06-29 18:59:59 -0500 <arXiv_cs_CV_ja> 亡しましたが、COVID-19の確定症例は1億8000万人を超えています。多くの国での医療制度の崩壊は、医用画像からの病気の診断を自動化するためのツールを開発する必要性を示しています。以前の研究では、この目的のためにディープラーニングを使用していました。ただし、この代替案のパフォーマンスは、\n",
      "1410025281629442057 2021-06-29 18:59:58 -0500 <fox43> Online users have posted that the COVID-19 vaccine could cause sterility in men, despite a recent study stating there isn’t evidence to support the claims.  https://t.co/3010jXpRHt\n",
      "1410025281209970688 2021-06-29 18:59:58 -0500 <anmatoba1> @YennyGW @petrogustavo Ahora está hp boba va a decir que duque se inventó el covid , sin tan ignorantes estos mamertos que no han podido estrenar las neuronas que Dios le dio y las tienen ahi de adorno reposando en esos cerebros 🧠 sin uso\n",
      "1410025280631103489 2021-06-29 18:59:58 -0500 <canada4news> Alberta COVID cases continue to fall, province set to fully reopen as planned – CityNews Toronto  https://t.co/MPySDeFNYb\n",
      "1410025280232734721 2021-06-29 18:59:58 -0500 <laxra_uribe> Alguien que me corrija de nuevo, como es que una prueba covid solo se puede ver una vez en la vida y aparte de eso con el nombre, fecha de nacimiento, y la fecha en la que se hizo recortada?\n",
      "1410025275803406343 2021-06-29 18:59:57 -0500 <mhdhfq_> Ini antara keputusan kerajaan paling bodoh. Start operasi pukul 8. Semua pakat menunggu. Mana tak crowded nya? Ni salah satu penyebab jangkitan covid-19. #KerajaanGagal  https://t.co/6OIGNlZ2Pm\n",
      "1410025274956206089 2021-06-29 18:59:57 -0500 <sillygooseberry> This was fantastic. I'm buying a paper copy. The turn of phrase was beautiful, and it was very well timed Werth the discussions of being forced out of quarantine. They also give a list of other books on seclusion at the end.  #amreading #COVID19 #sheerpanic  https://t.co/UaUnMNKiXG\n",
      "1410025274943721472 2021-06-29 18:59:57 -0500 <Wherediaa> Para darnos cuenta que hay vida después del covid hay que salir de RD, en otros países  todo el mundo hace su vida normal.\n",
      "1410025274377269248 2021-06-29 18:59:57 -0500 <GailWaldby> I’m attending Made to Save’s event, “National Month of Action Training: Talking to Your Friends and Family About COVID-19 Vaccines!” – sign up now to join me! #MadeToSave  https://t.co/oy2vNlPrYF\n",
      "1410025272426987524 2021-06-29 18:59:56 -0500 <leynaluong> this covid delta variant better relax befor i step in 🤷🏻\n",
      "1410025270996766722 2021-06-29 18:59:56 -0500 <Mitla96> @mouthslack Remember we wanted this heat.  I braved COVID to go to Florida in March!\n",
      "1410025268186656768 2021-06-29 18:59:55 -0500 <GranTorta> /DESASTRE/ Remedio de Cuba contra el Coronavirus no tiene todavía información de médicos sobre eficiencia\n",
      "1410025267427426309 2021-06-29 18:59:55 -0500 <FWN_TV> 📣 New Podcast! \"Did The Federal Government Kill Chinese Defector To Cover Up COVID Bioweapon? - War Room - 2021-Jun-29, Tuesday\" on @Spreaker #1a #2a #dongjingwei #football #meme #owenshroyer #usa #warroom #warroomshow  https://t.co/IR89xfATSv\n",
      "1410025266512941059 2021-06-29 18:59:55 -0500 <Chayong55897081> secara resmi sudah mengumumkan kebijakan vaksinasi COVID-19 bagi anak-anak berusia 12-17 tahun. #VaksinPulihkanNasional  https://t.co/k4wUqq1EoY\n",
      "1410025266148102144 2021-06-29 18:59:55 -0500 <21kayyenz> @jaya_pancasila Ayuk kemon 🏃🏻‍♀️💨💨  Semoga covid cepet sirna ya, kita barengan rame² mengarungi sungai Mahakam naik kapal.... 😇☺🙏🏻🙏🏻\n",
      "1410025265338585088 2021-06-29 18:59:54 -0500 <AbankTho2> Tangkap saja lah para calon generasi tak berakal sehat itu. Di tengah pandemi yg semakin merajalela justru dia mengajak makar. Klu gak otaq kadrun gak gini cara pikirnya. Calon² generasi perusak kedamain bukannya sadar diri klu saat ini lg pandemi covid19. CC @DivHumas_Polri\n",
      "1410025264290140165 2021-06-29 18:59:54 -0500 <CllrCat> Can’t sleep due to COVID anxiety for the first time some getting my first vaccine dose. Know 3 people who caught COVID in the last few weeks....one only met people outside for a picnic and didn’t hug anyone. These new variants are scary but I’m lucky to be safe in my cocoon 😖  https://t.co/SsvvDXu9PB\n",
      "1410025263807668224 2021-06-29 18:59:54 -0500 <elaguachile_mex> #ParaEnchilarse | #México registró 5 mil 711 casos nuevos y 195 muertes por #Covid_19  en sólo 24 horas.  https://t.co/BNqLQAHhFH\n",
      "1410025262872420361 2021-06-29 18:59:54 -0500 <baladapoa86> @arthurmoledoval Mamãemamei ja assinou a lista para abertura da cpi dos gastos para enfrentamento do covid, em sp?\n",
      "1410025259160506368 2021-06-29 18:59:53 -0500 <DaveLeeERMD> @YogenKanthi @jasonsknight I'm almost certain that all your ideas are great, but the whole world is entirely confused about what causes COVID-19. Oddly, I bet that the study sections will probably be the last people to be convinced once the underlying pathophysiology is actually identified.\n",
      "1410025256023171076 2021-06-29 18:59:52 -0500 <DivaLGomes> @andreazzaeditor Ainda precisamos saber quem lucrou com a fabricação e venda dos remédios sem eficácia para Covid.\n",
      "1410025253657473026 2021-06-29 18:59:52 -0500 <TracyKo42161423> @JJ_McCullough It’s local reporters too!! Alberta last covid media availability and all doom and gloom from reporters when @sunrickbell finally called them on it! We are at the light at the end of the tunnel and some are hanging on tight.\n",
      "1410025251581304832 2021-06-29 18:59:51 -0500 <CounsellorMark> Booked in to have a chat with my GP about COVID vaccine options.  I'm just fortunate to have a GP I can trust to honestly talk about my healthcare options.\n",
      "1410025250167803905 2021-06-29 18:59:51 -0500 <nyomanswagangga> Berikan Masker Gratis Untuk Cegah Penyebaran Virus Covid 19  Polda Bali - Polres Klungkung - Satuan Lalu Lintas  https://t.co/5EkFUAtMCa\n",
      "1410025249593348105 2021-06-29 18:59:51 -0500 <JglocoJay> Ron Johnson defends news conference on COVID-19 vaccine side effects****He needs to be censured at the very least if not expelled. Obviously he doesn’t have the skills necessary to be in congress.  https://t.co/YLEDdWqxXt\n",
      "1410025247747850245 2021-06-29 18:59:50 -0500 <NZiancio> @ChuliChulenga Cuando tenes una paro cardio... te re preocupa agarrarte Covid\n",
      "1410025247290519553 2021-06-29 18:59:50 -0500 <TomJordanNews> Reinfection Rate Less Than 1% For Those With Severe COVID-19 ““Our analysis also found asthma and nicotine dependence were associated with reinfection”  https://t.co/3Qb3Ph3osw\n",
      "1410025245851881473 2021-06-29 18:59:50 -0500 <IzmerShafiq> Sekarang baru nak amik tau pasal rakyat yang memang perlukan bantuan? Dah setahun lebih covid, tapi apa progress? Vaksinasi pun lambat. Dekat Europe dah boleh tengok bola dekat stadium. Kita?  You already failed. All of you.\n",
      "1410025245495472135 2021-06-29 18:59:50 -0500 <lalani_safina>  https://t.co/NdycVLSILv Face masks that can diagnose Covid. Hmmmmmmmmmmmm. Neat.\n",
      "1410025244476194821 2021-06-29 18:59:49 -0500 <newyorknewart> Bangladesh: Tens of thousands flee Dhaka amid COVID surge | DW News  https://t.co/a0MPmGhB1a via @YouTube\n",
      "1410025242941067266 2021-06-29 18:59:49 -0500 <freightlinerotr> We all knew this was coming.  And, btw ... think all those illegal aliens coming into our Country are free of COVID or worse, TB?  Nope ... untested, unprotected, and unsupervised.  Disease coming to a neighborhood near you.\n",
      "1410025242378997760 2021-06-29 18:59:49 -0500 <iamsalome> What you need to know about B.C.'s COVID-19 reopening plan | CBC News  https://t.co/ooC2bXJbd7\n",
      "1410025240919482381 2021-06-29 18:59:49 -0500 <BlockInfinity_> @17GoingOn45 @KurtMilneStocks @Dru227 @Breaking911 The point of the mask isn't to protect you from the virus, it's to protect others. If you have COVID, and you wear a mask, that mask will stop most of the \"COVID particles\" from getting out and infecting others.\n",
      "1410025239291961344 2021-06-29 18:59:48 -0500 <beritajatimcom> Sebagai salah satu langkah untuk percepatan pelaksanaan vaksinasi kepada masyarakat, pihak Pemerintah Kabupaten Tuban mulai hari ini telah melakukan kegiatan Gebyar Vaksinasi Covid-19 secara serentak, Selasa (29/6/2021).   https://t.co/Hrmog78nbl  #berita #news #terkini #Jatim\n",
      "1410025238763610112 2021-06-29 18:59:48 -0500 <JohnHen48636991> WHO says delta variant of COVID means even vaccinated people should keep wearing face masks, as more Asian cities lock down  You Hear That?   WHO (CCP 🇨🇳)    https://t.co/50eiWvevcS\n"
     ]
    },
    {
     "name": "stdout",
     "output_type": "stream",
     "text": [
      "1410025237182181379 2021-06-29 18:59:48 -0500 <xx_kailey> wow ! There’s a new strain of Covid &amp; now even if your vaccinated they’re staying still wear a mask\n",
      "1410025234808274944 2021-06-29 18:59:47 -0500 <pidgeo> Celebrating your daughter's birthday via FaceTime as you've missed two in a row thanks to COVID and the egregious vaccine rollout failures by the incompetent  @ScottMorrisonMP @LiberalAus government.\n",
      "1410025234120515585 2021-06-29 18:59:47 -0500 <DragonSmolt> @buhdahwee See.. to me that logic sound... cuz we learn about lunch time siestas and such.. eat, drink, take a nap  With these covid SoE times it may not be a far reach to implement an establishment based on that concept... 🤣🤣🤣🤣  https://t.co/yJCtoEoN5t\n",
      "1410025233818419200 2021-06-29 18:59:47 -0500 <SnapBackAU> @MatthewBevan @CannabisFairy69 Wonder how the fly in COVID testing centres will operate?\n",
      "1410025233814327301 2021-06-29 18:59:47 -0500 <detikcom> Opsi PPKM darurat mencuat di tengah lonjakan COVID-19. Kebijakan itu kabarnya akan diumumkan langsung oleh Presiden Jokowi.  https://t.co/dU6oRkU7Ss\n",
      "1410025232950255629 2021-06-29 18:59:47 -0500 <MuniJoseCPaz> ESTADO DE SITUACIÓN 29/6/2021 En el informe correspondiente al día de hoy lamentamos informar el deceso de siete vecinos por COVID19. Desde la Municipalidad de José C. Paz acompañamos a los familiares y allegados en este momento y les ofrecemos nuestro apoyo y condolencias.  https://t.co/imiEGxc7wI\n",
      "1410025229045407747 2021-06-29 18:59:46 -0500 <Jonvw4> @MayorFrey Weren't you in charge of the MPD when they murdered a man? The MPD that detained people against their will for being in a public road? Didn't you misappropriate funds marked for covid to assault peaceful protestors?  You don't get to pretend to know what is fundamental wrong.\n",
      "1410025227879432192 2021-06-29 18:59:45 -0500 <SLoosin> Bah bien sûr … donc l’institut pasteur ne connaît pas fonctionnement des coronavirus ? Un virus qui évolue tout le temps … cet automne le virus sera encore différent … bref … vacciné ou pas vacciné c’est pareil … mais quel arnaque ! ils veulent vraiment toucher aux libertés\n",
      "1410025227736780803 2021-06-29 18:59:45 -0500 <rickmcgeez> WHO Reverses COVID-19 Guidance, Says Vaccinated People Should Wear Masks &amp; Social Distance  https://t.co/RzBKPj12oj via @Politico Daily\n",
      "1410025226570772487 2021-06-29 18:59:45 -0500 <monomoonchild94> Me volví a enfermar 😞 dale covid hdp agarrame de una vez\n",
      "1410025223538286601 2021-06-29 18:59:44 -0500 <davibarros05> fuck covid 19\n",
      "1410025221919154178 2021-06-29 18:59:44 -0500 <Arieffauzy_> covid x pancaroba  mantap double kill\n",
      "1410025221910892545 2021-06-29 18:59:44 -0500 <_Kax_x> The story has been poor since its inception. I really feel like they should have delayed this storyline until they could film without covid restrictions because it has been a huge inconsistent mess. Too much story blocking with a different sl every week.\n",
      "1410025220266676225 2021-06-29 18:59:44 -0500 <ecotvpanama> Balance #Covid_19 | Martes 29 de junio.  Nuevos casos: 1,249  Recuperados:  383,656 Total de casos: 402,581 Pruebas Nuevas: 14,244 Fallecidos: 6,536 (7) En casa: 11,341  Hoteles: 365 Hospitalizados: 683 Sala: 575  UCI: 108  https://t.co/yONMcTcIeU\n",
      "1410025217884229633 2021-06-29 18:59:43 -0500 <GlenHackney> @VictoryGirl1977 @BawdenSnoek @rogerhawthorne2 It has been scientifically shown covid has a survival rate of 99%. It is highly infectious and is new but is just as deadly as the flu.\n",
      "1410025215581696003 2021-06-29 18:59:43 -0500 <JoaoOtavio1957> É chato dizer isso, mas mais chato é ser um deles/delas: 9.023 é o total de mortos pela Covid-19 até hoje no Maranhão. Segundo o marketing dinista, é o melhor resultado do Brasil. Sabe... o Brasil, o maior matador do próprio povo do mundo? Pois é, somos o melhor dos fracassados.\n",
      "1410025215191568385 2021-06-29 18:59:42 -0500 <Cath_Simoneau> Travelling soon?  Don't forget your EU Digital COVID Certificate! On 1 July, the certificate will become available in all EU countries.    Details ⬇️   #EUCOVIDCertificate  https://t.co/hZABwLflWG\n",
      "1410025215187251201 2021-06-29 18:59:42 -0500 <SpartanMatt8497> @abeaujon @janerecker Stand up for yourselves and all other laborers who don’t have the voice or courage to do this. Those that can work from home but are not allowed are victims of micromanaging and control. Fight the good fight. COVID changed the world forever. CEOs can figure it out or get bodied\n",
      "1410025214927384579 2021-06-29 18:59:42 -0500 <otrodiacom> Covid en Cañada: 14 contagios con 8 altas -  https://t.co/VIfr0ij8fB -  https://t.co/VEQZNfUztD  https://t.co/uBS7Vt07X8\n",
      "1410025212746211328 2021-06-29 18:59:42 -0500 <Moneyma78808638> 2 BANSA MASYADONG NAAPEKTUHAN NG DELTA VARIANT.   ANG INDONESIA AY KINONSIDERA NG BANSA NA MAY COVID19 CATASTROPHE, DAHIL SA 20K NA MGA TAO ANG ARAW ARAW NA NAHAHAWA.   SA AUSTRALIA, NAGPATUPAD NA NG LOCKDOWNS SA BRISBANE AT KARATIG LUGAR.\n",
      "[!] No more data! Scraping will stop now.\n",
      "found 0 deleted tweets in this search.\n"
     ]
    }
   ],
   "source": [
    "twint.run.Search(c15)"
   ]
  },
  {
   "cell_type": "code",
   "execution_count": 63,
   "metadata": {},
   "outputs": [],
   "source": [
    "tweetsEndJun = pd.read_csv('covidtweetsEndJun.csv')"
   ]
  },
  {
   "cell_type": "code",
   "execution_count": 64,
   "metadata": {},
   "outputs": [
    {
     "data": {
      "text/plain": [
       "(56, 36)"
      ]
     },
     "execution_count": 64,
     "metadata": {},
     "output_type": "execute_result"
    }
   ],
   "source": [
    "tweetsEndJun.shape"
   ]
  },
  {
   "cell_type": "code",
   "execution_count": 67,
   "metadata": {},
   "outputs": [],
   "source": [
    "c16 = twint.Config()\n",
    "\n",
    "c16.Search = \"covid OR coronavirus OR COVID-19\"\n",
    "c16.Lang = \"en\"\n",
    "c16.Since = \"2021-07-01\"\n",
    "c16.Until = \"2021-07-15\"\n",
    "c16.Limit = 5000\n",
    "c16.Store_csv = True\n",
    "c16.Output = 'covidtweetsBegJul.csv'"
   ]
  },
  {
   "cell_type": "code",
   "execution_count": 68,
   "metadata": {},
   "outputs": [
    {
     "name": "stdout",
     "output_type": "stream",
     "text": [
      "1415461104600420361 2021-07-14 18:59:59 -0500 <aZylohh> @Braay @parvontae 3. Mortality isn’t the only thing the vaccine helps prevent. It decreases transmission by about 95% depending on the vaccine. Death isn’t the only thing that covid causes, it catalyzes respiratory infections which can last for months.\n",
      "1415461104503898114 2021-07-14 18:59:59 -0500 <COVID19BrUpdate> Mais 104 óbito(s) devido ao vírus no país. Agora com um total de 537498 mortes.  #covid19 #COVID_19 #covid19brasil #coronavirusnobrasil\n",
      "1415461104122220546 2021-07-14 18:59:59 -0500 <nelenaaa> @caparica Que bom que avisou que era de covid. Um conhecido do meu irmão perguntou se era fila para vacinar e disseram \"sim\". Realmente era fila para vacinar, contra a gripe. Coitado tomou a vacina errada. Vai ter que esperar 15 dias para tomar da covid\n",
      "1415461103623016449 2021-07-14 18:59:59 -0500 <RinceMarinca> @xurbiaxendless Iya sebaiknya ada dr indonesia yg buat video sejenis ini dgn bahasa indonesia. Panduan dr mathew varghese dr India ini jelas utk panduan pengobatan covid  https://t.co/DWiHC99P3U\n",
      "1415461101865668612 2021-07-14 18:59:59 -0500 <seafoodAUS> If you're based in Great Sydney the Federal and State Government’s joint support package will provide some breathing space for small to medium businesses, and individuals during the current COVID lockdown. Find out more here:  https://t.co/L0Jsddffip  https://t.co/6ZZTWDm82B\n",
      "1415461101618167812 2021-07-14 18:59:59 -0500 <rick_rienks> @DRAnderson7 @LondoMollari13 @LadyJayPersists Last I remember we were discussing Covid vaccines and their safety, but someone keeps changing the discussion. For what it is worth, no one I know has had any side affects from the vaccine, and no one has had to pay for it. But hey, if you want to not get it more power to you.\n",
      "1415461101421010946 2021-07-14 18:59:59 -0500 <policepiper43> @WaltPatulski2 @commie22 Nobody cares about your second home. Guess if the US had a decent government that followed the science from the start of Covid you may have been able to travel here. BTW if you don’t like the taxes sell your place.\n",
      "1415461100741615619 2021-07-14 18:59:59 -0500 <Matildalisboa> @junior_jussara @piruvano @edwinluisi @Leonard20544712 @pedrocertezas Vc é burro e ta me falando pra prestar mais atenção? Por acaso os que vao ao estadio vacinados, caso peguem covid, nao vao transmitir para outros que NAO estao vacinados? E vc bem pontuou, no Brasil é permitido pq aqui é cada um por si, n existe empatia ou noção de coletivo\n",
      "1415461099374317573 2021-07-14 18:59:58 -0500 <manoloreyes1> En Zacatecas continúa aumento de casos positivos de COVID-19; Hoy fueron 56 -  https://t.co/MEnqSz0sPG Reporte #COVID19 #Zacatecas @SSZ_Zac @gobiernozac #Zacatecas  https://t.co/4JjhgAc3QW\n",
      "1415461098736689155 2021-07-14 18:59:58 -0500 <brodeurici> @GOPLeader Meanwhile back at the Trump rectal committee, the Covid numbers are rising among those not vaccinated. You sir are part of the big lie.\n",
      "1415461097730158596 2021-07-14 18:59:58 -0500 <foulshamgirl1> The Budget 2020, publ. 11 Mar 2020, same day WHO called pandemic, also had many references to Covid, but when it was compiled, financials included, there could have been no way they would have known it would become a pandemic. All planned.  https://t.co/5XncvgqdLD\n",
      "1415461097625341956 2021-07-14 18:59:58 -0500 <jeffhauser> @dsquareddigest @ddayen They ran COVID response focusing on the needs of private equity (Powell was a senior figure at Carlyle) rather than small business &amp; munis, he has been super sluggish on climate, and he backed Quarles' deregulatory agenda.\n",
      "1415461096979369989 2021-07-14 18:59:58 -0500 <Asianfairy1018> COVID is behind this PGA superstar withdrawing from The Open but not because he had the virus  https://t.co/wqcrmESD4Z via @Culture Watch News\n",
      "1415461096836710402 2021-07-14 18:59:58 -0500 <juankiz> Tengo una filtración de agua en el techo.  Se debe revisar el depa de arriba. No se puede porque los vecinos tienen COVID-19.  Ya nos tocaba andar mojados.\n",
      "1415461095456657408 2021-07-14 18:59:57 -0500 <ussunsane7> @junsai_tokai その人の周りでＣＯＶＩＤ１９に罹った方が居ないと信じられないんです そういう事です  あんな悲惨な病気かかりたくないよ\n",
      "1415461095322669057 2021-07-14 18:59:57 -0500 <LuciMartnez14> Ya no vuelvo a decir julio sorprendeme, primero covid y ahora apendicitis 🙃🙃😭\n",
      "1415461094827728896 2021-07-14 18:59:57 -0500 <RonaldJ04456420> @tblandono A ese payaso hasta el Covid le huye. No sea que le contagie la estupidez.\n",
      "1415461094739505159 2021-07-14 18:59:57 -0500 <MediaActive> #NSW #covid19\n",
      "1415461093569441793 2021-07-14 18:59:57 -0500 <melissabak3> @japangov @AbeShinzo @JPN_PMO @japan Because let me tell you. The death toll from Covid-19 will get really bad if the thin vale of protection known as vaccination is inadequately distributed. Eradication of Covid-19 will only come through daily decontamination.\n",
      "1415461093221273600 2021-07-14 18:59:57 -0500 <NNPrezNez> 16 new cases, 29,674 recoveries, and one more death related to COVID-19  https://t.co/LAOH0lhTAp\n",
      "1415461092608790530 2021-07-14 18:59:57 -0500 <dapaniwoy> @sbyfess klu panas = paracetamol, pusing = oskadon, flu batuk = obh, anosmia = terapi uap air panas+minyak kayu putih (tiap siang+mau tidur) = rutin minum degan ijo murni dari buah tanpa campuran sbelum tidur, berjemur 30 menit, kumur pake listerine pas mandi. Aku mantan covid nder\n",
      "1415461092340404224 2021-07-14 18:59:57 -0500 <jurfraga> Pinhal vai usar 500 doses da vacina p fazer o dia D da vacinação p covid p maiores de 18 anos na sexta feira, isso é incrível!!!\n",
      "1415461085247836164 2021-07-14 18:59:55 -0500 <GSlerra> @marcelopez2202 Felicitaciones. Sino tenés bajate la app Mi argentina que en salud ya te sale el carnet de Covid19 además de un montón de datos tuyos 👏\n",
      "1415461085197520902 2021-07-14 18:59:55 -0500 <_david_gentil> @hson_1903 Claro que vai cair. Mais de 500 mil morreram e quase tido mundo já pegou covid. Nem precisa ser cientista para saber que isso ia rolar.  Ainda tem a vacina para desacelerar mais ainda a pandemia.\n",
      "1415461085134475266 2021-07-14 18:59:55 -0500 <JustinGlynSJ> @aussieavidread @billbowtell @TheNewDailyAu @abc730 Well, it does seem clear that if you DO have a definition of an essential worker (which NSW doesn't), everyone knows what is required of them. If you don't - who knows if you should stay at home, stay at work, can get support, can't get support? Great for libertarians, and COVID!\n",
      "1415461084966838274 2021-07-14 18:59:55 -0500 <CuatroVertices> #14Jul • Pdte Nicolás Maduro anunció sobre una posible flexibilizacion vigilada-abierta, además de eliminar el método 7+7, y pide a la Comisión Presidencial Covid19 evaluar la propuesta.  Este domingo #18Jul ofrecerá mayores detalles.   #LaPatriaEsNuestraAmérica  https://t.co/06ykTcS4wY\n",
      "1415461083620552709 2021-07-14 18:59:54 -0500 <akaSmall_Kitten> @Havealookthere @NanciGuestRDPhD @canmericanized People only focus on the few that died , most over a certain age , most with underlying health issues , most overweight...... millions got sick and stayed in bed. Didn’t covid number just replace Seasonal flu numbers ? (I could be wrong)\n",
      "1415461083394019334 2021-07-14 18:59:54 -0500 <FOXProvidence> Number of breakthrough COVID cases ‘incredibly low’ in RI, Mass. - via @WPRI12  https://t.co/WsEwQa8OGb\n",
      "1415461082492198914 2021-07-14 18:59:54 -0500 <starbucksgirl51> @stclairashley So you want people to respect your choice while mocking other people for their choice?  Make sure when you get COVID that you stay home. No doctors office. No hospital.  Just suck it up buttercup.\n",
      "1415461082332794887 2021-07-14 18:59:54 -0500 <EbolaPeronista> tenés alguna solución para el coronavirus? si , prefiero un 10% de pobres más\n",
      "1415461080361484290 2021-07-14 18:59:54 -0500 <CaracolRadioTun> Son 365 casos positivos y 12 fallecidos por COVID-19 que notifica el @MinSaludCol hoy en #Boyacá.   A la fecha en el departamento se registran 97.940 casos confirmados, 93.104 recuperados y 2.315 fallecidos.  https://t.co/mkoS6jyEqg\n",
      "1415461079619145732 2021-07-14 18:59:54 -0500 <_Ivannlr> 👉 Hoy la Argentina llegó a los 100.250 fallecidos por covid, una tragedia anunciada pero evitable. Mientras la \"negligencia\" frenaba la llegada de más vacunas, hoy nuestro país está en el puesto 11° a nivel mundial en cantidad total de decesos.  https://t.co/1uJxUnjz4Z\n",
      "1415461076628541446 2021-07-14 18:59:53 -0500 <balaperdyda> @mulherdjabo q nada po só o covid\n",
      "1415461076326502403 2021-07-14 18:59:53 -0500 <Alfredo54208665> @Trafico_ZMG @GobTlaquepaque @GobiernoJalisco @juncalssolano   No se preocupen ya pasaron las elecciones ya lograron lo que querían ya para que trabajan de aquí en adelante puras malas noticias como el incremento de casos Covid y las verificaciones, no se porque no lo dijeron antes verdad @EnriqueAlfaroR\n",
      "1415461075521359878 2021-07-14 18:59:53 -0500 <lawyerwithsoul1> Utah Sen. Mitt Romney calls politicizing COVID-19 vaccine 'moronic'  https://t.co/TiGVZ7hezq  https://t.co/ScMsi6zbgx\n",
      "1415461073965109250 2021-07-14 18:59:52 -0500 <ManWhoKillObama> @ShamsiAli2 Semenjak Trump turun, covid-19 d AS jg ikut turun. Leadership is the key.\n",
      "1415461073839267841 2021-07-14 18:59:52 -0500 <CE_ChinaEconomy> Over 1.4 bln doses of #COVID19 vaccines have been administered in #China as of July 13, as the country continues to ramp up its inoculation drive, the National Health Commission said on July 14.  https://t.co/LsT561aNxH\n",
      "1415461073231224836 2021-07-14 18:59:52 -0500 <jvfreirw> será q quem tá com covid pode fumar\n",
      "1415461069259100172 2021-07-14 18:59:51 -0500 <ErikaPerezMx> Las posturas en contra de aplicarse la vacuna contra CoVID-19 no sólo perjudican a la persona que no se la pone sino a todos los demás. Tenemos que confiar en los especialistas de la salud, que nos recomiendan vacunarnos. Seamos responsables.  https://t.co/65XHaZtxRP\n",
      "1415461068227416068 2021-07-14 18:59:51 -0500 <Keyte63748034> @MammyCe @AndreJanonesAdv Eu e minha família estamos se recuperando do covid19,se não fosse este Desgoverno, teria dado tempo de ter tomado a vacina\n"
     ]
    },
    {
     "name": "stdout",
     "output_type": "stream",
     "text": [
      "1415461067464007682 2021-07-14 18:59:51 -0500 <yrcnsc> pelo amor de deus o cara reclamando que ta passando muito mal por causa de covid e o cara mandando foto de cerveja\n",
      "1415461066700636161 2021-07-14 18:59:50 -0500 <socialsleezing> What’s happening at @USAA? 16 years as a customer and COVID-19 has nearly robbed you of your stellar customer service? Please get it together. @NavyFederal Keep up the great work!!\n",
      "1415461065048068109 2021-07-14 18:59:50 -0500 <broinlaw1> Ey, tú, chico. A estas horas, a las 1:59 del día 15/7/2021 hay 4.041.474 infectados por coronavirus en España, 55.765.644 infectados en Europa y 187.086.096 en el mundo. Total ná\n",
      "1415461064121229314 2021-07-14 18:59:50 -0500 <tedrobak> @Erlenmeyer_PhD @OrbitStudios This is in Canada where we have fewer covidiots, but they do exist here, as well. It means he'll have to pay to have it shipped to the shop and back, and lose its use for that time. Good. It means he'll have less money to support RWNJ causes, and less chance to spread covid. 2/2\n",
      "1415461062841978883 2021-07-14 18:59:50 -0500 <LailtonCosta> De 👀 nas doses: Ministério da Saúde disponibilizou a 29ª e 30ª pauta de distribuição de vacinas contra a Covid-19. São 41.700 doses para o Tocantins: 11.700 da Pfizer e 30.00 da Astrazeneca. Doses proporcionais à população. O TO é o 4.º mais populoso do Norte. É o 4.º em doses.  https://t.co/EtJJVSAD2F\n",
      "1415461061990359042 2021-07-14 18:59:49 -0500 <soapydoc> @nuggutron @damnnigf @ABC7 The vaccine prevents infections so serious that you need to be hospitalized. Depending on the vaccine, up to 70% of not getting the Delta variant &amp; 94% against serious illness/death. If you catch COVID after being vaccinated, you're recuperating at home, hopefully in isolation.\n",
      "1415461060593668096 2021-07-14 18:59:49 -0500 <Alberta411> 91% of Edmonton has received at least one dose of the COVID19 vaccine (Edmonton Zone Population 1,424,837.  https://t.co/aiJMheEehT #yeg\n",
      "1415461059335393284 2021-07-14 18:59:49 -0500 <Sues425> Changes to childcare fees in COVID-affected areas Sabra Lane discussed this and other COVID-related issues with the Prime Minister Scott Morrison.  https://t.co/yFRbfP9S1M\n",
      "1415461059058704390 2021-07-14 18:59:49 -0500 <PiranaFutbol> CLUB ATLÉTICO PIRAÑA. INCORPORA JUGADORES. Cat. 01 - 02 - 03 - 04. Horario. 08:30 hs. Cat. 05 - 06 - 07 - 08. Horario. 14:30 hs. ✔️ Protocolo Sanitario COVID-19. @Formativo_AFA @SABADOGOL #CuidarteEsCuidarnos #PruebaDeJugadores #FutbolAmateur #INFERIORES #JUVENILES  https://t.co/b9AaMvEANT\n",
      "1415461058198843394 2021-07-14 18:59:48 -0500 <JohnDra93154435> @mcrae_maree It turns out one of them has a kidney stone which has nothing to do with being vaxxed. The other with the severe headache went to the doctor and was given a test for Covid.  Apparently every symptom is now a Covid symptom.\n",
      "1415461056906936325 2021-07-14 18:59:48 -0500 <cestleouss> Ca fais longtemps on a pas eu le loyer skinny &gt;&gt;&gt;&gt;gechar le covid a eu raison d’eux\n",
      "1415461056588050435 2021-07-14 18:59:48 -0500 <marklaverdure> #coronavirus is coming back big, glad I got my vaccine. #GetVaccinatedASAP\n",
      "1415461055812313088 2021-07-14 18:59:48 -0500 <Sliiim_Ty> Finna build my friendships back up COVID made me an introvert and I’m finna change that\n",
      "1415461054998528000 2021-07-14 18:59:48 -0500 <CriseCom> L'avant-projet de loi incorporant les nouvelles mesures sanitaires annoncée par Emmanuel Macron lundi est actuellement soumis au Conseil d'État. Le texte prévoit un élargissement du placement à l'isolement à toute personne positive au Covid-19…  https://t.co/ZY8wDyn08h\n",
      "1415461053413171201 2021-07-14 18:59:47 -0500 <ShortyKatyK> Friends niece died from Covid today don’t let anyone tell you this pandemic is over.\n",
      "1415461052855332865 2021-07-14 18:59:47 -0500 <yoshiokaKitty> Hoje era pra ser um dia de pura alegria. Mas a COVID infelizmente tirou de mim e de muita gente um cara excepcional. Marcão foi meu professor, colega de trabalho e amigo. Foi uma das melhores pessoas que eu tive a sorte de conhecer e de trabalhar junto. Eu n to acreditando ainda.\n",
      "1415461050720325633 2021-07-14 18:59:47 -0500 <thecaliforn> Silverchair's Daniel Johns reveals he's stepped away from music after struggling during Covid  https://t.co/vzR8gCPTot\n",
      "1415461047784333313 2021-07-14 18:59:46 -0500 <MasaDiamond_> just survived ‘ifrs 16 for covid impact’ and now ‘strike impact’ is about to destroy my p*ssy 😍\n",
      "1415461046953791491 2021-07-14 18:59:46 -0500 <Rohmahdg> @st_nurjanahh @jokowi Amiinnn,,, bismillah Yuk bisa Yuk Indonesia lawan Pandemi dengan  Vaksin Covid-19\n",
      "1415461046819635202 2021-07-14 18:59:46 -0500 <pmoneyballer41> I will say it’s a good thing I started living a healthier more active lifestyle right before the pandemic hit and lost 115 pounds cause who knows how much worse my symptoms and this covid could’ve hit me…thank god I am now 100 percent better and easy to move on with my life\n",
      "1415461045968285699 2021-07-14 18:59:46 -0500 <IAN40439609> #EstasAcabadaShembaum Alguien vio alguna foto o video do de aparezcan los dizque médicos, atendiendo a los entonces enfermos de Covid?  No sé engañen, no fueron médicos, sino activistas para enseñar a López, técnicas para implantar el socialismo.   https://t.co/fMma6KkBHn\n",
      "1415461045951373315 2021-07-14 18:59:46 -0500 <duskywhalerkate> Perks of online learning - you get to show off your pets 🐈‍⬛🥰  #learning  #COVID19  #COVID19Aus  https://t.co/qglOfZ3SGk\n",
      "1415461045833973761 2021-07-14 18:59:45 -0500 <o0oCLauDiaaa> @MrWizar19740423 @thibodeaujr @PeterHotez @brianjrogers Tennessee is 110 % increase...please visit a covid unit and listen to the front liners\n",
      "1415461044974018560 2021-07-14 18:59:45 -0500 <My24hoursnet> Panduan Perawatan, Vitamin dan Obat Saat Isolasi Mandiri COVID-19 Gejala Ringan    https://t.co/RCtFcdmpGq  #MY24 #kesehatan #info #vitamin #obat #isoman #COVID19\n",
      "1415461044726558720 2021-07-14 18:59:45 -0500 <dolphino_14> @is_pelssy dan sy nungguin TKA China segitu banyak apa kabar mrk di sini, ada lonjakan covid gak di tmpt mrk beraktivitas?\n",
      "1415461044323950595 2021-07-14 18:59:45 -0500 <Legen_darium> Donde vivo el día 11 se llevaron a un grupo grande de gente con “covid”, viraron hoy día 14, dieron negativo.  Llámenme loco pero estoy bastante seguro desde hace tiempo que los cogen para contra protestas\n",
      "1415461041895444482 2021-07-14 18:59:45 -0500 <corsoyard> El virus covid-19 está causando graves consecuencias en la economía global y, nosotros no somos la excepción. Este proyecto de microfinanciación es para la recomponer nuestro taller. ¡Muchas gracias de antemano, por su colaboración!   https://t.co/bKxIhWiKHY\n",
      "1415461040515555328 2021-07-14 18:59:44 -0500 <danielalmarbawi> Kat mana² tempat aku tengok, selalu jer ada baju merah ni duk bantu orang.   Bukan time covid ni jer, masa banjir haritu depa jugk yg kelihatan.   Dah lah buat takde gaji. Pastu, masa dan tenaga dikorbankan demi masyarakat yg ditimpa kesusahan.   Respect abam baju merah.  https://t.co/C0h5OvuX4g\n",
      "1415461040486162437 2021-07-14 18:59:44 -0500 <noplasticc> 🥲🥲🥲 te odio covid  https://t.co/1UKZWt8ai0\n",
      "1415461038045073410 2021-07-14 18:59:44 -0500 <namsan49> COVID19党のCOVID19選挙資金パーティーに参加\n",
      "1415461037223120900 2021-07-14 18:59:43 -0500 <scottyfroggatt> @needmorefiat @celticstrass16 @PoliticsForAlI @thetimes Why do we need to get tested for both? Surely you just need to get tested for covid to know it’s either one or the other\n",
      "1415461035629334534 2021-07-14 18:59:43 -0500 <damifarm> #Argentina #COVID19    https://t.co/p28jmbbmaF\n",
      "1415461035511844865 2021-07-14 18:59:43 -0500 <AlexJonesBond1> TREMENDO DOCUMENTAL CRONOLÓGICO DE LOS #100milmuertos  Argentina superó los 100 mil muertos por COVID-19: las voces y los hechos de una tragedia sin precedentes - Infobae  https://t.co/zasUOIuOm7\n",
      "1415461034802954240 2021-07-14 18:59:43 -0500 <SquirgeC> ‘We didn’t want to be in the news’: Pastor pleas for ‘mercy’ after 125 in his ‘masks optional’ summer camp get Covid - Optional #Optional -   https://t.co/LBEnzeUptj\n",
      "1415461033095933955 2021-07-14 18:59:42 -0500 <natitrina0806> #COVID19 ha traído muchas repercusiones a la salud mental de muchos adultos mayores.   Duele ver cómo se ha apoderado el pánico por salir, por hacer vida social, aún estando vacunados.   Duele de verdad. Dios tenga misericordia.\n",
      "1415461030814175236 2021-07-14 18:59:42 -0500 <LxivPollo> @clarincom El silencio es salud, de militar a favor del COVID como clarin y sus empleados de jxc no se vuelve , genocidas pro\n",
      "1415461030579384332 2021-07-14 18:59:42 -0500 <AguilaGator> @JerryDunleavy “Desantis killed 2 million Floridians with Covid. The Florida population is 21 million. He could have killed each Floridian 1 million times and still have Covid left over for killing.”\n",
      "1415461026732990468 2021-07-14 18:59:41 -0500 <CSmieataka> 日本も　#アストラ　のワクチンとmRNAワクチン併用を利用すればいいと思う。手持ちのワクチンを有効利用し摂取を促進すべきだ。#COVID19\n",
      "1415461025940377602 2021-07-14 18:59:41 -0500 <fallinghabits28> @arthurpicoli As pessoas morrendo de covid e ele disse que não é coveiro, como ter empatia com um monstro desses???\n"
     ]
    },
    {
     "name": "stdout",
     "output_type": "stream",
     "text": [
      "1415461025189617667 2021-07-14 18:59:41 -0500 <meredithtupper> U.S. health official says COVID-19 boosters could risk more serious side effects  https://t.co/j9McQq540b\n",
      "1415461022610214912 2021-07-14 18:59:40 -0500 <tommlcst> cette vidéo comment c’est trop covid 2020\n",
      "1415461021536432130 2021-07-14 18:59:40 -0500 <Alejand37987845> #AMLOBurlaAEstudiantes al decir que los jóvenes son inmunes al virus de COVID y las autoridades @SSalud_mx , @lopezobrador_ @GobiernoMX están de acuerdo.  https://t.co/4z0qF68fUf\n",
      "1415461021158871042 2021-07-14 18:59:40 -0500 <ChoppedOutMusic> @RealRickGlaser1 @ARTMANBOXING Doesn't change the fact that he still has to quarantine for 10-14 days...  And it's not even close to that....second...how do u know he al of a sudden is covid free sir\n",
      "1415461020974436352 2021-07-14 18:59:40 -0500 <gtoklm_> Ma vie reprendra du sens quand il y’a aura plus de covid\n",
      "1415461020680609796 2021-07-14 18:59:39 -0500 <golf_covid_19> 泣いたりキレたり忙しいですね。\n",
      "1415461020206776322 2021-07-14 18:59:39 -0500 <GabrielPrediger> Passar as ferias com covid que delicinha\n",
      "1415461017967075328 2021-07-14 18:59:39 -0500 <PolitiFun2012> @FurburgerMayor I got many side effects: sore, swollen and red arm; fever, body aches, chills. What I didn’t get: Covid.\n",
      "1415461017195368451 2021-07-14 18:59:39 -0500 <farronigf> ARGENTINA PUEDE Y TIENE QUE FABRICAR VACUNAS INACTIVADAS (BARATAS, POCA RESPUESTA VACUNAL) QUE PERMITE INCORPORAR RAPIDO CUALQUIER CEPA NUEVA DE CORONAVIRUS QUE APAREZCA..(O DE CUALQUIER VIRUS NUEVO )  https://t.co/fXiSrqAkF4  https://t.co/D5gUr6770w\n",
      "1415461017094664200 2021-07-14 18:59:39 -0500 <selmaot5> i fucking hate covid it sucks so bad\n",
      "1415461015224000515 2021-07-14 18:59:38 -0500 <jsende> Perhaps the biggest blind spot amongst so many liberals in the media is recognizing how much credibility was incinerated when last year’s protests were granted an exemption from the COVID strictures that were applied to literally every other form of human experience.\n",
      "1415461014275977216 2021-07-14 18:59:38 -0500 <okezonenews> Kisah Sopir Ambulans Covid-19, Merasa Bersalah dan Menyesal jika Tak Bisa Selamatkan Pasien  #LengkapCepatBeritanya #BeritaTerkini  .  https://t.co/wQa5kgMB5b\n",
      "1415461013042860032 2021-07-14 18:59:38 -0500 <TheShane73> @cokeefe9 @9NewsAUS Imagine if there was a cheap, effective drug, that was a WHO listed essential medicine, had over 4 billion doses worldwide, had been proved to be safe after 40 years of use, and it could beat #COVID.  There is. We should all know about it.  #COVID19nsw    https://t.co/Qia1ZYrawe\n",
      "1415461012493504516 2021-07-14 18:59:38 -0500 <MVPizzle> Now that I got delta covid after being vaccinated I should never get sick again… right…….. right?\n",
      "1415461011545628680 2021-07-14 18:59:37 -0500 <MTYawewe> @javierehdz 4.- y lo del covid  Definitivamente ya urge que empiece la temporada\n",
      "1415461011277160450 2021-07-14 18:59:37 -0500 <notidesalta> Quién es Olivia Rodrigo, la cantante elegida por Joe Biden para que los jóvenes se vacunen contra el Covid  https://t.co/2bg9MqdlAd\n",
      "1415461008462778370 2021-07-14 18:59:37 -0500 <KorryWhite> @BorisJohnson Boris Johnson a swirl of scandals. COVID-19 a boon for Boris Johnson.\n",
      "1415461007342850051 2021-07-14 18:59:36 -0500 <alien_merchant> \"#Netflix's #HauntingOfHillHouse will bring its ominous presence to #Halloween #Horror Nights 2021… #Coronavirus  https://t.co/BTPQp58cx8\n",
      "1415461006109773827 2021-07-14 18:59:36 -0500 <baargareca_> Si está humedad me tiene tan mal literal no puedo respiraaaar y los paf no sirven para nada. Me llega agarrar este bicho del covid y chau bar, nos vemos en el infierno amigas 😂\n",
      "1415461004725690369 2021-07-14 18:59:36 -0500 <velia_psique> 🤔 - \"va pa'largo...😷\"  Afortunadamente somos privilegiados, pues ESTAMOS VIVOS,  y eso gracias a que nos SEGUIMOS y SEGUIREMOS  CUIDANDO 😷 ...  #COVID19  #TerceraOla  #14dejulio\n",
      "[!] No more data! Scraping will stop now.\n",
      "found 0 deleted tweets in this search.\n"
     ]
    }
   ],
   "source": [
    "twint.run.Search(c16)"
   ]
  },
  {
   "cell_type": "code",
   "execution_count": 69,
   "metadata": {},
   "outputs": [],
   "source": [
    "tweetsBegJul = pd.read_csv('covidtweetsBegJul.csv')"
   ]
  },
  {
   "cell_type": "code",
   "execution_count": 70,
   "metadata": {},
   "outputs": [
    {
     "data": {
      "text/plain": [
       "(99, 36)"
      ]
     },
     "execution_count": 70,
     "metadata": {},
     "output_type": "execute_result"
    }
   ],
   "source": [
    "tweetsBegJul.shape"
   ]
  },
  {
   "cell_type": "code",
   "execution_count": 73,
   "metadata": {},
   "outputs": [],
   "source": [
    "c17 = twint.Config()\n",
    "\n",
    "c17.Search = \"covid OR coronavirus OR COVID-19\"\n",
    "c17.Lang = \"en\"\n",
    "c17.Since = \"2021-07-16\"\n",
    "c17.Until = \"2021-07-31\"\n",
    "c17.Limit = 5000\n",
    "c17.Store_csv = True\n",
    "c17.Output = 'covidtweetsEndJul.csv'"
   ]
  },
  {
   "cell_type": "code",
   "execution_count": 74,
   "metadata": {},
   "outputs": [
    {
     "name": "stdout",
     "output_type": "stream",
     "text": [
      "1421259310244450305 2021-07-30 18:59:59 -0500 <AgenciaJdre> Requisitos para viajar con corte 30 de julio   #atentoviajero #viajeroinformado #viajaseguro #viajesjdre #covid19 #vacúnate en Pereira Capital del Eje  https://t.co/fHl5D3Xppi\n",
      "1421259309661310977 2021-07-30 18:59:59 -0500 <LesStonehouse> Major update now from Qld government. #COVID19. Sounds bad.\n",
      "1421259308671684609 2021-07-30 18:59:59 -0500 <titoxpress> JACOB DESVARIEUX DEAD AT 66 YEARS OLD  It is with sadness we announce the passing of Jacob Desvarieux, co-founder of the internationally famous band, Kassav. He was hospitalized due to COVID complications. Jacob Desvarieux was a world music icon and will…  https://t.co/3LqyeYxxvR  https://t.co/96pUJQw5nc\n",
      "1421259308164075527 2021-07-30 18:59:59 -0500 <PLZgoDIEE> @TheJudasCradle I was surprised Wrecking ball didn't get canceled. I don't have hope for much after mid August. My friend just died from covid last night. Still here still spreading\n",
      "1421259307899785217 2021-07-30 18:59:59 -0500 <beccarala> @angesbiz A complete failure by #ScottyFromMarketing - wastes billions on outsourcing govt, and can't even communicate the dangers of Covid :  https://t.co/fmP0unh56O\n",
      "1421259304808615937 2021-07-30 18:59:58 -0500 <poeticpotion111> A motorcycle accident is not covid.  A heart attack is not covid.  Diabetes is not covid.   Allergies are not covid.   A cold is not covid.   Flu is not covid.\n",
      "1421259302816342022 2021-07-30 18:59:58 -0500 <nancy_tuttle> @FoxNews Why is nobody giving us the # of people who got the delta variant who already had covid\n",
      "1421259301671346177 2021-07-30 18:59:57 -0500 <Minuteman04> I think the next #COVID mutation that turns up should be named the DeSantis Variant. It's an honor he richly deserves.\n",
      "1421259301121716225 2021-07-30 18:59:57 -0500 <BurkeHellibee> @james00000001 @trishola2 @deniseshrivell I expect there’s been talk of preparing the community to live with covid in the post vaccination phase. Might have been a better idea to talk about it without letting a major outbreak get out of control\n",
      "1421259301012840450 2021-07-30 18:59:57 -0500 <CupcakeMrs1> Don’t just focus on THIS!!!! Abbott is preventing Hospital employees like Parkland Hospital in Dallas from requiring covid vaccines!!! They are placing patients and workers who are vaccinated in danger!!!\n",
      "1421259300085944321 2021-07-30 18:59:57 -0500 <Andreswatsonok> COVID 19 | REPORTE DIARIO   Continúa avanzando el plan de vacunación más grande de la historia.    Si todavía no te inscribiste descargate la APP #VacunatePBA o ingresá a  https://t.co/r8vCwfXABI.  https://t.co/L7VdPLT8eB\n",
      "1421259300010397698 2021-07-30 18:59:57 -0500 <newsfilterio> Dr. Scott Gottlieb estimates up to 1 million Americans infected with Covid daily as delta spreads $PFE $ILMN $NCLH $RCL  https://t.co/dwHlCBgwI6\n",
      "1421259299909685250 2021-07-30 18:59:57 -0500 <Jolieeast_miji> #Lollapalooza2021 free on #Hulu You can watch it live without worrying about getting COVID like the ppl in Chicago 🤣 Roddy Rich up next\n",
      "1421259293337079809 2021-07-30 18:59:55 -0500 <DarickR> \"I think people need to understand that we're not crying wolf here. This is serious,\"   \"Last month, a study showed that over 99% of Covid-19 deaths had been among the unvaccinated—99%,\" https://t.co/1N1Q2KZKbv  https://t.co/Y1dSffxLEM\n",
      "1421259291177230341 2021-07-30 18:59:55 -0500 <enoughi17064028> @LMorningstsr @tracydcurtis @RitchieJune @monikaplaha What on earth is a vaccine denier?   Most children have virtually zero risk from covid.  You have to feel sorry for the parents who are so willing to give them this jab.  I'm not against vaccinations for something truly dangerous.\n",
      "1421259290413776896 2021-07-30 18:59:55 -0500 <danut1z> Mal posao esperar pra ta todo mundo vacinado e num futuro distante onde ninguém lembra da covid, e começa a tocar na festa um remix do remix do pongo coquinha gelada 🥺🥺🥺\n",
      "1421259290061557765 2021-07-30 18:59:55 -0500 <rzzlcdzzlc> noooo im so sad they all back out of the fan fest thingy bc of covid concerns :(\n",
      "1421259289688039425 2021-07-30 18:59:55 -0500 <DarickR> \"The delta variant of the coronavirus appears to cause more severe illness than earlier variants and spreads as easily as chickenpox, according to an internal federal health document that argues officials must “acknowledge the war has changed.\"  https://t.co/ekDxSKFBRy  https://t.co/eYpAhToFuU\n",
      "1421259288593399814 2021-07-30 18:59:54 -0500 <datadrivenmom1> @SanDiegoCounty @CAgovernor @CAPublicHealth R the cases be scrubbed for miscounting +cases for pt's who retested w/in the 90 day period b/c standard hospital procedures for admission is to test for #covid. A pt who was admitted 2nd time for non-covid related but still tested +\n",
      "1421259288371101697 2021-07-30 18:59:54 -0500 <EpicDadMaster> @Karensk8ergirl @TroyBeagley @washingtonpost Biden literally said 2 weeks ago, if you get vaxxed you won't get covid. C'mon man.\n",
      "1421259287993663493 2021-07-30 18:59:54 -0500 <TOLGA68567727> yerine simülatörlere güveneceğiz. Covid aşısında da milyarlarca RNA dizisini test etmek için bir bilgisayar kullandılar. Deep Mind , protein şekillerini listelemenin olağan metotlarını kullanmadı ve simülasyonlar oluşturarak öğrendi.+\n",
      "1421259286601080833 2021-07-30 18:59:54 -0500 <DarickR> \"Despite the current surge in COVID-19 cases caused by the delta variant of the virus, Texas Gov. Greg Abbott has vowed to not put in any more restrictions aimed at lowering the spread of the disease.\"  https://t.co/lMuixtQ6sh  https://t.co/1Dm5NuzTm6\n",
      "1421259283769999362 2021-07-30 18:59:53 -0500 <PluralVeracruz> Debido a consulta popular suspenden vacunación contra COVID-19 hasta el lunes  https://t.co/hZFurFxR44\n",
      "1421259283698655232 2021-07-30 18:59:53 -0500 <funinthesuninaz> WHERE IS THE OUTRAGE FOR THIS? 50% OF THE PPL IN THE HOSPITAL W/COVID ARE VAXXED.  THE MAKERS OF THE 1st  POLIO VAX WERE NEARLY STRUNG UP FOR KILLING OUR CHILDREN!  WHY IS NO ONE DEMANDING THIS STOP?  QUIT KILLING OUR CHILDREN!\n",
      "1421259283451158532 2021-07-30 18:59:53 -0500 <NoziaSayyed> This is critical!! We need to end this, get vaccinated! #Delta #Lambda #alpha #COVID19 #WHO @DrTedros\n",
      "1421259282742394882 2021-07-30 18:59:53 -0500 <TheJacBernhard> so pandemic unemployment insurance is about to run out and vaccinated people are getting covid hhhhhhhHHHHHHMMMMmmm\n",
      "1421259281710596096 2021-07-30 18:59:53 -0500 <soit_goes> Can't wait for Monday when Lori blames the COVID increase on everyday people instead of taking responsibility for Dr.Arwady &amp; her own poor decision making.\n",
      "1421259281513463809 2021-07-30 18:59:53 -0500 <Martin_rayad2> @kmolv Yo tuve covid me vacune y si tuve reacción creo que ya depende de cada sistema inmune, espero que en la segunda dosis ya no tenga reacción👍\n",
      "1421259280926183427 2021-07-30 18:59:52 -0500 <sethamin> I'm never confident that what I want to happen in politics will happen, but DeSantis is winning reelection, &amp; it won't be close.  IMO, Florida could become the worst covid state statistically, &amp; he'd still win. People really, really like being able to make their own decisions.\n",
      "1421259280829849607 2021-07-30 18:59:52 -0500 <SherryBrownEdw> @CooperCarsen @CalicoCalista @SenTedCruz I hope you continue to be Covid free. I just feel like the odds are against you.\n",
      "1421259280255266819 2021-07-30 18:59:52 -0500 <sigbf> Maladie à Coronavirus (COVID-19) au Burkina Faso : 07 nouveaux cas confirmés, 06 guérisons et 00 décès enregistrés à la date du 29 juillet 2021.   #Com_Gouv_BF #coronavirus  #COVID19  https://t.co/BGE4wLJWQj\n",
      "1421259279777083402 2021-07-30 18:59:52 -0500 <pointofnews> #covid, in #brasile quasi 41mila nuovi casi e 963 decessi in 24 ore.  Leggi su:  https://t.co/Z1S0jzTV5s\n",
      "1421259278975848454 2021-07-30 18:59:52 -0500 <smileyjared> @TheLucasBlack Herd immunity only works with more people carrying antibodies.  Vaccines work really well currently against covid and the Delta variant.  Covid is rampant among unvaccinated.  They can still give covid to a few with antibodies.  Mutations occur, now vaccinated not protected.\n",
      "1421259278032195584 2021-07-30 18:59:52 -0500 <nuevoarte2020> @VTVcanal8 Ese es el H.A.A.R.P. que usan los gringos para provocar sismos de alto calibre.Vienen usando esa máquina desde hace años. La usan para hacer daño y causar terror en el mundo entero. También han sido los que esparcieron el virus COVID Y  SUS CEPAS Y VARIANTES\n"
     ]
    },
    {
     "name": "stdout",
     "output_type": "stream",
     "text": [
      "1421259277138808837 2021-07-30 18:59:52 -0500 <sami_baaj> @PqGregor @stvlprd @ZubyMusic ...and this is what the COVID-19 vaccine does. The vaccine simply reads the information in the DNA and then produces the mRNA, which \"will not go into the nucleus but instead will simply go to the ribosomes, which in turn will manufacture the spike protein.\"\n",
      "1421259276807409669 2021-07-30 18:59:51 -0500 <jaimegonek> I can’t express just how happy it makes me that the winner of the first Alberta Covid lottery was a retired teacher. Gee I wonder why the UCP didn’t plaster that all over???? #CovidVaccine #COVIDAB #vaccinelottery\n",
      "1421259275968466945 2021-07-30 18:59:51 -0500 <mreddy940> @OGLeveledUp Man listen these covid cases rising back up December about to be all closed down again at this rate gg\n",
      "1421259275200917508 2021-07-30 18:59:51 -0500 <MichaelEatsMeat> @sarajensen @Combat__COVID He’s a pretty busy guy.\n",
      "1421259274379010048 2021-07-30 18:59:51 -0500 <HotViralNews1> Tokyo Olympics: Trinidad and Tobago long jumper and hurdler withdraw after positive Covid tests  https://t.co/X358Z4ZjJV\n",
      "1421259274165137408 2021-07-30 18:59:51 -0500 <TWMCLtd> Other Euro countries' #Covid19 new cases round up  #Albania 37 (+6) #Andorra 23 (-11) #Bosnia 45 (+9) #Croatia 170 (-6) #Iceland 125 (+38) #Kosovo 70 (+51) #Luxembourg 54 (-49) #Malta 111 (-61) #Moldova 154 (+35) #NorthMacedonia 74 (+38) #Montenegro 143 (+79) #Romania 153 (+51)\n",
      "1421259272827150336 2021-07-30 18:59:51 -0500 <xxrsfl_> eu nem conheço muito o @phcastroalves , mas eu tô tão feliz pela recuperação dele, tô tão agradecida a Deus por fazer ele vencer esse vírus que nossa não sei oq falar, acho q qnd se perde alguém pro covid, vc fica meio assim mesmo..\n",
      "1421259272734785541 2021-07-30 18:59:50 -0500 <Sailorchronos> @KenJohnsonUSA @princeuthmon The vaccine does not always prevent you from getting Covid. It lessens the chance that you might get it, as well as lessening the effects of the virus.\n",
      "1421259270792876032 2021-07-30 18:59:50 -0500 <dallasjo999> if i got fucking covid from a 2 year old 3 DAYS BEFORE MY WISDOM TEETH SURGERY i’m burning shit down\n",
      "1421259267940651009 2021-07-30 18:59:49 -0500 <ColinMorgan65> \"If you have not been vaccinated, and you have not had COVID before, you will get the delta variant,\" Giroir argued. \"This is so infectious that you will get it.\"   https://t.co/U6xqvZVM68\n",
      "1421259266782945283 2021-07-30 18:59:49 -0500 <naganegiotok0> Tokyo 2020: What's happening with Covid cases in Japan? - BBC News  There is nothing under control in Japan.  https://t.co/Q0ej0noQmJ\n",
      "1421259265935806465 2021-07-30 18:59:49 -0500 <extasiarr> @aalanacastro O mark foi um escroto c a lc (ela tem asma tava c medo do covid entao n queria sair c ele se ele tivesse saindo c outras, e ele disse que n era disso q so tav c ela, e na vdd tava c umas 6 kkkk) e a amber defendeu ele e foi super escrota c a lc (q pegou covid e as outras tb kk)\n",
      "1421259265579290625 2021-07-30 18:59:49 -0500 <quintanaroonews> #Entérate Récord de vacunación en #Chetumal Se agotaron las vacunas contra el #COVID19 para jóvenes de 18 años. En el último día de vacunación cientos de jóvenes se quedaron esperando la primera dosis de AstraZeneca.  https://t.co/TwSnSIUGyf\n",
      "1421259265562583043 2021-07-30 18:59:49 -0500 <simiwidit> @theloveofdani lmao some covid coupons!!\n",
      "1421259265147240449 2021-07-30 18:59:49 -0500 <EARL_COVID19_tw> 東京都 繁華街で予約不要のワクチン接種を検討 若い世代向けに  https://t.co/PRpSS8uO5H\n",
      "1421259264773955585 2021-07-30 18:59:49 -0500 <HaLuetty> アビガンどうなの？イベルメクチン承認される見通しは？参考に  COVID-19の治療update 2021年7月版 | Antaa Slide  https://t.co/ZwKC5BQn6h\n",
      "1421259264404852737 2021-07-30 18:59:49 -0500 <Ranbato> Some countries did not need any Olympics to make a #COVID19 mess.  https://t.co/bkzEtqOiVc\n",
      "1421259263947780102 2021-07-30 18:59:48 -0500 <flossie_mae81> @laurenboebert @RepBoebert the CEO of one of the hospitals in your district is embarrassed you rep them! \"If you're going to take a stance on healthcare policy you should know something about healthcare policy\"  Your district is a covid hotspot! #VoteBlue2022\n",
      "1421259263750590464 2021-07-30 18:59:48 -0500 <babyfoxsparrow> LIKE THEY PROMISED THIS AND NOW THEYRE SAYING “this is a disgusting disregard for people who have died of covid” disney is RIDICULOUS\n",
      "1421259263628832769 2021-07-30 18:59:48 -0500 <HahaSnuffel> @BelfreyJessica @richardbellamy @MountvSimon My point was to say do some research of your own, no condescending intention. My opinion is my opinion and everyone should be researching the facts not just the headlines to gain a fully informed view of their own. This covid mess is more then just the a surface illness.\n",
      "1421259262165139462 2021-07-30 18:59:48 -0500 <Terav_Esty> @RichardClegg522 @fact_covid Is this a cover to account for the predicted sickness the current vaxed will experience?\n",
      "1421259261968007174 2021-07-30 18:59:48 -0500 <tinky2021> @WhyYouBmad @DaFreezer1 @nytimes No, the vaccine is to keep you from becoming seriously ill and dying. When they found out it stopped the transmission in the first version of Covid that was just a bonus. Then Delta came along and changed everything.\n",
      "1421259261464637441 2021-07-30 18:59:48 -0500 <Smoker15960809> @FoxNews I think you're fine that trying to mandate the shots and trying to vaccinate people will cause more death than covid did.  If the shot works leave the people alone that don't want the shot and the people that have the shot shouldn't worry about the ones that don't\n",
      "1421259259828965378 2021-07-30 18:59:47 -0500 <ginnyhansen7> @marcorubio Florida averaging 10000 new Covid cases per day is mind boggling. All of Canada had 890 today. You might want to rethink your mask wearing opinion  to save the lives of the people in your State.\n",
      "1421259259799560193 2021-07-30 18:59:47 -0500 <sparticus115> Like any of us Trust the Government…More reasons not too… https://t.co/4g0p6kxoff … #COVID lies…😡\n",
      "1421259259363446793 2021-07-30 18:59:47 -0500 <dah_sun> je m’y f’rais jamais à « la Covid 19 » 😭🙄\n",
      "1421259258075693064 2021-07-30 18:59:47 -0500 <TomSilverstein> New from JSOnline and PackersNews: Aaron Rodgers dazzles on third-and-goal plays, Packers lag in COVID vaccines and more from training camp  https://t.co/JVRHbCIgpH #Packers\n",
      "1421259257186594818 2021-07-30 18:59:47 -0500 <grankoff> Коронавирус COVID-19 - Информация | Посольство и консульства США в Российской Федерации  https://t.co/tYliZVVMpx\n",
      "1421259256561500162 2021-07-30 18:59:47 -0500 <advocacy_africa> Sunday theme:    Empower people living with TB to fight COVID-19, HIV and Malaria. Don't allow TB and COVID-19 to prevail. #StopTBPartnership  https://t.co/CkHwkaa0bM\n",
      "1421259256385327107 2021-07-30 18:59:47 -0500 <sukunassgf> I just know COVID is having a field day at LOLLAPALOOZA rn\n",
      "1421259255827603459 2021-07-30 18:59:46 -0500 <Ruthbarbetta> opinion: The lies and stupidity continue…    #MAGA   CDC warns in internal document that 'war has changed' with the coronavirus  https://t.co/YujvnMMCeL via @nbcnews\n",
      "1421259254258929670 2021-07-30 18:59:46 -0500 <ProfKJM> Love this cartoon. #COVID19  https://t.co/61g6p4XLsJ\n",
      "1421259253646467080 2021-07-30 18:59:46 -0500 <thejoshorton> @BakerHugh @GovRonDeSantis There's over 60 million kids in this country between ages of 5 and 18. 282 deaths nationwide from covid in that same age group. That's less than a 0.00047% from dying of covid in that age group. They'll be ok.\n",
      "1421259253579403269 2021-07-30 18:59:46 -0500 <ArturoErdely> #COVID19mx Actualización del #ExcesoDeMortalidad según último informe de @SSalud_mx  «Por diversas causas» incluye no covid y casos covid que no pudieron identificar en actas de defunción, pero aun esos casos no covid también son víctimas indirectas de la epidemia.  https://t.co/ESPOk9SeI0\n",
      "1421259253289943040 2021-07-30 18:59:46 -0500 <55_Boots> I think the main reason people are against the AB COVID changes is because we’ve become addicted to the daily numbers. WTF are we going to do every day at 3:30  without knowing how many people have a new mild cold?\n",
      "1421259253218693120 2021-07-30 18:59:46 -0500 <Indpthinker> @LaserShow03 @blankslate2017 @KFILE Are you against school dress codes too? I see masks as dress code rule that just prevents the spread of COVID.\n",
      "1421259253176803328 2021-07-30 18:59:46 -0500 <JasynicXo> So their response was…so you not gonna think about covid sis 😂 got ya Disney 🤦🏽‍♀️ that ain’t an answer lol\n",
      "1421259253113892867 2021-07-30 18:59:46 -0500 <LeeJay14_> I don’t understand how people don’t realize the covid vaccine doesn’t necessarily prevent you from getting covid.. but it does prevent you from DYING from covid 🤦🏽‍♂️\n"
     ]
    },
    {
     "name": "stdout",
     "output_type": "stream",
     "text": [
      "[!] No more data! Scraping will stop now.\n",
      "found 0 deleted tweets in this search.\n"
     ]
    }
   ],
   "source": [
    "twint.run.Search(c17)"
   ]
  },
  {
   "cell_type": "code",
   "execution_count": 75,
   "metadata": {},
   "outputs": [],
   "source": [
    "tweetsEndJul = pd.read_csv('covidtweetsEndJul.csv')"
   ]
  },
  {
   "cell_type": "code",
   "execution_count": 76,
   "metadata": {},
   "outputs": [
    {
     "data": {
      "text/plain": [
       "(72, 36)"
      ]
     },
     "execution_count": 76,
     "metadata": {},
     "output_type": "execute_result"
    }
   ],
   "source": [
    "tweetsEndJul.shape"
   ]
  },
  {
   "cell_type": "code",
   "execution_count": 81,
   "metadata": {},
   "outputs": [],
   "source": [
    "c18 = twint.Config()\n",
    "\n",
    "c18.Search = \"covid OR coronavirus OR COVID-19\"\n",
    "c18.Lang = \"en\"\n",
    "c18.Since = \"2021-08-01\"\n",
    "c18.Until = \"2021-08-15\"\n",
    "c18.Limit = 5000\n",
    "c18.Store_csv = True\n",
    "c18.Output = 'covidtweetsBegAug.csv'"
   ]
  },
  {
   "cell_type": "code",
   "execution_count": 82,
   "metadata": {},
   "outputs": [
    {
     "name": "stdout",
     "output_type": "stream",
     "text": [
      "1426695127439974411 2021-08-14 18:59:59 -0500 <Jorge_jacob_> Sheiii covid relaxa la um bocado e deixa-me voltar a ter paladar se faz favor\n",
      "1426695127439974403 2021-08-14 18:59:59 -0500 <jocortazar> @soldelacruz75 2, uno porque mi mamá pensó que ella se había agarrado covid (fue una gripe fuerte) y el segundo para viajar\n",
      "1426695125309091842 2021-08-14 18:59:59 -0500 <MichelleKoon1> Delta variant causing COVID-19 cases to spread 'like wildfire' in Washington  https://t.co/cS91QuxHg4 via @KING5Seattle\n",
      "1426695125284098057 2021-08-14 18:59:59 -0500 <sophielhammond> .@POTUS @BorisJohnson @emmanuelmacron @palazzo_chigi @EUCouncil @RegSprecher @ScottMorrisonMP the world needs #COVID vaccine access now. The #G20 must step up to ensure #VaccineJustice for all by sharing 1 billion doses through COVAX by September and 2 billion by the end of 2021.\n",
      "1426695124717821958 2021-08-14 18:59:59 -0500 <BornThisWay1966> #onpoli #OntarioHasNoLeadership #MandateVaccines #VaccinePassports #Covid_19 #VoteFordOut2022\n",
      "1426695121228099584 2021-08-14 18:59:58 -0500 <Hughjusttweeted> Republican leaders fiddle while Covid burns through their own supporters  The most accurate headline I've seen recently #DeathSantis #AbbottFailedTexasAgain   https://t.co/XnVrXgHJV4\n",
      "1426695120343257092 2021-08-14 18:59:58 -0500 <PaulKingsley7> NHL considering not paying unvaccinated players if they miss games with COVID-19  via @TheAthletic   https://t.co/yYMnlhowWE\n",
      "1426695119181271044 2021-08-14 18:59:57 -0500 <snickerdoodl3> @vashvn @CryptoQuxxn @MeBitchigotTime theres no live virus in the vaccine! please please please go read an article about the vaccine or mrna vaccines in general. you cant get covid FROM the vaccine. you can still get covid even if youre vaccinated bc vaccines arent 100% effective. thats why we need everyone to get it\n",
      "1426695118388662276 2021-08-14 18:59:57 -0500 <maximayer19> @farmaceuticoac1 @PolucionBogota El efecto de la vacuna dura 6 meses y luego se diluye, a mi me quedo claro me dieron el alta el 27 de enero de mi covid, me vacuno con moderna 27 de julio tengo episodio como el primer covid pero con un ritmo cardiaco de 120 latidos por minuto.  https://t.co/yYPe8DjrSY\n",
      "1426695118166183940 2021-08-14 18:59:57 -0500 <WBG1955> @rainey_knight @BelindaJones68 @David_Speers Ditto…I remember the fruit checking every time we crossed Qld/NSW border. Showing verification of Covid injections is a small action to keep Australia safe…how pathetic are some people to be focussing on it or objecting to it?\n",
      "1426695116845027329 2021-08-14 18:59:57 -0500 <arielvalentin> Jason Arena(@speakthetruth101) on TikTok: #TeamofTomorrow #covid #vaccine #antivaccine #hypocrisy #foryou #bullshit  https://t.co/qCGR2NmMF2\n",
      "1426695115226206209 2021-08-14 18:59:56 -0500 <zulyykins> I really feel like I have covid lol send help I haven’t gotten tested but I’ve been feeling like pure shit for a whole week and a half\n",
      "1426695114164948992 2021-08-14 18:59:56 -0500 <TownofSandwich> Sandwich COVID -19 Command Team – PSA – Delta Variant #2 - Director of  Health David Mason and Chief Burke update on planning in response to the Delta Variant and the upcoming fall season.  https://t.co/Z0FCpFI2un\n",
      "1426695113141592064 2021-08-14 18:59:56 -0500 <sade_spriggs> It’s still “eff COVID” though. And disrespectfully.\n",
      "1426695110033506314 2021-08-14 18:59:55 -0500 <smylflower7teen> To my Filo Carat Moots especially who is living in Northern Luzon please don't forget to wear your mask. There's still Covid 19 virus and also a volcanic smog  coming from the Taal Volcano &amp; Japan volcano.\n",
      "1426695109450551297 2021-08-14 18:59:55 -0500 <SKlop_s> @PaulLD14 @SuicideboyS_Fra @Ln78_kyz @LeFacteuur T’apprends ou tout ce genre de chose ? tu fait t’es recherches quotidiennes ou quelque chose du genre ? la géopolitique m’interesse de fou mais la seule source d’information que je connais sont les infos mais ça parle que vaccin et covid…\n",
      "1426695107709861888 2021-08-14 18:59:55 -0500 <sfana12> Ya Allah aku bernasib baikk.. selalu duk counter n contact with all porters.. n now all of them are positive with covid! Aku nak nangiss!! Huaaaa😭\n",
      "1426695106749288450 2021-08-14 18:59:54 -0500 <tiyanamb> Breaking News, URGENT: We Have a Literal Catastrophe - Antibody Dependent Enhancement DETECTED with COVID-19 -  https://t.co/5sR4qnvBdL\n",
      "1426695106690797569 2021-08-14 18:59:54 -0500 <quietusswain> @IwriteOK A friend who has both Pfizer doses has a not insignificant case of Covid-19 and was turned away at hospitals because they’re at capacity.\n",
      "1426695105927278593 2021-08-14 18:59:54 -0500 <nigelbrown61> @NSWHealth According to ABC News, there are concerns about 'unknown sources' which are transmitting clusters in NSW. Has anyone actually considered the possibility of a targeted campaign by fringe groups/individuals to deliberately spread the Covid Virus? #auspol   @nswpolice\n",
      "1426695105386139652 2021-08-14 18:59:54 -0500 <TheFutureLover> They say hyperbolic things ALL THE TIME, however we've reached a fever pitch in terms of the public attitude regarding \"anti-public-health\" individuals. Just last night, a former friend who has apparently lost a loved one to Covid messaged me angrily out of the blue at 4:30am.\n",
      "1426695102538395652 2021-08-14 18:59:53 -0500 <sears_vs> @BNONews Wow and add to covid\n",
      "1426695100038529027 2021-08-14 18:59:53 -0500 <daveh1170> @1FreshTake I'm surprised Trump didn't suggest using AR-15s as a cure for Covid. Bleach and UV lights are ok, though.\n",
      "1426695099422027778 2021-08-14 18:59:53 -0500 <thinkitcreative> “In the month of August, the US has so far reported more than 1.5 million new cases of Covid-19, more than three times the numbers for Iran and India” This is shocking.  https://t.co/Nng1WURA6Y\n",
      "1426695098427863040 2021-08-14 18:59:52 -0500 <az_resident> @stevennelson899 How about, Inflation, botched vaccine rollout, his son letting Russians steal computer w/ sensitive information, 20% COVID infection rate at border, fall of Kabul, rise in violent crime in cities, homelessness, killing our energy independence, 1,000,000 illegal immigrants\n",
      "1426695094573309954 2021-08-14 18:59:51 -0500 <clos16751> GOP recall front-runner Larry Elder pledges to reverse COVID-19 mask and vaccine mandates - San Francisco Chronicle  https://t.co/0Wir96ywHb\n",
      "1426695093008879617 2021-08-14 18:59:51 -0500 <Princess0fH_ll> I seriously doubt they took COVID-19 seriously.\n",
      "1426695090517463042 2021-08-14 18:59:50 -0500 <VisionariesFree> @PamelaBrownCNN  Good for those that get vaccinated and believe in it. Covid conspiracy theories will always be there unfortunately.\n",
      "1426695088395235330 2021-08-14 18:59:50 -0500 <FlashToso> @amethystb_tch At least better than Trump math, that claims only 15 cases but allows half million COVID deaths!!\n",
      "1426695087048863748 2021-08-14 18:59:50 -0500 <pennyshopgirl> @DearDean22 Earrings from Channel 😐  That one young woman might want to get a covid test, she’s sounding like she’s smoking 3 packs of unfiltered a day 🙄\n",
      "1426695086868291587 2021-08-14 18:59:50 -0500 <sfgrrrl> When it comes to COVID, this may be the best tweet ever.  Thank you, Mark Hamill!\n",
      "1426695086771953664 2021-08-14 18:59:50 -0500 <ny_paralegal> One person stabbed as #COVID19 anti-vaxxers and counterdemonstrators clash in front of #LosAngeles City Hall 👀 @CourtPencil @cintyvoo @adeleatplay #WearAMask  https://t.co/uamBpPNRGK\n",
      "1426695085270261760 2021-08-14 18:59:49 -0500 <boncusho> @JelekJorok @Ndrews110611 mana gebrakan pemprov buat penanganan covid? Jakarta BERUNTUNG semua ada, semua diprioritaskan.\n",
      "1426695084339236864 2021-08-14 18:59:49 -0500 <tweepla> @kljohnsen1 thought a governor that loves spreading deadly covid should enjoy deadly covid himself   some would call that generous 🤷🏽‍♀️\n",
      "1426695081344454657 2021-08-14 18:59:48 -0500 <SamuelPaine1> @Dr_KOConnor @Booker4KY Here's the Iceland covid death rate.  Zero, no mask mandate.  https://t.co/vrcHadOZDi\n",
      "1426695080560185346 2021-08-14 18:59:48 -0500 <Sandra_tuf13> @SenFeinstein @SenAlexPadilla @RepDavidValadao  please help pass the covid-19 Relief Act! Thank you ☺️\n",
      "1426695078932779015 2021-08-14 18:59:48 -0500 <eviebauer727> @Acyn Abbot and DeSantis are blaming it on migrants, but they have less positivity rate than the nightmare scenario they’re coming into.   “The number of COVID-positive cases from across the border is relatively small in the context of Texas' latest surge…”  https://t.co/e9IrbW5v67\n",
      "1426695078395867137 2021-08-14 18:59:48 -0500 <thinkasean_> Hi 👋 ASEAN family  #NewsFromMalaysia🇲🇾  The spirit of patriotism should now focus on fighting Covid-19 and putting aside political differences, said Communications and Multimedia Minister Datuk Saifuddin Abdullah.  📝@malaymail   #Malaysia #Politics #Covid19 #Covid19Mas\n"
     ]
    },
    {
     "name": "stdout",
     "output_type": "stream",
     "text": [
      "1426695076328189959 2021-08-14 18:59:47 -0500 <missdar429> @AllDayAssEating @CNN Isn't 1 child dying from covid enough to act responsibly. Especially when they can't get the shot bc of their age. yes, kids &amp; adults die from the flu every year. COVID-19 is more contagious than the flu and you don't have symptoms like the flu, to keep you away from others\n",
      "1426695075472416768 2021-08-14 18:59:47 -0500 <AmyLynnLee7733> The federal fiscal year ends October first.  Coincidentally we are losing unemployment in September.  I predict a monthly stimulus is on the way 😉#Covid_19\n",
      "1426695075111870465 2021-08-14 18:59:47 -0500 <mrserinjewell> Pretty proud of what I was able to do to maximize the space in my library. It was a definite silver lining of last year’s crazy COVID year—the time to really rework everything.  Check out my library’s Instagram stories for the full before/after.  https://t.co/iJfhr5Gjrf\n",
      "1426695074331701251 2021-08-14 18:59:47 -0500 <MioPinares> Carta de científicos #Cuba a Pdte #EEUU @JoeBiden  con + 3 000 firmas. Mensaje llama a levantar  medidas coercitivas impuestas por Washington y a  mayor colaboración entre países para enfrentar  pandemia #Covid_19 @DamSanchezL @radiorebeldecu @jlbroche    https://t.co/knYKS2oFxY\n",
      "1426695074180702209 2021-08-14 18:59:47 -0500 <midlomollee> This thread is about the COVID end game, but naturally I think this last tweet could just as easily be about climate.\n",
      "1426695073459224577 2021-08-14 18:59:46 -0500 <DaynaE502> can’t believe big time rush has been planning a comeback for 2 years and covid made us wait.\n",
      "1426695073287352321 2021-08-14 18:59:46 -0500 <marcokitty3303> @ToySergal this is better humor than them whole covid containment suits x.x\n",
      "1426695073136263168 2021-08-14 18:59:46 -0500 <thebigattitude> ✨If you won't get the vaccine because \"it hasn't been studied well enough and [you're] not being part of their experiment\" but you believe covid-19 is a leaked bioweapon Fauci make in a lab, you're signing up to be the at risk for death part of that experiment✨ (&amp; you're dumb)\n",
      "1426695072528150528 2021-08-14 18:59:46 -0500 <ThaizBritney> @astrosarcastic WTF que dices niña si Dalas dice que existe el covid y que criticó a lo covidiotas anda a sentarte mejor y razona\n",
      "1426695072460902400 2021-08-14 18:59:46 -0500 <BaksEarl7> You may now check out the 474th issue of DOH’s Beat COVID-19 Today: Philippine Situationer! ✨Click here to view and download 👉🏼   https://t.co/t7hmu7PVQV  Note: Data as of yesterday, August 13, 2021  #BeatCOVID19 #WeHealAsOne #COVID19PH  https://t.co/SswPliDbF7\n",
      "1426695072393932802 2021-08-14 18:59:46 -0500 <nauticauzumaki> Dollar tree didn’t have any workers before Covid so now it’s worse smh\n",
      "1426695071072653321 2021-08-14 18:59:46 -0500 <gusthpa> Mais de 1.4M de doses de vacina constra covid no Brasil nas últimas 24h Passar de 1 milhão em um sábado é ÓTIMO!\n",
      "1426695071060086786 2021-08-14 18:59:46 -0500 <piratepinup> I drove thru several states this week. Many are using their electronic freeway billboards to remind people to get #covid tested and #vaccinated those states are #texas #arizona #NewMexico #CovidIsNotOver #Covid_19\n",
      "1426695067666944000 2021-08-14 18:59:45 -0500 <BeauHiggins2> @DineshDSouza Holy crap!!! Someone call DHS that's a whole room full of \"domestic extremist terrorists\". I mean they must be they oppose a covid 19 mandate.\n",
      "1426695065129398272 2021-08-14 18:59:44 -0500 <ANESTESIOLOCO> @Dr_Asthenia Perdón Sra, pero le dijimos que el covid no existe\n",
      "1426695065129394181 2021-08-14 18:59:44 -0500 <Michael37823933> Will we reach herd immunity for the new coronavirus? | Coronavirus | The Guardian  https://t.co/wTFOW5KA2I\n",
      "1426695063283933185 2021-08-14 18:59:44 -0500 <ArthurG31943188> 'Vaccine passports' are here. Here's how to prove your Covid-19 vaccination status on your phone - CNN  https://t.co/olcx7ieF3n\n",
      "1426695061824233475 2021-08-14 18:59:44 -0500 <drjsalome> @lopezobrador_ Querido presidente, la propagación del Covid19 sigue galopante hacia arriba. Lo podemos detener y revertir si cada mexicano se toma un vaso de agua de 250 ml cada hora y media de las 6 a las 20 hrs, de veras.\n",
      "1426695061291552771 2021-08-14 18:59:43 -0500 <Matthew73610025> Job postings requiring employees to be vaccinated against COVID-19 nearly double  https://t.co/flmgOwERsJ\n",
      "[!] No more data! Scraping will stop now.\n",
      "found 0 deleted tweets in this search.\n"
     ]
    }
   ],
   "source": [
    "twint.run.Search(c18)"
   ]
  },
  {
   "cell_type": "code",
   "execution_count": 83,
   "metadata": {},
   "outputs": [],
   "source": [
    "tweetsBegAug = pd.read_csv('covidtweetsBegAug.csv')"
   ]
  },
  {
   "cell_type": "code",
   "execution_count": 84,
   "metadata": {},
   "outputs": [
    {
     "data": {
      "text/plain": [
       "(57, 36)"
      ]
     },
     "execution_count": 84,
     "metadata": {},
     "output_type": "execute_result"
    }
   ],
   "source": [
    "tweetsBegAug.shape"
   ]
  },
  {
   "cell_type": "code",
   "execution_count": 106,
   "metadata": {},
   "outputs": [],
   "source": [
    "c19 = twint.Config()\n",
    "\n",
    "c19.Search = \"covid OR coronavirus OR COVID-19\"\n",
    "c19.Lang = \"en\"\n",
    "c19.Since = \"2021-08-16\"\n",
    "c19.Until = \"2021-08-31\"\n",
    "c19.Limit = 5000\n",
    "c19.Store_csv = True\n",
    "c19.Output = 'covidtweetsEndAug.csv'"
   ]
  },
  {
   "cell_type": "code",
   "execution_count": 107,
   "metadata": {},
   "outputs": [
    {
     "name": "stdout",
     "output_type": "stream",
     "text": [
      "1432493333109166089 2021-08-30 18:59:59 -0500 <stlmag> Third doses are available at venues providing first and second doses of the COVID vaccine for people who are immunocompromised, but a booster shot for those who have built enough protection after vaccination could be available by fall 2021.  https://t.co/NviTam1aFZ\n",
      "1432493332865830914 2021-08-30 18:59:59 -0500 <dkegel> Discussing school coronavirus mitigation with antivaxxers/antimaskers is surreal.\n",
      "1432493332341612548 2021-08-30 18:59:59 -0500 <pazhenaoandres> Querido presidente. @IvanDuque . Como decía con los problemas de Colombia. No es posible que la vicepresidenta sea canciller. Colombia necesita un canciller de tiempo completó. Igual presidente. Sigo pensando que usted es un buen mandatario. Lucha contra el covid.\n",
      "1432493332337356801 2021-08-30 18:59:59 -0500 <sarahhunnell> It's been a rough couple of days. Good friend called to tell me she and her hubby have covid. They are fully vaxxed but he has a rare autoimmune condition. He's been in the hospital over a week, but it's doing well and just needs O2.\n",
      "1432493331255205890 2021-08-30 18:59:59 -0500 <Archaeologuy> @eplerjc One mango seems like an excessive amount of mango to me. It’s too much work. We can make seedless watermelon and grapes but science has been so preoccupied with Covid that we have missed out on pitless mango.\n",
      "1432493329959342083 2021-08-30 18:59:58 -0500 <LoveJ0_> COVID is dead spinning the block.\n",
      "1432493329959329794 2021-08-30 18:59:58 -0500 <ejkeen47> @Crackedhonky @komonews I believe you mean comorbidity. The average age of people in the ICU due to covid where I am is 40.\n",
      "1432493328570880002 2021-08-30 18:59:58 -0500 <keriRN> @BernadetteNTF @Elennar_Linwen @TJNugent520 @zazzybritches @RonniLaurie @getthrutheday @OklahomaPatrio1 @BlueSwede2000 @Saline_tRick @sharona_62 @Style17strings @kristyshl @62WalterP @tack_sharp @GDThor1 @ThomONeil1 @impinkestgirl @MarciaBunney @bobbiejaneV @KeepsAtIt @CygnusInVesper @gojoe_joe @poppij @CunningSq16 @politiolyc @GreatTammie @yoly54128913 @Goddess98465465 @bettypge69 @RegVickers @MairScott3 @MusicIsTheory @sugar1420 @RockyMtnView @Ldogls @yolalindayola @Freebearphil @vaato5455 @CartistNy @BonJS0370 @patricia_millin @doug_in_nc @tropicaltreater @CirclesSpinning @MFrance923 @julyriver @BlueWave_resist @Ezim79 @StaryStaryNlght We have our mask mandate in place, its 2 weeks on Monday...and the more who get Covid...the more regret not vaccinating, telling them to tell ALL THEIR FRIENDS/FAMILY...VACCINATE...hoping with those occurring, our numbers will decrease...\n",
      "1432493327669030912 2021-08-30 18:59:58 -0500 <humbledcanadian> @puckyou1977 @liberal_party I'd make a better health minister my God. Here i got u guys. The media has over exaggerated Covid by 10000000% their complete idiots and no one should ever listen to mainstream media and do your own damn research...\n",
      "1432493326159261700 2021-08-30 18:59:58 -0500 <mklinebarnes> LEE ADMINISTRATION FACES LAWSUIT, FEDERAL INVESTIGATION OVER BOTCHED COVID RESPONSE  U.S. Department of Education is launching an investigation into state policies in five states (including Tennessee) that have sought to ban local mask mandates in schools.\n",
      "1432493325857087492 2021-08-30 18:59:57 -0500 <lip_ir> Getting jabs is the sure and effective method against Covid. Liaise with Pfizer that their vaccines are proved effective and with no big side effects\n",
      "1432493325622317056 2021-08-30 18:59:57 -0500 <rafov74> @festigau covid house\n",
      "1432493325450366981 2021-08-30 18:59:57 -0500 <PatientDay> Rock boasted about the size of the crowd and claimed that \"there is nothing the mainstream media, internet or social media trolls can do but look at this pic and weep, knowing they will never beat us.\"Kid Rock Cancels  Shows Due To COVID-19 Illness #Covid  https://t.co/vb97e3G5mk\n",
      "1432493325232259079 2021-08-30 18:59:57 -0500 <FeckTheIgnorant> @CaprisArdent @LordAslanThe2nd @MaryKRe @MattWalshBlog 637,000 US Citizens have died due to covid in 600 days. Just because it's not killing large numbers of kids, doesn't mean that the people dying don't matter. Now when you go? It won't matter.\n",
      "1432493324020039682 2021-08-30 18:59:57 -0500 <celsius> @CleanAirMakeMor If covid doesn't get you the bad pollution days in Phoenix will.\n",
      "1432493322493255680 2021-08-30 18:59:57 -0500 <rdc7801> @CFL_News @YouTube @edmontonjournal Surprised that the CFL would allow the Elks to bring in Covid-testing requirements for fans EFFECTIVE OCT. 15 — more than six weeks from now — especially since Alta’s cases are climbing daily. Is the league indifferent to public safety? @cfl @elks\n",
      "1432493321310584832 2021-08-30 18:59:56 -0500 <katslefty> “The experience may also prompt people to take all respiratory viruses more seriously, leading to lasting changes in mask wearing and ventilation. Endemic COVID-19 means finding a new, tolerable way to live with this virus. It will feel strange for a whi…  https://t.co/LY5IFaIuj1\n",
      "1432493319666520071 2021-08-30 18:59:56 -0500 <cornbobm> @chigrl @leomironov Son in law wit the J&amp;J has Covid-19, slowing travel plans and such\n",
      "1432493317682601985 2021-08-30 18:59:56 -0500 <icowrich> @flyastroapple @Solarpowercorgi @mmm_cereal Fully vaccinated people are dying (of non-COVID causes) because ICUs are full of COVID patients. I get why people are losing patience with anti-vaxxers, but they (still) hurt more than just themselves.\n",
      "1432493317162405889 2021-08-30 18:59:55 -0500 <MeetJess> Western's vaccination rules will help keep lid on COVID on campus London’s top doctor says Western University’s vaccination rules are likely to blunt any outbreaks this fall, as the threat of COVID-19 infection shifts to school-aged children not vaccinated  https://t.co/05Zeq9I2SG\n",
      "1432493316860530689 2021-08-30 18:59:55 -0500 <EricROCHEBLAVE> « Un salarié doit-il communiquer à son employeur le résultat de son test COVID-19 ? » Interview dans LE MAG DE LA SANTE sur France 5 de Maître Eric ROCHEBLAVE  https://t.co/YviYiB4YCZ #covid19 #testcovid  https://t.co/29nTXHP5S1\n",
      "1432493314343903234 2021-08-30 18:59:55 -0500 <TrumpDefined> So the third Anti-Mask Conservative talk show host realized he was wrong all along just before dying from COVID this week. Oh well, I’m sure he can sort all that wrongness out once he gets to Heaven and meets his white bearded God. 😉\n",
      "1432493312884236293 2021-08-30 18:59:54 -0500 <vosquesospsico> Qué tragedia la cantidad de gente que se está recibiendo haciendo tesis sobre el impacto del Covid\n",
      "1432493312066338816 2021-08-30 18:59:54 -0500 <VelvetxSerenade> @mmpadellan It was the death count for me. It was losing three family members for me. It was working next to someone with covid with a mask and not getting it. Plus common sense ✊🏻\n",
      "1432493310460014594 2021-08-30 18:59:54 -0500 <mi_keezy> @civilizedrights @Lexham_1 There is a reason why reasonable people don't readily or easily trust BIG PHARMA &amp; their bought &amp; paid government lackeys.  Nothing said thus far about COVID has been reasonable from its \"origin\" to its emergency use status &amp; not to mention its subject to quickly change efficacy.  https://t.co/gWstNlkIcl\n",
      "1432493310212546560 2021-08-30 18:59:54 -0500 <APCardsFan> Sad to see discernment has all but eluded Thabiti the past couple of years. COVID deaths are clearly sad but abortion is outright murder and there’s a huge difference. Plus since March 2020 there have been 1m+ abortion deaths.\n",
      "1432493309226848264 2021-08-30 18:59:54 -0500 <creamofthecrop> Our AB gov't is so fucking useless that these Albertan doctors &amp; experts have to put out their own COVID update:  https://t.co/4NYDjP1VwB Thank you to @PopAlberta for this amazing initiative getting info out to the public. Shame on you @jkenney @CMOH_Alberta @shandro\n",
      "1432493307796598795 2021-08-30 18:59:53 -0500 <ElChacoInforma> #Reporte #COVID19 emitido por el Sedes Tarija correspondiente al 30/08/2021 35 casos nuevos en el #GranChaco #Yacuiba 20 #Caraparí 8 #VillaMontes 7  https://t.co/9qDqwG2LR0\n",
      "1432493307465142272 2021-08-30 18:59:53 -0500 <SAHealth> COVID-19 HEALTH ALERT 30 August 2021  SA Health has identified COVID-19 exposure locations in South Australia.  If you attended an exposure location, you are required to follow the relevant health advice.  More information is available at  https://t.co/4sJYadglJu  https://t.co/re5dGNOrIh\n",
      "1432493306890670081 2021-08-30 18:59:53 -0500 <Caosnorio1> Covid-19: Rio espera por mais doses para confirmar vacinação em adolescentes de 15 anos ou menos   https://t.co/SuXaL1Mg0p\n",
      "1432493306542362625 2021-08-30 18:59:53 -0500 <Staunchy87> Imagine not being able cross the QLD border to see your parent/family on their death bed.Then the QLD Premier approves a plane of 100 Football wives, family to travel into QLD. How long are we gonna put up with this for? Seriously.They are taking the piss. @AnnastaciaMP #COVID19\n",
      "1432493305200320516 2021-08-30 18:59:53 -0500 <granjanews> Saúde de Cotia estende vacinação contra a Covid-19 para todas as UBS’s  https://t.co/2laa1Aze1R #cotia #granjaviana #granjavianna #caucaiadoalto #vacinação #coronavirus #covid19 #ubs #estende #saude #granjanews @prefeituracotia  https://t.co/dyUPayCxev\n",
      "1432493303967125504 2021-08-30 18:59:52 -0500 <detikHealth> Fasilitas kesehatan COVID-19 di Thailand digerebek pihak otoritas setempat. Tempat tersebut dicurigai digunakan sebagai tempat peredaran narkoba dan pesta seks.  https://t.co/W95n1oOKGV\n",
      "1432493303073751041 2021-08-30 18:59:52 -0500 <RMGprevoyance> #Test Covid : les dépenses de l'Assurance maladie ont bondi au 1er semestre -  https://t.co/s5O8ci8vrV  https://t.co/ODjkDNhLyY #assurance #mutuelle #santé\n",
      "1432493302960513032 2021-08-30 18:59:52 -0500 <BrandonLucari> As a pediatric resident living in TX, I STRONGLY OPPOSE HB 141. Masks are crucial in keeping our children safe in school, especially those too young to being vaccinated. Our hospitals are full and both Covid and non-Covid related needs are being impacted. #txlege #Maskup\n",
      "1432493302104920064 2021-08-30 18:59:52 -0500 <MancusoNR> Excited to start my new ivermectin routine to prevent COVID. What do you mean this is dog medicine?! (This tweet is satire, please spare me)  https://t.co/FxlYtmRYQL\n",
      "1432493299743428610 2021-08-30 18:59:51 -0500 <SFSK8rGrrl> ICYMI: #FoxNews Employees must carry a version of a #vaccinepassport.  Seth Meyers Slams Fox News for Saying Horse Dewormer Ivermectin Cures COVID | Vanity Fair  https://t.co/ChXr2rJMk9\n"
     ]
    },
    {
     "name": "stdout",
     "output_type": "stream",
     "text": [
      "1432493298824974339 2021-08-30 18:59:51 -0500 <thesophiratchet> @GuyWithPPMS @Jenrebhope @SensoryDisturb1 @AP Let me interject because majority of people getting evicted are not the ones abusing the system, they are 1-3 months behind(you know lockdowns and +Covid prevented many poor from working) so yes these landlords are horrible and you shouldn’t speak on things you don’t know.  https://t.co/FKhQhaPITI\n",
      "1432493297084342277 2021-08-30 18:59:51 -0500 <warrcampmusic1> @JPFinlayNBCS Dalvin Cook will be essential when Kirk is in covid protocols\n",
      "1432493296346095618 2021-08-30 18:59:50 -0500 <HStowit> @david_shane One of the largest payoff schemes the world has ever seen. Why would testing companies ever want covid to end.\n",
      "1432493295935135748 2021-08-30 18:59:50 -0500 <David_cmercado> Aumenta a 293 los casos de COVID-19 reportados en el Departamento de Educación -  https://t.co/QD2ye8X9aP\n",
      "1432493293766651906 2021-08-30 18:59:50 -0500 <RequenaCNN> #PanoramaDelDía La UE recomendará a los estados miembros que suspendan los viajes no esenciales desde EE.UU. y otros cinco países por el COVID-19  https://t.co/88mrWD0q5s  https://t.co/620TosmYoe\n",
      "1432493291719827461 2021-08-30 18:59:49 -0500 <spencer_josh> “WakeMed has almost 200 COVID 19 patients…and 85 to 90 percent haven’t been vaccinated…”   Being hospitalized—and dying—due to Covid is almost entirely preventable. Protecting yourself and serving your neighbor is to be pro life. Please get vaccinated.   https://t.co/8aFz8fbWD6\n",
      "1432493291396870144 2021-08-30 18:59:49 -0500 <dados_covid> Atualização dos dados do Brasil. #coronavirus #covid19  https://t.co/XRFWpzAKIW\n",
      "1432493289849200651 2021-08-30 18:59:49 -0500 <mermisol> @Alexilla86 @EnekoElena2019 @Xaenfocicada @DERPA_MADRID ¿Cuántos hemos tenido covid en casa \"gracias\" a que el niño lo ha traído del cole?\n",
      "1432493288955813892 2021-08-30 18:59:49 -0500 <442> El Pato Fillol 🇦🇷🏆 fue hospitalizado por precaución tras haberse contagiado de #Coronavirus 🦠 hace una semana  https://t.co/y2ovrD06Bu\n",
      "1432493288850821124 2021-08-30 18:59:49 -0500 <FioriniFury> Taking medicine made for horses to fight Covid is the New Tide Pod Challenge for adults.  #COVID19\n",
      "1432493288066486272 2021-08-30 18:59:48 -0500 <SandpiperFax> You'd need a mask like this to materially reduce your risk of getting covid in a public indoor space.  https://t.co/UxClXmbDqp\n",
      "1432493285835214852 2021-08-30 18:59:48 -0500 <CosmicGrrl11> @mlaflamme19 @GovChrisSununu @NHNationalGuard They could have had a meeting via zoom. Also, if he really was looking for advice re: covid, he could look to our nextdoor neighbor Vermont or listen to local epidemiologist Dr. Chan, et al. He's trying to pull the wool over our eyes. 😒\n",
      "1432493285671686150 2021-08-30 18:59:48 -0500 <Nasir_SEO> August 30th COVID-19: Data reported on Monday is always low, and will be revised up as data is received by Calculated Risk  https://t.co/1JJBqaksgo\n",
      "1432493285604536322 2021-08-30 18:59:48 -0500 <MedicalRMR> A siete meses de iniciado el plan nacional de vacunación contra el Covid-19, 2.652.059 personas ya cuentan con su esquema completo de inmunización en el país. 👇  https://t.co/pIWfj7a2Wf  https://t.co/NUPmNsfq7P\n",
      "1432493285499678725 2021-08-30 18:59:48 -0500 <JujuyDiaaDia> Confirman 58 casos positivos de covid  https://t.co/96BeaktTvd via @Jujuy Día a Día  https://t.co/HvrRwF4R0N\n",
      "1432493284899753985 2021-08-30 18:59:48 -0500 <ongardrustless> @FlatEarthGang All the current covid related deaths in NSW are on Berijiklian and Hazzard.\n",
      "1432493284853645315 2021-08-30 18:59:48 -0500 <surensinghsahni> @Chellaney Statistics are not reliable in India and not all Covid sufferers were tested\n",
      "1432493284316880899 2021-08-30 18:59:48 -0500 <JHarrisdrain> Love choices in masks #tshirtfling #MasksSaveLives #Masks #MaskUp #COVID19 #CovidIsNotOver #COVIDDelta #schoolreopening #Schoolgirls #school #etsy #etsyshop #business #Logo #fashion #BacktoSchool2021 #BackToSchool #Travel  https://t.co/R7iRqep7aU\n",
      "1432493281565347854 2021-08-30 18:59:47 -0500 <elisaperego78> @rup31 @lenoretaylor Most people who support letting it spread \"live with covid\" either have no idea or are intentionally spreading false information\n",
      "1432493279791263747 2021-08-30 18:59:46 -0500 <82956726292ta> @briantylercohen Literally such a minority. I don’t even know why it makes news. While most of us our continuing to live our lives, these people are OBSESSED with COVID and mandates. It’s taken over who they are. It’s sad really.\n",
      "1432493279438909442 2021-08-30 18:59:46 -0500 <buntybunny> COVID Vaccine Injury Reports Jump by 27,000 in One Week, FDA Pulls ‘Bait and Switch’ With Pfizer Vaccine Approval  https://t.co/ByEetLFOIp\n",
      "1432493278264393732 2021-08-30 18:59:46 -0500 <JackValJack> Communism has killed more people then the Holocaust and COVID-19 COMBINED.\n",
      "1432493278184751107 2021-08-30 18:59:46 -0500 <FipcoB> CDC slide today. Benefit is miles ahead of risk with two dose vaccine in male teens. Doesn’t factor benefit in avoided MIS-C, long covid, or higher hospitalization severity, etc.  https://t.co/Oyq3QK8sEy\n",
      "1432493276771192832 2021-08-30 18:59:46 -0500 <PixledTanuki> @KinoSelynn I got my covid vaccine shot today. I was a nervous wreck though cause im not a big fan of needles. I hope your doing better though selyn :]\n",
      "1432493275143884800 2021-08-30 18:59:45 -0500 <BigTimmz> Kenya stepping up its COVID-19 vaccination -  https://t.co/0xYdUTVDrp\n",
      "1432493273965203457 2021-08-30 18:59:45 -0500 <irislea> @nswpolice I hope that the police 👮‍♀️ are fining all those truckers yes let’s give covid to everyone kicking us all in the guts Truckies\n",
      "1432493272904224775 2021-08-30 18:59:45 -0500 <goodtro73247053> @RepRonnyJackson @GOPLeader @RepChrisStewart I love republicans who put out misinformation on covid -19 then push animal dewarmer for there constituents to take, try anything they say.other than the vaccine😁\n",
      "1432493271964688395 2021-08-30 18:59:45 -0500 <9NewsGoldCoast> #ALERT: Queensland has recorded no new cases of #coronavirus overnight after more than 11,000 tests. #COVID19 #9News  LATEST:  https://t.co/zwzBhyZcYZ  https://t.co/QdZwjYxVyO\n",
      "1432493271788527625 2021-08-30 18:59:45 -0500 <Zalily3> Some B.C. residents are seeking out horse dewormer to treat COVID-19 – Victoria News  https://t.co/sFFXAntG45\n",
      "1432493271142502403 2021-08-30 18:59:44 -0500 <CHVNoticias> Científicos de Sudáfrica hallan una nueva variante de coronavirus muy mutante   https://t.co/gcAFYTgt45\n",
      "1432493269540241413 2021-08-30 18:59:44 -0500 <Dave__Jeffress> @AnnastaciaMP Thanks for keeping us safe and covid free! Please keep Morrison and Gladys away from us.\n",
      "1432493268948819971 2021-08-30 18:59:44 -0500 <PBaki4> Bhabinkamribmas Desa Mancasan Aipda Sony Agnes melaksanakan Pam pemakaman jenazah covid 19 atas nama FX.SUNARYONO , 62 Th Dk .Kalongan Rt 02Rw 02 Ds.Mancasan yang di makamkan di Makam Dk.Kalonfa   - #divisihumaspolri  #infopolisisukoharjo  #infosukoharjo  #beritasukoharjo  https://t.co/xDykETudVf\n",
      "1432493267132768256 2021-08-30 18:59:43 -0500 <WashTimes> Detroit Zoo animals given COVID-19 vaccine  https://t.co/39j5AX3tsp  https://t.co/4cRo6HfCqL\n",
      "1432493267061391361 2021-08-30 18:59:43 -0500 <Kenneth33071904> @MollyJongFast This guy ain’t ending Covid in USA.   https://t.co/uRX7EKI3Xr\n",
      "1432493266952282113 2021-08-30 18:59:43 -0500 <Darren33140921> Countries are rejecting this crap all over the world, Israel has massive covid cases double vaccinated ,now triple vaccinated, cases still rising\n",
      "1432493266134392839 2021-08-30 18:59:43 -0500 <opinionmate> @flickafaida @MrOonoonba @AlanBixter No we are not and we should never get used to it. I fear that truth in reporting is becoming a lofty goal, never to be reached, much like the PM's Covid plan. But I digress. Our media organisations need to be accountable and certainly not self regulated. Legislation is required.\n",
      "1432493264888897538 2021-08-30 18:59:43 -0500 <FiberCarb> Natural immunity offers exponentially more protection than COVID-19 vaccines.  https://t.co/MaarVYe7ZW\n",
      "1432493262334529539 2021-08-30 18:59:42 -0500 <CruiseExpertBob> Bermuda is one of the most proactive countries in the world when it comes to the coronavirus, and it follows strict health protocols for all visitors (and residents) entering the island. (Bermuda was literally shut down for eight m… https://t.co/qKDGYXZnyI  https://t.co/7jVk5kPMhF\n",
      "1432493262040936450 2021-08-30 18:59:42 -0500 <Almirdasneves> Santa Cruz libera vacinação da covid-19 para maiores de 18 anos  https://t.co/02C3F4fGjt\n"
     ]
    },
    {
     "name": "stdout",
     "output_type": "stream",
     "text": [
      "[!] No more data! Scraping will stop now.\n",
      "found 0 deleted tweets in this search.\n"
     ]
    }
   ],
   "source": [
    "twint.run.Search(c19)"
   ]
  },
  {
   "cell_type": "code",
   "execution_count": 108,
   "metadata": {},
   "outputs": [],
   "source": [
    "tweetsEndAug = pd.read_csv('covidtweetsEndAug.csv')"
   ]
  },
  {
   "cell_type": "code",
   "execution_count": 109,
   "metadata": {},
   "outputs": [
    {
     "data": {
      "text/plain": [
       "(76, 36)"
      ]
     },
     "execution_count": 109,
     "metadata": {},
     "output_type": "execute_result"
    }
   ],
   "source": [
    "tweetsEndAug.shape"
   ]
  },
  {
   "cell_type": "code",
   "execution_count": 162,
   "metadata": {},
   "outputs": [],
   "source": [
    "c20 = twint.Config()\n",
    "\n",
    "c20.Search = \"covid OR coronavirus OR COVID-19\"\n",
    "c20.Lang = \"en\"\n",
    "c20.Since = \"2021-09-01\"\n",
    "c20.Until = \"2021-09-15\"\n",
    "c20.Limit = 5000\n",
    "c20.Store_csv = True\n",
    "c20.Output = 'covidtweetsBegSept2.csv'"
   ]
  },
  {
   "cell_type": "code",
   "execution_count": 163,
   "metadata": {},
   "outputs": [
    {
     "name": "stdout",
     "output_type": "stream",
     "text": [
      "1437929150598242305 2021-09-14 18:59:59 -0500 <CentexBrownsvil> An unvaccinated TikTok creator who died of COVID-19 spent her final days desperately pleading with her followers to get the vaccine so they \"won't end up in the hospital like me.\" Listen more here:  https://t.co/0Ytd6yCNJ4\n",
      "1437929150023716869 2021-09-14 18:59:59 -0500 <perch35km> @N0ideawhyimhere @mike_yung -Waiting for 2nd shot.  -Passed away before 2nd.  -Working out of province.  -Caught covid after shot, have to wait 3 months  -moved province after shot and waiting for snafus (know someone) -lazy  -processing error  All pretty legit (except lazy one) reasons.\n",
      "1437929148865863681 2021-09-14 18:59:59 -0500 <HunterP75648286> @randlight NO it will be the people’s fault it always is just look at covid 🤬\n",
      "1437929148249374720 2021-09-14 18:59:59 -0500 <abcnews> Queensland records no new local COVID cases as 'super weekend’ for vaccinations announced  https://t.co/olBhb940nq\n",
      "1437929147460997123 2021-09-14 18:59:58 -0500 <wsfireballoon> Why I Didn't Get the COVID Vaccine  https://t.co/nYXj6mJnF4 - It might be time for a little deeper thinking on this issue.\n",
      "1437929144248152071 2021-09-14 18:59:58 -0500 <sccaroline98> @EvelDick I just say I don’t want to die or I tell them our hospital is full of covid not vaccine reactions.\n",
      "1437929144176758789 2021-09-14 18:59:58 -0500 <OneJerseySchorr> According to the Ocean County Health Department, there have been 2,071 (no change from yesterday) COVID-19 related deaths in the county, including 316 (no change) in Lakewood.\n",
      "1437929143954391045 2021-09-14 18:59:58 -0500 <chummymybunny> @Khairykj  @KKMPutrajaya @IsmailSabri60  @saifuddinabd  Pls help bi-national couples to reunite.Most of us are fully vaccinated so we are less likely to die of Covid, but HIGH likely to DIE of Chronic Depression due to long separation with our partner.😭😭😭 #LoveIsNotTourismMY\n",
      "1437929142641700868 2021-09-14 18:59:57 -0500 <PardoFutbol> @ArenaSportsCo El Brasileirao es igual esos estadios solo se ven banderas, en Bolivia se ven pero en Colombia si parece país europeo y covid por todo lado\n",
      "1437929142314487814 2021-09-14 18:59:57 -0500 <mauriciomunizd> @RenataBarba3 A mí se me canceló el mío el año pasado por culpa del covid y siento que nunca lo superaré 😞\n",
      "1437929140410327043 2021-09-14 18:59:57 -0500 <therealallpro> @JJR3Esq @omw @aldotcom The economist just reported that Covid was underreported by THREE times the real amount.  So basically I was undercounting actually lulz\n",
      "1437929139785408513 2021-09-14 18:59:57 -0500 <fetcheves> Una maravilla las unidades moviles de testeo Covid. Los chicos y chicas de la Unidad Barrio Chino, un lujo. Gracias. Negativa 🙏\n",
      "1437929139420295175 2021-09-14 18:59:56 -0500 <Davidlloyd09> @LizSzabo See ya later. They owe it to the ICU nurses to do their bit. The ICU nurses wouldn’t need to be there for COVID, if we all get vaccinated.\n",
      "1437929138552287233 2021-09-14 18:59:56 -0500 <jmatt426tx> Shouldn't be surprised: look who they elect to the Senate - #MoscowMitch and the chief of COVID misinformation, Rand Paul.\n",
      "1437929136593543174 2021-09-14 18:59:56 -0500 <BHLife1> @wingedred When you someone in your family relative or friends get COVID-19 then tell us doctors, scientists know what their talking about. Lots of doctors are forgetting when we got the flu shot we didn’t have to wear a mask. That was another way to spread the flu the mouth like COVID-19.\n",
      "1437929135482052608 2021-09-14 18:59:55 -0500 <_the_culture_> @joostluteijn @Ph0en1x_Rising @thierrybaudet Hoeveel 18 jarigen liggen er met covid op de IC dan? Je hebt duidelijk geen idee, dus ga niet populair lopen doen. En voor het geval je die ene vind met een zielig artikel. Ja, vorige week ook hier een verkeersdode van 18. En iemand met kanker. Sommige mensen hebben pech.\n",
      "[!] No more data! Scraping will stop now.\n",
      "found 0 deleted tweets in this search.\n"
     ]
    }
   ],
   "source": [
    "twint.run.Search(c20)"
   ]
  },
  {
   "cell_type": "code",
   "execution_count": 164,
   "metadata": {},
   "outputs": [],
   "source": [
    "tweetsBegSept2 = pd.read_csv('covidtweetsBegSept2.csv')"
   ]
  },
  {
   "cell_type": "code",
   "execution_count": 165,
   "metadata": {},
   "outputs": [
    {
     "data": {
      "text/plain": [
       "(48, 36)"
      ]
     },
     "execution_count": 165,
     "metadata": {},
     "output_type": "execute_result"
    }
   ],
   "source": [
    "tweetsBegSept2.shape"
   ]
  },
  {
   "cell_type": "markdown",
   "metadata": {},
   "source": [
    "Changed IP address in attempt to scrape more tweets, this error came back and was not resolved by using previous method that worked"
   ]
  },
  {
   "cell_type": "code",
   "execution_count": 15,
   "metadata": {},
   "outputs": [],
   "source": [
    "c21 = twint.Config()\n",
    "\n",
    "c21.Since = \"2021-09-01\"\n",
    "c21.Until = \"2021-09-15\"\n",
    "c21.Limit = 5000\n",
    "c21.Store_csv = True\n",
    "c21.Output = 'tweetsBegSept2.csv'"
   ]
  },
  {
   "cell_type": "code",
   "execution_count": 16,
   "metadata": {},
   "outputs": [
    {
     "name": "stderr",
     "output_type": "stream",
     "text": [
      "CRITICAL:root:twint.run:Twint:Feed:noData'globalObjects'\n",
      "sleeping for 1.0 secs\n",
      "CRITICAL:root:twint.run:Twint:Feed:noData'globalObjects'\n",
      "sleeping for 8.0 secs\n"
     ]
    },
    {
     "ename": "KeyboardInterrupt",
     "evalue": "",
     "output_type": "error",
     "traceback": [
      "\u001b[0;31m---------------------------------------------------------------------------\u001b[0m",
      "\u001b[0;31mKeyError\u001b[0m                                  Traceback (most recent call last)",
      "\u001b[0;32m~/src/twint/twint/run.py\u001b[0m in \u001b[0;36mFeed\u001b[0;34m(self)\u001b[0m\n\u001b[1;32m     93\u001b[0m                     \u001b[0;32mtry\u001b[0m\u001b[0;34m:\u001b[0m\u001b[0;34m\u001b[0m\u001b[0;34m\u001b[0m\u001b[0m\n\u001b[0;32m---> 94\u001b[0;31m                         \u001b[0mself\u001b[0m\u001b[0;34m.\u001b[0m\u001b[0mfeed\u001b[0m\u001b[0;34m,\u001b[0m \u001b[0mself\u001b[0m\u001b[0;34m.\u001b[0m\u001b[0minit\u001b[0m \u001b[0;34m=\u001b[0m \u001b[0mfeed\u001b[0m\u001b[0;34m.\u001b[0m\u001b[0mparse_tweets\u001b[0m\u001b[0;34m(\u001b[0m\u001b[0mself\u001b[0m\u001b[0;34m.\u001b[0m\u001b[0mconfig\u001b[0m\u001b[0;34m,\u001b[0m \u001b[0mresponse\u001b[0m\u001b[0;34m)\u001b[0m\u001b[0;34m\u001b[0m\u001b[0;34m\u001b[0m\u001b[0m\n\u001b[0m\u001b[1;32m     95\u001b[0m                     \u001b[0;32mexcept\u001b[0m \u001b[0mNoMoreTweetsException\u001b[0m \u001b[0;32mas\u001b[0m \u001b[0me\u001b[0m\u001b[0;34m:\u001b[0m\u001b[0;34m\u001b[0m\u001b[0;34m\u001b[0m\u001b[0m\n",
      "\u001b[0;32m~/src/twint/twint/feed.py\u001b[0m in \u001b[0;36mparse_tweets\u001b[0;34m(config, response)\u001b[0m\n\u001b[1;32m     79\u001b[0m     \u001b[0mresponse\u001b[0m \u001b[0;34m=\u001b[0m \u001b[0mloads\u001b[0m\u001b[0;34m(\u001b[0m\u001b[0mresponse\u001b[0m\u001b[0;34m)\u001b[0m\u001b[0;34m\u001b[0m\u001b[0;34m\u001b[0m\u001b[0m\n\u001b[0;32m---> 80\u001b[0;31m     \u001b[0;32mif\u001b[0m \u001b[0mlen\u001b[0m\u001b[0;34m(\u001b[0m\u001b[0mresponse\u001b[0m\u001b[0;34m[\u001b[0m\u001b[0;34m'globalObjects'\u001b[0m\u001b[0;34m]\u001b[0m\u001b[0;34m[\u001b[0m\u001b[0;34m'tweets'\u001b[0m\u001b[0;34m]\u001b[0m\u001b[0;34m)\u001b[0m \u001b[0;34m==\u001b[0m \u001b[0;36m0\u001b[0m\u001b[0;34m:\u001b[0m\u001b[0;34m\u001b[0m\u001b[0;34m\u001b[0m\u001b[0m\n\u001b[0m\u001b[1;32m     81\u001b[0m         \u001b[0mmsg\u001b[0m \u001b[0;34m=\u001b[0m \u001b[0;34m'No more data!'\u001b[0m\u001b[0;34m\u001b[0m\u001b[0;34m\u001b[0m\u001b[0m\n",
      "\u001b[0;31mKeyError\u001b[0m: 'globalObjects'",
      "\nDuring handling of the above exception, another exception occurred:\n",
      "\u001b[0;31mKeyboardInterrupt\u001b[0m                         Traceback (most recent call last)",
      "\u001b[0;32m<ipython-input-16-7ef09d18835d>\u001b[0m in \u001b[0;36m<module>\u001b[0;34m\u001b[0m\n\u001b[0;32m----> 1\u001b[0;31m \u001b[0mtwint\u001b[0m\u001b[0;34m.\u001b[0m\u001b[0mrun\u001b[0m\u001b[0;34m.\u001b[0m\u001b[0mSearch\u001b[0m\u001b[0;34m(\u001b[0m\u001b[0mc21\u001b[0m\u001b[0;34m)\u001b[0m\u001b[0;34m\u001b[0m\u001b[0;34m\u001b[0m\u001b[0m\n\u001b[0m",
      "\u001b[0;32m~/src/twint/twint/run.py\u001b[0m in \u001b[0;36mSearch\u001b[0;34m(config, callback)\u001b[0m\n\u001b[1;32m    408\u001b[0m     \u001b[0mconfig\u001b[0m\u001b[0;34m.\u001b[0m\u001b[0mFollowers\u001b[0m \u001b[0;34m=\u001b[0m \u001b[0;32mFalse\u001b[0m\u001b[0;34m\u001b[0m\u001b[0;34m\u001b[0m\u001b[0m\n\u001b[1;32m    409\u001b[0m     \u001b[0mconfig\u001b[0m\u001b[0;34m.\u001b[0m\u001b[0mProfile\u001b[0m \u001b[0;34m=\u001b[0m \u001b[0;32mFalse\u001b[0m\u001b[0;34m\u001b[0m\u001b[0;34m\u001b[0m\u001b[0m\n\u001b[0;32m--> 410\u001b[0;31m     \u001b[0mrun\u001b[0m\u001b[0;34m(\u001b[0m\u001b[0mconfig\u001b[0m\u001b[0;34m,\u001b[0m \u001b[0mcallback\u001b[0m\u001b[0;34m)\u001b[0m\u001b[0;34m\u001b[0m\u001b[0;34m\u001b[0m\u001b[0m\n\u001b[0m\u001b[1;32m    411\u001b[0m     \u001b[0;32mif\u001b[0m \u001b[0mconfig\u001b[0m\u001b[0;34m.\u001b[0m\u001b[0mPandas_au\u001b[0m\u001b[0;34m:\u001b[0m\u001b[0;34m\u001b[0m\u001b[0;34m\u001b[0m\u001b[0m\n\u001b[1;32m    412\u001b[0m         \u001b[0mstorage\u001b[0m\u001b[0;34m.\u001b[0m\u001b[0mpanda\u001b[0m\u001b[0;34m.\u001b[0m\u001b[0m_autoget\u001b[0m\u001b[0;34m(\u001b[0m\u001b[0;34m\"tweet\"\u001b[0m\u001b[0;34m)\u001b[0m\u001b[0;34m\u001b[0m\u001b[0;34m\u001b[0m\u001b[0m\n",
      "\u001b[0;32m~/src/twint/twint/run.py\u001b[0m in \u001b[0;36mrun\u001b[0;34m(config, callback)\u001b[0m\n\u001b[1;32m    327\u001b[0m         \u001b[0;32mraise\u001b[0m\u001b[0;34m\u001b[0m\u001b[0;34m\u001b[0m\u001b[0m\n\u001b[1;32m    328\u001b[0m \u001b[0;34m\u001b[0m\u001b[0m\n\u001b[0;32m--> 329\u001b[0;31m     \u001b[0mget_event_loop\u001b[0m\u001b[0;34m(\u001b[0m\u001b[0;34m)\u001b[0m\u001b[0;34m.\u001b[0m\u001b[0mrun_until_complete\u001b[0m\u001b[0;34m(\u001b[0m\u001b[0mTwint\u001b[0m\u001b[0;34m(\u001b[0m\u001b[0mconfig\u001b[0m\u001b[0;34m)\u001b[0m\u001b[0;34m.\u001b[0m\u001b[0mmain\u001b[0m\u001b[0;34m(\u001b[0m\u001b[0mcallback\u001b[0m\u001b[0;34m)\u001b[0m\u001b[0;34m)\u001b[0m\u001b[0;34m\u001b[0m\u001b[0;34m\u001b[0m\u001b[0m\n\u001b[0m\u001b[1;32m    330\u001b[0m \u001b[0;34m\u001b[0m\u001b[0m\n\u001b[1;32m    331\u001b[0m \u001b[0;34m\u001b[0m\u001b[0m\n",
      "\u001b[0;32m~/anaconda3/lib/python3.8/site-packages/nest_asyncio.py\u001b[0m in \u001b[0;36mrun_until_complete\u001b[0;34m(self, future)\u001b[0m\n\u001b[1;32m     62\u001b[0m                 \u001b[0mf\u001b[0m\u001b[0;34m.\u001b[0m\u001b[0m_log_destroy_pending\u001b[0m \u001b[0;34m=\u001b[0m \u001b[0;32mFalse\u001b[0m\u001b[0;34m\u001b[0m\u001b[0;34m\u001b[0m\u001b[0m\n\u001b[1;32m     63\u001b[0m             \u001b[0;32mwhile\u001b[0m \u001b[0;32mnot\u001b[0m \u001b[0mf\u001b[0m\u001b[0;34m.\u001b[0m\u001b[0mdone\u001b[0m\u001b[0;34m(\u001b[0m\u001b[0;34m)\u001b[0m\u001b[0;34m:\u001b[0m\u001b[0;34m\u001b[0m\u001b[0;34m\u001b[0m\u001b[0m\n\u001b[0;32m---> 64\u001b[0;31m                 \u001b[0mself\u001b[0m\u001b[0;34m.\u001b[0m\u001b[0m_run_once\u001b[0m\u001b[0;34m(\u001b[0m\u001b[0;34m)\u001b[0m\u001b[0;34m\u001b[0m\u001b[0;34m\u001b[0m\u001b[0m\n\u001b[0m\u001b[1;32m     65\u001b[0m                 \u001b[0;32mif\u001b[0m \u001b[0mself\u001b[0m\u001b[0;34m.\u001b[0m\u001b[0m_stopping\u001b[0m\u001b[0;34m:\u001b[0m\u001b[0;34m\u001b[0m\u001b[0;34m\u001b[0m\u001b[0m\n\u001b[1;32m     66\u001b[0m                     \u001b[0;32mbreak\u001b[0m\u001b[0;34m\u001b[0m\u001b[0;34m\u001b[0m\u001b[0m\n",
      "\u001b[0;32m~/anaconda3/lib/python3.8/site-packages/nest_asyncio.py\u001b[0m in \u001b[0;36m_run_once\u001b[0;34m(self)\u001b[0m\n\u001b[1;32m     98\u001b[0m             \u001b[0mhandle\u001b[0m \u001b[0;34m=\u001b[0m \u001b[0mready\u001b[0m\u001b[0;34m.\u001b[0m\u001b[0mpopleft\u001b[0m\u001b[0;34m(\u001b[0m\u001b[0;34m)\u001b[0m\u001b[0;34m\u001b[0m\u001b[0;34m\u001b[0m\u001b[0m\n\u001b[1;32m     99\u001b[0m             \u001b[0;32mif\u001b[0m \u001b[0;32mnot\u001b[0m \u001b[0mhandle\u001b[0m\u001b[0;34m.\u001b[0m\u001b[0m_cancelled\u001b[0m\u001b[0;34m:\u001b[0m\u001b[0;34m\u001b[0m\u001b[0;34m\u001b[0m\u001b[0m\n\u001b[0;32m--> 100\u001b[0;31m                 \u001b[0mhandle\u001b[0m\u001b[0;34m.\u001b[0m\u001b[0m_run\u001b[0m\u001b[0;34m(\u001b[0m\u001b[0;34m)\u001b[0m\u001b[0;34m\u001b[0m\u001b[0;34m\u001b[0m\u001b[0m\n\u001b[0m\u001b[1;32m    101\u001b[0m         \u001b[0mhandle\u001b[0m \u001b[0;34m=\u001b[0m \u001b[0;32mNone\u001b[0m\u001b[0;34m\u001b[0m\u001b[0;34m\u001b[0m\u001b[0m\n\u001b[1;32m    102\u001b[0m \u001b[0;34m\u001b[0m\u001b[0m\n",
      "\u001b[0;32m~/anaconda3/lib/python3.8/asyncio/events.py\u001b[0m in \u001b[0;36m_run\u001b[0;34m(self)\u001b[0m\n\u001b[1;32m     79\u001b[0m     \u001b[0;32mdef\u001b[0m \u001b[0m_run\u001b[0m\u001b[0;34m(\u001b[0m\u001b[0mself\u001b[0m\u001b[0;34m)\u001b[0m\u001b[0;34m:\u001b[0m\u001b[0;34m\u001b[0m\u001b[0;34m\u001b[0m\u001b[0m\n\u001b[1;32m     80\u001b[0m         \u001b[0;32mtry\u001b[0m\u001b[0;34m:\u001b[0m\u001b[0;34m\u001b[0m\u001b[0;34m\u001b[0m\u001b[0m\n\u001b[0;32m---> 81\u001b[0;31m             \u001b[0mself\u001b[0m\u001b[0;34m.\u001b[0m\u001b[0m_context\u001b[0m\u001b[0;34m.\u001b[0m\u001b[0mrun\u001b[0m\u001b[0;34m(\u001b[0m\u001b[0mself\u001b[0m\u001b[0;34m.\u001b[0m\u001b[0m_callback\u001b[0m\u001b[0;34m,\u001b[0m \u001b[0;34m*\u001b[0m\u001b[0mself\u001b[0m\u001b[0;34m.\u001b[0m\u001b[0m_args\u001b[0m\u001b[0;34m)\u001b[0m\u001b[0;34m\u001b[0m\u001b[0;34m\u001b[0m\u001b[0m\n\u001b[0m\u001b[1;32m     82\u001b[0m         \u001b[0;32mexcept\u001b[0m \u001b[0;34m(\u001b[0m\u001b[0mSystemExit\u001b[0m\u001b[0;34m,\u001b[0m \u001b[0mKeyboardInterrupt\u001b[0m\u001b[0;34m)\u001b[0m\u001b[0;34m:\u001b[0m\u001b[0;34m\u001b[0m\u001b[0;34m\u001b[0m\u001b[0m\n\u001b[1;32m     83\u001b[0m             \u001b[0;32mraise\u001b[0m\u001b[0;34m\u001b[0m\u001b[0;34m\u001b[0m\u001b[0m\n",
      "\u001b[0;32m~/anaconda3/lib/python3.8/site-packages/nest_asyncio.py\u001b[0m in \u001b[0;36mstep\u001b[0;34m(task, exc)\u001b[0m\n\u001b[1;32m    167\u001b[0m         \u001b[0mcurr_task\u001b[0m \u001b[0;34m=\u001b[0m \u001b[0mcurr_tasks\u001b[0m\u001b[0;34m.\u001b[0m\u001b[0mget\u001b[0m\u001b[0;34m(\u001b[0m\u001b[0mtask\u001b[0m\u001b[0;34m.\u001b[0m\u001b[0m_loop\u001b[0m\u001b[0;34m)\u001b[0m\u001b[0;34m\u001b[0m\u001b[0;34m\u001b[0m\u001b[0m\n\u001b[1;32m    168\u001b[0m         \u001b[0;32mtry\u001b[0m\u001b[0;34m:\u001b[0m\u001b[0;34m\u001b[0m\u001b[0;34m\u001b[0m\u001b[0m\n\u001b[0;32m--> 169\u001b[0;31m             \u001b[0mstep_orig\u001b[0m\u001b[0;34m(\u001b[0m\u001b[0mtask\u001b[0m\u001b[0;34m,\u001b[0m \u001b[0mexc\u001b[0m\u001b[0;34m)\u001b[0m\u001b[0;34m\u001b[0m\u001b[0;34m\u001b[0m\u001b[0m\n\u001b[0m\u001b[1;32m    170\u001b[0m         \u001b[0;32mfinally\u001b[0m\u001b[0;34m:\u001b[0m\u001b[0;34m\u001b[0m\u001b[0;34m\u001b[0m\u001b[0m\n\u001b[1;32m    171\u001b[0m             \u001b[0;32mif\u001b[0m \u001b[0mcurr_task\u001b[0m \u001b[0;32mis\u001b[0m \u001b[0;32mNone\u001b[0m\u001b[0;34m:\u001b[0m\u001b[0;34m\u001b[0m\u001b[0;34m\u001b[0m\u001b[0m\n",
      "\u001b[0;32m~/anaconda3/lib/python3.8/asyncio/tasks.py\u001b[0m in \u001b[0;36m__step\u001b[0;34m(***failed resolving arguments***)\u001b[0m\n\u001b[1;32m    278\u001b[0m                 \u001b[0;31m# We use the `send` method directly, because coroutines\u001b[0m\u001b[0;34m\u001b[0m\u001b[0;34m\u001b[0m\u001b[0;34m\u001b[0m\u001b[0m\n\u001b[1;32m    279\u001b[0m                 \u001b[0;31m# don't have `__iter__` and `__next__` methods.\u001b[0m\u001b[0;34m\u001b[0m\u001b[0;34m\u001b[0m\u001b[0;34m\u001b[0m\u001b[0m\n\u001b[0;32m--> 280\u001b[0;31m                 \u001b[0mresult\u001b[0m \u001b[0;34m=\u001b[0m \u001b[0mcoro\u001b[0m\u001b[0;34m.\u001b[0m\u001b[0msend\u001b[0m\u001b[0;34m(\u001b[0m\u001b[0;32mNone\u001b[0m\u001b[0;34m)\u001b[0m\u001b[0;34m\u001b[0m\u001b[0;34m\u001b[0m\u001b[0m\n\u001b[0m\u001b[1;32m    281\u001b[0m             \u001b[0;32melse\u001b[0m\u001b[0;34m:\u001b[0m\u001b[0;34m\u001b[0m\u001b[0;34m\u001b[0m\u001b[0m\n\u001b[1;32m    282\u001b[0m                 \u001b[0mresult\u001b[0m \u001b[0;34m=\u001b[0m \u001b[0mcoro\u001b[0m\u001b[0;34m.\u001b[0m\u001b[0mthrow\u001b[0m\u001b[0;34m(\u001b[0m\u001b[0mexc\u001b[0m\u001b[0;34m)\u001b[0m\u001b[0;34m\u001b[0m\u001b[0;34m\u001b[0m\u001b[0m\n",
      "\u001b[0;32m~/src/twint/twint/run.py\u001b[0m in \u001b[0;36mrun\u001b[0;34m(self)\u001b[0m\n\u001b[1;32m    260\u001b[0m                 \u001b[0mself\u001b[0m\u001b[0;34m.\u001b[0m\u001b[0mconfig\u001b[0m\u001b[0;34m.\u001b[0m\u001b[0mUntil\u001b[0m \u001b[0;34m=\u001b[0m \u001b[0mdatetime\u001b[0m\u001b[0;34m.\u001b[0m\u001b[0mdatetime\u001b[0m\u001b[0;34m.\u001b[0m\u001b[0mstrftime\u001b[0m\u001b[0;34m(\u001b[0m\u001b[0mself\u001b[0m\u001b[0;34m.\u001b[0m\u001b[0md\u001b[0m\u001b[0;34m.\u001b[0m\u001b[0muntil\u001b[0m\u001b[0;34m,\u001b[0m \u001b[0;34m\"%Y-%m-%d %H:%M:%S\"\u001b[0m\u001b[0;34m)\u001b[0m\u001b[0;34m\u001b[0m\u001b[0;34m\u001b[0m\u001b[0m\n\u001b[1;32m    261\u001b[0m                 \u001b[0;32mif\u001b[0m \u001b[0mlen\u001b[0m\u001b[0;34m(\u001b[0m\u001b[0mself\u001b[0m\u001b[0;34m.\u001b[0m\u001b[0mfeed\u001b[0m\u001b[0;34m)\u001b[0m \u001b[0;34m>\u001b[0m \u001b[0;36m0\u001b[0m\u001b[0;34m:\u001b[0m\u001b[0;34m\u001b[0m\u001b[0;34m\u001b[0m\u001b[0m\n\u001b[0;32m--> 262\u001b[0;31m                     \u001b[0;32mawait\u001b[0m \u001b[0mself\u001b[0m\u001b[0;34m.\u001b[0m\u001b[0mtweets\u001b[0m\u001b[0;34m(\u001b[0m\u001b[0;34m)\u001b[0m\u001b[0;34m\u001b[0m\u001b[0;34m\u001b[0m\u001b[0m\n\u001b[0m\u001b[1;32m    263\u001b[0m                 \u001b[0;32melse\u001b[0m\u001b[0;34m:\u001b[0m\u001b[0;34m\u001b[0m\u001b[0;34m\u001b[0m\u001b[0m\n\u001b[1;32m    264\u001b[0m                     \u001b[0mlogme\u001b[0m\u001b[0;34m.\u001b[0m\u001b[0mdebug\u001b[0m\u001b[0;34m(\u001b[0m\u001b[0m__name__\u001b[0m \u001b[0;34m+\u001b[0m \u001b[0;34m':Twint:main:gettingNewTweets'\u001b[0m\u001b[0;34m)\u001b[0m\u001b[0;34m\u001b[0m\u001b[0;34m\u001b[0m\u001b[0m\n",
      "\u001b[0;32m~/src/twint/twint/run.py\u001b[0m in \u001b[0;36mtweets\u001b[0;34m(self)\u001b[0m\n\u001b[1;32m    215\u001b[0m \u001b[0;34m\u001b[0m\u001b[0m\n\u001b[1;32m    216\u001b[0m     \u001b[0;32masync\u001b[0m \u001b[0;32mdef\u001b[0m \u001b[0mtweets\u001b[0m\u001b[0;34m(\u001b[0m\u001b[0mself\u001b[0m\u001b[0;34m)\u001b[0m\u001b[0;34m:\u001b[0m\u001b[0;34m\u001b[0m\u001b[0;34m\u001b[0m\u001b[0m\n\u001b[0;32m--> 217\u001b[0;31m         \u001b[0;32mawait\u001b[0m \u001b[0mself\u001b[0m\u001b[0;34m.\u001b[0m\u001b[0mFeed\u001b[0m\u001b[0;34m(\u001b[0m\u001b[0;34m)\u001b[0m\u001b[0;34m\u001b[0m\u001b[0;34m\u001b[0m\u001b[0m\n\u001b[0m\u001b[1;32m    218\u001b[0m         \u001b[0;31m# TODO : need to take care of this later\u001b[0m\u001b[0;34m\u001b[0m\u001b[0;34m\u001b[0m\u001b[0;34m\u001b[0m\u001b[0m\n\u001b[1;32m    219\u001b[0m         \u001b[0;32mif\u001b[0m \u001b[0mself\u001b[0m\u001b[0;34m.\u001b[0m\u001b[0mconfig\u001b[0m\u001b[0;34m.\u001b[0m\u001b[0mLocation\u001b[0m\u001b[0;34m:\u001b[0m\u001b[0;34m\u001b[0m\u001b[0;34m\u001b[0m\u001b[0m\n",
      "\u001b[0;32m~/src/twint/twint/run.py\u001b[0m in \u001b[0;36mFeed\u001b[0;34m(self)\u001b[0m\n\u001b[1;32m    134\u001b[0m \u001b[0;34m\u001b[0m\u001b[0m\n\u001b[1;32m    135\u001b[0m                     \u001b[0msys\u001b[0m\u001b[0;34m.\u001b[0m\u001b[0mstderr\u001b[0m\u001b[0;34m.\u001b[0m\u001b[0mwrite\u001b[0m\u001b[0;34m(\u001b[0m\u001b[0;34m'sleeping for {} secs\\n'\u001b[0m\u001b[0;34m.\u001b[0m\u001b[0mformat\u001b[0m\u001b[0;34m(\u001b[0m\u001b[0mdelay\u001b[0m\u001b[0;34m)\u001b[0m\u001b[0;34m)\u001b[0m\u001b[0;34m\u001b[0m\u001b[0;34m\u001b[0m\u001b[0m\n\u001b[0;32m--> 136\u001b[0;31m                     \u001b[0mtime\u001b[0m\u001b[0;34m.\u001b[0m\u001b[0msleep\u001b[0m\u001b[0;34m(\u001b[0m\u001b[0mdelay\u001b[0m\u001b[0;34m)\u001b[0m\u001b[0;34m\u001b[0m\u001b[0;34m\u001b[0m\u001b[0m\n\u001b[0m\u001b[1;32m    137\u001b[0m                     \u001b[0mself\u001b[0m\u001b[0;34m.\u001b[0m\u001b[0muser_agent\u001b[0m \u001b[0;34m=\u001b[0m \u001b[0;32mawait\u001b[0m \u001b[0mget\u001b[0m\u001b[0;34m.\u001b[0m\u001b[0mRandomUserAgent\u001b[0m\u001b[0;34m(\u001b[0m\u001b[0mwa\u001b[0m\u001b[0;34m=\u001b[0m\u001b[0;32mTrue\u001b[0m\u001b[0;34m)\u001b[0m\u001b[0;34m\u001b[0m\u001b[0;34m\u001b[0m\u001b[0m\n\u001b[1;32m    138\u001b[0m                     \u001b[0;32mcontinue\u001b[0m\u001b[0;34m\u001b[0m\u001b[0;34m\u001b[0m\u001b[0m\n",
      "\u001b[0;31mKeyboardInterrupt\u001b[0m: "
     ]
    }
   ],
   "source": [
    "twint.run.Search(c21)"
   ]
  },
  {
   "cell_type": "code",
   "execution_count": 6,
   "metadata": {},
   "outputs": [
    {
     "ename": "FileNotFoundError",
     "evalue": "[Errno 2] No such file or directory: 'tweetsBegSept2.csv'",
     "output_type": "error",
     "traceback": [
      "\u001b[0;31m---------------------------------------------------------------------------\u001b[0m",
      "\u001b[0;31mFileNotFoundError\u001b[0m                         Traceback (most recent call last)",
      "\u001b[0;32m<ipython-input-6-e11499cc1a75>\u001b[0m in \u001b[0;36m<module>\u001b[0;34m\u001b[0m\n\u001b[0;32m----> 1\u001b[0;31m \u001b[0mgentweets\u001b[0m \u001b[0;34m=\u001b[0m \u001b[0mpd\u001b[0m\u001b[0;34m.\u001b[0m\u001b[0mread_csv\u001b[0m\u001b[0;34m(\u001b[0m\u001b[0;34m'tweetsBegSept2.csv'\u001b[0m\u001b[0;34m)\u001b[0m\u001b[0;34m\u001b[0m\u001b[0;34m\u001b[0m\u001b[0m\n\u001b[0m",
      "\u001b[0;32m~/.local/lib/python3.8/site-packages/pandas/io/parsers.py\u001b[0m in \u001b[0;36mread_csv\u001b[0;34m(filepath_or_buffer, sep, delimiter, header, names, index_col, usecols, squeeze, prefix, mangle_dupe_cols, dtype, engine, converters, true_values, false_values, skipinitialspace, skiprows, skipfooter, nrows, na_values, keep_default_na, na_filter, verbose, skip_blank_lines, parse_dates, infer_datetime_format, keep_date_col, date_parser, dayfirst, cache_dates, iterator, chunksize, compression, thousands, decimal, lineterminator, quotechar, quoting, doublequote, escapechar, comment, encoding, dialect, error_bad_lines, warn_bad_lines, delim_whitespace, low_memory, memory_map, float_precision)\u001b[0m\n\u001b[1;32m    684\u001b[0m     )\n\u001b[1;32m    685\u001b[0m \u001b[0;34m\u001b[0m\u001b[0m\n\u001b[0;32m--> 686\u001b[0;31m     \u001b[0;32mreturn\u001b[0m \u001b[0m_read\u001b[0m\u001b[0;34m(\u001b[0m\u001b[0mfilepath_or_buffer\u001b[0m\u001b[0;34m,\u001b[0m \u001b[0mkwds\u001b[0m\u001b[0;34m)\u001b[0m\u001b[0;34m\u001b[0m\u001b[0;34m\u001b[0m\u001b[0m\n\u001b[0m\u001b[1;32m    687\u001b[0m \u001b[0;34m\u001b[0m\u001b[0m\n\u001b[1;32m    688\u001b[0m \u001b[0;34m\u001b[0m\u001b[0m\n",
      "\u001b[0;32m~/.local/lib/python3.8/site-packages/pandas/io/parsers.py\u001b[0m in \u001b[0;36m_read\u001b[0;34m(filepath_or_buffer, kwds)\u001b[0m\n\u001b[1;32m    450\u001b[0m \u001b[0;34m\u001b[0m\u001b[0m\n\u001b[1;32m    451\u001b[0m     \u001b[0;31m# Create the parser.\u001b[0m\u001b[0;34m\u001b[0m\u001b[0;34m\u001b[0m\u001b[0;34m\u001b[0m\u001b[0m\n\u001b[0;32m--> 452\u001b[0;31m     \u001b[0mparser\u001b[0m \u001b[0;34m=\u001b[0m \u001b[0mTextFileReader\u001b[0m\u001b[0;34m(\u001b[0m\u001b[0mfp_or_buf\u001b[0m\u001b[0;34m,\u001b[0m \u001b[0;34m**\u001b[0m\u001b[0mkwds\u001b[0m\u001b[0;34m)\u001b[0m\u001b[0;34m\u001b[0m\u001b[0;34m\u001b[0m\u001b[0m\n\u001b[0m\u001b[1;32m    453\u001b[0m \u001b[0;34m\u001b[0m\u001b[0m\n\u001b[1;32m    454\u001b[0m     \u001b[0;32mif\u001b[0m \u001b[0mchunksize\u001b[0m \u001b[0;32mor\u001b[0m \u001b[0miterator\u001b[0m\u001b[0;34m:\u001b[0m\u001b[0;34m\u001b[0m\u001b[0;34m\u001b[0m\u001b[0m\n",
      "\u001b[0;32m~/.local/lib/python3.8/site-packages/pandas/io/parsers.py\u001b[0m in \u001b[0;36m__init__\u001b[0;34m(self, f, engine, **kwds)\u001b[0m\n\u001b[1;32m    944\u001b[0m             \u001b[0mself\u001b[0m\u001b[0;34m.\u001b[0m\u001b[0moptions\u001b[0m\u001b[0;34m[\u001b[0m\u001b[0;34m\"has_index_names\"\u001b[0m\u001b[0;34m]\u001b[0m \u001b[0;34m=\u001b[0m \u001b[0mkwds\u001b[0m\u001b[0;34m[\u001b[0m\u001b[0;34m\"has_index_names\"\u001b[0m\u001b[0;34m]\u001b[0m\u001b[0;34m\u001b[0m\u001b[0;34m\u001b[0m\u001b[0m\n\u001b[1;32m    945\u001b[0m \u001b[0;34m\u001b[0m\u001b[0m\n\u001b[0;32m--> 946\u001b[0;31m         \u001b[0mself\u001b[0m\u001b[0;34m.\u001b[0m\u001b[0m_make_engine\u001b[0m\u001b[0;34m(\u001b[0m\u001b[0mself\u001b[0m\u001b[0;34m.\u001b[0m\u001b[0mengine\u001b[0m\u001b[0;34m)\u001b[0m\u001b[0;34m\u001b[0m\u001b[0;34m\u001b[0m\u001b[0m\n\u001b[0m\u001b[1;32m    947\u001b[0m \u001b[0;34m\u001b[0m\u001b[0m\n\u001b[1;32m    948\u001b[0m     \u001b[0;32mdef\u001b[0m \u001b[0mclose\u001b[0m\u001b[0;34m(\u001b[0m\u001b[0mself\u001b[0m\u001b[0;34m)\u001b[0m\u001b[0;34m:\u001b[0m\u001b[0;34m\u001b[0m\u001b[0;34m\u001b[0m\u001b[0m\n",
      "\u001b[0;32m~/.local/lib/python3.8/site-packages/pandas/io/parsers.py\u001b[0m in \u001b[0;36m_make_engine\u001b[0;34m(self, engine)\u001b[0m\n\u001b[1;32m   1176\u001b[0m     \u001b[0;32mdef\u001b[0m \u001b[0m_make_engine\u001b[0m\u001b[0;34m(\u001b[0m\u001b[0mself\u001b[0m\u001b[0;34m,\u001b[0m \u001b[0mengine\u001b[0m\u001b[0;34m=\u001b[0m\u001b[0;34m\"c\"\u001b[0m\u001b[0;34m)\u001b[0m\u001b[0;34m:\u001b[0m\u001b[0;34m\u001b[0m\u001b[0;34m\u001b[0m\u001b[0m\n\u001b[1;32m   1177\u001b[0m         \u001b[0;32mif\u001b[0m \u001b[0mengine\u001b[0m \u001b[0;34m==\u001b[0m \u001b[0;34m\"c\"\u001b[0m\u001b[0;34m:\u001b[0m\u001b[0;34m\u001b[0m\u001b[0;34m\u001b[0m\u001b[0m\n\u001b[0;32m-> 1178\u001b[0;31m             \u001b[0mself\u001b[0m\u001b[0;34m.\u001b[0m\u001b[0m_engine\u001b[0m \u001b[0;34m=\u001b[0m \u001b[0mCParserWrapper\u001b[0m\u001b[0;34m(\u001b[0m\u001b[0mself\u001b[0m\u001b[0;34m.\u001b[0m\u001b[0mf\u001b[0m\u001b[0;34m,\u001b[0m \u001b[0;34m**\u001b[0m\u001b[0mself\u001b[0m\u001b[0;34m.\u001b[0m\u001b[0moptions\u001b[0m\u001b[0;34m)\u001b[0m\u001b[0;34m\u001b[0m\u001b[0;34m\u001b[0m\u001b[0m\n\u001b[0m\u001b[1;32m   1179\u001b[0m         \u001b[0;32melse\u001b[0m\u001b[0;34m:\u001b[0m\u001b[0;34m\u001b[0m\u001b[0;34m\u001b[0m\u001b[0m\n\u001b[1;32m   1180\u001b[0m             \u001b[0;32mif\u001b[0m \u001b[0mengine\u001b[0m \u001b[0;34m==\u001b[0m \u001b[0;34m\"python\"\u001b[0m\u001b[0;34m:\u001b[0m\u001b[0;34m\u001b[0m\u001b[0;34m\u001b[0m\u001b[0m\n",
      "\u001b[0;32m~/.local/lib/python3.8/site-packages/pandas/io/parsers.py\u001b[0m in \u001b[0;36m__init__\u001b[0;34m(self, src, **kwds)\u001b[0m\n\u001b[1;32m   2006\u001b[0m         \u001b[0mkwds\u001b[0m\u001b[0;34m[\u001b[0m\u001b[0;34m\"usecols\"\u001b[0m\u001b[0;34m]\u001b[0m \u001b[0;34m=\u001b[0m \u001b[0mself\u001b[0m\u001b[0;34m.\u001b[0m\u001b[0musecols\u001b[0m\u001b[0;34m\u001b[0m\u001b[0;34m\u001b[0m\u001b[0m\n\u001b[1;32m   2007\u001b[0m \u001b[0;34m\u001b[0m\u001b[0m\n\u001b[0;32m-> 2008\u001b[0;31m         \u001b[0mself\u001b[0m\u001b[0;34m.\u001b[0m\u001b[0m_reader\u001b[0m \u001b[0;34m=\u001b[0m \u001b[0mparsers\u001b[0m\u001b[0;34m.\u001b[0m\u001b[0mTextReader\u001b[0m\u001b[0;34m(\u001b[0m\u001b[0msrc\u001b[0m\u001b[0;34m,\u001b[0m \u001b[0;34m**\u001b[0m\u001b[0mkwds\u001b[0m\u001b[0;34m)\u001b[0m\u001b[0;34m\u001b[0m\u001b[0;34m\u001b[0m\u001b[0m\n\u001b[0m\u001b[1;32m   2009\u001b[0m         \u001b[0mself\u001b[0m\u001b[0;34m.\u001b[0m\u001b[0munnamed_cols\u001b[0m \u001b[0;34m=\u001b[0m \u001b[0mself\u001b[0m\u001b[0;34m.\u001b[0m\u001b[0m_reader\u001b[0m\u001b[0;34m.\u001b[0m\u001b[0munnamed_cols\u001b[0m\u001b[0;34m\u001b[0m\u001b[0;34m\u001b[0m\u001b[0m\n\u001b[1;32m   2010\u001b[0m \u001b[0;34m\u001b[0m\u001b[0m\n",
      "\u001b[0;32mpandas/_libs/parsers.pyx\u001b[0m in \u001b[0;36mpandas._libs.parsers.TextReader.__cinit__\u001b[0;34m()\u001b[0m\n",
      "\u001b[0;32mpandas/_libs/parsers.pyx\u001b[0m in \u001b[0;36mpandas._libs.parsers.TextReader._setup_parser_source\u001b[0;34m()\u001b[0m\n",
      "\u001b[0;31mFileNotFoundError\u001b[0m: [Errno 2] No such file or directory: 'tweetsBegSept2.csv'"
     ]
    }
   ],
   "source": [
    "gentweets = pd.read_csv('tweetsBegSept2.csv')"
   ]
  },
  {
   "cell_type": "code",
   "execution_count": null,
   "metadata": {},
   "outputs": [],
   "source": []
  }
 ],
 "metadata": {
  "kernelspec": {
   "display_name": "Python 3",
   "language": "python",
   "name": "python3"
  },
  "language_info": {
   "codemirror_mode": {
    "name": "ipython",
    "version": 3
   },
   "file_extension": ".py",
   "mimetype": "text/x-python",
   "name": "python",
   "nbconvert_exporter": "python",
   "pygments_lexer": "ipython3",
   "version": "3.8.3"
  }
 },
 "nbformat": 4,
 "nbformat_minor": 4
}
